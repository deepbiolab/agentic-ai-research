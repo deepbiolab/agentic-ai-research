{
 "cells": [
  {
   "cell_type": "code",
   "execution_count": 56,
   "metadata": {},
   "outputs": [
    {
     "data": {
      "text/plain": [
       "True"
      ]
     },
     "execution_count": 56,
     "metadata": {},
     "output_type": "execute_result"
    }
   ],
   "source": [
    "import random\n",
    "from typing import TypedDict, Literal\n",
    "from langchain_core.messages import HumanMessage, SystemMessage\n",
    "from langchain_openai import ChatOpenAI\n",
    "from langgraph.graph import StateGraph, START, END\n",
    "from IPython.display import Image, display\n",
    "from dotenv import load_dotenv\n",
    "load_dotenv()"
   ]
  },
  {
   "cell_type": "markdown",
   "metadata": {},
   "source": [
    "### Workflows"
   ]
  },
  {
   "cell_type": "markdown",
   "metadata": {},
   "source": [
    "#### Data Processing (Sequential)"
   ]
  },
  {
   "cell_type": "markdown",
   "metadata": {},
   "source": [
    "**1. State Schema**"
   ]
  },
  {
   "cell_type": "code",
   "execution_count": 57,
   "metadata": {},
   "outputs": [],
   "source": [
    "class State(TypedDict):\n",
    "    input: int\n",
    "    output: int"
   ]
  },
  {
   "cell_type": "code",
   "execution_count": 58,
   "metadata": {},
   "outputs": [],
   "source": [
    "workflow = StateGraph(state_schema=State)"
   ]
  },
  {
   "cell_type": "markdown",
   "metadata": {},
   "source": [
    "**2. Nodes**"
   ]
  },
  {
   "cell_type": "code",
   "execution_count": 59,
   "metadata": {},
   "outputs": [],
   "source": [
    "def node_a(state: State)->State:\n",
    "    input_value = state['input']\n",
    "    offset = random.randint(1,10)\n",
    "    output =  input_value + offset\n",
    "    print(\n",
    "        f\"NODE A:\\n \"\n",
    "        f\"->input:{input_value}\\n \" \n",
    "        f\"->offset:{offset}\\n \"\n",
    "        f\"->output:{output}\\n \"\n",
    "    )\n",
    "    return State(output=output)\n",
    "\n",
    "def node_b(state: State):\n",
    "    input_value = state['output']\n",
    "    offset = random.randint(1,10)\n",
    "    output =  input_value + offset\n",
    "    print(\n",
    "        f\"NODE B:\\n \"\n",
    "        f\"->input:{input_value}\\n \" \n",
    "        f\"->offset:{offset}\\n \"\n",
    "        f\"->output:{output}\\n \"\n",
    "    )\n",
    "    return {\"output\": output}"
   ]
  },
  {
   "cell_type": "code",
   "execution_count": 60,
   "metadata": {},
   "outputs": [],
   "source": [
    "workflow.add_node(node_a)\n",
    "workflow.add_node(node_b)"
   ]
  },
  {
   "cell_type": "markdown",
   "metadata": {},
   "source": [
    "**3. Edges**"
   ]
  },
  {
   "cell_type": "code",
   "execution_count": 61,
   "metadata": {},
   "outputs": [],
   "source": [
    "workflow.add_edge(START, \"node_a\")\n",
    "workflow.add_edge(\"node_a\", \"node_b\")\n",
    "workflow.add_edge(\"node_b\", END)"
   ]
  },
  {
   "cell_type": "markdown",
   "metadata": {},
   "source": [
    "**4. Compile and Run**"
   ]
  },
  {
   "cell_type": "code",
   "execution_count": 62,
   "metadata": {},
   "outputs": [
    {
     "data": {
      "image/jpeg": "[encoded data removed]",
      "text/plain": [
       "<IPython.core.display.Image object>"
      ]
     },
     "metadata": {},
     "output_type": "display_data"
    }
   ],
   "source": [
    "graph = workflow.compile()\n",
    "\n",
    "display(\n",
    "    Image(\n",
    "        graph.get_graph().draw_mermaid_png()\n",
    "    )\n",
    ")"
   ]
  },
  {
   "cell_type": "code",
   "execution_count": 63,
   "metadata": {},
   "outputs": [
    {
     "name": "stdout",
     "output_type": "stream",
     "text": [
      "NODE A:\n",
      " ->input:1\n",
      " ->offset:6\n",
      " ->output:7\n",
      " \n",
      "NODE B:\n",
      " ->input:7\n",
      " ->offset:10\n",
      " ->output:17\n",
      " \n"
     ]
    },
    {
     "data": {
      "text/plain": [
       "{'input': 1, 'output': 17}"
      ]
     },
     "execution_count": 63,
     "metadata": {},
     "output_type": "execute_result"
    }
   ],
   "source": [
    "graph.invoke(\n",
    "    input = {\n",
    "        \"input\": 1,\n",
    "    },\n",
    ")"
   ]
  },
  {
   "cell_type": "markdown",
   "metadata": {},
   "source": [
    "#### Router (Conditional)"
   ]
  },
  {
   "cell_type": "markdown",
   "metadata": {},
   "source": [
    "**1. State Schema**"
   ]
  },
  {
   "cell_type": "code",
   "execution_count": 64,
   "metadata": {},
   "outputs": [],
   "source": [
    "class State(TypedDict):\n",
    "    input: str\n",
    "    action: Literal[\"reverse\", \"upper\"]\n",
    "    output: str"
   ]
  },
  {
   "cell_type": "code",
   "execution_count": 65,
   "metadata": {},
   "outputs": [],
   "source": [
    "workflow = StateGraph(State)"
   ]
  },
  {
   "cell_type": "markdown",
   "metadata": {},
   "source": [
    "**2. Nodes**"
   ]
  },
  {
   "cell_type": "code",
   "execution_count": 66,
   "metadata": {},
   "outputs": [],
   "source": [
    "def node_a(state: State):\n",
    "    print(\"Node A\\n\")\n",
    "    output =  state['input'][::-1]\n",
    "    print(f\"output: {output}\")\n",
    "    return {\"output\": output}\n",
    "\n",
    "def node_b(state: State):\n",
    "    print(\"Node B\\n\")\n",
    "    output = state['input'].upper()\n",
    "    print(f\"output: {output}\")\n",
    "    return {\"output\": output}\n",
    "\n",
    "workflow.add_node(node_a)\n",
    "workflow.add_node(node_b)\n"
   ]
  },
  {
   "cell_type": "markdown",
   "metadata": {},
   "source": [
    "**3. Routing Function**"
   ]
  },
  {
   "cell_type": "code",
   "execution_count": 67,
   "metadata": {},
   "outputs": [],
   "source": [
    "def routing_function(state: State):\n",
    "    action = state[\"action\"]\n",
    "    if action == \"reverse\":\n",
    "        return \"node_a\"\n",
    "    if action == \"upper\":\n",
    "        return \"node_b\""
   ]
  },
  {
   "cell_type": "markdown",
   "metadata": {},
   "source": [
    "**4. Edges**\n",
    "\n",
    "Use conditional edges to control the flow of data:\n",
    "\n",
    "- START → routing_function to decide the path.\n",
    "- node_a → END for reverse.\n",
    "- node_b → END for uppercase.\n",
    "\n",
    "In add_conditional_edges() method, use source, path and path_map as the necessary arguments for routing."
   ]
  },
  {
   "cell_type": "code",
   "execution_count": 68,
   "metadata": {},
   "outputs": [],
   "source": [
    "workflow.add_conditional_edges(\n",
    "    source=START, \n",
    "    path=routing_function, \n",
    "    path_map=[\"node_a\", \"node_b\"]\n",
    ")\n",
    "\n",
    "workflow.add_edge(\"node_a\", END)\n",
    "workflow.add_edge(\"node_b\", END)"
   ]
  },
  {
   "cell_type": "markdown",
   "metadata": {},
   "source": [
    "**5. Compile and Run**"
   ]
  },
  {
   "cell_type": "code",
   "execution_count": 69,
   "metadata": {},
   "outputs": [
    {
     "data": {
      "image/jpeg": "[encoded data removed]",
      "text/plain": [
       "<IPython.core.display.Image object>"
      ]
     },
     "metadata": {},
     "output_type": "display_data"
    }
   ],
   "source": [
    "graph = workflow.compile()\n",
    "\n",
    "display(\n",
    "    Image(\n",
    "        graph.get_graph().draw_mermaid_png()\n",
    "    )\n",
    ")"
   ]
  },
  {
   "cell_type": "code",
   "execution_count": 70,
   "metadata": {},
   "outputs": [
    {
     "name": "stdout",
     "output_type": "stream",
     "text": [
      "Node B\n",
      "\n",
      "output: SOME INPUT\n"
     ]
    },
    {
     "data": {
      "text/plain": [
       "{'input': 'Some input', 'action': 'upper', 'output': 'SOME INPUT'}"
      ]
     },
     "execution_count": 70,
     "metadata": {},
     "output_type": "execute_result"
    }
   ],
   "source": [
    "graph.invoke(\n",
    "    input = {\n",
    "        \"input\": \"Some input\",\n",
    "        \"action\": \"upper\",\n",
    "    }, \n",
    ")"
   ]
  },
  {
   "cell_type": "code",
   "execution_count": 71,
   "metadata": {},
   "outputs": [
    {
     "name": "stdout",
     "output_type": "stream",
     "text": [
      "Node A\n",
      "\n",
      "output: tupni emoS\n"
     ]
    },
    {
     "data": {
      "text/plain": [
       "{'input': 'Some input', 'action': 'reverse', 'output': 'tupni emoS'}"
      ]
     },
     "execution_count": 71,
     "metadata": {},
     "output_type": "execute_result"
    }
   ],
   "source": [
    "graph.invoke(\n",
    "    input = {\n",
    "        \"input\": \"Some input\",\n",
    "        \"action\": \"reverse\",\n",
    "    }, \n",
    ")"
   ]
  },
  {
   "cell_type": "markdown",
   "metadata": {},
   "source": [
    "#### Call LLMs"
   ]
  },
  {
   "cell_type": "code",
   "execution_count": 72,
   "metadata": {},
   "outputs": [],
   "source": [
    "llm = ChatOpenAI(\n",
    "    model=\"gpt-4o-mini\",\n",
    "    temperature=0.0,\n",
    ")"
   ]
  },
  {
   "cell_type": "code",
   "execution_count": 73,
   "metadata": {},
   "outputs": [],
   "source": [
    "class State(TypedDict):\n",
    "    question: str\n",
    "    response: str"
   ]
  },
  {
   "cell_type": "code",
   "execution_count": 74,
   "metadata": {},
   "outputs": [],
   "source": [
    "def model(state: State):\n",
    "    question = state[\"question\"]\n",
    "    response = llm.invoke([\n",
    "        SystemMessage(\"You're a data science specialist\"),\n",
    "        HumanMessage(question)\n",
    "    ])\n",
    "\n",
    "    return {\"response\": response.content}"
   ]
  },
  {
   "cell_type": "code",
   "execution_count": 75,
   "metadata": {},
   "outputs": [],
   "source": [
    "workflow = StateGraph(State)"
   ]
  },
  {
   "cell_type": "code",
   "execution_count": 76,
   "metadata": {},
   "outputs": [
    {
     "data": {
      "image/jpeg": "[encoded data removed]",
      "text/plain": [
       "<IPython.core.display.Image object>"
      ]
     },
     "metadata": {},
     "output_type": "display_data"
    }
   ],
   "source": [
    "workflow.add_node(\"model\", model)\n",
    "\n",
    "workflow.add_edge(START, \"model\")\n",
    "workflow.add_edge(\"model\", END)\n",
    "\n",
    "graph = workflow.compile()\n",
    "\n",
    "display(\n",
    "    Image(\n",
    "        graph.get_graph().draw_mermaid_png()\n",
    "    )\n",
    ")"
   ]
  },
  {
   "cell_type": "code",
   "execution_count": 77,
   "metadata": {},
   "outputs": [],
   "source": [
    "result = graph.invoke(\n",
    "    input={\n",
    "        \"question\": \"What is the Large language models?\"\n",
    "    }, \n",
    ")"
   ]
  },
  {
   "cell_type": "code",
   "execution_count": 78,
   "metadata": {},
   "outputs": [
    {
     "data": {
      "text/plain": [
       "{'question': 'What is the Large language models?',\n",
       " 'response': 'Large language models (LLMs) are a type of artificial intelligence (AI) that are designed to understand, generate, and manipulate human language. They are built using deep learning techniques, particularly neural networks, and are trained on vast amounts of text data from diverse sources, such as books, articles, websites, and more. Here are some key characteristics and concepts related to LLMs:\\n\\n1. **Architecture**: Most LLMs are based on transformer architecture, which allows them to process and generate text efficiently. Transformers use mechanisms like self-attention to weigh the importance of different words in a sentence, enabling them to capture context and relationships between words effectively.\\n\\n2. **Training**: LLMs are trained using unsupervised or semi-supervised learning methods. During training, they learn to predict the next word in a sentence given the previous words (language modeling) or to fill in missing words (masked language modeling). This process helps them learn grammar, facts, and some level of reasoning.\\n\\n3. **Scale**: The term \"large\" refers to both the size of the model (number of parameters) and the amount of training data. LLMs can have billions or even trillions of parameters, which allows them to capture complex patterns in language.\\n\\n4. **Applications**: LLMs are used in various applications, including:\\n   - Text generation (e.g., writing articles, stories, or poetry)\\n   - Conversational agents (e.g., chatbots)\\n   - Language translation\\n   - Sentiment analysis\\n   - Text summarization\\n   - Code generation and assistance\\n\\n5. **Fine-tuning**: After pre-training on a large corpus, LLMs can be fine-tuned on specific tasks or domains to improve their performance in those areas. This involves training the model further on a smaller, task-specific dataset.\\n\\n6. **Ethical Considerations**: The deployment of LLMs raises ethical concerns, including issues related to bias, misinformation, and the potential for misuse. Developers and researchers are actively working on ways to mitigate these risks.\\n\\n7. **Examples**: Some well-known LLMs include OpenAI\\'s GPT (Generative Pre-trained Transformer) series, Google\\'s BERT (Bidirectional Encoder Representations from Transformers), and Meta\\'s LLaMA (Large Language Model Meta AI).\\n\\nOverall, LLMs represent a significant advancement in natural language processing (NLP) and have transformed how machines understand and interact with human language.'}"
      ]
     },
     "execution_count": 78,
     "metadata": {},
     "output_type": "execute_result"
    }
   ],
   "source": [
    "result"
   ]
  },
  {
   "cell_type": "markdown",
   "metadata": {},
   "source": [
    "### States"
   ]
  },
  {
   "cell_type": "markdown",
   "metadata": {},
   "source": []
  }
 ],
 "metadata": {
  "kernelspec": {
   "display_name": "agent",
   "language": "python",
   "name": "python3"
  },
  "language_info": {
   "codemirror_mode": {
    "name": "ipython",
    "version": 3
   },
   "file_extension": ".py",
   "mimetype": "text/x-python",
   "name": "python",
   "nbconvert_exporter": "python",
   "pygments_lexer": "ipython3",
   "version": "3.10.17"
  }
 },
 "nbformat": 4,
 "nbformat_minor": 2
}
