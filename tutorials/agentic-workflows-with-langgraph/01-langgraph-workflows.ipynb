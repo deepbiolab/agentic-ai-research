{
 "cells": [
  {
   "cell_type": "markdown",
   "metadata": {},
   "source": [
    "### Import Libraries"
   ]
  },
  {
   "cell_type": "code",
   "execution_count": 1,
   "metadata": {},
   "outputs": [
    {
     "data": {
      "text/plain": [
       "True"
      ]
     },
     "execution_count": 1,
     "metadata": {},
     "output_type": "execute_result"
    }
   ],
   "source": [
    "import random\n",
    "import numpy as np\n",
    "from operator import add\n",
    "from typing import TypedDict, Literal, Annotated, Literal, List, Optional\n",
    "from pydantic import BaseModel\n",
    "\n",
    "from langchain_openai import ChatOpenAI\n",
    "from langchain_core.messages import HumanMessage, AIMessage, SystemMessage, AnyMessage\n",
    "from langchain_core.runnables import RunnableConfig\n",
    "from langgraph.graph import StateGraph, MessagesState, START, END\n",
    "from langgraph.graph.message import add_messages\n",
    "from IPython.display import Image, display\n",
    "from dotenv import load_dotenv\n",
    "\n",
    "load_dotenv()"
   ]
  },
  {
   "cell_type": "markdown",
   "metadata": {},
   "source": [
    "### Workflows"
   ]
  },
  {
   "cell_type": "markdown",
   "metadata": {},
   "source": [
    "#### Sequential Processing\n",
    "\n",
    "**Sequential workflows** are simple because each node modifies the state one after another."
   ]
  },
  {
   "cell_type": "markdown",
   "metadata": {},
   "source": [
    "**1. State Schema**"
   ]
  },
  {
   "cell_type": "code",
   "execution_count": 2,
   "metadata": {},
   "outputs": [],
   "source": [
    "class State(TypedDict):\n",
    "    input: int\n",
    "    output: int"
   ]
  },
  {
   "cell_type": "code",
   "execution_count": 3,
   "metadata": {},
   "outputs": [],
   "source": [
    "workflow = StateGraph(state_schema=State)"
   ]
  },
  {
   "cell_type": "markdown",
   "metadata": {},
   "source": [
    "**2. Nodes**"
   ]
  },
  {
   "cell_type": "code",
   "execution_count": 4,
   "metadata": {},
   "outputs": [],
   "source": [
    "def node_a(state: State)->State:\n",
    "    input_value = state['input']\n",
    "    offset = random.randint(1,10)\n",
    "    output =  input_value + offset\n",
    "    print(\n",
    "        f\"NODE A:\\n \"\n",
    "        f\"->input:{input_value}\\n \" \n",
    "        f\"->offset:{offset}\\n \"\n",
    "        f\"->output:{output}\\n \"\n",
    "    )\n",
    "    return State(output=output)\n",
    "\n",
    "def node_b(state: State):\n",
    "    input_value = state['output']\n",
    "    offset = random.randint(1,10)\n",
    "    output =  input_value + offset\n",
    "    print(\n",
    "        f\"NODE B:\\n \"\n",
    "        f\"->input:{input_value}\\n \" \n",
    "        f\"->offset:{offset}\\n \"\n",
    "        f\"->output:{output}\\n \"\n",
    "    )\n",
    "    return {\"output\": output}"
   ]
  },
  {
   "cell_type": "code",
   "execution_count": 5,
   "metadata": {},
   "outputs": [],
   "source": [
    "workflow.add_node(node_a)\n",
    "workflow.add_node(node_b)"
   ]
  },
  {
   "cell_type": "markdown",
   "metadata": {},
   "source": [
    "**3. Edges**"
   ]
  },
  {
   "cell_type": "code",
   "execution_count": 6,
   "metadata": {},
   "outputs": [],
   "source": [
    "workflow.add_edge(START, \"node_a\")\n",
    "workflow.add_edge(\"node_a\", \"node_b\")\n",
    "workflow.add_edge(\"node_b\", END)"
   ]
  },
  {
   "cell_type": "markdown",
   "metadata": {},
   "source": [
    "**4. Compile and Run**"
   ]
  },
  {
   "cell_type": "code",
   "execution_count": 7,
   "metadata": {},
   "outputs": [
    {
     "data": {
      "image/jpeg": "[encoded data removed]",
      "text/plain": [
       "<IPython.core.display.Image object>"
      ]
     },
     "metadata": {},
     "output_type": "display_data"
    }
   ],
   "source": [
    "graph = workflow.compile()\n",
    "\n",
    "display(\n",
    "    Image(\n",
    "        graph.get_graph().draw_mermaid_png()\n",
    "    )\n",
    ")"
   ]
  },
  {
   "cell_type": "code",
   "execution_count": 8,
   "metadata": {},
   "outputs": [
    {
     "name": "stdout",
     "output_type": "stream",
     "text": [
      "NODE A:\n",
      " ->input:1\n",
      " ->offset:5\n",
      " ->output:6\n",
      " \n",
      "NODE B:\n",
      " ->input:6\n",
      " ->offset:7\n",
      " ->output:13\n",
      " \n"
     ]
    },
    {
     "data": {
      "text/plain": [
       "{'input': 1, 'output': 13}"
      ]
     },
     "execution_count": 8,
     "metadata": {},
     "output_type": "execute_result"
    }
   ],
   "source": [
    "graph.invoke(\n",
    "    input = {\n",
    "        \"input\": 1,\n",
    "    },\n",
    ")"
   ]
  },
  {
   "cell_type": "markdown",
   "metadata": {},
   "source": [
    "#### Sequential Processing With Configs"
   ]
  },
  {
   "cell_type": "markdown",
   "metadata": {},
   "source": [
    "- **RunnableConfig** is used to inject external parameters during workflow execution.\n",
    "- Configs enhance flexibility by making workflows adaptable to different contexts \n",
    "without rewriting code.\n",
    "- They allow external information—such as API results, database fields, or user session data—to influence the workflow's behavior dynamically."
   ]
  },
  {
   "cell_type": "markdown",
   "metadata": {},
   "source": [
    "**1. State Schema**"
   ]
  },
  {
   "cell_type": "code",
   "execution_count": 9,
   "metadata": {},
   "outputs": [],
   "source": [
    "class State(TypedDict):\n",
    "    input: int\n",
    "    partial: Annotated[List[int], add]\n",
    "    results: Annotated[List[int], add]"
   ]
  },
  {
   "cell_type": "markdown",
   "metadata": {},
   "source": [
    "**2. Nodes**"
   ]
  },
  {
   "cell_type": "code",
   "execution_count": 10,
   "metadata": {},
   "outputs": [],
   "source": [
    "def node_a(state: State, config: RunnableConfig):\n",
    "    offset = 0\n",
    "    if config:\n",
    "        offset = config.get(\"configurable\", {}).get(\"offset\", 0)\n",
    "    partial = random.randint(1,10) + offset\n",
    "    output =  state['input'] + partial\n",
    "    print(\n",
    "        f\"NODE A:\\n \"\n",
    "        f\"->input:{output-partial}\\n \" \n",
    "        f\"->offset:{offset}\\n \"\n",
    "        f\"->random:{partial-offset}\\n \"\n",
    "        f\"->partial:{partial}\\n \"\n",
    "        f\"->output:{output}\\n \"\n",
    "    )\n",
    "    return {\"partial\": [partial], \"results\": [output]}"
   ]
  },
  {
   "cell_type": "code",
   "execution_count": 11,
   "metadata": {},
   "outputs": [],
   "source": [
    "def node_b(state: State, config: RunnableConfig):\n",
    "    offset = 0\n",
    "    if config:\n",
    "        offset = config.get(\"configurable\", {}).get(\"offset\", 0)\n",
    "    partial = random.randint(1,10) + offset\n",
    "    output =  state['results'][-1] + partial\n",
    "    print(\n",
    "        f\"NODE B:\\n \"\n",
    "        f\"->input:{output-partial}\\n \" \n",
    "        f\"->offset:{offset}\\n \"\n",
    "        f\"->random:{partial-offset}\\n \"\n",
    "        f\"->partial:{partial}\\n \"\n",
    "        f\"->output:{output}\\n \"\n",
    "    )\n",
    "    return {\"partial\": [partial], \"results\": [output]}"
   ]
  },
  {
   "cell_type": "code",
   "execution_count": 12,
   "metadata": {},
   "outputs": [],
   "source": [
    "workflow = StateGraph(State)\n",
    "\n",
    "workflow.add_node(node_a)\n",
    "workflow.add_node(node_b)"
   ]
  },
  {
   "cell_type": "markdown",
   "metadata": {},
   "source": [
    "**3. Edges**"
   ]
  },
  {
   "cell_type": "code",
   "execution_count": 13,
   "metadata": {},
   "outputs": [],
   "source": [
    "workflow.add_edge(START, \"node_a\")\n",
    "workflow.add_edge(\"node_a\", \"node_b\")\n",
    "workflow.add_edge(\"node_b\", END)"
   ]
  },
  {
   "cell_type": "markdown",
   "metadata": {},
   "source": [
    "**4. Compile and Run**"
   ]
  },
  {
   "cell_type": "code",
   "execution_count": 14,
   "metadata": {},
   "outputs": [
    {
     "data": {
      "image/jpeg": "[encoded data removed]",
      "text/plain": [
       "<IPython.core.display.Image object>"
      ]
     },
     "metadata": {},
     "output_type": "display_data"
    }
   ],
   "source": [
    "graph = workflow.compile()\n",
    "\n",
    "display(\n",
    "    Image(\n",
    "        graph.get_graph().draw_mermaid_png()\n",
    "    )\n",
    ")"
   ]
  },
  {
   "cell_type": "code",
   "execution_count": 15,
   "metadata": {},
   "outputs": [
    {
     "name": "stdout",
     "output_type": "stream",
     "text": [
      "NODE A:\n",
      " ->input:1\n",
      " ->offset:20\n",
      " ->random:6\n",
      " ->partial:26\n",
      " ->output:27\n",
      " \n",
      "NODE B:\n",
      " ->input:27\n",
      " ->offset:20\n",
      " ->random:7\n",
      " ->partial:27\n",
      " ->output:54\n",
      " \n"
     ]
    },
    {
     "data": {
      "text/plain": [
       "{'input': 1, 'partial': [26, 27], 'results': [27, 54]}"
      ]
     },
     "execution_count": 15,
     "metadata": {},
     "output_type": "execute_result"
    }
   ],
   "source": [
    "config = {\"configurable\": {\"offset\": 20}}\n",
    "graph.invoke(\n",
    "    input = {\n",
    "        \"input\": 1,\n",
    "    }, \n",
    "    config = config,\n",
    ")"
   ]
  },
  {
   "cell_type": "markdown",
   "metadata": {},
   "source": [
    "#### Parallel Processing with Reducer\n",
    "\n",
    "**Parallel workflows** require reducers to avoid update conflicts."
   ]
  },
  {
   "cell_type": "markdown",
   "metadata": {},
   "source": [
    "**Without reducer**\n",
    "\n",
    "Changing the workflow so `start` sends the state to both `node_a` and `node_b` in parallel causes a problem:\n",
    "\n",
    "- Both nodes try to update the `output` field at the same time.\n",
    "- Results in an **InvalidUpdateError** because the output field was designed to store only a single integer."
   ]
  },
  {
   "cell_type": "code",
   "execution_count": 16,
   "metadata": {},
   "outputs": [
    {
     "data": {
      "image/jpeg": "[encoded data removed]",
      "text/plain": [
       "<IPython.core.display.Image object>"
      ]
     },
     "metadata": {},
     "output_type": "display_data"
    }
   ],
   "source": [
    "class State(TypedDict):\n",
    "    input: int\n",
    "    output: int\n",
    "\n",
    "def node_a(state: State):\n",
    "    input_value = state['input']\n",
    "    offset = random.randint(1,10)\n",
    "    output =  input_value + offset\n",
    "    print(\n",
    "        f\"NODE A:\\n \"\n",
    "        f\"->input:{input_value}\\n \" \n",
    "        f\"->offset:{offset}\\n \"\n",
    "        f\"->output:{output}\\n \"\n",
    "    )\n",
    "    return {\"output\": output}\n",
    "\n",
    "def node_b(state: State):\n",
    "    input_value = state['input'] # Coming from input\n",
    "    offset = random.randint(1,10)\n",
    "    output =  input_value + offset\n",
    "    print(\n",
    "        f\"NODE B:\\n \"\n",
    "        f\"->input:{input_value}\\n \" \n",
    "        f\"->offset:{offset}\\n \"\n",
    "        f\"->output:{output}\\n \"\n",
    "    )\n",
    "    return {\"output\": output}\n",
    "\n",
    "\n",
    "workflow = StateGraph(State)\n",
    "workflow.add_node(node_a)\n",
    "workflow.add_node(node_b)\n",
    "workflow.add_edge(START, \"node_a\")\n",
    "workflow.add_edge(START, \"node_b\")\n",
    "workflow.add_edge(\"node_a\", END)\n",
    "workflow.add_edge(\"node_b\", END)\n",
    "graph = workflow.compile()\n",
    "display(\n",
    "    Image(\n",
    "        graph.get_graph().draw_mermaid_png()\n",
    "    )\n",
    ")"
   ]
  },
  {
   "cell_type": "code",
   "execution_count": 17,
   "metadata": {},
   "outputs": [
    {
     "name": "stdout",
     "output_type": "stream",
     "text": [
      "NODE A:\n",
      " ->input:1\n",
      " ->offset:1\n",
      " ->output:2\n",
      " NODE B:\n",
      " ->input:1\n",
      " ->offset:7\n",
      " ->output:8\n",
      " \n",
      "\n",
      "At key 'output': Can receive only one value per step. Use an Annotated key to handle multiple values.\n"
     ]
    }
   ],
   "source": [
    "try:\n",
    "    graph.invoke(\n",
    "        input = {\n",
    "            \"input\": 1,\n",
    "        }, \n",
    "    )\n",
    "except Exception as e:\n",
    "    print(e)"
   ]
  },
  {
   "cell_type": "markdown",
   "metadata": {},
   "source": [
    "**With Reducer**\n",
    "\n",
    "Reducers resolve conflicts by defining how to combine multiple updates to the same field."
   ]
  },
  {
   "cell_type": "code",
   "execution_count": 18,
   "metadata": {},
   "outputs": [
    {
     "data": {
      "text/plain": [
       "[1, 2, 3, 4, 5, 6]"
      ]
     },
     "execution_count": 18,
     "metadata": {},
     "output_type": "execute_result"
    }
   ],
   "source": [
    "add([1,2,3],[4,5,6])"
   ]
  },
  {
   "cell_type": "code",
   "execution_count": 19,
   "metadata": {},
   "outputs": [
    {
     "data": {
      "image/jpeg": "[encoded data removed]",
      "text/plain": [
       "<IPython.core.display.Image object>"
      ]
     },
     "metadata": {},
     "output_type": "display_data"
    }
   ],
   "source": [
    "class State(TypedDict):\n",
    "    input: int\n",
    "    output: Annotated[List[int], add]\n",
    "\n",
    "def node_a(state: State):\n",
    "    input_value = state['input']\n",
    "    offset = random.randint(1,10)\n",
    "    output =  input_value + offset\n",
    "    print(\n",
    "        f\"NODE A:\\n \"\n",
    "        f\"->input:{input_value}\\n \" \n",
    "        f\"->offset:{offset}\\n \"\n",
    "        f\"->output:{output}\\n \"\n",
    "    )\n",
    "    return {\"output\": [output]} # now it's a List of ints\n",
    "\n",
    "def node_b(state: State):\n",
    "    input_value = state['input'] # Coming from input\n",
    "    offset = random.randint(1,10)\n",
    "    output =  input_value + offset\n",
    "    print(\n",
    "        f\"NODE B:\\n \"\n",
    "        f\"->input:{input_value}\\n \" \n",
    "        f\"->offset:{offset}\\n \"\n",
    "        f\"->output:{output}\\n \"\n",
    "    )\n",
    "    return {\"output\": [output]} # now it's a List of ints\n",
    "\n",
    "\n",
    "workflow = StateGraph(State)\n",
    "workflow.add_node(node_a)\n",
    "workflow.add_node(node_b)\n",
    "workflow.add_edge(START, \"node_a\")\n",
    "workflow.add_edge(START, \"node_b\")\n",
    "workflow.add_edge(\"node_a\", END)\n",
    "workflow.add_edge(\"node_b\", END)\n",
    "graph = workflow.compile()\n",
    "\n",
    "display(\n",
    "    Image(\n",
    "        graph.get_graph().draw_mermaid_png()\n",
    "    )\n",
    ")"
   ]
  },
  {
   "cell_type": "code",
   "execution_count": 20,
   "metadata": {},
   "outputs": [
    {
     "name": "stdout",
     "output_type": "stream",
     "text": [
      "NODE B:\n",
      " ->input:1\n",
      " ->offset:7\n",
      " ->output:8\n",
      " NODE A:\n",
      " ->input:1\n",
      " ->offset:5\n",
      " ->output:6\n",
      " \n",
      "\n"
     ]
    },
    {
     "data": {
      "text/plain": [
       "{'input': 1, 'output': [6, 8]}"
      ]
     },
     "execution_count": 20,
     "metadata": {},
     "output_type": "execute_result"
    }
   ],
   "source": [
    "graph.invoke(\n",
    "    input = {\n",
    "        \"input\": 1,\n",
    "    }, \n",
    ")"
   ]
  },
  {
   "cell_type": "markdown",
   "metadata": {},
   "source": [
    "#### Conditional Router"
   ]
  },
  {
   "cell_type": "markdown",
   "metadata": {},
   "source": [
    "**1. State Schema**"
   ]
  },
  {
   "cell_type": "code",
   "execution_count": 21,
   "metadata": {},
   "outputs": [],
   "source": [
    "class State(TypedDict):\n",
    "    input: str\n",
    "    action: Literal[\"reverse\", \"upper\"]\n",
    "    output: str"
   ]
  },
  {
   "cell_type": "code",
   "execution_count": 22,
   "metadata": {},
   "outputs": [],
   "source": [
    "workflow = StateGraph(State)"
   ]
  },
  {
   "cell_type": "markdown",
   "metadata": {},
   "source": [
    "**2. Nodes**"
   ]
  },
  {
   "cell_type": "code",
   "execution_count": 23,
   "metadata": {},
   "outputs": [],
   "source": [
    "def node_a(state: State):\n",
    "    print(\"Node A\\n\")\n",
    "    output =  state['input'][::-1]\n",
    "    print(f\"output: {output}\")\n",
    "    return {\"output\": output}\n",
    "\n",
    "def node_b(state: State):\n",
    "    print(\"Node B\\n\")\n",
    "    output = state['input'].upper()\n",
    "    print(f\"output: {output}\")\n",
    "    return {\"output\": output}\n",
    "\n",
    "workflow.add_node(node_a)\n",
    "workflow.add_node(node_b)\n"
   ]
  },
  {
   "cell_type": "markdown",
   "metadata": {},
   "source": [
    "**3. Routing Function**"
   ]
  },
  {
   "cell_type": "code",
   "execution_count": 24,
   "metadata": {},
   "outputs": [],
   "source": [
    "def routing_function(state: State):\n",
    "    action = state[\"action\"]\n",
    "    if action == \"reverse\":\n",
    "        return \"node_a\"\n",
    "    if action == \"upper\":\n",
    "        return \"node_b\""
   ]
  },
  {
   "cell_type": "markdown",
   "metadata": {},
   "source": [
    "**4. Edges**\n",
    "\n",
    "Use conditional edges to control the flow of data:\n",
    "\n",
    "- START → routing_function to decide the path.\n",
    "- node_a → END for reverse.\n",
    "- node_b → END for uppercase.\n",
    "\n",
    "In add_conditional_edges() method, use source, path and path_map as the necessary arguments for routing."
   ]
  },
  {
   "cell_type": "code",
   "execution_count": 25,
   "metadata": {},
   "outputs": [],
   "source": [
    "workflow.add_conditional_edges(\n",
    "    source=START, \n",
    "    path=routing_function, \n",
    "    path_map=[\"node_a\", \"node_b\"]\n",
    ")\n",
    "\n",
    "workflow.add_edge(\"node_a\", END)\n",
    "workflow.add_edge(\"node_b\", END)"
   ]
  },
  {
   "cell_type": "markdown",
   "metadata": {},
   "source": [
    "**5. Compile and Run**"
   ]
  },
  {
   "cell_type": "code",
   "execution_count": 26,
   "metadata": {},
   "outputs": [
    {
     "data": {
      "image/jpeg": "[encoded data removed]",
      "text/plain": [
       "<IPython.core.display.Image object>"
      ]
     },
     "metadata": {},
     "output_type": "display_data"
    }
   ],
   "source": [
    "graph = workflow.compile()\n",
    "\n",
    "display(\n",
    "    Image(\n",
    "        graph.get_graph().draw_mermaid_png()\n",
    "    )\n",
    ")"
   ]
  },
  {
   "cell_type": "code",
   "execution_count": 27,
   "metadata": {},
   "outputs": [
    {
     "name": "stdout",
     "output_type": "stream",
     "text": [
      "Node B\n",
      "\n",
      "output: SOME INPUT\n"
     ]
    },
    {
     "data": {
      "text/plain": [
       "{'input': 'Some input', 'action': 'upper', 'output': 'SOME INPUT'}"
      ]
     },
     "execution_count": 27,
     "metadata": {},
     "output_type": "execute_result"
    }
   ],
   "source": [
    "graph.invoke(\n",
    "    input = {\n",
    "        \"input\": \"Some input\",\n",
    "        \"action\": \"upper\",\n",
    "    }, \n",
    ")"
   ]
  },
  {
   "cell_type": "code",
   "execution_count": 28,
   "metadata": {},
   "outputs": [
    {
     "name": "stdout",
     "output_type": "stream",
     "text": [
      "Node A\n",
      "\n",
      "output: tupni emoS\n"
     ]
    },
    {
     "data": {
      "text/plain": [
       "{'input': 'Some input', 'action': 'reverse', 'output': 'tupni emoS'}"
      ]
     },
     "execution_count": 28,
     "metadata": {},
     "output_type": "execute_result"
    }
   ],
   "source": [
    "graph.invoke(\n",
    "    input = {\n",
    "        \"input\": \"Some input\",\n",
    "        \"action\": \"reverse\",\n",
    "    }, \n",
    ")"
   ]
  },
  {
   "cell_type": "markdown",
   "metadata": {},
   "source": [
    "### Call LLMs"
   ]
  },
  {
   "cell_type": "markdown",
   "metadata": {},
   "source": [
    "#### Call LLMs with State"
   ]
  },
  {
   "cell_type": "code",
   "execution_count": 29,
   "metadata": {},
   "outputs": [],
   "source": [
    "llm = ChatOpenAI(\n",
    "    model=\"gpt-4o-mini\",\n",
    "    temperature=0.0,\n",
    ")"
   ]
  },
  {
   "cell_type": "code",
   "execution_count": 30,
   "metadata": {},
   "outputs": [],
   "source": [
    "class State(TypedDict):\n",
    "    question: str\n",
    "    response: str"
   ]
  },
  {
   "cell_type": "code",
   "execution_count": 31,
   "metadata": {},
   "outputs": [],
   "source": [
    "def model(state: State):\n",
    "    question = state[\"question\"]\n",
    "    response = llm.invoke([\n",
    "        SystemMessage(\"You're a data science specialist\"),\n",
    "        HumanMessage(question)\n",
    "    ])\n",
    "\n",
    "    return {\"response\": response.content}"
   ]
  },
  {
   "cell_type": "code",
   "execution_count": 32,
   "metadata": {},
   "outputs": [],
   "source": [
    "workflow = StateGraph(State)"
   ]
  },
  {
   "cell_type": "code",
   "execution_count": 33,
   "metadata": {},
   "outputs": [
    {
     "data": {
      "image/jpeg": "[encoded data removed]",
      "text/plain": [
       "<IPython.core.display.Image object>"
      ]
     },
     "metadata": {},
     "output_type": "display_data"
    }
   ],
   "source": [
    "workflow.add_node(\"model\", model)\n",
    "\n",
    "workflow.add_edge(START, \"model\")\n",
    "workflow.add_edge(\"model\", END)\n",
    "\n",
    "graph = workflow.compile()\n",
    "\n",
    "display(\n",
    "    Image(\n",
    "        graph.get_graph().draw_mermaid_png()\n",
    "    )\n",
    ")"
   ]
  },
  {
   "cell_type": "code",
   "execution_count": 34,
   "metadata": {},
   "outputs": [],
   "source": [
    "result = graph.invoke(\n",
    "    input={\n",
    "        \"question\": \"What is the Large language models?\"\n",
    "    }, \n",
    ")"
   ]
  },
  {
   "cell_type": "code",
   "execution_count": 35,
   "metadata": {},
   "outputs": [
    {
     "data": {
      "text/plain": [
       "{'question': 'What is the Large language models?',\n",
       " 'response': 'Large language models (LLMs) are a type of artificial intelligence (AI) that are designed to understand, generate, and manipulate human language. They are built using deep learning techniques, particularly neural networks, and are trained on vast amounts of text data to learn the statistical patterns and structures of language. Here are some key characteristics and components of LLMs:\\n\\n1. **Architecture**: Most LLMs are based on transformer architecture, which allows them to process and generate text efficiently. Transformers use mechanisms like self-attention to weigh the importance of different words in a sentence, enabling them to capture context and relationships between words effectively.\\n\\n2. **Training**: LLMs are trained on diverse datasets that include books, articles, websites, and other text sources. This training helps them learn grammar, facts, reasoning abilities, and even some level of common sense knowledge. The training process typically involves predicting the next word in a sentence given the previous words (language modeling).\\n\\n3. **Scale**: The term \"large\" refers to both the size of the model (number of parameters) and the amount of data used for training. LLMs can have billions or even trillions of parameters, which allows them to capture complex patterns in language.\\n\\n4. **Applications**: LLMs are used in various applications, including:\\n   - Text generation (e.g., writing articles, stories, or poetry)\\n   - Conversational agents (e.g., chatbots)\\n   - Language translation\\n   - Sentiment analysis\\n   - Text summarization\\n   - Code generation and assistance\\n\\n5. **Fine-tuning**: After pre-training on a large corpus, LLMs can be fine-tuned on specific tasks or domains to improve their performance in those areas. This involves additional training on a smaller, task-specific dataset.\\n\\n6. **Ethical Considerations**: The deployment of LLMs raises ethical concerns, including issues related to bias, misinformation, and the potential for misuse. Researchers and developers are actively working on ways to mitigate these risks.\\n\\n7. **Examples**: Some well-known LLMs include OpenAI\\'s GPT (Generative Pre-trained Transformer) series, Google\\'s BERT (Bidirectional Encoder Representations from Transformers), and Meta\\'s LLaMA (Large Language Model Meta AI).\\n\\nOverall, large language models represent a significant advancement in natural language processing (NLP) and have transformed how machines understand and interact with human language.'}"
      ]
     },
     "execution_count": 35,
     "metadata": {},
     "output_type": "execute_result"
    }
   ],
   "source": [
    "result"
   ]
  },
  {
   "cell_type": "markdown",
   "metadata": {},
   "source": [
    "#### Call LLMs with Custom State and Langgraph operator\n",
    "\n",
    "- In workflows involving messages, a simple `operator.add` doesn’t work well when merging structured messages.\n",
    "- Instead, LangGraph provides the `add_messages` reducer."
   ]
  },
  {
   "cell_type": "code",
   "execution_count": 36,
   "metadata": {},
   "outputs": [
    {
     "data": {
      "text/plain": [
       "[SystemMessage(content=\"You're a helpful assistant\", id='1c3127d5-81dd-4d0a-93d9-00154d823a88'),\n",
       " HumanMessage(content='Hi!', id='126e32f0-111b-4d6c-b8aa-50c0b5d19bf2'),\n",
       " AIMessage(content='Hello! How can I assist you today?', id='5ad0554f-fd88-4ae2-bb2d-c08bff8f50ef')]"
      ]
     },
     "execution_count": 36,
     "metadata": {},
     "output_type": "execute_result"
    }
   ],
   "source": [
    "add_messages(\n",
    "    left = [\n",
    "        SystemMessage(\"You're a helpful assistant\"),\n",
    "        HumanMessage(\"Hi!\")\n",
    "    ],\n",
    "    right = AIMessage(\"Hello! How can I assist you today?\")\n",
    ")"
   ]
  },
  {
   "cell_type": "code",
   "execution_count": 37,
   "metadata": {},
   "outputs": [],
   "source": [
    "class State(TypedDict):\n",
    "    messages:Annotated[List[AnyMessage], add_messages]"
   ]
  },
  {
   "cell_type": "code",
   "execution_count": 38,
   "metadata": {},
   "outputs": [
    {
     "data": {
      "image/jpeg": "[encoded data removed]",
      "text/plain": [
       "<IPython.core.display.Image object>"
      ]
     },
     "metadata": {},
     "output_type": "display_data"
    }
   ],
   "source": [
    "llm = ChatOpenAI(\n",
    "    model=\"gpt-4o-mini\",\n",
    "    temperature=0.0,\n",
    ")\n",
    "\n",
    "def model(state: State):\n",
    "    messages = state[\"messages\"]\n",
    "    response = llm.invoke(messages)\n",
    "    return {\"messages\": response}\n",
    "\n",
    "workflow = StateGraph(State)\n",
    "\n",
    "workflow.add_node(\"model\", model)\n",
    "\n",
    "workflow.add_edge(START, \"model\")\n",
    "workflow.add_edge(\"model\", END)\n",
    "\n",
    "graph = workflow.compile()\n",
    "\n",
    "display(\n",
    "    Image(\n",
    "        graph.get_graph().draw_mermaid_png()\n",
    "    )\n",
    ")"
   ]
  },
  {
   "cell_type": "code",
   "execution_count": 39,
   "metadata": {},
   "outputs": [
    {
     "name": "stdout",
     "output_type": "stream",
     "text": [
      "================================\u001b[1m Human Message \u001b[0m=================================\n",
      "\n",
      "What is the Large language models?\n",
      "==================================\u001b[1m Ai Message \u001b[0m==================================\n",
      "\n",
      "Large language models (LLMs) are a type of artificial intelligence (AI) designed to understand, generate, and manipulate human language. They are built using deep learning techniques, particularly neural networks, and are trained on vast amounts of text data from diverse sources, such as books, articles, websites, and more. Here are some key characteristics and features of LLMs:\n",
      "\n",
      "1. **Scale**: LLMs are characterized by their large number of parameters, often in the billions or even trillions. This scale allows them to capture complex patterns and nuances in language.\n",
      "\n",
      "2. **Training**: They are typically trained using unsupervised or semi-supervised learning methods, where the model learns to predict the next word in a sentence given the previous words. This process helps the model understand grammar, facts, and some level of reasoning.\n",
      "\n",
      "3. **Versatility**: LLMs can perform a wide range of language-related tasks, including text generation, translation, summarization, question answering, and more, often with little to no task-specific training.\n",
      "\n",
      "4. **Contextual Understanding**: They can generate contextually relevant responses by considering the surrounding text, which allows for more coherent and context-aware interactions.\n",
      "\n",
      "5. **Applications**: LLMs are used in various applications, including chatbots, virtual assistants, content creation, coding assistance, and more.\n",
      "\n",
      "6. **Ethical Considerations**: The deployment of LLMs raises ethical concerns, such as the potential for generating misleading or harmful content, biases present in the training data, and issues related to privacy and data security.\n",
      "\n",
      "7. **Examples**: Some well-known LLMs include OpenAI's GPT (Generative Pre-trained Transformer) series, Google's BERT (Bidirectional Encoder Representations from Transformers), and others.\n",
      "\n",
      "Overall, large language models represent a significant advancement in natural language processing (NLP) and have transformed how machines interact with human language.\n"
     ]
    }
   ],
   "source": [
    "result = graph.invoke(\n",
    "    input={\n",
    "        \"messages\": [HumanMessage(\"What is the Large language models?\")]}, \n",
    ")\n",
    "\n",
    "for message in result['messages']:\n",
    "    message.pretty_print()"
   ]
  },
  {
   "cell_type": "markdown",
   "metadata": {},
   "source": [
    "#### Call LLMs with Langgraph MessagesState\n",
    "\n",
    "- MessageState simplifies using LangChain messages in workflows without needing custom schemas.｜"
   ]
  },
  {
   "cell_type": "code",
   "execution_count": 40,
   "metadata": {},
   "outputs": [
    {
     "data": {
      "image/jpeg": "[encoded data removed]",
      "text/plain": [
       "<IPython.core.display.Image object>"
      ]
     },
     "metadata": {},
     "output_type": "display_data"
    }
   ],
   "source": [
    "def model(state: MessagesState):\n",
    "    messages = state[\"messages\"]\n",
    "    response = llm.invoke(messages)\n",
    "    return {\"messages\": response}\n",
    "\n",
    "workflow = StateGraph(MessagesState)\n",
    "\n",
    "workflow.add_node(\"model\", model)\n",
    "\n",
    "workflow.add_edge(START, \"model\")\n",
    "workflow.add_edge(\"model\", END)\n",
    "\n",
    "graph = workflow.compile()\n",
    "display(\n",
    "    Image(\n",
    "        graph.get_graph().draw_mermaid_png()\n",
    "    )\n",
    ")"
   ]
  },
  {
   "cell_type": "code",
   "execution_count": 41,
   "metadata": {},
   "outputs": [
    {
     "name": "stdout",
     "output_type": "stream",
     "text": [
      "================================\u001b[1m Human Message \u001b[0m=================================\n",
      "\n",
      "What is the Large language models?\n",
      "==================================\u001b[1m Ai Message \u001b[0m==================================\n",
      "\n",
      "Large language models (LLMs) are a type of artificial intelligence (AI) designed to understand, generate, and manipulate human language. They are built using deep learning techniques, particularly neural networks, and are trained on vast amounts of text data from diverse sources, such as books, articles, websites, and more. Here are some key characteristics and features of LLMs:\n",
      "\n",
      "1. **Scale**: LLMs are characterized by their large number of parameters, often in the billions or even trillions. This scale allows them to capture complex patterns and nuances in language.\n",
      "\n",
      "2. **Training**: They are typically trained using unsupervised or semi-supervised learning methods, where the model learns to predict the next word in a sentence given the previous words. This process helps the model understand grammar, facts, and some level of reasoning.\n",
      "\n",
      "3. **Versatility**: LLMs can perform a wide range of language-related tasks, including text generation, translation, summarization, question answering, and more, often with little to no task-specific training.\n",
      "\n",
      "4. **Contextual Understanding**: They can generate contextually relevant responses by considering the surrounding text, which allows for more coherent and context-aware interactions.\n",
      "\n",
      "5. **Applications**: LLMs are used in various applications, including chatbots, virtual assistants, content creation, coding assistance, and more.\n",
      "\n",
      "6. **Ethical Considerations**: The deployment of LLMs raises ethical concerns, such as the potential for generating misleading or harmful content, biases present in the training data, and issues related to privacy and data security.\n",
      "\n",
      "Popular examples of large language models include OpenAI's GPT (Generative Pre-trained Transformer) series, Google's BERT (Bidirectional Encoder Representations from Transformers), and others. These models have significantly advanced the field of natural language processing (NLP) and continue to evolve with ongoing research and development.\n"
     ]
    }
   ],
   "source": [
    "result = graph.invoke(\n",
    "    input={\n",
    "        \"messages\": [HumanMessage(\"What is the Large language models?\")]}, \n",
    ")\n",
    "\n",
    "for message in result['messages']:\n",
    "    message.pretty_print()"
   ]
  },
  {
   "cell_type": "markdown",
   "metadata": {},
   "source": [
    "#### Call LLMs with Langgraph MessagesState and Config"
   ]
  },
  {
   "cell_type": "code",
   "execution_count": 42,
   "metadata": {},
   "outputs": [],
   "source": [
    "llm = ChatOpenAI(\n",
    "    model=\"gpt-4o-mini\",\n",
    "    temperature=0.0,\n",
    ")"
   ]
  },
  {
   "cell_type": "markdown",
   "metadata": {},
   "source": [
    "MessageState automatically includes a messages list with a reducer."
   ]
  },
  {
   "cell_type": "code",
   "execution_count": 43,
   "metadata": {},
   "outputs": [],
   "source": [
    "class State(MessagesState):\n",
    "    question:str"
   ]
  },
  {
   "cell_type": "markdown",
   "metadata": {},
   "source": [
    "Checks if a user's name is present in the config.\n",
    "If so, injects a SystemMessage to personalize the greeting."
   ]
  },
  {
   "cell_type": "code",
   "execution_count": 44,
   "metadata": {},
   "outputs": [
    {
     "data": {
      "image/jpeg": "[encoded data removed]",
      "text/plain": [
       "<IPython.core.display.Image object>"
      ]
     },
     "metadata": {},
     "output_type": "display_data"
    }
   ],
   "source": [
    "def model(state: State, config: RunnableConfig):\n",
    "    question = state[\"question\"]\n",
    "    messages = state[\"messages\"]\n",
    "    name = None\n",
    "    if config:\n",
    "        name = config[\"configurable\"].get(\"name\")\n",
    "\n",
    "    if name and not messages:\n",
    "        messages.append(\n",
    "            SystemMessage(\n",
    "                \"Help the following user. \\n\"\n",
    "                f\"Name={name} \\n\"\n",
    "                \"Give an initial greeting before responding.\"\n",
    "            )\n",
    "        )\n",
    "\n",
    "    messages.append(HumanMessage(question))\n",
    "    response = llm.invoke(messages)\n",
    "    messages.append(response)\n",
    "\n",
    "    return {\"messages\": messages}\n",
    "\n",
    "workflow = StateGraph(State)\n",
    "\n",
    "workflow.add_node(\"model\", model)\n",
    "\n",
    "workflow.add_edge(START, \"model\")\n",
    "workflow.add_edge(\"model\", END)\n",
    "\n",
    "graph = workflow.compile()\n",
    "\n",
    "display(\n",
    "    Image(\n",
    "        graph.get_graph().draw_mermaid_png()\n",
    "    )\n",
    ")"
   ]
  },
  {
   "cell_type": "markdown",
   "metadata": {},
   "source": [
    "RunnableConfig is used to inject external parameters during workflow execution."
   ]
  },
  {
   "cell_type": "code",
   "execution_count": 45,
   "metadata": {},
   "outputs": [
    {
     "name": "stdout",
     "output_type": "stream",
     "text": [
      "================================\u001b[1m System Message \u001b[0m================================\n",
      "\n",
      "Help the following user. \n",
      "Name=Tim \n",
      "Give an initial greeting before responding.\n",
      "================================\u001b[1m Human Message \u001b[0m=================================\n",
      "\n",
      "What is the meaning of life?\n",
      "==================================\u001b[1m Ai Message \u001b[0m==================================\n",
      "\n",
      "Hello, Tim! The meaning of life is a profound question that has been explored by philosophers, theologians, and thinkers throughout history. Different cultures and individuals may have varying interpretations. Some find meaning through relationships, love, and connection with others, while others seek purpose through personal achievements, spirituality, or contributing to the greater good. Ultimately, it may be a personal journey for each individual to discover what gives their life meaning. What are your thoughts on it?\n"
     ]
    }
   ],
   "source": [
    "result = graph.invoke(\n",
    "    input={\"question\": \"What is the meaning of life?\"},\n",
    "    config={\"configurable\": {\"name\": \"Tim\"}}\n",
    ")\n",
    "\n",
    "for message in result['messages']:\n",
    "    message.pretty_print()"
   ]
  },
  {
   "cell_type": "markdown",
   "metadata": {},
   "source": [
    "### States"
   ]
  },
  {
   "cell_type": "markdown",
   "metadata": {},
   "source": [
    "#### Pydantic"
   ]
  },
  {
   "cell_type": "code",
   "execution_count": 46,
   "metadata": {},
   "outputs": [
    {
     "name": "stdout",
     "output_type": "stream",
     "text": [
      "Input data: [1.0, 5.0, 2.0, 8.0, 3.0]\n",
      "Normalized data: [0.0, 0.571, 0.143, 1.0, 0.286]\n"
     ]
    }
   ],
   "source": [
    "class State(BaseModel):\n",
    "    input_data: List[float]  # Raw numerical data\n",
    "    normalized_data: Optional[List[float]] = None  # Normalized data\n",
    "\n",
    "def normalize_node(state: State):\n",
    "    \"\"\"\n",
    "    Simple min-max normalization node that scales data to [0,1] range\n",
    "    \"\"\"\n",
    "    data = state.input_data\n",
    "    min_val = min(data)\n",
    "    max_val = max(data)\n",
    "    \n",
    "    # Min-max normalization\n",
    "    normalized = [(x - min_val) / (max_val - min_val) for x in data]\n",
    "    \n",
    "    print(f\"Input data: {data}\")\n",
    "    print(f\"Normalized data: {[round(x, 3) for x in normalized]}\")\n",
    "    \n",
    "    return {\"normalized_data\": normalized}\n",
    "\n",
    "# Create the workflow\n",
    "workflow = StateGraph(State)\n",
    "\n",
    "# Add the normalization node\n",
    "workflow.add_node(\"normalize\", normalize_node)\n",
    "\n",
    "# Define the flow\n",
    "workflow.add_edge(START, \"normalize\")\n",
    "workflow.add_edge(\"normalize\", END)\n",
    "\n",
    "# Compile the graph\n",
    "graph = workflow.compile()\n",
    "\n",
    "# Example usage\n",
    "result = graph.invoke(\n",
    "    {\n",
    "        \"input_data\": [1, 5, 2, 8, 3]\n",
    "    }\n",
    ")"
   ]
  },
  {
   "cell_type": "markdown",
   "metadata": {},
   "source": [
    "#### State Machines"
   ]
  },
  {
   "cell_type": "code",
   "execution_count": 47,
   "metadata": {},
   "outputs": [],
   "source": [
    "class State(BaseModel):\n",
    "    stage: Optional[Literal[\"📊 Data\", \"🎯 Training\", \"📈 Validation\", \"✅ Complete\"]] = None\n",
    "    continue_training: bool\n",
    "    messages: Annotated[List[str], add] = []\n",
    "    epoch: Annotated[int, add] = 0\n",
    "    current_loss: float = float('inf')\n",
    "\n",
    "def prepare_data(state: State):\n",
    "    stage = \"📊 Data\"\n",
    "    message = f\"{stage}: Preparing training and validation splits...\"\n",
    "    messages = [message]\n",
    "    # Simulate data preparation\n",
    "    return {\n",
    "        \"stage\": stage, \n",
    "        \"messages\": messages, \n",
    "        \"epoch\": 1\n",
    "    }\n",
    "\n",
    "def train_model(state: State):\n",
    "    stage = \"🎯 Training\"\n",
    "    epoch = state.epoch\n",
    "    # Simulate training loss\n",
    "    current_loss = 1.0 / (epoch + np.random.random())\n",
    "    \n",
    "    message = f\"{stage}: Epoch {epoch} - Training Loss: {current_loss:.4f}\"\n",
    "    messages = [message]\n",
    "    \n",
    "    return {\n",
    "        \"stage\": stage, \n",
    "        \"messages\": messages,\n",
    "        \"current_loss\": current_loss,\n",
    "        \"epoch\": epoch + 1  # Increment epoch counter\n",
    "    }\n",
    "\n",
    "def validate_model(state: State):\n",
    "    stage = \"📈 Validation\"\n",
    "    current_loss = state.current_loss\n",
    "    continue_training = state.continue_training\n",
    "    \n",
    "    messages = []\n",
    "    \n",
    "    if not continue_training:\n",
    "        message = f\"{stage}: Validation Loss: {current_loss:.4f}\"\n",
    "        messages.append(message)\n",
    "    else:\n",
    "        if state.epoch >= 10:\n",
    "            messages.append(\"🔚 Maximum epochs (10) reached\")\n",
    "            messages.append(\"Setting continue_training to False\")\n",
    "            continue_training = False\n",
    "    \n",
    "    messages.append(\"----------------------------------------------------\")\n",
    "    \n",
    "    return {\n",
    "        \"stage\": stage, \n",
    "        \"messages\": messages,\n",
    "        \"continue_training\": continue_training,\n",
    "        \"current_loss\": current_loss\n",
    "    }"
   ]
  },
  {
   "cell_type": "code",
   "execution_count": 48,
   "metadata": {},
   "outputs": [
    {
     "data": {
      "image/jpeg": "[encoded data removed]",
      "text/plain": [
       "<IPython.core.display.Image object>"
      ]
     },
     "metadata": {},
     "output_type": "display_data"
    }
   ],
   "source": [
    "# Create the workflow\n",
    "workflow = StateGraph(State)\n",
    "\n",
    "# Add nodes\n",
    "workflow.add_node(\"prepare_data\", prepare_data)\n",
    "workflow.add_node(\"train\", train_model)\n",
    "workflow.add_node(\"validate\", validate_model)\n",
    "\n",
    "# Add basic flow from START to prepare_data\n",
    "workflow.add_edge(START, \"prepare_data\")\n",
    "\n",
    "# Add conditional check after data preparation\n",
    "def should_start_training(state: State):\n",
    "    if not state.continue_training:\n",
    "        return \"validate\"\n",
    "    return \"train\"\n",
    "\n",
    "workflow.add_conditional_edges(\n",
    "    source=\"prepare_data\",\n",
    "    path=should_start_training,\n",
    "    path_map=[\"train\", \"validate\"]\n",
    ")\n",
    "\n",
    "# Add edges from train to validate\n",
    "workflow.add_edge(\"train\", \"validate\")\n",
    "\n",
    "# Add conditional check after validation\n",
    "def should_continue_training(state: State):\n",
    "    if not state.continue_training:  # Check the continue_training flag\n",
    "        return END\n",
    "    return \"train\"\n",
    "\n",
    "workflow.add_conditional_edges(\n",
    "    source=\"validate\",\n",
    "    path=should_continue_training,\n",
    "    path_map=[\"train\", END]\n",
    ")\n",
    "\n",
    "# Compile the graph\n",
    "graph = workflow.compile()\n",
    "\n",
    "# Display the workflow graph\n",
    "display(\n",
    "    Image(\n",
    "        graph.get_graph().draw_mermaid_png()\n",
    "    )\n",
    ")"
   ]
  },
  {
   "cell_type": "code",
   "execution_count": 49,
   "metadata": {},
   "outputs": [
    {
     "name": "stdout",
     "output_type": "stream",
     "text": [
      "🤖 ------------ ML TRAINING CONTROLLER ------------🤖\n",
      "\n",
      "Case 1: Normal Training Run\n",
      "📊 Data: Preparing training and validation splits...\n",
      "🎯 Training: Epoch 1 - Training Loss: 0.5795\n",
      "----------------------------------------------------\n",
      "🎯 Training: Epoch 3 - Training Loss: 0.2915\n",
      "----------------------------------------------------\n",
      "🎯 Training: Epoch 7 - Training Loss: 0.1339\n",
      "🔚 Maximum epochs (10) reached\n",
      "Setting continue_training to False\n",
      "----------------------------------------------------\n",
      "\n",
      "Case 2: Training Disabled\n",
      "📊 Data: Preparing training and validation splits...\n",
      "📈 Validation: Validation Loss: inf\n",
      "----------------------------------------------------\n"
     ]
    }
   ],
   "source": [
    "# Example usage with different initial conditions\n",
    "print(\"🤖 ------------ ML TRAINING CONTROLLER ------------🤖\")\n",
    "print(\"\\nCase 1: Normal Training Run\")\n",
    "result = graph.invoke({\"continue_training\": True})\n",
    "for message in result['messages']:\n",
    "    print(message)\n",
    "\n",
    "print(\"\\nCase 2: Training Disabled\")\n",
    "result = graph.invoke({\"continue_training\": False})\n",
    "for message in result['messages']:\n",
    "    print(message)"
   ]
  },
  {
   "cell_type": "code",
   "execution_count": null,
   "metadata": {},
   "outputs": [],
   "source": []
  }
 ],
 "metadata": {
  "kernelspec": {
   "display_name": "agent",
   "language": "python",
   "name": "python3"
  },
  "language_info": {
   "codemirror_mode": {
    "name": "ipython",
    "version": 3
   },
   "file_extension": ".py",
   "mimetype": "text/x-python",
   "name": "python",
   "nbconvert_exporter": "python",
   "pygments_lexer": "ipython3",
   "version": "3.10.17"
  }
 },
 "nbformat": 4,
 "nbformat_minor": 2
}
