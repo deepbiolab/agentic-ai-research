{
 "cells": [
  {
   "cell_type": "markdown",
   "metadata": {},
   "source": [
    "### Import Libraries"
   ]
  },
  {
   "cell_type": "code",
   "execution_count": null,
   "metadata": {},
   "outputs": [
    {
     "data": {
      "text/plain": [
       "True"
      ]
     },
     "execution_count": 1,
     "metadata": {},
     "output_type": "execute_result"
    }
   ],
   "source": [
    "import numpy as np\n",
    "from operator import add\n",
    "from typing import Literal, Annotated, Literal, List, Optional\n",
    "from pydantic import BaseModel\n",
    "from langgraph.graph import StateGraph, START, END\n",
    "from IPython.display import Image, display\n",
    "from dotenv import load_dotenv\n",
    "\n",
    "load_dotenv()"
   ]
  },
  {
   "cell_type": "markdown",
   "metadata": {},
   "source": [
    "### States"
   ]
  },
  {
   "cell_type": "markdown",
   "metadata": {},
   "source": [
    "#### Pydantic"
   ]
  },
  {
   "cell_type": "code",
   "execution_count": 46,
   "metadata": {},
   "outputs": [
    {
     "name": "stdout",
     "output_type": "stream",
     "text": [
      "Input data: [1.0, 5.0, 2.0, 8.0, 3.0]\n",
      "Normalized data: [0.0, 0.571, 0.143, 1.0, 0.286]\n"
     ]
    }
   ],
   "source": [
    "class State(BaseModel):\n",
    "    input_data: List[float]  # Raw numerical data\n",
    "    normalized_data: Optional[List[float]] = None  # Normalized data\n",
    "\n",
    "def normalize_node(state: State):\n",
    "    \"\"\"\n",
    "    Simple min-max normalization node that scales data to [0,1] range\n",
    "    \"\"\"\n",
    "    data = state.input_data\n",
    "    min_val = min(data)\n",
    "    max_val = max(data)\n",
    "    \n",
    "    # Min-max normalization\n",
    "    normalized = [(x - min_val) / (max_val - min_val) for x in data]\n",
    "    \n",
    "    print(f\"Input data: {data}\")\n",
    "    print(f\"Normalized data: {[round(x, 3) for x in normalized]}\")\n",
    "    \n",
    "    return {\"normalized_data\": normalized}\n",
    "\n",
    "# Create the workflow\n",
    "workflow = StateGraph(State)\n",
    "\n",
    "# Add the normalization node\n",
    "workflow.add_node(\"normalize\", normalize_node)\n",
    "\n",
    "# Define the flow\n",
    "workflow.add_edge(START, \"normalize\")\n",
    "workflow.add_edge(\"normalize\", END)\n",
    "\n",
    "# Compile the graph\n",
    "graph = workflow.compile()\n",
    "\n",
    "# Example usage\n",
    "result = graph.invoke(\n",
    "    {\n",
    "        \"input_data\": [1, 5, 2, 8, 3]\n",
    "    }\n",
    ")"
   ]
  },
  {
   "cell_type": "markdown",
   "metadata": {},
   "source": [
    "#### State Machines"
   ]
  },
  {
   "cell_type": "code",
   "execution_count": 47,
   "metadata": {},
   "outputs": [],
   "source": [
    "class State(BaseModel):\n",
    "    stage: Optional[Literal[\"📊 Data\", \"🎯 Training\", \"📈 Validation\", \"✅ Complete\"]] = None\n",
    "    continue_training: bool\n",
    "    messages: Annotated[List[str], add] = []\n",
    "    epoch: Annotated[int, add] = 0\n",
    "    current_loss: float = float('inf')\n",
    "\n",
    "def prepare_data(state: State):\n",
    "    stage = \"📊 Data\"\n",
    "    message = f\"{stage}: Preparing training and validation splits...\"\n",
    "    messages = [message]\n",
    "    # Simulate data preparation\n",
    "    return {\n",
    "        \"stage\": stage, \n",
    "        \"messages\": messages, \n",
    "        \"epoch\": 1\n",
    "    }\n",
    "\n",
    "def train_model(state: State):\n",
    "    stage = \"🎯 Training\"\n",
    "    epoch = state.epoch\n",
    "    # Simulate training loss\n",
    "    current_loss = 1.0 / (epoch + np.random.random())\n",
    "    \n",
    "    message = f\"{stage}: Epoch {epoch} - Training Loss: {current_loss:.4f}\"\n",
    "    messages = [message]\n",
    "    \n",
    "    return {\n",
    "        \"stage\": stage, \n",
    "        \"messages\": messages,\n",
    "        \"current_loss\": current_loss,\n",
    "        \"epoch\": epoch + 1  # Increment epoch counter\n",
    "    }\n",
    "\n",
    "def validate_model(state: State):\n",
    "    stage = \"📈 Validation\"\n",
    "    current_loss = state.current_loss\n",
    "    continue_training = state.continue_training\n",
    "    \n",
    "    messages = []\n",
    "    \n",
    "    if not continue_training:\n",
    "        message = f\"{stage}: Validation Loss: {current_loss:.4f}\"\n",
    "        messages.append(message)\n",
    "    else:\n",
    "        if state.epoch >= 10:\n",
    "            messages.append(\"🔚 Maximum epochs (10) reached\")\n",
    "            messages.append(\"Setting continue_training to False\")\n",
    "            continue_training = False\n",
    "    \n",
    "    messages.append(\"----------------------------------------------------\")\n",
    "    \n",
    "    return {\n",
    "        \"stage\": stage, \n",
    "        \"messages\": messages,\n",
    "        \"continue_training\": continue_training,\n",
    "        \"current_loss\": current_loss\n",
    "    }"
   ]
  },
  {
   "cell_type": "code",
   "execution_count": 48,
   "metadata": {},
   "outputs": [
    {
     "data": {
      "image/jpeg": "[encoded data removed]",
      "text/plain": [
       "<IPython.core.display.Image object>"
      ]
     },
     "metadata": {},
     "output_type": "display_data"
    }
   ],
   "source": [
    "# Create the workflow\n",
    "workflow = StateGraph(State)\n",
    "\n",
    "# Add nodes\n",
    "workflow.add_node(\"prepare_data\", prepare_data)\n",
    "workflow.add_node(\"train\", train_model)\n",
    "workflow.add_node(\"validate\", validate_model)\n",
    "\n",
    "# Add basic flow from START to prepare_data\n",
    "workflow.add_edge(START, \"prepare_data\")\n",
    "\n",
    "# Add conditional check after data preparation\n",
    "def should_start_training(state: State):\n",
    "    if not state.continue_training:\n",
    "        return \"validate\"\n",
    "    return \"train\"\n",
    "\n",
    "workflow.add_conditional_edges(\n",
    "    source=\"prepare_data\",\n",
    "    path=should_start_training,\n",
    "    path_map=[\"train\", \"validate\"]\n",
    ")\n",
    "\n",
    "# Add edges from train to validate\n",
    "workflow.add_edge(\"train\", \"validate\")\n",
    "\n",
    "# Add conditional check after validation\n",
    "def should_continue_training(state: State):\n",
    "    if not state.continue_training:  # Check the continue_training flag\n",
    "        return END\n",
    "    return \"train\"\n",
    "\n",
    "workflow.add_conditional_edges(\n",
    "    source=\"validate\",\n",
    "    path=should_continue_training,\n",
    "    path_map=[\"train\", END]\n",
    ")\n",
    "\n",
    "# Compile the graph\n",
    "graph = workflow.compile()\n",
    "\n",
    "# Display the workflow graph\n",
    "display(\n",
    "    Image(\n",
    "        graph.get_graph().draw_mermaid_png()\n",
    "    )\n",
    ")"
   ]
  },
  {
   "cell_type": "code",
   "execution_count": 49,
   "metadata": {},
   "outputs": [
    {
     "name": "stdout",
     "output_type": "stream",
     "text": [
      "🤖 ------------ ML TRAINING CONTROLLER ------------🤖\n",
      "\n",
      "Case 1: Normal Training Run\n",
      "📊 Data: Preparing training and validation splits...\n",
      "🎯 Training: Epoch 1 - Training Loss: 0.5795\n",
      "----------------------------------------------------\n",
      "🎯 Training: Epoch 3 - Training Loss: 0.2915\n",
      "----------------------------------------------------\n",
      "🎯 Training: Epoch 7 - Training Loss: 0.1339\n",
      "🔚 Maximum epochs (10) reached\n",
      "Setting continue_training to False\n",
      "----------------------------------------------------\n",
      "\n",
      "Case 2: Training Disabled\n",
      "📊 Data: Preparing training and validation splits...\n",
      "📈 Validation: Validation Loss: inf\n",
      "----------------------------------------------------\n"
     ]
    }
   ],
   "source": [
    "# Example usage with different initial conditions\n",
    "print(\"🤖 ------------ ML TRAINING CONTROLLER ------------🤖\")\n",
    "print(\"\\nCase 1: Normal Training Run\")\n",
    "result = graph.invoke({\"continue_training\": True})\n",
    "for message in result['messages']:\n",
    "    print(message)\n",
    "\n",
    "print(\"\\nCase 2: Training Disabled\")\n",
    "result = graph.invoke({\"continue_training\": False})\n",
    "for message in result['messages']:\n",
    "    print(message)"
   ]
  },
  {
   "cell_type": "code",
   "execution_count": null,
   "metadata": {},
   "outputs": [],
   "source": []
  }
 ],
 "metadata": {
  "kernelspec": {
   "display_name": "agent",
   "language": "python",
   "name": "python3"
  },
  "language_info": {
   "codemirror_mode": {
    "name": "ipython",
    "version": 3
   },
   "file_extension": ".py",
   "mimetype": "text/x-python",
   "name": "python",
   "nbconvert_exporter": "python",
   "pygments_lexer": "ipython3",
   "version": "3.10.17"
  }
 },
 "nbformat": 4,
 "nbformat_minor": 2
}
