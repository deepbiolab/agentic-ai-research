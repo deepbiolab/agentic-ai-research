{
 "cells": [
  {
   "cell_type": "markdown",
   "metadata": {},
   "source": [
    "### Using Multiple State Schemas in LangGraph\n",
    "\n",
    "#### Overview\n",
    "\n",
    "This demo demonstrates how to use **multiple state schemas** within a LangGraph workflow. This approach allows separating \"visible\" state from \"hidden\" internal state, and supports modular processing pipelines with distinct input, process, and output stages."
   ]
  },
  {
   "cell_type": "code",
   "execution_count": 10,
   "metadata": {},
   "outputs": [],
   "source": [
    "from typing import TypedDict\n",
    "from langgraph.graph import StateGraph, START, END\n",
    "from IPython.display import Image, display"
   ]
  },
  {
   "cell_type": "markdown",
   "metadata": {},
   "source": [
    "#### **First Approach: Hidden Layer State**\n"
   ]
  },
  {
   "cell_type": "code",
   "execution_count": 11,
   "metadata": {},
   "outputs": [],
   "source": [
    "class ProcessState(TypedDict):\n",
    "    input: str\n",
    "    output: str"
   ]
  },
  {
   "cell_type": "code",
   "execution_count": 12,
   "metadata": {},
   "outputs": [],
   "source": [
    "class HiddenState(TypedDict):\n",
    "    thought: str"
   ]
  },
  {
   "cell_type": "code",
   "execution_count": 13,
   "metadata": {},
   "outputs": [],
   "source": [
    "def node_a(state: ProcessState) -> HiddenState:\n",
    "    input_value = state[\"input\"]\n",
    "    print(f\"NODE A:\\n \"\n",
    "        f\"->input:{input_value}\\n \" \n",
    "    )\n",
    "    return {\"thought\": f\"I don't know what to do with with this message\"}\n",
    "\n",
    "def node_b(state: HiddenState) -> ProcessState:\n",
    "    hidden_thought = state[\"thought\"]\n",
    "    print(f\"NODE B:\\n \"\n",
    "        f\"->hidden_thought:{hidden_thought}\\n \" \n",
    "    )\n",
    "    return {\"output\": \"Thank you for your message! We're processing it and get back to you soon!\"}"
   ]
  },
  {
   "cell_type": "code",
   "execution_count": 14,
   "metadata": {},
   "outputs": [
    {
     "data": {
      "image/jpeg": "[encoded data removed]",
      "text/plain": [
       "<IPython.core.display.Image object>"
      ]
     },
     "metadata": {},
     "output_type": "display_data"
    }
   ],
   "source": [
    "workflow = StateGraph(ProcessState)\n",
    "workflow.add_node(node_a)\n",
    "workflow.add_node(node_b)\n",
    "workflow.add_edge(START, \"node_a\")\n",
    "workflow.add_edge(\"node_a\", \"node_b\")\n",
    "workflow.add_edge(\"node_b\", END)\n",
    "graph = workflow.compile()\n",
    "display(\n",
    "    Image(\n",
    "        graph.get_graph().draw_mermaid_png()\n",
    "    )\n",
    ")"
   ]
  },
  {
   "cell_type": "code",
   "execution_count": 15,
   "metadata": {},
   "outputs": [
    {
     "name": "stdout",
     "output_type": "stream",
     "text": [
      "NODE A:\n",
      " ->input:The product doesn't work. I want my money back!\n",
      " \n",
      "NODE B:\n",
      " ->hidden_thought:I don't know what to do with with this message\n",
      " \n"
     ]
    },
    {
     "data": {
      "text/plain": [
       "{'input': \"The product doesn't work. I want my money back!\",\n",
       " 'output': \"Thank you for your message! We're processing it and get back to you soon!\"}"
      ]
     },
     "execution_count": 15,
     "metadata": {},
     "output_type": "execute_result"
    }
   ],
   "source": [
    "graph.invoke({\"input\" : \"The product doesn't work. I want my money back!\"})"
   ]
  },
  {
   "cell_type": "markdown",
   "metadata": {},
   "source": [
    "#### **Second Approach: Input-Process-Output State Separation**"
   ]
  },
  {
   "cell_type": "code",
   "execution_count": 16,
   "metadata": {},
   "outputs": [],
   "source": [
    "class InputState(TypedDict):\n",
    "    input: str\n",
    "\n",
    "class OutputState(TypedDict):\n",
    "    output: str\n",
    "\n",
    "class ProcessState(TypedDict):\n",
    "    input: str\n",
    "    thought: str\n",
    "    output: str"
   ]
  },
  {
   "cell_type": "code",
   "execution_count": 17,
   "metadata": {},
   "outputs": [],
   "source": [
    "def l1_agent(state: InputState):\n",
    "    input_value = state[\"input\"]\n",
    "    print(f\"NODE A:\\n \"\n",
    "        f\"->input:{input_value}\\n \" \n",
    "    )\n",
    "    return {\n",
    "        \"output\": \"Thank you for your message!\",\n",
    "        \"thought\": \"An L2 Agent should take care of this\"\n",
    "    }\n",
    "\n",
    "def l2_agent(state: ProcessState) -> OutputState:\n",
    "    l1_output = state[\"output\"]\n",
    "    hidden_thought = state[\"thought\"]\n",
    "    print(f\"NODE B:\\n \"\n",
    "        f\"->l1_output:{l1_output}\\n \"\n",
    "        f\"->hidden_thought:{hidden_thought}\\n \" \n",
    "    )\n",
    "    return {\n",
    "        \"output\": f\"{l1_output} We're processing it and get back to you soon!\"\n",
    "    }"
   ]
  },
  {
   "cell_type": "code",
   "execution_count": 19,
   "metadata": {},
   "outputs": [],
   "source": [
    "# workflow = StateGraph(ProcessState)\n",
    "workflow = StateGraph(ProcessState, input=InputState, output=OutputState)\n",
    "workflow.add_node(l1_agent)\n",
    "workflow.add_node(l2_agent)\n",
    "workflow.add_edge(START, \"l1_agent\")\n",
    "workflow.add_edge(\"l1_agent\", \"l2_agent\")\n",
    "workflow.add_edge(\"l2_agent\", END)\n",
    "graph = workflow.compile()"
   ]
  },
  {
   "cell_type": "code",
   "execution_count": 20,
   "metadata": {},
   "outputs": [
    {
     "name": "stdout",
     "output_type": "stream",
     "text": [
      "NODE A:\n",
      " ->input:The product doesn't work. I want my money back!\n",
      " \n",
      "NODE B:\n",
      " ->l1_output:Thank you for your message!\n",
      " ->hidden_thought:An L2 Agent should take care of this\n",
      " \n"
     ]
    },
    {
     "data": {
      "text/plain": [
       "{'output': \"Thank you for your message! We're processing it and get back to you soon!\"}"
      ]
     },
     "execution_count": 20,
     "metadata": {},
     "output_type": "execute_result"
    }
   ],
   "source": [
    "graph.invoke({\"input\" : \"The product doesn't work. I want my money back!\"})"
   ]
  },
  {
   "cell_type": "markdown",
   "metadata": {},
   "source": [
    "#### **Conclusion**\n",
    "\n",
    "- LangGraph’s support for multiple state schemas enables building structured, multi-phase workflows.\n",
    "- Using hidden or separated states improves system safety, transparency, and modularity.\n",
    "- This pattern is particularly useful for agent design where reasoning must be separated from final user communication."
   ]
  },
  {
   "cell_type": "code",
   "execution_count": null,
   "metadata": {},
   "outputs": [],
   "source": []
  }
 ],
 "metadata": {
  "kernelspec": {
   "display_name": "agent",
   "language": "python",
   "name": "python3"
  },
  "language_info": {
   "codemirror_mode": {
    "name": "ipython",
    "version": 3
   },
   "file_extension": ".py",
   "mimetype": "text/x-python",
   "name": "python",
   "nbconvert_exporter": "python",
   "pygments_lexer": "ipython3",
   "version": "3.10.17"
  }
 },
 "nbformat": 4,
 "nbformat_minor": 2
}
