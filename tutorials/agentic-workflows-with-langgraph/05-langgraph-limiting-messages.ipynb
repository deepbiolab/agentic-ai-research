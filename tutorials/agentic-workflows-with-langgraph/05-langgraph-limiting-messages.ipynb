{
 "cells": [
  {
   "cell_type": "markdown",
   "metadata": {},
   "source": [
    "## Techniques for Limiting Messages to Save Tokens\n",
    "\n",
    "Reducing message history is important for saving tokens and optimizing performance in agentic applications that use LLMs over multi-turn conversations."
   ]
  },
  {
   "cell_type": "code",
   "execution_count": 21,
   "metadata": {},
   "outputs": [
    {
     "data": {
      "text/plain": [
       "True"
      ]
     },
     "execution_count": 21,
     "metadata": {},
     "output_type": "execute_result"
    }
   ],
   "source": [
    "from typing import List, Annotated\n",
    "from langgraph.graph import StateGraph, MessagesState, add_messages, START, END\n",
    "from langchain_core.messages import (\n",
    "    HumanMessage, \n",
    "    AIMessage, \n",
    "    SystemMessage,\n",
    "    AnyMessage,\n",
    "    RemoveMessage,\n",
    "    trim_messages\n",
    ")\n",
    "from langchain_openai import ChatOpenAI\n",
    "\n",
    "from dotenv import load_dotenv\n",
    "load_dotenv()"
   ]
  },
  {
   "cell_type": "markdown",
   "metadata": {},
   "source": [
    "#### **Initial Setup**\n",
    "\n",
    "- A single-node workflow is created with:\n",
    "\n",
    "    - A system message (\"You are a FinTech specialist\").\n",
    "    - Few-shot examples of human and AI messages (e.g., \"What is Pokémon?\" → refusal to answer).\n"
   ]
  },
  {
   "cell_type": "code",
   "execution_count": 22,
   "metadata": {},
   "outputs": [],
   "source": [
    "llm = ChatOpenAI(\n",
    "    model=\"gpt-4o-mini\",\n",
    "    temperature=0.0,\n",
    ")"
   ]
  },
  {
   "cell_type": "code",
   "execution_count": 23,
   "metadata": {},
   "outputs": [],
   "source": [
    "def llm_node(state: MessagesState):\n",
    "    return {\"messages\": llm.invoke(state[\"messages\"])}"
   ]
  },
  {
   "cell_type": "code",
   "execution_count": 24,
   "metadata": {},
   "outputs": [],
   "source": [
    "workflow = StateGraph(MessagesState)\n",
    "\n",
    "workflow.add_node(\"llm_node\", llm_node)\n",
    "\n",
    "workflow.add_edge(START, \"llm_node\")\n",
    "workflow.add_edge(\"llm_node\", END)\n",
    "\n",
    "graph = workflow.compile()\n",
    "\n"
   ]
  },
  {
   "cell_type": "markdown",
   "metadata": {},
   "source": [
    "**Useful Messages List**\n",
    "\n",
    "Each message is assigned a unique **ID** for easier filtering later."
   ]
  },
  {
   "cell_type": "code",
   "execution_count": 25,
   "metadata": {},
   "outputs": [],
   "source": [
    "messages = [\n",
    "    SystemMessage(\n",
    "        content=\"You're a FinTech specialist. You're not allowed to talk about anything else. Be concise in your answers.\",\n",
    "        name=\"System\",\n",
    "        id=\"0\",\n",
    "    ),\n",
    "    HumanMessage(\n",
    "        content=\"What is Pokemon?\",\n",
    "        name=\"User\",\n",
    "        id=\"1\"\n",
    "    ),\n",
    "    AIMessage(\n",
    "        content=\"I'm here to provide information specifically about FinTech. If you have \" \n",
    "                \"any questions related to financial technology, such as digital payments, \" \n",
    "                \"blockchain, cryptocurrencies, or financial services innovations, feel free \" \n",
    "                \"to ask!\",\n",
    "        name=\"FintechAssistant\",\n",
    "        id=\"2\",\n",
    "    ),\n",
    "    HumanMessage(\n",
    "        content=\"What is BlockChain?\",\n",
    "        name=\"User\",\n",
    "        id=\"3\"\n",
    "    ),\n",
    "    AIMessage(\n",
    "        content=\"Blockchain is a decentralized digital ledger technology that records\" \n",
    "                \"transactions across multiple computers in a way that ensures the security, \" \n",
    "                \"transparency, and integrity of the data. Each transaction is grouped into \" \n",
    "                \"a block, and these blocks are linked together in chronological order to form \" \n",
    "                \"a chain, hence the name blockchain.\",\n",
    "        name=\"FintechAssistant\",\n",
    "        id=\"4\",\n",
    "    ),\n",
    "    HumanMessage(\n",
    "        content=\"What is a credit card fraud?\",\n",
    "        name=\"User\",\n",
    "        id=\"5\"\n",
    "    ),\n",
    "]"
   ]
  },
  {
   "cell_type": "markdown",
   "metadata": {},
   "source": [
    "#### **Token Usage Without Trimming**\n",
    "\n",
    "When invoking with the full message history:\n",
    "- Prompt tokens and completion tokens are relatively high"
   ]
  },
  {
   "cell_type": "code",
   "execution_count": 26,
   "metadata": {},
   "outputs": [],
   "source": [
    "complete_output = graph.invoke({\"messages\": messages})"
   ]
  },
  {
   "cell_type": "code",
   "execution_count": 27,
   "metadata": {},
   "outputs": [
    {
     "name": "stdout",
     "output_type": "stream",
     "text": [
      "==================================\u001b[1m Ai Message \u001b[0m==================================\n",
      "\n",
      "Credit card fraud is a type of financial fraud that involves the unauthorized use of someone else's credit card information to make purchases or access funds. This can occur through various methods, such as phishing, data breaches, or card skimming. It results in financial loss for the cardholder and can lead to identity theft.\n"
     ]
    }
   ],
   "source": [
    "complete_output[\"messages\"][-1].pretty_print()"
   ]
  },
  {
   "cell_type": "code",
   "execution_count": 28,
   "metadata": {},
   "outputs": [
    {
     "data": {
      "text/plain": [
       "{'completion_tokens': 63,\n",
       " 'prompt_tokens': 176,\n",
       " 'total_tokens': 239,\n",
       " 'completion_tokens_details': {'accepted_prediction_tokens': 0,\n",
       "  'audio_tokens': 0,\n",
       "  'reasoning_tokens': 0,\n",
       "  'rejected_prediction_tokens': 0},\n",
       " 'prompt_tokens_details': {'audio_tokens': 0, 'cached_tokens': 0}}"
      ]
     },
     "execution_count": 28,
     "metadata": {},
     "output_type": "execute_result"
    }
   ],
   "source": [
    "complete_output[\"messages\"][-1].response_metadata[\"token_usage\"]"
   ]
  },
  {
   "cell_type": "markdown",
   "metadata": {},
   "source": [
    "#### **Simple Manual Filtering**\n",
    "\n",
    "- Manually invoking the LLM with only a **subset** of the messages (e.g., first and last message)."
   ]
  },
  {
   "cell_type": "code",
   "execution_count": 29,
   "metadata": {},
   "outputs": [],
   "source": [
    "filtered_output = graph.invoke({\"messages\": [messages[0], messages[-1]]})"
   ]
  },
  {
   "cell_type": "code",
   "execution_count": 30,
   "metadata": {},
   "outputs": [
    {
     "name": "stdout",
     "output_type": "stream",
     "text": [
      "==================================\u001b[1m Ai Message \u001b[0m==================================\n",
      "\n",
      "Credit card fraud is the unauthorized use of a credit card or credit card information to make purchases or access funds. This can occur through various methods, such as card theft, phishing, or data breaches, leading to financial loss for the cardholder and the issuing bank.\n"
     ]
    }
   ],
   "source": [
    "filtered_output[\"messages\"][-1].pretty_print()"
   ]
  },
  {
   "cell_type": "code",
   "execution_count": 31,
   "metadata": {},
   "outputs": [
    {
     "data": {
      "text/plain": [
       "{'completion_tokens': 54,\n",
       " 'prompt_tokens': 42,\n",
       " 'total_tokens': 96,\n",
       " 'completion_tokens_details': {'accepted_prediction_tokens': 0,\n",
       "  'audio_tokens': 0,\n",
       "  'reasoning_tokens': 0,\n",
       "  'rejected_prediction_tokens': 0},\n",
       " 'prompt_tokens_details': {'audio_tokens': 0, 'cached_tokens': 0}}"
      ]
     },
     "execution_count": 31,
     "metadata": {},
     "output_type": "execute_result"
    }
   ],
   "source": [
    "filtered_output[\"messages\"][-1].response_metadata[\"token_usage\"]"
   ]
  },
  {
   "cell_type": "markdown",
   "metadata": {},
   "source": [
    "#### **Filtering Inside the Node**\n",
    "\n",
    "- A custom state is created by extending `MessageState` , including:\n",
    "\n",
    "    - `messages`\n",
    "    - `filtered_messages`\n",
    "\n",
    "- Inside the node, **only the last three messages** are passed to the LLM."
   ]
  },
  {
   "cell_type": "code",
   "execution_count": 32,
   "metadata": {},
   "outputs": [],
   "source": [
    "class State(MessagesState):\n",
    "    filtered_messages: Annotated[List[AnyMessage], add_messages]"
   ]
  },
  {
   "cell_type": "code",
   "execution_count": 33,
   "metadata": {},
   "outputs": [],
   "source": [
    "def llm_node(state: State):\n",
    "    filtered_messages = state[\"messages\"][-3:]\n",
    "    ai_message = llm.invoke(filtered_messages)\n",
    "    filtered_messages.append(ai_message)\n",
    "    return {\"messages\": ai_message, \"filtered_messages\": filtered_messages}"
   ]
  },
  {
   "cell_type": "code",
   "execution_count": 35,
   "metadata": {},
   "outputs": [],
   "source": [
    "workflow = StateGraph(State)\n",
    "workflow.add_node(\"llm_node\", llm_node)\n",
    "workflow.add_edge(START, \"llm_node\")\n",
    "workflow.add_edge(\"llm_node\", END)\n",
    "graph = workflow.compile()"
   ]
  },
  {
   "cell_type": "code",
   "execution_count": 36,
   "metadata": {},
   "outputs": [
    {
     "name": "stdout",
     "output_type": "stream",
     "text": [
      "================================\u001b[1m System Message \u001b[0m================================\n",
      "Name: System\n",
      "\n",
      "You're a FinTech specialist. You're not allowed to talk about anything else. Be concise in your answers.\n",
      "================================\u001b[1m Human Message \u001b[0m=================================\n",
      "Name: User\n",
      "\n",
      "What is Pokemon?\n",
      "==================================\u001b[1m Ai Message \u001b[0m==================================\n",
      "Name: FintechAssistant\n",
      "\n",
      "I'm here to provide information specifically about FinTech. If you have any questions related to financial technology, such as digital payments, blockchain, cryptocurrencies, or financial services innovations, feel free to ask!\n",
      "================================\u001b[1m Human Message \u001b[0m=================================\n",
      "Name: User\n",
      "\n",
      "What is BlockChain?\n",
      "==================================\u001b[1m Ai Message \u001b[0m==================================\n",
      "Name: FintechAssistant\n",
      "\n",
      "Blockchain is a decentralized digital ledger technology that recordstransactions across multiple computers in a way that ensures the security, transparency, and integrity of the data. Each transaction is grouped into a block, and these blocks are linked together in chronological order to form a chain, hence the name blockchain.\n",
      "================================\u001b[1m Human Message \u001b[0m=================================\n",
      "Name: User\n",
      "\n",
      "What is a credit card fraud?\n"
     ]
    }
   ],
   "source": [
    "for m in messages:\n",
    "    m.pretty_print()"
   ]
  },
  {
   "cell_type": "code",
   "execution_count": 37,
   "metadata": {},
   "outputs": [
    {
     "name": "stdout",
     "output_type": "stream",
     "text": [
      "================================\u001b[1m Human Message \u001b[0m=================================\n",
      "Name: User\n",
      "\n",
      "What is BlockChain?\n",
      "==================================\u001b[1m Ai Message \u001b[0m==================================\n",
      "Name: FintechAssistant\n",
      "\n",
      "Blockchain is a decentralized digital ledger technology that recordstransactions across multiple computers in a way that ensures the security, transparency, and integrity of the data. Each transaction is grouped into a block, and these blocks are linked together in chronological order to form a chain, hence the name blockchain.\n",
      "================================\u001b[1m Human Message \u001b[0m=================================\n",
      "Name: User\n",
      "\n",
      "What is a credit card fraud?\n",
      "==================================\u001b[1m Ai Message \u001b[0m==================================\n",
      "\n",
      "Credit card fraud is a type of financial fraud that involves the unauthorized use of someone else's credit card information to make purchases or access funds. This can occur in various ways, including:\n",
      "\n",
      "1. **Card Not Present Fraud**: This happens when the fraudster uses stolen credit card information to make online or phone purchases without having the physical card.\n",
      "\n",
      "2. **Card Present Fraud**: This occurs when a thief physically steals a credit card and uses it to make purchases in stores.\n",
      "\n",
      "3. **Account Takeover**: In this scenario, a fraudster gains access to a victim's credit card account, often through phishing or hacking, and makes unauthorized transactions.\n",
      "\n",
      "4. **Skimming**: This involves the use of a small device (skimmer) that captures the information from the magnetic stripe of a credit card when it is swiped at a point of sale.\n",
      "\n",
      "5. **Application Fraud**: This occurs when someone uses stolen personal information to apply for a credit card in someone else's name.\n",
      "\n",
      "Credit card fraud can lead to significant financial losses for both consumers and financial institutions, and it often requires prompt reporting and investigation to resolve.\n"
     ]
    }
   ],
   "source": [
    "output = graph.invoke({'messages': messages})\n",
    "for m in output['filtered_messages']:\n",
    "    m.pretty_print()"
   ]
  },
  {
   "cell_type": "markdown",
   "metadata": {},
   "source": [
    "#### **Using Remove Messages Strategy**\n",
    "\n",
    "- The **remove_message** reducer from LangGraph is used to **delete** unwanted messages based on IDs.\n",
    "- A deletion list is created to filter out irrelevant few-shot examples while preserving essential context."
   ]
  },
  {
   "cell_type": "code",
   "execution_count": 38,
   "metadata": {},
   "outputs": [
    {
     "data": {
      "text/plain": [
       "[SystemMessage(content=\"You're a FinTech specialist. You're not allowed to talk about anything else. Be concise in your answers.\", name='System', id='0'),\n",
       " HumanMessage(content='What is Pokemon?', name='User', id='1'),\n",
       " AIMessage(content=\"I'm here to provide information specifically about FinTech. If you have any questions related to financial technology, such as digital payments, blockchain, cryptocurrencies, or financial services innovations, feel free to ask!\", name='FintechAssistant', id='2')]"
      ]
     },
     "execution_count": 38,
     "metadata": {},
     "output_type": "execute_result"
    }
   ],
   "source": [
    "messages[:-3]"
   ]
  },
  {
   "cell_type": "code",
   "execution_count": 39,
   "metadata": {},
   "outputs": [
    {
     "name": "stderr",
     "output_type": "stream",
     "text": [
      "/var/folders/f3/_6ts5bqd5s30t0mq76kjkdxc0000gn/T/ipykernel_18094/838439161.py:1: LangChainBetaWarning: The class `RemoveMessage` is in beta. It is actively being worked on, so the API may change.\n",
      "  delete_messages = [RemoveMessage(id=m.id) for m in messages[:-3]]\n"
     ]
    },
    {
     "data": {
      "text/plain": [
       "[HumanMessage(content='What is BlockChain?', name='User', id='3'),\n",
       " AIMessage(content='Blockchain is a decentralized digital ledger technology that recordstransactions across multiple computers in a way that ensures the security, transparency, and integrity of the data. Each transaction is grouped into a block, and these blocks are linked together in chronological order to form a chain, hence the name blockchain.', name='FintechAssistant', id='4'),\n",
       " HumanMessage(content='What is a credit card fraud?', name='User', id='5')]"
      ]
     },
     "execution_count": 39,
     "metadata": {},
     "output_type": "execute_result"
    }
   ],
   "source": [
    "delete_messages = [RemoveMessage(id=m.id) for m in messages[:-3]]\n",
    "add_messages(messages, delete_messages)"
   ]
  },
  {
   "cell_type": "code",
   "execution_count": 40,
   "metadata": {},
   "outputs": [],
   "source": [
    "class State(MessagesState):\n",
    "    filtered_messages: Annotated[List[AnyMessage], add_messages]"
   ]
  },
  {
   "cell_type": "code",
   "execution_count": 41,
   "metadata": {},
   "outputs": [],
   "source": [
    "def removal_filter(state: State):\n",
    "    filtered_messages = [\n",
    "        RemoveMessage(id=m.id) \n",
    "            for m in state[\"messages\"][:-3] \n",
    "            if m.name != \"System\"\n",
    "    ]\n",
    "    return {\n",
    "        \"filtered_messages\": add_messages(\n",
    "            state[\"messages\"], \n",
    "            filtered_messages\n",
    "        )\n",
    "    }"
   ]
  },
  {
   "cell_type": "code",
   "execution_count": 42,
   "metadata": {},
   "outputs": [],
   "source": [
    "def llm_node(state: State):\n",
    "    ai_message = llm.invoke(state[\"filtered_messages\"])\n",
    "    return {\n",
    "        \"filtered_messages\": ai_message,\n",
    "    }"
   ]
  },
  {
   "cell_type": "code",
   "execution_count": 43,
   "metadata": {},
   "outputs": [],
   "source": [
    "workflow = StateGraph(State)\n",
    "workflow.add_node(\"llm_node\", llm_node)\n",
    "workflow.add_node(\"removal_filter\", removal_filter)\n",
    "workflow.add_edge(START, \"removal_filter\")\n",
    "workflow.add_edge(\"removal_filter\", \"llm_node\")\n",
    "workflow.add_edge(\"llm_node\", END)\n",
    "\n",
    "graph = workflow.compile()\n"
   ]
  },
  {
   "cell_type": "code",
   "execution_count": 44,
   "metadata": {},
   "outputs": [
    {
     "name": "stdout",
     "output_type": "stream",
     "text": [
      "================================\u001b[1m System Message \u001b[0m================================\n",
      "Name: System\n",
      "\n",
      "You're a FinTech specialist. You're not allowed to talk about anything else. Be concise in your answers.\n",
      "================================\u001b[1m Human Message \u001b[0m=================================\n",
      "Name: User\n",
      "\n",
      "What is Pokemon?\n",
      "==================================\u001b[1m Ai Message \u001b[0m==================================\n",
      "Name: FintechAssistant\n",
      "\n",
      "I'm here to provide information specifically about FinTech. If you have any questions related to financial technology, such as digital payments, blockchain, cryptocurrencies, or financial services innovations, feel free to ask!\n",
      "================================\u001b[1m Human Message \u001b[0m=================================\n",
      "Name: User\n",
      "\n",
      "What is BlockChain?\n",
      "==================================\u001b[1m Ai Message \u001b[0m==================================\n",
      "Name: FintechAssistant\n",
      "\n",
      "Blockchain is a decentralized digital ledger technology that recordstransactions across multiple computers in a way that ensures the security, transparency, and integrity of the data. Each transaction is grouped into a block, and these blocks are linked together in chronological order to form a chain, hence the name blockchain.\n",
      "================================\u001b[1m Human Message \u001b[0m=================================\n",
      "Name: User\n",
      "\n",
      "What is a credit card fraud?\n"
     ]
    }
   ],
   "source": [
    "for m in messages:\n",
    "    m.pretty_print()"
   ]
  },
  {
   "cell_type": "code",
   "execution_count": 45,
   "metadata": {},
   "outputs": [
    {
     "name": "stdout",
     "output_type": "stream",
     "text": [
      "================================\u001b[1m System Message \u001b[0m================================\n",
      "Name: System\n",
      "\n",
      "You're a FinTech specialist. You're not allowed to talk about anything else. Be concise in your answers.\n",
      "================================\u001b[1m Human Message \u001b[0m=================================\n",
      "Name: User\n",
      "\n",
      "What is BlockChain?\n",
      "==================================\u001b[1m Ai Message \u001b[0m==================================\n",
      "Name: FintechAssistant\n",
      "\n",
      "Blockchain is a decentralized digital ledger technology that recordstransactions across multiple computers in a way that ensures the security, transparency, and integrity of the data. Each transaction is grouped into a block, and these blocks are linked together in chronological order to form a chain, hence the name blockchain.\n",
      "================================\u001b[1m Human Message \u001b[0m=================================\n",
      "Name: User\n",
      "\n",
      "What is a credit card fraud?\n",
      "==================================\u001b[1m Ai Message \u001b[0m==================================\n",
      "\n",
      "Credit card fraud is a type of financial crime that involves the unauthorized use of someone else's credit card information to make purchases or access funds. This can occur through various methods, such as phishing, skimming, or data breaches, leading to financial loss for the cardholder and the issuing bank.\n"
     ]
    }
   ],
   "source": [
    "output = graph.invoke({'messages': messages})\n",
    "for m in output['filtered_messages']:\n",
    "    m.pretty_print()"
   ]
  },
  {
   "cell_type": "markdown",
   "metadata": {},
   "source": [
    "#### **Using Trim Messages for Token Limits**\n",
    "\n",
    "- Trim strategy is introduced to limit messages by token budget:\n",
    "\n",
    "    - Keeps only the latest messages that fit within a specified token limit.\n",
    "\n",
    "- The `trim_messages()` method is used with different max token thresholds."
   ]
  },
  {
   "cell_type": "code",
   "execution_count": 46,
   "metadata": {},
   "outputs": [
    {
     "data": {
      "text/plain": [
       "[SystemMessage(content=\"You're a FinTech specialist. You're not allowed to talk about anything else. Be concise in your answers.\", name='System', id='0')]"
      ]
     },
     "execution_count": 46,
     "metadata": {},
     "output_type": "execute_result"
    }
   ],
   "source": [
    "trim_messages(\n",
    "    messages,\n",
    "    max_tokens=30,\n",
    "    strategy=\"last\",\n",
    "    token_counter=llm,\n",
    "    allow_partial=False,\n",
    "    include_system=True\n",
    ")"
   ]
  },
  {
   "cell_type": "code",
   "execution_count": 47,
   "metadata": {},
   "outputs": [],
   "source": [
    "class State(MessagesState):\n",
    "    max_tokens: int\n",
    "    filtered_messages: Annotated[List[AnyMessage], add_messages]"
   ]
  },
  {
   "cell_type": "code",
   "execution_count": 50,
   "metadata": {},
   "outputs": [],
   "source": [
    "def trim_filter(state: State):\n",
    "    max_tokens = state[\"max_tokens\"]\n",
    "    messages = state[\"messages\"]\n",
    "    filtered_messages = messages\n",
    "    if max_tokens:\n",
    "        filtered_messages = trim_messages(\n",
    "            messages=messages,\n",
    "            max_tokens=max_tokens,\n",
    "            strategy=\"last\",\n",
    "            token_counter=llm,\n",
    "            include_system=True,\n",
    "            allow_partial=False\n",
    "        )\n",
    "    return {\"filtered_messages\": filtered_messages}"
   ]
  },
  {
   "cell_type": "code",
   "execution_count": 51,
   "metadata": {},
   "outputs": [],
   "source": [
    "def llm_node(state: State):\n",
    "    return {\"filtered_messages\": llm.invoke(state[\"filtered_messages\"])}"
   ]
  },
  {
   "cell_type": "code",
   "execution_count": 52,
   "metadata": {},
   "outputs": [],
   "source": [
    "workflow = StateGraph(State)\n",
    "workflow.add_node(\"llm_node\", llm_node)\n",
    "workflow.add_node(\"trim_filter\", trim_filter)\n",
    "workflow.add_edge(START, \"trim_filter\")\n",
    "workflow.add_edge(\"trim_filter\", \"llm_node\")\n",
    "workflow.add_edge(\"llm_node\", END)\n",
    "\n",
    "graph = workflow.compile()"
   ]
  },
  {
   "cell_type": "code",
   "execution_count": 53,
   "metadata": {},
   "outputs": [
    {
     "name": "stdout",
     "output_type": "stream",
     "text": [
      "================================\u001b[1m System Message \u001b[0m================================\n",
      "Name: System\n",
      "\n",
      "You're a FinTech specialist. You're not allowed to talk about anything else. Be concise in your answers.\n",
      "================================\u001b[1m Human Message \u001b[0m=================================\n",
      "Name: User\n",
      "\n",
      "What is Pokemon?\n",
      "==================================\u001b[1m Ai Message \u001b[0m==================================\n",
      "Name: FintechAssistant\n",
      "\n",
      "I'm here to provide information specifically about FinTech. If you have any questions related to financial technology, such as digital payments, blockchain, cryptocurrencies, or financial services innovations, feel free to ask!\n",
      "================================\u001b[1m Human Message \u001b[0m=================================\n",
      "Name: User\n",
      "\n",
      "What is BlockChain?\n",
      "==================================\u001b[1m Ai Message \u001b[0m==================================\n",
      "Name: FintechAssistant\n",
      "\n",
      "Blockchain is a decentralized digital ledger technology that recordstransactions across multiple computers in a way that ensures the security, transparency, and integrity of the data. Each transaction is grouped into a block, and these blocks are linked together in chronological order to form a chain, hence the name blockchain.\n",
      "================================\u001b[1m Human Message \u001b[0m=================================\n",
      "Name: User\n",
      "\n",
      "What is a credit card fraud?\n"
     ]
    }
   ],
   "source": [
    "for m in messages:\n",
    "    m.pretty_print()"
   ]
  },
  {
   "cell_type": "code",
   "execution_count": 54,
   "metadata": {},
   "outputs": [],
   "source": [
    "output = graph.invoke(\n",
    "    input={\n",
    "        \"max_tokens\": 50,\n",
    "        \"messages\": messages\n",
    "    }\n",
    ")"
   ]
  },
  {
   "cell_type": "code",
   "execution_count": 55,
   "metadata": {},
   "outputs": [
    {
     "name": "stdout",
     "output_type": "stream",
     "text": [
      "================================\u001b[1m System Message \u001b[0m================================\n",
      "Name: System\n",
      "\n",
      "You're a FinTech specialist. You're not allowed to talk about anything else. Be concise in your answers.\n",
      "================================\u001b[1m Human Message \u001b[0m=================================\n",
      "Name: User\n",
      "\n",
      "What is a credit card fraud?\n",
      "==================================\u001b[1m Ai Message \u001b[0m==================================\n",
      "\n",
      "Credit card fraud is the unauthorized use of a credit card or credit card information to make purchases or access funds. This can occur through various methods, including card theft, phishing, data breaches, or skimming devices. It results in financial loss for the cardholder and can lead to identity theft.\n"
     ]
    }
   ],
   "source": [
    "for m in output['filtered_messages']:\n",
    "    m.pretty_print()"
   ]
  },
  {
   "cell_type": "markdown",
   "metadata": {},
   "source": [
    "#### **Summarization to Compress Messages**\n",
    "\n",
    "- Messages between the initial system message and the latest user query are **summarized**.\n",
    "- Summarization is prompted by inserting a special **HumanMessage**: \"Summarize the above conversation.\"\n",
    "- This produces a concise summary that replaces multiple older turns."
   ]
  },
  {
   "cell_type": "code",
   "execution_count": 56,
   "metadata": {},
   "outputs": [
    {
     "data": {
      "text/plain": [
       "[HumanMessage(content='What is Pokemon?', name='User', id='1'),\n",
       " AIMessage(content=\"I'm here to provide information specifically about FinTech. If you have any questions related to financial technology, such as digital payments, blockchain, cryptocurrencies, or financial services innovations, feel free to ask!\", name='FintechAssistant', id='2'),\n",
       " HumanMessage(content='What is BlockChain?', name='User', id='3'),\n",
       " AIMessage(content='Blockchain is a decentralized digital ledger technology that recordstransactions across multiple computers in a way that ensures the security, transparency, and integrity of the data. Each transaction is grouped into a block, and these blocks are linked together in chronological order to form a chain, hence the name blockchain.', name='FintechAssistant', id='4')]"
      ]
     },
     "execution_count": 56,
     "metadata": {},
     "output_type": "execute_result"
    }
   ],
   "source": [
    "messages[1:-1]"
   ]
  },
  {
   "cell_type": "code",
   "execution_count": 57,
   "metadata": {},
   "outputs": [],
   "source": [
    "messages_to_summarize = messages[1:-1]\n",
    "summary_message = HumanMessage(\n",
    "    content=\"Create a summary of the conversation above:\", \n",
    "    name=\"User\"\n",
    ")\n",
    "ai_message = llm.invoke(\n",
    "    add_messages(\n",
    "        messages_to_summarize,\n",
    "        summary_message\n",
    "    )\n",
    ")"
   ]
  },
  {
   "cell_type": "code",
   "execution_count": 58,
   "metadata": {},
   "outputs": [
    {
     "data": {
      "text/plain": [
       "'The user initially asked about Pokémon, but the assistant redirected the conversation to focus on FinTech topics. The user then inquired about blockchain, to which the assistant provided a brief explanation, describing blockchain as a decentralized digital ledger technology that securely records transactions in a chronological chain of blocks.'"
      ]
     },
     "execution_count": 58,
     "metadata": {},
     "output_type": "execute_result"
    }
   ],
   "source": [
    "ai_message.content"
   ]
  },
  {
   "cell_type": "code",
   "execution_count": 59,
   "metadata": {},
   "outputs": [],
   "source": [
    "ai_message.id = \"1\"\n",
    "messages[-1].id = \"2\""
   ]
  },
  {
   "cell_type": "code",
   "execution_count": 60,
   "metadata": {},
   "outputs": [],
   "source": [
    "remaining_messages = [messages[0]] + [ai_message] + [messages[-1]]"
   ]
  },
  {
   "cell_type": "code",
   "execution_count": 61,
   "metadata": {},
   "outputs": [
    {
     "data": {
      "text/plain": [
       "[SystemMessage(content=\"You're a FinTech specialist. You're not allowed to talk about anything else. Be concise in your answers.\", name='System', id='0'),\n",
       " AIMessage(content='The user initially asked about Pokémon, but the assistant redirected the conversation to focus on FinTech topics. The user then inquired about blockchain, to which the assistant provided a brief explanation, describing blockchain as a decentralized digital ledger technology that securely records transactions in a chronological chain of blocks.', additional_kwargs={'refusal': None}, response_metadata={'token_usage': {'completion_tokens': 57, 'prompt_tokens': 151, 'total_tokens': 208, 'completion_tokens_details': {'accepted_prediction_tokens': 0, 'audio_tokens': 0, 'reasoning_tokens': 0, 'rejected_prediction_tokens': 0}, 'prompt_tokens_details': {'audio_tokens': 0, 'cached_tokens': 0}}, 'model_name': 'gpt-4o-mini-2024-07-18', 'system_fingerprint': 'fp_0392822090', 'finish_reason': 'stop', 'logprobs': None}, id='1', usage_metadata={'input_tokens': 151, 'output_tokens': 57, 'total_tokens': 208}),\n",
       " HumanMessage(content='What is a credit card fraud?', name='User', id='2')]"
      ]
     },
     "execution_count": 61,
     "metadata": {},
     "output_type": "execute_result"
    }
   ],
   "source": [
    "remaining_messages"
   ]
  },
  {
   "cell_type": "code",
   "execution_count": 62,
   "metadata": {},
   "outputs": [],
   "source": [
    "remaining_messages.append(llm.invoke(remaining_messages))"
   ]
  },
  {
   "cell_type": "code",
   "execution_count": 63,
   "metadata": {},
   "outputs": [
    {
     "name": "stdout",
     "output_type": "stream",
     "text": [
      "================================\u001b[1m System Message \u001b[0m================================\n",
      "Name: System\n",
      "\n",
      "You're a FinTech specialist. You're not allowed to talk about anything else. Be concise in your answers.\n",
      "==================================\u001b[1m Ai Message \u001b[0m==================================\n",
      "\n",
      "The user initially asked about Pokémon, but the assistant redirected the conversation to focus on FinTech topics. The user then inquired about blockchain, to which the assistant provided a brief explanation, describing blockchain as a decentralized digital ledger technology that securely records transactions in a chronological chain of blocks.\n",
      "================================\u001b[1m Human Message \u001b[0m=================================\n",
      "Name: User\n",
      "\n",
      "What is a credit card fraud?\n",
      "==================================\u001b[1m Ai Message \u001b[0m==================================\n",
      "\n",
      "Credit card fraud is the unauthorized use of a credit card or credit card information to make purchases or access funds. This can occur through various methods, such as stealing physical cards, phishing for card details, or using malware to capture information. It results in financial loss for the cardholder and can lead to identity theft.\n"
     ]
    }
   ],
   "source": [
    "for m in remaining_messages:\n",
    "    m.pretty_print()"
   ]
  },
  {
   "cell_type": "code",
   "execution_count": 64,
   "metadata": {},
   "outputs": [
    {
     "data": {
      "text/plain": [
       "{'completion_tokens': 64,\n",
       " 'prompt_tokens': 102,\n",
       " 'total_tokens': 166,\n",
       " 'completion_tokens_details': {'accepted_prediction_tokens': 0,\n",
       "  'audio_tokens': 0,\n",
       "  'reasoning_tokens': 0,\n",
       "  'rejected_prediction_tokens': 0},\n",
       " 'prompt_tokens_details': {'audio_tokens': 0, 'cached_tokens': 0}}"
      ]
     },
     "execution_count": 64,
     "metadata": {},
     "output_type": "execute_result"
    }
   ],
   "source": [
    "remaining_messages[-1].response_metadata[\"token_usage\"]"
   ]
  }
 ],
 "metadata": {
  "kernelspec": {
   "display_name": "agent",
   "language": "python",
   "name": "python3"
  },
  "language_info": {
   "codemirror_mode": {
    "name": "ipython",
    "version": 3
   },
   "file_extension": ".py",
   "mimetype": "text/x-python",
   "name": "python",
   "nbconvert_exporter": "python",
   "pygments_lexer": "ipython3",
   "version": "3.10.17"
  }
 },
 "nbformat": 4,
 "nbformat_minor": 2
}
