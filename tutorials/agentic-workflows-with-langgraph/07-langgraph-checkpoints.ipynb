{
 "cells": [
  {
   "cell_type": "markdown",
   "metadata": {},
   "source": [
    "### Threads and Checkpoints in LangGraph\n",
    "\n",
    "#### Overview\n",
    "\n",
    "This demo explains how to use **threads** and **checkpoints** in LangGraph workflows. These features enable **persistent conversation tracking** and **state snapshotting**, which are critical for building multi-turn, stateful workflows and agents."
   ]
  },
  {
   "cell_type": "code",
   "execution_count": 1,
   "metadata": {},
   "outputs": [],
   "source": [
    "from typing import TypedDict, List, Annotated\n",
    "import operator\n",
    "from langgraph.checkpoint.memory import MemorySaver\n",
    "from langgraph.graph import StateGraph, START, END\n",
    "from IPython.display import Image, display"
   ]
  },
  {
   "cell_type": "markdown",
   "metadata": {},
   "source": [
    "#### **Basic Workflow Setup**"
   ]
  },
  {
   "cell_type": "code",
   "execution_count": 2,
   "metadata": {},
   "outputs": [
    {
     "data": {
      "image/jpeg": "[encoded data removed]",
      "text/plain": [
       "<IPython.core.display.Image object>"
      ]
     },
     "metadata": {},
     "output_type": "display_data"
    }
   ],
   "source": [
    "class State(TypedDict):\n",
    "    value: Annotated[List[str], operator.add]\n",
    "\n",
    "def node_a(state: State):\n",
    "    return {\"value\": [\"a\"]}\n",
    "\n",
    "def node_b(state: State):\n",
    "    return {\"value\": [\"b\"]}\n",
    "\n",
    "workflow = StateGraph(State)\n",
    "\n",
    "workflow.add_node(node_a)\n",
    "workflow.add_node(node_b)\n",
    "\n",
    "workflow.add_edge(START, \"node_a\")\n",
    "workflow.add_edge(\"node_a\", \"node_b\")\n",
    "workflow.add_edge(\"node_b\", END)\n",
    "\n",
    "graph = workflow.compile()\n",
    "\n",
    "display(\n",
    "    Image(\n",
    "        graph.get_graph().draw_mermaid_png()\n",
    "    )\n",
    ")"
   ]
  },
  {
   "cell_type": "code",
   "execution_count": 4,
   "metadata": {},
   "outputs": [
    {
     "data": {
      "text/plain": [
       "{'value': ['a', 'b']}"
      ]
     },
     "execution_count": 4,
     "metadata": {},
     "output_type": "execute_result"
    }
   ],
   "source": [
    "graph.invoke({\"value\":[]})"
   ]
  },
  {
   "cell_type": "markdown",
   "metadata": {},
   "source": [
    "#### **Adding Checkpoints**"
   ]
  },
  {
   "cell_type": "code",
   "execution_count": 5,
   "metadata": {},
   "outputs": [],
   "source": [
    "checkpointer = MemorySaver()\n",
    "graph = workflow.compile(checkpointer=checkpointer)"
   ]
  },
  {
   "cell_type": "code",
   "execution_count": 6,
   "metadata": {},
   "outputs": [
    {
     "data": {
      "text/plain": [
       "{'value': ['a', 'b']}"
      ]
     },
     "execution_count": 6,
     "metadata": {},
     "output_type": "execute_result"
    }
   ],
   "source": [
    "config = {\"configurable\": {\"thread_id\": \"1\"}}\n",
    "graph.invoke({\"value\": []}, config)"
   ]
  },
  {
   "cell_type": "code",
   "execution_count": 7,
   "metadata": {},
   "outputs": [
    {
     "data": {
      "text/plain": [
       "{'value': ['a', 'b', 'a', 'b']}"
      ]
     },
     "execution_count": 7,
     "metadata": {},
     "output_type": "execute_result"
    }
   ],
   "source": [
    "config = {\"configurable\": {\"thread_id\": \"1\"}}\n",
    "graph.invoke({\"value\": []}, config)"
   ]
  },
  {
   "cell_type": "code",
   "execution_count": 8,
   "metadata": {},
   "outputs": [
    {
     "data": {
      "text/plain": [
       "{'value': ['a', 'b']}"
      ]
     },
     "execution_count": 8,
     "metadata": {},
     "output_type": "execute_result"
    }
   ],
   "source": [
    "config = {\"configurable\": {\"thread_id\": \"2\"}}\n",
    "graph.invoke({\"value\": []}, config)"
   ]
  },
  {
   "cell_type": "code",
   "execution_count": 9,
   "metadata": {},
   "outputs": [
    {
     "data": {
      "text/plain": [
       "{'value': ['a', 'b']}"
      ]
     },
     "execution_count": 9,
     "metadata": {},
     "output_type": "execute_result"
    }
   ],
   "source": [
    "config = {\"configurable\": {\"thread_id\": \"3\"}}\n",
    "graph.invoke({\"value\": []}, config)"
   ]
  },
  {
   "cell_type": "markdown",
   "metadata": {},
   "source": [
    "#### **Viewing State History**"
   ]
  },
  {
   "cell_type": "code",
   "execution_count": 10,
   "metadata": {},
   "outputs": [
    {
     "data": {
      "text/plain": [
       "[StateSnapshot(values={'value': ['a', 'b', 'a', 'b']}, next=(), config={'configurable': {'thread_id': '1', 'checkpoint_ns': '', 'checkpoint_id': '1f02a9e6-a724-6b5e-8006-3fb82b6cc6ab'}}, metadata={'source': 'loop', 'writes': {'node_b': {'value': ['b']}}, 'step': 6, 'parents': {}}, created_at='2025-05-06T17:20:32.755995+00:00', parent_config={'configurable': {'thread_id': '1', 'checkpoint_ns': '', 'checkpoint_id': '1f02a9e6-a723-6182-8005-b478af26cd7b'}}, tasks=()),\n",
       " StateSnapshot(values={'value': ['a', 'b', 'a']}, next=('node_b',), config={'configurable': {'thread_id': '1', 'checkpoint_ns': '', 'checkpoint_id': '1f02a9e6-a723-6182-8005-b478af26cd7b'}}, metadata={'source': 'loop', 'writes': {'node_a': {'value': ['a']}}, 'step': 5, 'parents': {}}, created_at='2025-05-06T17:20:32.755332+00:00', parent_config={'configurable': {'thread_id': '1', 'checkpoint_ns': '', 'checkpoint_id': '1f02a9e6-a720-6fcc-8004-66224cc9e39e'}}, tasks=(PregelTask(id='d5389196-8fde-9c92-895c-c15591bdd4dc', name='node_b', error=None, interrupts=(), state=None),)),\n",
       " StateSnapshot(values={'value': ['a', 'b']}, next=('node_a',), config={'configurable': {'thread_id': '1', 'checkpoint_ns': '', 'checkpoint_id': '1f02a9e6-a720-6fcc-8004-66224cc9e39e'}}, metadata={'source': 'loop', 'writes': None, 'step': 4, 'parents': {}}, created_at='2025-05-06T17:20:32.754450+00:00', parent_config={'configurable': {'thread_id': '1', 'checkpoint_ns': '', 'checkpoint_id': '1f02a9e6-a71d-6ad4-8003-5c354880e3d7'}}, tasks=(PregelTask(id='6cf56f84-e46e-51ef-b39a-612cdfbabd22', name='node_a', error=None, interrupts=(), state=None),)),\n",
       " StateSnapshot(values={'value': ['a', 'b']}, next=('__start__',), config={'configurable': {'thread_id': '1', 'checkpoint_ns': '', 'checkpoint_id': '1f02a9e6-a71d-6ad4-8003-5c354880e3d7'}}, metadata={'source': 'input', 'writes': {'__start__': {'value': []}}, 'step': 3, 'parents': {}}, created_at='2025-05-06T17:20:32.753110+00:00', parent_config={'configurable': {'thread_id': '1', 'checkpoint_ns': '', 'checkpoint_id': '1f02a9e6-8ed0-6454-8002-fba6da40a70a'}}, tasks=(PregelTask(id='205f1e5c-0e7e-750d-0152-1b3cbd02c404', name='__start__', error=None, interrupts=(), state=None),)),\n",
       " StateSnapshot(values={'value': ['a', 'b']}, next=(), config={'configurable': {'thread_id': '1', 'checkpoint_ns': '', 'checkpoint_id': '1f02a9e6-8ed0-6454-8002-fba6da40a70a'}}, metadata={'source': 'loop', 'writes': {'node_b': {'value': ['b']}}, 'step': 2, 'parents': {}}, created_at='2025-05-06T17:20:30.204819+00:00', parent_config={'configurable': {'thread_id': '1', 'checkpoint_ns': '', 'checkpoint_id': '1f02a9e6-8ece-612c-8001-3f215e600fc6'}}, tasks=()),\n",
       " StateSnapshot(values={'value': ['a']}, next=('node_b',), config={'configurable': {'thread_id': '1', 'checkpoint_ns': '', 'checkpoint_id': '1f02a9e6-8ece-612c-8001-3f215e600fc6'}}, metadata={'source': 'loop', 'writes': {'node_a': {'value': ['a']}}, 'step': 1, 'parents': {}}, created_at='2025-05-06T17:20:30.203922+00:00', parent_config={'configurable': {'thread_id': '1', 'checkpoint_ns': '', 'checkpoint_id': '1f02a9e6-8ecb-6350-8000-23f05ae6f575'}}, tasks=(PregelTask(id='0d238136-e32f-5b50-0b2a-4d6d630e0c58', name='node_b', error=None, interrupts=(), state=None),)),\n",
       " StateSnapshot(values={'value': []}, next=('node_a',), config={'configurable': {'thread_id': '1', 'checkpoint_ns': '', 'checkpoint_id': '1f02a9e6-8ecb-6350-8000-23f05ae6f575'}}, metadata={'source': 'loop', 'writes': None, 'step': 0, 'parents': {}}, created_at='2025-05-06T17:20:30.202739+00:00', parent_config={'configurable': {'thread_id': '1', 'checkpoint_ns': '', 'checkpoint_id': '1f02a9e6-8ec7-6f34-bfff-47cd458c3213'}}, tasks=(PregelTask(id='f84f28e3-c370-b233-4498-771263a99a5b', name='node_a', error=None, interrupts=(), state=None),)),\n",
       " StateSnapshot(values={'value': []}, next=('__start__',), config={'configurable': {'thread_id': '1', 'checkpoint_ns': '', 'checkpoint_id': '1f02a9e6-8ec7-6f34-bfff-47cd458c3213'}}, metadata={'source': 'input', 'writes': {'__start__': {'value': []}}, 'step': -1, 'parents': {}}, created_at='2025-05-06T17:20:30.201419+00:00', parent_config=None, tasks=(PregelTask(id='b8aef927-1130-ad07-50d2-06a7f9886b6c', name='__start__', error=None, interrupts=(), state=None),))]"
      ]
     },
     "execution_count": 10,
     "metadata": {},
     "output_type": "execute_result"
    }
   ],
   "source": [
    "list(graph.get_state_history({\"configurable\": {\"thread_id\": \"1\"}}))"
   ]
  },
  {
   "cell_type": "code",
   "execution_count": 11,
   "metadata": {},
   "outputs": [
    {
     "data": {
      "text/plain": [
       "[StateSnapshot(values={'value': ['a', 'b']}, next=(), config={'configurable': {'thread_id': '2', 'checkpoint_ns': '', 'checkpoint_id': '1f02a9e6-b8fd-6c9a-8002-3d6edde3002b'}}, metadata={'source': 'loop', 'writes': {'node_b': {'value': ['b']}}, 'step': 2, 'parents': {}}, created_at='2025-05-06T17:20:34.627488+00:00', parent_config={'configurable': {'thread_id': '2', 'checkpoint_ns': '', 'checkpoint_id': '1f02a9e6-b8fc-6322-8001-1f6b03dc73a3'}}, tasks=()),\n",
       " StateSnapshot(values={'value': ['a']}, next=('node_b',), config={'configurable': {'thread_id': '2', 'checkpoint_ns': '', 'checkpoint_id': '1f02a9e6-b8fc-6322-8001-1f6b03dc73a3'}}, metadata={'source': 'loop', 'writes': {'node_a': {'value': ['a']}}, 'step': 1, 'parents': {}}, created_at='2025-05-06T17:20:34.626837+00:00', parent_config={'configurable': {'thread_id': '2', 'checkpoint_ns': '', 'checkpoint_id': '1f02a9e6-b8f9-6db6-8000-d6b2ede93f04'}}, tasks=(PregelTask(id='2be7c01c-7c66-0e25-96e8-97353c69e137', name='node_b', error=None, interrupts=(), state=None),)),\n",
       " StateSnapshot(values={'value': []}, next=('node_a',), config={'configurable': {'thread_id': '2', 'checkpoint_ns': '', 'checkpoint_id': '1f02a9e6-b8f9-6db6-8000-d6b2ede93f04'}}, metadata={'source': 'loop', 'writes': None, 'step': 0, 'parents': {}}, created_at='2025-05-06T17:20:34.625872+00:00', parent_config={'configurable': {'thread_id': '2', 'checkpoint_ns': '', 'checkpoint_id': '1f02a9e6-b8f6-6648-bfff-0895f0e81ed4'}}, tasks=(PregelTask(id='0c077dd3-8854-8ed9-174c-ee71647a2357', name='node_a', error=None, interrupts=(), state=None),)),\n",
       " StateSnapshot(values={'value': []}, next=('__start__',), config={'configurable': {'thread_id': '2', 'checkpoint_ns': '', 'checkpoint_id': '1f02a9e6-b8f6-6648-bfff-0895f0e81ed4'}}, metadata={'source': 'input', 'writes': {'__start__': {'value': []}}, 'step': -1, 'parents': {}}, created_at='2025-05-06T17:20:34.624459+00:00', parent_config=None, tasks=(PregelTask(id='6df79755-45c8-fadb-5336-4a1882ea4b8f', name='__start__', error=None, interrupts=(), state=None),))]"
      ]
     },
     "execution_count": 11,
     "metadata": {},
     "output_type": "execute_result"
    }
   ],
   "source": [
    "list(graph.get_state_history({\"configurable\": {\"thread_id\": \"2\"}}))"
   ]
  },
  {
   "cell_type": "markdown",
   "metadata": {},
   "source": [
    "#### **Conclusion**\n",
    "\n",
    "- Threads and checkpoints are foundational for building **persistent**, **multi-turn**, and **recoverable** workflows.\n",
    "- LangGraph’s checkpointer mechanism enables lightweight memory without needing external databases.\n",
    "- This system is scalable to more complex workflows involving LLMs, agents, and external data integrations."
   ]
  },
  {
   "cell_type": "code",
   "execution_count": null,
   "metadata": {},
   "outputs": [],
   "source": []
  }
 ],
 "metadata": {
  "kernelspec": {
   "display_name": "agent",
   "language": "python",
   "name": "python3"
  },
  "language_info": {
   "codemirror_mode": {
    "name": "ipython",
    "version": 3
   },
   "file_extension": ".py",
   "mimetype": "text/x-python",
   "name": "python",
   "nbconvert_exporter": "python",
   "pygments_lexer": "ipython3",
   "version": "3.10.17"
  }
 },
 "nbformat": 4,
 "nbformat_minor": 2
}
