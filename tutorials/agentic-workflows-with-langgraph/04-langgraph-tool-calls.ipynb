{
 "cells": [
  {
   "cell_type": "markdown",
   "id": "e215005b",
   "metadata": {},
   "source": [
    "## Import Libraries"
   ]
  },
  {
   "cell_type": "code",
   "execution_count": 2,
   "id": "b1d939b6",
   "metadata": {},
   "outputs": [
    {
     "data": {
      "text/plain": [
       "True"
      ]
     },
     "execution_count": 2,
     "metadata": {},
     "output_type": "execute_result"
    }
   ],
   "source": [
    "import pandas as pd\n",
    "from typing import List\n",
    "\n",
    "import sqlalchemy\n",
    "from sqlalchemy.engine.base import Engine\n",
    "from sqlalchemy import text, create_engine\n",
    "\n",
    "from langchain_core.tools import tool\n",
    "from langchain_core.runnables.config import RunnableConfig\n",
    "from langchain_core.messages import SystemMessage, HumanMessage\n",
    "from langchain_openai import ChatOpenAI\n",
    "from langgraph.graph import START, END, StateGraph\n",
    "from langgraph.graph.message import MessagesState\n",
    "from langgraph.prebuilt import ToolNode\n",
    "from IPython.display import Image, display\n",
    "from sqlalchemy import create_engine\n",
    "\n",
    "from dotenv import load_dotenv\n",
    "\n",
    "load_dotenv()"
   ]
  },
  {
   "cell_type": "markdown",
   "id": "e9f15701",
   "metadata": {},
   "source": [
    "## Text-to-SQL Agents\n",
    "\n",
    "The agent can:\n",
    "\n",
    "- Parse user questions.\n",
    "- Identify the relevant tables and columns.\n",
    "- Generate the corresponding SQL query.\n",
    "- Execute the query and return the result.\n",
    "\n",
    "This enables non-technical users to ask questions in plain English and get data insights without writing SQL."
   ]
  },
  {
   "cell_type": "markdown",
   "id": "3fc4500c",
   "metadata": {},
   "source": [
    "\n",
    "\n",
    "### Tooling and Environment Setup\n",
    "\n",
    "\n"
   ]
  },
  {
   "cell_type": "markdown",
   "id": "644b3966",
   "metadata": {},
   "source": [
    "#### Setting up the Database Engine"
   ]
  },
  {
   "cell_type": "code",
   "execution_count": 42,
   "id": "b45403b4",
   "metadata": {},
   "outputs": [],
   "source": [
    "db_engine = create_engine(f\"sqlite:///sales.db\")"
   ]
  },
  {
   "cell_type": "markdown",
   "id": "ace47b71",
   "metadata": {},
   "source": [
    "#### Using the Inspector"
   ]
  },
  {
   "cell_type": "code",
   "execution_count": 43,
   "id": "eacada4f",
   "metadata": {},
   "outputs": [
    {
     "name": "stdout",
     "output_type": "stream",
     "text": [
      "['sales']\n"
     ]
    }
   ],
   "source": [
    "inspector = sqlalchemy.inspect(db_engine)\n",
    "print(inspector.get_table_names())"
   ]
  },
  {
   "cell_type": "code",
   "execution_count": 44,
   "id": "846ebc9f",
   "metadata": {},
   "outputs": [
    {
     "data": {
      "text/plain": [
       "['id', 'transaction_date', 'model', 'price', 'quantity', 'customer_id']"
      ]
     },
     "execution_count": 44,
     "metadata": {},
     "output_type": "execute_result"
    }
   ],
   "source": [
    "schema = inspector.get_columns(table_name)\n",
    "column_names = [column[\"name\"] for column in schema]\n",
    "column_names"
   ]
  },
  {
   "cell_type": "markdown",
   "id": "c8ef97c5",
   "metadata": {},
   "source": [
    "#### Simple Query"
   ]
  },
  {
   "cell_type": "code",
   "execution_count": 45,
   "id": "447ae4fd",
   "metadata": {},
   "outputs": [
    {
     "data": {
      "application/vnd.microsoft.datawrangler.viewer.v0+json": {
       "columns": [
        {
         "name": "index",
         "rawType": "int64",
         "type": "integer"
        },
        {
         "name": "id",
         "rawType": "int64",
         "type": "integer"
        },
        {
         "name": "transaction_date",
         "rawType": "object",
         "type": "string"
        },
        {
         "name": "model",
         "rawType": "object",
         "type": "string"
        },
        {
         "name": "price",
         "rawType": "float64",
         "type": "float"
        },
        {
         "name": "quantity",
         "rawType": "int64",
         "type": "integer"
        },
        {
         "name": "customer_id",
         "rawType": "int64",
         "type": "integer"
        }
       ],
       "conversionMethod": "pd.DataFrame",
       "ref": "89bcbc4d-646b-4d44-9fa5-0afbcd4ba78d",
       "rows": [
        [
         "0",
         "1",
         "2024-05-22",
         "Dell XPS 15",
         "1308.04",
         "4",
         "1037"
        ],
        [
         "1",
         "2",
         "2024-06-07",
         "Dell Inspiron 15",
         "2399.23",
         "4",
         "1044"
        ],
        [
         "2",
         "3",
         "2024-12-07",
         "Dell XPS 13",
         "2481.61",
         "2",
         "1013"
        ],
        [
         "3",
         "4",
         "2024-06-21",
         "Dell G5 15",
         "505.98",
         "4",
         "1054"
        ],
        [
         "4",
         "5",
         "2024-01-04",
         "Dell Inspiron 14",
         "1429.78",
         "1",
         "1097"
        ]
       ],
       "shape": {
        "columns": 6,
        "rows": 5
       }
      },
      "text/html": [
       "<div>\n",
       "<style scoped>\n",
       "    .dataframe tbody tr th:only-of-type {\n",
       "        vertical-align: middle;\n",
       "    }\n",
       "\n",
       "    .dataframe tbody tr th {\n",
       "        vertical-align: top;\n",
       "    }\n",
       "\n",
       "    .dataframe thead th {\n",
       "        text-align: right;\n",
       "    }\n",
       "</style>\n",
       "<table border=\"1\" class=\"dataframe\">\n",
       "  <thead>\n",
       "    <tr style=\"text-align: right;\">\n",
       "      <th></th>\n",
       "      <th>id</th>\n",
       "      <th>transaction_date</th>\n",
       "      <th>model</th>\n",
       "      <th>price</th>\n",
       "      <th>quantity</th>\n",
       "      <th>customer_id</th>\n",
       "    </tr>\n",
       "  </thead>\n",
       "  <tbody>\n",
       "    <tr>\n",
       "      <th>0</th>\n",
       "      <td>1</td>\n",
       "      <td>2024-05-22</td>\n",
       "      <td>Dell XPS 15</td>\n",
       "      <td>1308.04</td>\n",
       "      <td>4</td>\n",
       "      <td>1037</td>\n",
       "    </tr>\n",
       "    <tr>\n",
       "      <th>1</th>\n",
       "      <td>2</td>\n",
       "      <td>2024-06-07</td>\n",
       "      <td>Dell Inspiron 15</td>\n",
       "      <td>2399.23</td>\n",
       "      <td>4</td>\n",
       "      <td>1044</td>\n",
       "    </tr>\n",
       "    <tr>\n",
       "      <th>2</th>\n",
       "      <td>3</td>\n",
       "      <td>2024-12-07</td>\n",
       "      <td>Dell XPS 13</td>\n",
       "      <td>2481.61</td>\n",
       "      <td>2</td>\n",
       "      <td>1013</td>\n",
       "    </tr>\n",
       "    <tr>\n",
       "      <th>3</th>\n",
       "      <td>4</td>\n",
       "      <td>2024-06-21</td>\n",
       "      <td>Dell G5 15</td>\n",
       "      <td>505.98</td>\n",
       "      <td>4</td>\n",
       "      <td>1054</td>\n",
       "    </tr>\n",
       "    <tr>\n",
       "      <th>4</th>\n",
       "      <td>5</td>\n",
       "      <td>2024-01-04</td>\n",
       "      <td>Dell Inspiron 14</td>\n",
       "      <td>1429.78</td>\n",
       "      <td>1</td>\n",
       "      <td>1097</td>\n",
       "    </tr>\n",
       "  </tbody>\n",
       "</table>\n",
       "</div>"
      ],
      "text/plain": [
       "   id transaction_date             model    price  quantity  customer_id\n",
       "0   1       2024-05-22       Dell XPS 15  1308.04         4         1037\n",
       "1   2       2024-06-07  Dell Inspiron 15  2399.23         4         1044\n",
       "2   3       2024-12-07       Dell XPS 13  2481.61         2         1013\n",
       "3   4       2024-06-21        Dell G5 15   505.98         4         1054\n",
       "4   5       2024-01-04  Dell Inspiron 14  1429.78         1         1097"
      ]
     },
     "execution_count": 45,
     "metadata": {},
     "output_type": "execute_result"
    }
   ],
   "source": [
    "sql = f\"SELECT * FROM {table_name} LIMIT 5\"\n",
    "\n",
    "with db_engine.begin() as connection:\n",
    "    answer = connection.execute(text(sql)).fetchall()\n",
    "\n",
    "pd.DataFrame(answer, columns=column_names)"
   ]
  },
  {
   "cell_type": "markdown",
   "id": "623d537e",
   "metadata": {},
   "source": [
    "#### Building Database Tools\n",
    "\n",
    "Dynamic config passing:\n",
    "\n",
    "- Tools are environment-independent and can be re-used across databases by passing a different `db_engine` through the config.\n",
    "\n",
    "Separation of concerns:\n",
    "\n",
    "- Tools do not hardcode database connection logic.\n",
    "- Retrieval, schema exploration, and querying are decoupled.\n",
    "\n",
    "Foundation for Text-to-SQL agents:\n",
    "\n",
    "- LLMs can now list tables, retrieve schema information, and execute custom SQL queries through tool calling."
   ]
  },
  {
   "cell_type": "markdown",
   "id": "c3c98674",
   "metadata": {},
   "source": [
    "##### List Tables Tool"
   ]
  },
  {
   "cell_type": "code",
   "execution_count": 46,
   "id": "e9f6d38b",
   "metadata": {},
   "outputs": [],
   "source": [
    "@tool\n",
    "def list_tables_tool(config: RunnableConfig) -> List[str]:\n",
    "    \"\"\"\n",
    "    List all tables in database\n",
    "    \"\"\"\n",
    "    db_engine:Engine = config.get(\"configurable\", {}).get(\"db_engine\")\n",
    "    inspector = sqlalchemy.inspect(db_engine)\n",
    "\n",
    "    return inspector.get_table_names()"
   ]
  },
  {
   "cell_type": "markdown",
   "id": "4928a896",
   "metadata": {},
   "source": [
    "##### Get Table Schema Tool"
   ]
  },
  {
   "cell_type": "code",
   "execution_count": 47,
   "id": "264fa18e",
   "metadata": {},
   "outputs": [],
   "source": [
    "@tool\n",
    "def get_table_schema_tool(table_name:str, config: RunnableConfig) -> List[str]:\n",
    "    \"\"\"\n",
    "    Get schema information about a table. Returns a list of dictionaries.\n",
    "    - name is the column name\n",
    "    - type is the column type\n",
    "    - nullable is whether the column is nullable or not\n",
    "    - default is the default value of the column\n",
    "    - primary_key is whether the column is a primary key or not\n",
    "\n",
    "    Args:\n",
    "        table_name (str): Table name\n",
    "    \"\"\"\n",
    "    db_engine:Engine = config.get(\"configurable\", {}).get(\"db_engine\")\n",
    "    inspector = sqlalchemy.inspect(db_engine)\n",
    "\n",
    "    return inspector.get_columns(table_name)\n"
   ]
  },
  {
   "cell_type": "markdown",
   "id": "dacff7e2",
   "metadata": {},
   "source": [
    "##### Execute SQL Tool"
   ]
  },
  {
   "cell_type": "code",
   "execution_count": 48,
   "id": "45794fe2",
   "metadata": {},
   "outputs": [],
   "source": [
    "@tool\n",
    "def execute_sql_tool(query:str, config: RunnableConfig) -> int:\n",
    "    \"\"\"\n",
    "    Execute SQL query and return result. \n",
    "    This will automatically connect to the database and execute the query.\n",
    "    However, if the query is not valid, an error will be raised\n",
    "\n",
    "    Args:\n",
    "        query (str): SQL query\n",
    "    \"\"\"\n",
    "    db_engine:Engine = config.get(\"configurable\", {}).get(\"db_engine\")\n",
    "    with db_engine.begin() as connection:\n",
    "        answer = connection.execute(text(query)).fetchall()\n",
    "\n",
    "    return answer"
   ]
  },
  {
   "cell_type": "markdown",
   "id": "c8e5d498",
   "metadata": {},
   "source": [
    "#### Tool Testing"
   ]
  },
  {
   "cell_type": "code",
   "execution_count": 49,
   "id": "54abe94c",
   "metadata": {},
   "outputs": [],
   "source": [
    "db_engine = create_engine(f\"sqlite:///sales.db\")\n",
    "config = {'configurable':{'db_engine': db_engine}}"
   ]
  },
  {
   "cell_type": "code",
   "execution_count": 50,
   "id": "cd569956",
   "metadata": {},
   "outputs": [
    {
     "data": {
      "text/plain": [
       "['sales']"
      ]
     },
     "execution_count": 50,
     "metadata": {},
     "output_type": "execute_result"
    }
   ],
   "source": [
    "tables = list_tables_tool.invoke({}, config)\n",
    "tables"
   ]
  },
  {
   "cell_type": "code",
   "execution_count": 51,
   "id": "172142fe",
   "metadata": {},
   "outputs": [
    {
     "data": {
      "text/plain": [
       "{'sales': [{'name': 'id',\n",
       "   'type': INTEGER(),\n",
       "   'nullable': False,\n",
       "   'default': None,\n",
       "   'primary_key': 1},\n",
       "  {'name': 'transaction_date',\n",
       "   'type': DATE(),\n",
       "   'nullable': False,\n",
       "   'default': None,\n",
       "   'primary_key': 0},\n",
       "  {'name': 'model',\n",
       "   'type': VARCHAR(length=50),\n",
       "   'nullable': False,\n",
       "   'default': None,\n",
       "   'primary_key': 0},\n",
       "  {'name': 'price',\n",
       "   'type': FLOAT(),\n",
       "   'nullable': False,\n",
       "   'default': None,\n",
       "   'primary_key': 0},\n",
       "  {'name': 'quantity',\n",
       "   'type': INTEGER(),\n",
       "   'nullable': True,\n",
       "   'default': None,\n",
       "   'primary_key': 0},\n",
       "  {'name': 'customer_id',\n",
       "   'type': INTEGER(),\n",
       "   'nullable': True,\n",
       "   'default': None,\n",
       "   'primary_key': 0}]}"
      ]
     },
     "execution_count": 51,
     "metadata": {},
     "output_type": "execute_result"
    }
   ],
   "source": [
    "schemas = {\n",
    "    table: get_table_schema_tool.invoke({\n",
    "            'table_name': table\n",
    "        }, config) \n",
    "    for table in tables\n",
    "}\n",
    "schemas"
   ]
  },
  {
   "cell_type": "code",
   "execution_count": 52,
   "id": "a575c45e",
   "metadata": {},
   "outputs": [
    {
     "data": {
      "text/plain": [
       "[(1, '2024-05-22', 'Dell XPS 15', 1308.04, 4, 1037),\n",
       " (2, '2024-06-07', 'Dell Inspiron 15', 2399.23, 4, 1044),\n",
       " (3, '2024-12-07', 'Dell XPS 13', 2481.61, 2, 1013),\n",
       " (4, '2024-06-21', 'Dell G5 15', 505.98, 4, 1054),\n",
       " (5, '2024-01-04', 'Dell Inspiron 14', 1429.78, 1, 1097)]"
      ]
     },
     "execution_count": 52,
     "metadata": {},
     "output_type": "execute_result"
    }
   ],
   "source": [
    "sql = f\"SELECT * FROM {tables[0]} LIMIT 5\"\n",
    "result = execute_sql_tool.invoke({'query': sql}, config)\n",
    "result"
   ]
  },
  {
   "cell_type": "markdown",
   "id": "3b921901",
   "metadata": {},
   "source": [
    "### State Definition\n",
    "\n",
    "#### Initialize the State Graph\n",
    "- MessageState simplifies using LangChain messages in workflows without needing custom schemas.\n",
    "    - user_query: The user's natural language question.\n",
    "    - messages: The conversation history."
   ]
  },
  {
   "cell_type": "code",
   "execution_count": 54,
   "id": "f27add7c",
   "metadata": {},
   "outputs": [],
   "source": [
    "class State(MessagesState):\n",
    "\tuser_query: str\n",
    "\n",
    "workflow = StateGraph(State)"
   ]
  },
  {
   "cell_type": "markdown",
   "id": "adac3045",
   "metadata": {},
   "source": [
    "### LLM & Tool Binding\n",
    "\n",
    "#### Instantiate Chat Model"
   ]
  },
  {
   "cell_type": "code",
   "execution_count": 53,
   "id": "fd9a420e",
   "metadata": {},
   "outputs": [],
   "source": [
    "llm = ChatOpenAI(\n",
    "    model=\"gpt-4o-mini\",\n",
    "    temperature=0.0,\n",
    ")"
   ]
  },
  {
   "cell_type": "markdown",
   "id": "61d770a2",
   "metadata": {},
   "source": [
    "#### Binding Database Tools\n",
    "\n",
    "We created the following tools:\n",
    "- list_tables_tool: Lists tables in the database., \n",
    "- get_table_schema_tool: Retrieves the schema of a specific table, \n",
    "- execute_sql_tool: Executes the generated SQL query."
   ]
  },
  {
   "cell_type": "code",
   "execution_count": 55,
   "id": "eb7d3536",
   "metadata": {},
   "outputs": [],
   "source": [
    "dba_tools = [\n",
    "\tlist_tables_tool, \n",
    "    get_table_schema_tool, \n",
    "    execute_sql_tool\n",
    "]\n",
    "\n",
    "dba_llm = llm.bind_tools(dba_tools, tool_choice=\"auto\")"
   ]
  },
  {
   "cell_type": "markdown",
   "id": "12e4b098",
   "metadata": {},
   "source": [
    "### Agent Node Construction\n",
    "\n",
    "#### Tool Nodes"
   ]
  },
  {
   "cell_type": "code",
   "execution_count": 56,
   "id": "63b26f00",
   "metadata": {},
   "outputs": [],
   "source": [
    "workflow.add_node(\"dba_tools\", ToolNode(dba_tools))"
   ]
  },
  {
   "cell_type": "markdown",
   "id": "175915b6",
   "metadata": {},
   "source": [
    "#### Agent Nodes\n",
    "\n",
    "build the initial messages to start the conversation."
   ]
  },
  {
   "cell_type": "code",
   "execution_count": 57,
   "id": "0b4d4164",
   "metadata": {},
   "outputs": [],
   "source": [
    "def messages_builder(state: State):\n",
    "    dba_sys_msg = (\n",
    "        \"You are a Sr. SQL developer tasked with generating SQL queries. Perform the following steps:\\n\"\n",
    "        \"First, find out the appropriate table name based on all tables. \"\n",
    "        \"Then get the table's schema to understand the columns. \"\n",
    "        \"With the table name and the schema, generate the ANSI SQL query you think is applicable to the user question. \"\n",
    "        \"Finally, use a tool to execute the above SQL query and output the result based on the user question.\"\n",
    "    )\n",
    "    messages = [\n",
    "        SystemMessage(dba_sys_msg),\n",
    "        HumanMessage(state[\"user_query\"])\n",
    "    ]\n",
    "    return {\"messages\": messages}\n",
    "\n",
    "def dba_agent(state: State):\n",
    "   ai_message = dba_llm.invoke(state[\"messages\"])\n",
    "   ai_message.name = \"dba_agent\"\n",
    "   return {\"messages\": ai_message}\n"
   ]
  },
  {
   "cell_type": "code",
   "execution_count": 58,
   "id": "c5eba5ca",
   "metadata": {},
   "outputs": [],
   "source": [
    "workflow.add_node(\"messages_builder\", messages_builder)\n",
    "workflow.add_node(\"dba_agent\", dba_agent)"
   ]
  },
  {
   "cell_type": "markdown",
   "id": "466c53c7",
   "metadata": {},
   "source": [
    "### Routing Logic\n",
    "\n",
    "#### Edges\n",
    "\n",
    "To enable the cycle, we need to have a routing function. This function:\n",
    "\n",
    "- Inspects the conversation history.\n",
    "- Decides whether to call a tool or end the workflow."
   ]
  },
  {
   "cell_type": "code",
   "execution_count": 59,
   "id": "2d62ae2c",
   "metadata": {},
   "outputs": [],
   "source": [
    "def should_continue(state: State):\n",
    "    messages = state[\"messages\"]\n",
    "    last_message = messages[-1]\n",
    "    if last_message.tool_calls:\n",
    "        return \"dba_tools\"\n",
    "    return END"
   ]
  },
  {
   "cell_type": "markdown",
   "id": "19f0465d",
   "metadata": {},
   "source": [
    "Then, create the edges:\n",
    "- After the START entrypoint, you need to move to messages_builder\n",
    "- From messages_builder, to the dba_agent\n",
    "- The dba_agent should call the routing_function within a conditional edge\n",
    "- If the response is a tool_call, send to dba_tools node\n",
    "- Else, terminates in the END termination node."
   ]
  },
  {
   "cell_type": "code",
   "execution_count": 60,
   "id": "62e05e29",
   "metadata": {},
   "outputs": [],
   "source": [
    "workflow.add_edge(START, \"messages_builder\")\n",
    "workflow.add_edge(\"messages_builder\", \"dba_agent\")\n",
    "workflow.add_conditional_edges(\n",
    "    source=\"dba_agent\", \n",
    "    path=should_continue, \n",
    "    path_map=[\"dba_tools\", END]\n",
    ")\n",
    "workflow.add_edge(\"dba_tools\", \"dba_agent\")"
   ]
  },
  {
   "cell_type": "markdown",
   "id": "7467a082",
   "metadata": {},
   "source": [
    "### Execution and Testing\n",
    "\n",
    "#### Compile and Visualize"
   ]
  },
  {
   "cell_type": "code",
   "execution_count": 61,
   "id": "fbac1be6",
   "metadata": {},
   "outputs": [
    {
     "data": {
      "image/jpeg": "[encoded data removed]",
      "text/plain": [
       "<IPython.core.display.Image object>"
      ]
     },
     "metadata": {},
     "output_type": "display_data"
    }
   ],
   "source": [
    "react_graph = workflow.compile()\n",
    "\n",
    "display(\n",
    "    Image(\n",
    "        react_graph.get_graph().draw_mermaid_png()\n",
    "    )\n",
    ")"
   ]
  },
  {
   "cell_type": "markdown",
   "id": "ef212c6f",
   "metadata": {},
   "source": [
    "#### Run"
   ]
  },
  {
   "cell_type": "code",
   "execution_count": 62,
   "id": "9266bd7d",
   "metadata": {},
   "outputs": [
    {
     "name": "stdout",
     "output_type": "stream",
     "text": [
      "================================\u001b[1m System Message \u001b[0m================================\n",
      "\n",
      "You are a Sr. SQL developer tasked with generating SQL queries. Perform the following steps:\n",
      "First, find out the appropriate table name based on all tables. Then get the table's schema to understand the columns. With the table name and the schema, generate the ANSI SQL query you think is applicable to the user question. Finally, use a tool to execute the above SQL query and output the result based on the user question.\n",
      "================================\u001b[1m Human Message \u001b[0m=================================\n",
      "\n",
      "How many Dell XPS 15 were sold?\n",
      "==================================\u001b[1m Ai Message \u001b[0m==================================\n",
      "Name: dba_agent\n",
      "Tool Calls:\n",
      "  list_tables_tool (call_uiKFPnPliLIizvOuteJFpJqD)\n",
      " Call ID: call_uiKFPnPliLIizvOuteJFpJqD\n",
      "  Args:\n",
      "=================================\u001b[1m Tool Message \u001b[0m=================================\n",
      "Name: list_tables_tool\n",
      "\n",
      "[\"sales\"]\n",
      "==================================\u001b[1m Ai Message \u001b[0m==================================\n",
      "Name: dba_agent\n",
      "Tool Calls:\n",
      "  get_table_schema_tool (call_dNB3Xfyp5hVGYa0unX571WaY)\n",
      " Call ID: call_dNB3Xfyp5hVGYa0unX571WaY\n",
      "  Args:\n",
      "    table_name: sales\n",
      "=================================\u001b[1m Tool Message \u001b[0m=================================\n",
      "Name: get_table_schema_tool\n",
      "\n",
      "[{'name': 'id', 'type': INTEGER(), 'nullable': False, 'default': None, 'primary_key': 1}, {'name': 'transaction_date', 'type': DATE(), 'nullable': False, 'default': None, 'primary_key': 0}, {'name': 'model', 'type': VARCHAR(length=50), 'nullable': False, 'default': None, 'primary_key': 0}, {'name': 'price', 'type': FLOAT(), 'nullable': False, 'default': None, 'primary_key': 0}, {'name': 'quantity', 'type': INTEGER(), 'nullable': True, 'default': None, 'primary_key': 0}, {'name': 'customer_id', 'type': INTEGER(), 'nullable': True, 'default': None, 'primary_key': 0}]\n",
      "==================================\u001b[1m Ai Message \u001b[0m==================================\n",
      "Name: dba_agent\n",
      "Tool Calls:\n",
      "  execute_sql_tool (call_wtF3ZnyMTg42bR4nFIJkJFBX)\n",
      " Call ID: call_wtF3ZnyMTg42bR4nFIJkJFBX\n",
      "  Args:\n",
      "    query: SELECT SUM(quantity) AS total_sold FROM sales WHERE model = 'Dell XPS 15';\n",
      "=================================\u001b[1m Tool Message \u001b[0m=================================\n",
      "Name: execute_sql_tool\n",
      "\n",
      "[(57,)]\n",
      "==================================\u001b[1m Ai Message \u001b[0m==================================\n",
      "Name: dba_agent\n",
      "\n",
      "A total of 57 Dell XPS 15 units were sold.\n"
     ]
    }
   ],
   "source": [
    "db_engine = create_engine(f\"sqlite:///sales.db\")\n",
    "\n",
    "config = {\n",
    "    \"configurable\": {\n",
    "        \"db_engine\": db_engine\n",
    "    }\n",
    "}\n",
    "\n",
    "inputs = {\"user_query\": \"How many Dell XPS 15 were sold?\"}\n",
    "\n",
    "messages = react_graph.invoke(inputs, config=config)\n",
    "\n",
    "for m in messages['messages']:\n",
    "    m.pretty_print()"
   ]
  }
 ],
 "metadata": {
  "kernelspec": {
   "display_name": "agent",
   "language": "python",
   "name": "python3"
  },
  "language_info": {
   "codemirror_mode": {
    "name": "ipython",
    "version": 3
   },
   "file_extension": ".py",
   "mimetype": "text/x-python",
   "name": "python",
   "nbconvert_exporter": "python",
   "pygments_lexer": "ipython3",
   "version": "3.10.17"
  }
 },
 "nbformat": 4,
 "nbformat_minor": 5
}
