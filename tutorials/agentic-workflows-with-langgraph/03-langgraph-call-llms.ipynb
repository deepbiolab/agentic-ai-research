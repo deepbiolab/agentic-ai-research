{
 "cells": [
  {
   "cell_type": "markdown",
   "metadata": {},
   "source": [
    "### Import Libraries"
   ]
  },
  {
   "cell_type": "code",
   "execution_count": 1,
   "metadata": {},
   "outputs": [
    {
     "data": {
      "text/plain": [
       "True"
      ]
     },
     "execution_count": 1,
     "metadata": {},
     "output_type": "execute_result"
    }
   ],
   "source": [
    "from typing import TypedDict, Annotated, List\n",
    "\n",
    "from langchain_openai import ChatOpenAI\n",
    "from langchain_core.messages import HumanMessage, AIMessage, SystemMessage, AnyMessage\n",
    "from langchain_core.runnables import RunnableConfig\n",
    "from langgraph.graph import StateGraph, MessagesState, START, END\n",
    "from langgraph.graph.message import add_messages\n",
    "from IPython.display import Image, display\n",
    "from dotenv import load_dotenv\n",
    "\n",
    "load_dotenv()"
   ]
  },
  {
   "cell_type": "markdown",
   "metadata": {},
   "source": [
    "### Call LLMs"
   ]
  },
  {
   "cell_type": "markdown",
   "metadata": {},
   "source": [
    "#### Call LLMs with State"
   ]
  },
  {
   "cell_type": "code",
   "execution_count": 29,
   "metadata": {},
   "outputs": [],
   "source": [
    "llm = ChatOpenAI(\n",
    "    model=\"gpt-4o-mini\",\n",
    "    temperature=0.0,\n",
    ")"
   ]
  },
  {
   "cell_type": "code",
   "execution_count": 30,
   "metadata": {},
   "outputs": [],
   "source": [
    "class State(TypedDict):\n",
    "    question: str\n",
    "    response: str"
   ]
  },
  {
   "cell_type": "code",
   "execution_count": 31,
   "metadata": {},
   "outputs": [],
   "source": [
    "def model(state: State):\n",
    "    question = state[\"question\"]\n",
    "    response = llm.invoke([\n",
    "        SystemMessage(\"You're a data science specialist\"),\n",
    "        HumanMessage(question)\n",
    "    ])\n",
    "\n",
    "    return {\"response\": response.content}"
   ]
  },
  {
   "cell_type": "code",
   "execution_count": 32,
   "metadata": {},
   "outputs": [],
   "source": [
    "workflow = StateGraph(State)"
   ]
  },
  {
   "cell_type": "code",
   "execution_count": 33,
   "metadata": {},
   "outputs": [
    {
     "data": {
      "image/jpeg": "[encoded data removed]",
      "text/plain": [
       "<IPython.core.display.Image object>"
      ]
     },
     "metadata": {},
     "output_type": "display_data"
    }
   ],
   "source": [
    "workflow.add_node(\"model\", model)\n",
    "\n",
    "workflow.add_edge(START, \"model\")\n",
    "workflow.add_edge(\"model\", END)\n",
    "\n",
    "graph = workflow.compile()\n",
    "\n",
    "display(\n",
    "    Image(\n",
    "        graph.get_graph().draw_mermaid_png()\n",
    "    )\n",
    ")"
   ]
  },
  {
   "cell_type": "code",
   "execution_count": 34,
   "metadata": {},
   "outputs": [],
   "source": [
    "result = graph.invoke(\n",
    "    input={\n",
    "        \"question\": \"What is the Large language models?\"\n",
    "    }, \n",
    ")"
   ]
  },
  {
   "cell_type": "code",
   "execution_count": 35,
   "metadata": {},
   "outputs": [
    {
     "data": {
      "text/plain": [
       "{'question': 'What is the Large language models?',\n",
       " 'response': 'Large language models (LLMs) are a type of artificial intelligence (AI) that are designed to understand, generate, and manipulate human language. They are built using deep learning techniques, particularly neural networks, and are trained on vast amounts of text data to learn the statistical patterns and structures of language. Here are some key characteristics and components of LLMs:\\n\\n1. **Architecture**: Most LLMs are based on transformer architecture, which allows them to process and generate text efficiently. Transformers use mechanisms like self-attention to weigh the importance of different words in a sentence, enabling them to capture context and relationships between words effectively.\\n\\n2. **Training**: LLMs are trained on diverse datasets that include books, articles, websites, and other text sources. This training helps them learn grammar, facts, reasoning abilities, and even some level of common sense knowledge. The training process typically involves predicting the next word in a sentence given the previous words (language modeling).\\n\\n3. **Scale**: The term \"large\" refers to both the size of the model (number of parameters) and the amount of data used for training. LLMs can have billions or even trillions of parameters, which allows them to capture complex patterns in language.\\n\\n4. **Applications**: LLMs are used in various applications, including:\\n   - Text generation (e.g., writing articles, stories, or poetry)\\n   - Conversational agents (e.g., chatbots)\\n   - Language translation\\n   - Sentiment analysis\\n   - Text summarization\\n   - Code generation and assistance\\n\\n5. **Fine-tuning**: After pre-training on a large corpus, LLMs can be fine-tuned on specific tasks or domains to improve their performance in those areas. This involves additional training on a smaller, task-specific dataset.\\n\\n6. **Ethical Considerations**: The deployment of LLMs raises ethical concerns, including issues related to bias, misinformation, and the potential for misuse. Researchers and developers are actively working on ways to mitigate these risks.\\n\\n7. **Examples**: Some well-known LLMs include OpenAI\\'s GPT (Generative Pre-trained Transformer) series, Google\\'s BERT (Bidirectional Encoder Representations from Transformers), and Meta\\'s LLaMA (Large Language Model Meta AI).\\n\\nOverall, large language models represent a significant advancement in natural language processing (NLP) and have transformed how machines understand and interact with human language.'}"
      ]
     },
     "execution_count": 35,
     "metadata": {},
     "output_type": "execute_result"
    }
   ],
   "source": [
    "result"
   ]
  },
  {
   "cell_type": "markdown",
   "metadata": {},
   "source": [
    "#### Call LLMs with Custom State and Langgraph operator\n",
    "\n",
    "- In workflows involving messages, a simple `operator.add` doesn’t work well when merging structured messages.\n",
    "- Instead, LangGraph provides the `add_messages` reducer."
   ]
  },
  {
   "cell_type": "code",
   "execution_count": 36,
   "metadata": {},
   "outputs": [
    {
     "data": {
      "text/plain": [
       "[SystemMessage(content=\"You're a helpful assistant\", id='1c3127d5-81dd-4d0a-93d9-00154d823a88'),\n",
       " HumanMessage(content='Hi!', id='126e32f0-111b-4d6c-b8aa-50c0b5d19bf2'),\n",
       " AIMessage(content='Hello! How can I assist you today?', id='5ad0554f-fd88-4ae2-bb2d-c08bff8f50ef')]"
      ]
     },
     "execution_count": 36,
     "metadata": {},
     "output_type": "execute_result"
    }
   ],
   "source": [
    "add_messages(\n",
    "    left = [\n",
    "        SystemMessage(\"You're a helpful assistant\"),\n",
    "        HumanMessage(\"Hi!\")\n",
    "    ],\n",
    "    right = AIMessage(\"Hello! How can I assist you today?\")\n",
    ")"
   ]
  },
  {
   "cell_type": "code",
   "execution_count": 37,
   "metadata": {},
   "outputs": [],
   "source": [
    "class State(TypedDict):\n",
    "    messages:Annotated[List[AnyMessage], add_messages]"
   ]
  },
  {
   "cell_type": "code",
   "execution_count": 38,
   "metadata": {},
   "outputs": [
    {
     "data": {
      "image/jpeg": "[encoded data removed]",
      "text/plain": [
       "<IPython.core.display.Image object>"
      ]
     },
     "metadata": {},
     "output_type": "display_data"
    }
   ],
   "source": [
    "llm = ChatOpenAI(\n",
    "    model=\"gpt-4o-mini\",\n",
    "    temperature=0.0,\n",
    ")\n",
    "\n",
    "def model(state: State):\n",
    "    messages = state[\"messages\"]\n",
    "    response = llm.invoke(messages)\n",
    "    return {\"messages\": response}\n",
    "\n",
    "workflow = StateGraph(State)\n",
    "\n",
    "workflow.add_node(\"model\", model)\n",
    "\n",
    "workflow.add_edge(START, \"model\")\n",
    "workflow.add_edge(\"model\", END)\n",
    "\n",
    "graph = workflow.compile()\n",
    "\n",
    "display(\n",
    "    Image(\n",
    "        graph.get_graph().draw_mermaid_png()\n",
    "    )\n",
    ")"
   ]
  },
  {
   "cell_type": "code",
   "execution_count": 39,
   "metadata": {},
   "outputs": [
    {
     "name": "stdout",
     "output_type": "stream",
     "text": [
      "================================\u001b[1m Human Message \u001b[0m=================================\n",
      "\n",
      "What is the Large language models?\n",
      "==================================\u001b[1m Ai Message \u001b[0m==================================\n",
      "\n",
      "Large language models (LLMs) are a type of artificial intelligence (AI) designed to understand, generate, and manipulate human language. They are built using deep learning techniques, particularly neural networks, and are trained on vast amounts of text data from diverse sources, such as books, articles, websites, and more. Here are some key characteristics and features of LLMs:\n",
      "\n",
      "1. **Scale**: LLMs are characterized by their large number of parameters, often in the billions or even trillions. This scale allows them to capture complex patterns and nuances in language.\n",
      "\n",
      "2. **Training**: They are typically trained using unsupervised or semi-supervised learning methods, where the model learns to predict the next word in a sentence given the previous words. This process helps the model understand grammar, facts, and some level of reasoning.\n",
      "\n",
      "3. **Versatility**: LLMs can perform a wide range of language-related tasks, including text generation, translation, summarization, question answering, and more, often with little to no task-specific training.\n",
      "\n",
      "4. **Contextual Understanding**: They can generate contextually relevant responses by considering the surrounding text, which allows for more coherent and context-aware interactions.\n",
      "\n",
      "5. **Applications**: LLMs are used in various applications, including chatbots, virtual assistants, content creation, coding assistance, and more.\n",
      "\n",
      "6. **Ethical Considerations**: The deployment of LLMs raises ethical concerns, such as the potential for generating misleading or harmful content, biases present in the training data, and issues related to privacy and data security.\n",
      "\n",
      "7. **Examples**: Some well-known LLMs include OpenAI's GPT (Generative Pre-trained Transformer) series, Google's BERT (Bidirectional Encoder Representations from Transformers), and others.\n",
      "\n",
      "Overall, large language models represent a significant advancement in natural language processing (NLP) and have transformed how machines interact with human language.\n"
     ]
    }
   ],
   "source": [
    "result = graph.invoke(\n",
    "    input={\n",
    "        \"messages\": [HumanMessage(\"What is the Large language models?\")]}, \n",
    ")\n",
    "\n",
    "for message in result['messages']:\n",
    "    message.pretty_print()"
   ]
  },
  {
   "cell_type": "markdown",
   "metadata": {},
   "source": [
    "#### Call LLMs with Langgraph MessagesState\n",
    "\n",
    "- MessageState simplifies using LangChain messages in workflows without needing custom schemas.｜"
   ]
  },
  {
   "cell_type": "code",
   "execution_count": 40,
   "metadata": {},
   "outputs": [
    {
     "data": {
      "image/jpeg": "[encoded data removed]",
      "text/plain": [
       "<IPython.core.display.Image object>"
      ]
     },
     "metadata": {},
     "output_type": "display_data"
    }
   ],
   "source": [
    "def model(state: MessagesState):\n",
    "    messages = state[\"messages\"]\n",
    "    response = llm.invoke(messages)\n",
    "    return {\"messages\": response}\n",
    "\n",
    "workflow = StateGraph(MessagesState)\n",
    "\n",
    "workflow.add_node(\"model\", model)\n",
    "\n",
    "workflow.add_edge(START, \"model\")\n",
    "workflow.add_edge(\"model\", END)\n",
    "\n",
    "graph = workflow.compile()\n",
    "display(\n",
    "    Image(\n",
    "        graph.get_graph().draw_mermaid_png()\n",
    "    )\n",
    ")"
   ]
  },
  {
   "cell_type": "code",
   "execution_count": 41,
   "metadata": {},
   "outputs": [
    {
     "name": "stdout",
     "output_type": "stream",
     "text": [
      "================================\u001b[1m Human Message \u001b[0m=================================\n",
      "\n",
      "What is the Large language models?\n",
      "==================================\u001b[1m Ai Message \u001b[0m==================================\n",
      "\n",
      "Large language models (LLMs) are a type of artificial intelligence (AI) designed to understand, generate, and manipulate human language. They are built using deep learning techniques, particularly neural networks, and are trained on vast amounts of text data from diverse sources, such as books, articles, websites, and more. Here are some key characteristics and features of LLMs:\n",
      "\n",
      "1. **Scale**: LLMs are characterized by their large number of parameters, often in the billions or even trillions. This scale allows them to capture complex patterns and nuances in language.\n",
      "\n",
      "2. **Training**: They are typically trained using unsupervised or semi-supervised learning methods, where the model learns to predict the next word in a sentence given the previous words. This process helps the model understand grammar, facts, and some level of reasoning.\n",
      "\n",
      "3. **Versatility**: LLMs can perform a wide range of language-related tasks, including text generation, translation, summarization, question answering, and more, often with little to no task-specific training.\n",
      "\n",
      "4. **Contextual Understanding**: They can generate contextually relevant responses by considering the surrounding text, which allows for more coherent and context-aware interactions.\n",
      "\n",
      "5. **Applications**: LLMs are used in various applications, including chatbots, virtual assistants, content creation, coding assistance, and more.\n",
      "\n",
      "6. **Ethical Considerations**: The deployment of LLMs raises ethical concerns, such as the potential for generating misleading or harmful content, biases present in the training data, and issues related to privacy and data security.\n",
      "\n",
      "Popular examples of large language models include OpenAI's GPT (Generative Pre-trained Transformer) series, Google's BERT (Bidirectional Encoder Representations from Transformers), and others. These models have significantly advanced the field of natural language processing (NLP) and continue to evolve with ongoing research and development.\n"
     ]
    }
   ],
   "source": [
    "result = graph.invoke(\n",
    "    input={\n",
    "        \"messages\": [HumanMessage(\"What is the Large language models?\")]}, \n",
    ")\n",
    "\n",
    "for message in result['messages']:\n",
    "    message.pretty_print()"
   ]
  },
  {
   "cell_type": "markdown",
   "metadata": {},
   "source": [
    "#### Call LLMs with Langgraph MessagesState and Config"
   ]
  },
  {
   "cell_type": "code",
   "execution_count": 42,
   "metadata": {},
   "outputs": [],
   "source": [
    "llm = ChatOpenAI(\n",
    "    model=\"gpt-4o-mini\",\n",
    "    temperature=0.0,\n",
    ")"
   ]
  },
  {
   "cell_type": "markdown",
   "metadata": {},
   "source": [
    "MessageState automatically includes a messages list with a reducer."
   ]
  },
  {
   "cell_type": "code",
   "execution_count": 43,
   "metadata": {},
   "outputs": [],
   "source": [
    "class State(MessagesState):\n",
    "    question:str"
   ]
  },
  {
   "cell_type": "markdown",
   "metadata": {},
   "source": [
    "Checks if a user's name is present in the config.\n",
    "If so, injects a SystemMessage to personalize the greeting."
   ]
  },
  {
   "cell_type": "code",
   "execution_count": 44,
   "metadata": {},
   "outputs": [
    {
     "data": {
      "image/jpeg": "[encoded data removed]",
      "text/plain": [
       "<IPython.core.display.Image object>"
      ]
     },
     "metadata": {},
     "output_type": "display_data"
    }
   ],
   "source": [
    "def model(state: State, config: RunnableConfig):\n",
    "    question = state[\"question\"]\n",
    "    messages = state[\"messages\"]\n",
    "    name = None\n",
    "    if config:\n",
    "        name = config[\"configurable\"].get(\"name\")\n",
    "\n",
    "    if name and not messages:\n",
    "        messages.append(\n",
    "            SystemMessage(\n",
    "                \"Help the following user. \\n\"\n",
    "                f\"Name={name} \\n\"\n",
    "                \"Give an initial greeting before responding.\"\n",
    "            )\n",
    "        )\n",
    "\n",
    "    messages.append(HumanMessage(question))\n",
    "    response = llm.invoke(messages)\n",
    "    messages.append(response)\n",
    "\n",
    "    return {\"messages\": messages}\n",
    "\n",
    "workflow = StateGraph(State)\n",
    "\n",
    "workflow.add_node(\"model\", model)\n",
    "\n",
    "workflow.add_edge(START, \"model\")\n",
    "workflow.add_edge(\"model\", END)\n",
    "\n",
    "graph = workflow.compile()\n",
    "\n",
    "display(\n",
    "    Image(\n",
    "        graph.get_graph().draw_mermaid_png()\n",
    "    )\n",
    ")"
   ]
  },
  {
   "cell_type": "markdown",
   "metadata": {},
   "source": [
    "RunnableConfig is used to inject external parameters during workflow execution."
   ]
  },
  {
   "cell_type": "code",
   "execution_count": 45,
   "metadata": {},
   "outputs": [
    {
     "name": "stdout",
     "output_type": "stream",
     "text": [
      "================================\u001b[1m System Message \u001b[0m================================\n",
      "\n",
      "Help the following user. \n",
      "Name=Tim \n",
      "Give an initial greeting before responding.\n",
      "================================\u001b[1m Human Message \u001b[0m=================================\n",
      "\n",
      "What is the meaning of life?\n",
      "==================================\u001b[1m Ai Message \u001b[0m==================================\n",
      "\n",
      "Hello, Tim! The meaning of life is a profound question that has been explored by philosophers, theologians, and thinkers throughout history. Different cultures and individuals may have varying interpretations. Some find meaning through relationships, love, and connection with others, while others seek purpose through personal achievements, spirituality, or contributing to the greater good. Ultimately, it may be a personal journey for each individual to discover what gives their life meaning. What are your thoughts on it?\n"
     ]
    }
   ],
   "source": [
    "result = graph.invoke(\n",
    "    input={\"question\": \"What is the meaning of life?\"},\n",
    "    config={\"configurable\": {\"name\": \"Tim\"}}\n",
    ")\n",
    "\n",
    "for message in result['messages']:\n",
    "    message.pretty_print()"
   ]
  },
  {
   "cell_type": "code",
   "execution_count": null,
   "metadata": {},
   "outputs": [],
   "source": []
  }
 ],
 "metadata": {
  "kernelspec": {
   "display_name": "agent",
   "language": "python",
   "name": "python3"
  },
  "language_info": {
   "codemirror_mode": {
    "name": "ipython",
    "version": 3
   },
   "file_extension": ".py",
   "mimetype": "text/x-python",
   "name": "python",
   "nbconvert_exporter": "python",
   "pygments_lexer": "ipython3",
   "version": "3.10.17"
  }
 },
 "nbformat": 4,
 "nbformat_minor": 2
}
