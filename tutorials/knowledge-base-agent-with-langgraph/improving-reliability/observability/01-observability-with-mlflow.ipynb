{
 "cells": [
  {
   "cell_type": "markdown",
   "metadata": {},
   "source": [
    "## Observability with MLflow and LangGraph\n",
    "\n",
    "### Overview\n",
    "\n",
    "This demo introduces **MLflow observability** into LangGraph workflows. By tracing and logging each step of a workflow—including LLM invocations and tool usage—developers can monitor, debug, and analyze their pipelines directly from the MLflow UI."
   ]
  },
  {
   "cell_type": "code",
   "execution_count": 21,
   "metadata": {},
   "outputs": [],
   "source": [
    "import mlflow\n",
    "import os\n",
    "from typing import Dict\n",
    "from tavily import TavilyClient\n",
    "from langchain_openai import ChatOpenAI\n",
    "from langchain_core.tools import tool\n",
    "from langgraph.checkpoint.memory import MemorySaver\n",
    "from langgraph.graph import MessagesState\n",
    "from langgraph.graph import START, END, StateGraph\n",
    "from langgraph.prebuilt import ToolNode\n",
    "from langchain_core.messages import HumanMessage, SystemMessage\n",
    "from IPython.display import Image, display"
   ]
  },
  {
   "cell_type": "markdown",
   "metadata": {},
   "source": [
    "### **MLflow Setup**\n",
    "\n",
    "#### a. **Tracking Configuration**\n",
    "\n",
    "- Start a local MLflow server in terminal: `mlflow server`\n",
    "- A local MLflow server is assumed to be running at `http://127.0.0.1:5000`.\n",
    "- This address is set as the MLflow tracking URI."
   ]
  },
  {
   "cell_type": "code",
   "execution_count": 22,
   "metadata": {},
   "outputs": [],
   "source": [
    "tracking_uri = \"http://127.0.0.1:5000\"\n",
    "mlflow.set_tracking_uri(tracking_uri)"
   ]
  },
  {
   "cell_type": "code",
   "execution_count": 23,
   "metadata": {},
   "outputs": [],
   "source": [
    "experiment = mlflow.set_experiment(\"demo\")"
   ]
  },
  {
   "cell_type": "markdown",
   "metadata": {},
   "source": [
    "#### b. **Manual Trace Example**\n",
    "\n",
    "- A simple `add()` function is traced with `@mlflow.trace`.\n",
    "- Inputs and outputs are automatically logged to the MLflow UI."
   ]
  },
  {
   "cell_type": "code",
   "execution_count": 24,
   "metadata": {},
   "outputs": [],
   "source": [
    "@mlflow.trace\n",
    "def add(a, b):\n",
    "    return a + b"
   ]
  },
  {
   "cell_type": "code",
   "execution_count": 25,
   "metadata": {},
   "outputs": [
    {
     "data": {
      "text/plain": [
       "3"
      ]
     },
     "execution_count": 25,
     "metadata": {},
     "output_type": "execute_result"
    },
    {
     "data": {
      "text/html": [
       "\n",
       "<div>\n",
       "  <style scoped>\n",
       "  button {\n",
       "    border: none;\n",
       "    border-radius: 4px;\n",
       "    background-color: rgb(34, 114, 180);\n",
       "    font-family: -apple-system, \"system-ui\", \"Segoe UI\", Roboto, \"Helvetica Neue\", Arial;\n",
       "    font-size: 13px;\n",
       "    color: white;\n",
       "    margin-top: 8px;\n",
       "    margin-bottom: 8px;\n",
       "    padding: 8px 16px;\n",
       "    cursor: pointer;\n",
       "  }\n",
       "  button:hover {\n",
       "    background-color: rgb(66, 153, 224);\n",
       "  }\n",
       "  </style>\n",
       "  <button\n",
       "    onclick=\"\n",
       "        const display = this.nextElementSibling.style.display;\n",
       "        const isCollapsed = display === 'none';\n",
       "        this.nextElementSibling.style.display = isCollapsed ? null : 'none';\n",
       "\n",
       "        const verb = isCollapsed ? 'Collapse' : 'Expand';\n",
       "        this.innerText = `${verb} MLflow Trace`;\n",
       "    \"\n",
       "  >Collapse MLflow Trace</button>\n",
       "  <iframe\n",
       "    id=\"trace-renderer\"\n",
       "    style=\"width: 100%; height: 500px; border: none; resize: vertical;\"\n",
       "    src=\"http://127.0.0.1:5000/static-files/lib/notebook-trace-renderer/index.html?trace_id=7160871f70294f1799d8f5f02d9988a8&amp;experiment_id=947073026680999246&amp;version=2.22.0\"\n",
       "  />\n",
       "</div>\n"
      ],
      "text/plain": [
       "Trace(request_id=7160871f70294f1799d8f5f02d9988a8)"
      ]
     },
     "metadata": {},
     "output_type": "display_data"
    }
   ],
   "source": [
    "add(1, 2)"
   ]
  },
  {
   "cell_type": "markdown",
   "metadata": {},
   "source": [
    "### **Workflow Overview**\n",
    "\n",
    "- The workflow uses a similar structure to previous demos:\n",
    "    - A question is passed to an **entry_point**.\n",
    "    - The **agent** determines whether a **tool** (web search) is needed.\n",
    "    - If required, the **tool** is called and results are returned.\n",
    "- The workflow interrupts at a **breakpoint before tools**, enabling streaming inspection."
   ]
  },
  {
   "cell_type": "code",
   "execution_count": 26,
   "metadata": {},
   "outputs": [],
   "source": [
    "from dotenv import load_dotenv\n",
    "load_dotenv()\n",
    "llm = ChatOpenAI(\n",
    "    model=\"gpt-4o-mini\",\n",
    "    temperature=0.0,\n",
    ")"
   ]
  },
  {
   "cell_type": "code",
   "execution_count": 27,
   "metadata": {},
   "outputs": [],
   "source": [
    "@tool\n",
    "def web_search(question:str)->Dict:\n",
    "    \"\"\"\n",
    "    Return top search results for a given search query\n",
    "    \"\"\"\n",
    "    tavily_client = TavilyClient(api_key=os.getenv(\"TAVILY_API_KEY\"))\n",
    "    response = tavily_client.search(question)\n",
    "    return response"
   ]
  },
  {
   "cell_type": "code",
   "execution_count": 28,
   "metadata": {},
   "outputs": [],
   "source": [
    "class State(MessagesState):\n",
    "    question: str\n",
    "    answer: str"
   ]
  },
  {
   "cell_type": "code",
   "execution_count": 29,
   "metadata": {},
   "outputs": [],
   "source": [
    "llm_with_tools = llm.bind_tools([web_search])"
   ]
  },
  {
   "cell_type": "code",
   "execution_count": 30,
   "metadata": {},
   "outputs": [],
   "source": [
    "def entry_point(state: State):\n",
    "    question = state[\"question\"]\n",
    "    system_message = SystemMessage(\"You conduct web search to respond to user's questions\")\n",
    "    human_message = HumanMessage(question)\n",
    "    messages = [system_message, human_message]\n",
    "    return {\"messages\": messages}"
   ]
  },
  {
   "cell_type": "code",
   "execution_count": 31,
   "metadata": {},
   "outputs": [],
   "source": [
    "def agent(state: State):\n",
    "    messages = state[\"messages\"]\n",
    "    ai_message = llm_with_tools.invoke(messages)\n",
    "    return {\"messages\": ai_message, \"answer\": ai_message.content}"
   ]
  },
  {
   "cell_type": "code",
   "execution_count": 32,
   "metadata": {},
   "outputs": [],
   "source": [
    "def router(state: MessagesState):\n",
    "    last_message = state[\"messages\"][-1]\n",
    "    if last_message.tool_calls:\n",
    "        return \"tools\"\n",
    "\n",
    "    return END"
   ]
  },
  {
   "cell_type": "code",
   "execution_count": 33,
   "metadata": {},
   "outputs": [
    {
     "data": {
      "text/plain": [
       "<langgraph.graph.state.StateGraph at 0x316473430>"
      ]
     },
     "execution_count": 33,
     "metadata": {},
     "output_type": "execute_result"
    }
   ],
   "source": [
    "workflow = StateGraph(State)\n",
    "workflow.add_node(\"entry_point\", entry_point)\n",
    "workflow.add_node(\"agent\", agent)\n",
    "workflow.add_node(\"tools\", ToolNode([web_search]))\n",
    "\n",
    "workflow.add_edge(START, \"entry_point\")\n",
    "workflow.add_edge(\"entry_point\", \"agent\")\n",
    "workflow.add_conditional_edges(\n",
    "    source=\"agent\", \n",
    "    path=router, \n",
    "    path_map=[\"tools\", END]\n",
    ")\n",
    "workflow.add_edge(\"tools\", \"agent\")"
   ]
  },
  {
   "cell_type": "code",
   "execution_count": 34,
   "metadata": {},
   "outputs": [],
   "source": [
    "memory = MemorySaver()\n",
    "graph = workflow.compile(\n",
    "    interrupt_before=[\"tools\"], \n",
    "    checkpointer=memory\n",
    ")"
   ]
  },
  {
   "cell_type": "code",
   "execution_count": 36,
   "metadata": {},
   "outputs": [],
   "source": [
    "# display(\n",
    "#     Image(\n",
    "#         graph.get_graph().draw_mermaid_png()\n",
    "#     )\n",
    "# )"
   ]
  },
  {
   "cell_type": "markdown",
   "metadata": {},
   "source": [
    "### **LangChain Autologging Integration**\n",
    "\n",
    "- `mlflow.langchain.autolog()` is called to enable automatic logging of LangChain events:\n",
    "    - LLM inputs and outputs\n",
    "    - Tool call traces\n",
    "    - Message sequences\n",
    "    - Token usage and performance metrics"
   ]
  },
  {
   "cell_type": "code",
   "execution_count": 37,
   "metadata": {},
   "outputs": [],
   "source": [
    "mlflow.langchain.autolog()"
   ]
  },
  {
   "cell_type": "markdown",
   "metadata": {},
   "source": [
    "### **Execution Example**\n",
    "\n",
    "- Input question: *\"What is the capital of Brazil?\"*\n",
    "- Initial invocation:\n",
    "    - System and human messages are appended.\n",
    "    - The agent node recognizes the need for a tool call (no direct answer yet).\n",
    "- MLflow logs the trace up to the **tool call breakpoint**."
   ]
  },
  {
   "cell_type": "code",
   "execution_count": 38,
   "metadata": {},
   "outputs": [],
   "source": [
    "input_question = {\"question\": \"what's the capital of Brazil?\"}\n",
    "config = {\"configurable\": {\"thread_id\": 1}}"
   ]
  },
  {
   "cell_type": "code",
   "execution_count": 39,
   "metadata": {},
   "outputs": [
    {
     "name": "stdout",
     "output_type": "stream",
     "text": [
      "================================\u001b[1m Human Message \u001b[0m=================================\n",
      "\n",
      "what's the capital of Brazil?\n"
     ]
    },
    {
     "name": "stderr",
     "output_type": "stream",
     "text": [
      "INFO:httpx:HTTP Request: POST https://openai.vocareum.com/v1/chat/completions \"HTTP/1.1 200 OK\"\n"
     ]
    },
    {
     "name": "stdout",
     "output_type": "stream",
     "text": [
      "==================================\u001b[1m Ai Message \u001b[0m==================================\n",
      "Tool Calls:\n",
      "  web_search (call_wbigPKFc7HYP8LhLIPsd8Dc1)\n",
      " Call ID: call_wbigPKFc7HYP8LhLIPsd8Dc1\n",
      "  Args:\n",
      "    question: What is the capital of Brazil?\n"
     ]
    },
    {
     "data": {
      "text/html": [
       "\n",
       "<div>\n",
       "  <style scoped>\n",
       "  button {\n",
       "    border: none;\n",
       "    border-radius: 4px;\n",
       "    background-color: rgb(34, 114, 180);\n",
       "    font-family: -apple-system, \"system-ui\", \"Segoe UI\", Roboto, \"Helvetica Neue\", Arial;\n",
       "    font-size: 13px;\n",
       "    color: white;\n",
       "    margin-top: 8px;\n",
       "    margin-bottom: 8px;\n",
       "    padding: 8px 16px;\n",
       "    cursor: pointer;\n",
       "  }\n",
       "  button:hover {\n",
       "    background-color: rgb(66, 153, 224);\n",
       "  }\n",
       "  </style>\n",
       "  <button\n",
       "    onclick=\"\n",
       "        const display = this.nextElementSibling.style.display;\n",
       "        const isCollapsed = display === 'none';\n",
       "        this.nextElementSibling.style.display = isCollapsed ? null : 'none';\n",
       "\n",
       "        const verb = isCollapsed ? 'Collapse' : 'Expand';\n",
       "        this.innerText = `${verb} MLflow Trace`;\n",
       "    \"\n",
       "  >Collapse MLflow Trace</button>\n",
       "  <iframe\n",
       "    id=\"trace-renderer\"\n",
       "    style=\"width: 100%; height: 500px; border: none; resize: vertical;\"\n",
       "    src=\"http://127.0.0.1:5000/static-files/lib/notebook-trace-renderer/index.html?trace_id=ac6d4b3775f846be9da318ac410c8351&amp;experiment_id=947073026680999246&amp;version=2.22.0\"\n",
       "  />\n",
       "</div>\n"
      ],
      "text/plain": [
       "Trace(request_id=ac6d4b3775f846be9da318ac410c8351)"
      ]
     },
     "metadata": {},
     "output_type": "display_data"
    }
   ],
   "source": [
    "for event in graph.stream(input=input_question, config=config, stream_mode=\"values\"):\n",
    "    if not event['messages']:\n",
    "        continue\n",
    "    event['messages'][-1].pretty_print()"
   ]
  },
  {
   "cell_type": "markdown",
   "metadata": {},
   "source": [
    "#### a. **Tool Node Execution**\n",
    "\n",
    "- The tool node (Tavily web search) is executed.\n",
    "- Output: Top results related to the question are logged."
   ]
  },
  {
   "cell_type": "code",
   "execution_count": 40,
   "metadata": {},
   "outputs": [],
   "source": [
    "state = graph.get_state(config=config)"
   ]
  },
  {
   "cell_type": "code",
   "execution_count": 41,
   "metadata": {},
   "outputs": [
    {
     "data": {
      "text/plain": [
       "('tools',)"
      ]
     },
     "execution_count": 41,
     "metadata": {},
     "output_type": "execute_result"
    }
   ],
   "source": [
    "state.next"
   ]
  },
  {
   "cell_type": "code",
   "execution_count": 42,
   "metadata": {},
   "outputs": [
    {
     "name": "stdout",
     "output_type": "stream",
     "text": [
      "==================================\u001b[1m Ai Message \u001b[0m==================================\n",
      "Tool Calls:\n",
      "  web_search (call_wbigPKFc7HYP8LhLIPsd8Dc1)\n",
      " Call ID: call_wbigPKFc7HYP8LhLIPsd8Dc1\n",
      "  Args:\n",
      "    question: What is the capital of Brazil?\n",
      "=================================\u001b[1m Tool Message \u001b[0m=================================\n",
      "Name: web_search\n",
      "\n",
      "{\"query\": \"What is the capital of Brazil?\", \"follow_up_questions\": null, \"answer\": null, \"images\": [], \"results\": [{\"title\": \"Brasília - Wikipedia\", \"url\": \"https://en.wikipedia.org/wiki/Brasília\", \"content\": \"445 Region Latin America and the Caribbean Brasília (/brəˈzɪliə/ brə-ZIL-ee-ə,[4][5] Portuguese: [bɾaˈzili.ɐ, bɾaˈziljɐ] ⓘ) is the capital city of Brazil. Located in the Brazilian highlands in the country's Central-West region, it is the seat of government of the Federal District. It was founded by President Juscelino Kubitschek on 21 April 1960, to replace Rio de Janeiro as the national capital. [6] Brasília is a planned city developed by Lúcio Costa, Oscar Niemeyer and Joaquim Cardozo in 1956 in a scheme to move the capital from Rio de Janeiro to a more central location. Brasília was inscribed as a UNESCO World Heritage Site in 1987 due to its modernist architecture and uniquely artistic urban planning.\", \"score\": 0.9296516, \"raw_content\": null}, {\"title\": \"What Is The Capital of Brazil? - WorldAtlas\", \"url\": \"https://www.worldatlas.com/articles/what-is-the-capital-of-brazil.html\", \"content\": \"However, what was the capital city of Brazil before Brasilia became the capital? Rio de Janeiro would be made the capital of Brazil until 1960. When Rio de Janeiro was the capital of Brazil, this is where the majority of its population, resources, and economic activities have resided. Rio de Janeiro's position as capital city of Brazil reflected the geographic distribution of Brazil's population throughout much of its history. That clause stated that the capital city of Brazil should be moved from Rio de Janeiro to a place further inland, where it would have a relatively central location. Brazil's capital city being relocated to Brasilia reflects a desire to move the capital to a more central location.\", \"score\": 0.91760606, \"raw_content\": null}, {\"title\": \"Capitals of Brazil - Wikipedia\", \"url\": \"https://en.wikipedia.org/wiki/Capitals_of_Brazil\", \"content\": \"Jump to content Personal tools Toggle the table of contents Edit Tools From Wikipedia, the free encyclopedia This article needs additional citations for verification. The city became the seat of the first Catholic bishopric of Brazil in 1552 and is still the center of Brazilian Catholicism. The Portuguese capital was temporarily transferred from Europe to Rio de Janeiro. This article about politics in Brazil is a stub. You can help Wikipedia by expanding it. Categories: Government of BrazilPolitical history of BrazilCapitals by countryBrazil politics stubs Text is available under the Creative Commons Attribution-ShareAlike 4.0 License; additional terms may apply. By using this site, you agree to the Terms of Use and Privacy Policy. Privacy policy About Wikipedia Contact Wikipedia Mobile view\", \"score\": 0.8302782, \"raw_content\": null}, {\"title\": \"Brasília - Simple English Wikipedia, the free encyclopedia\", \"url\": \"https://simple.wikipedia.org/wiki/Brasília\", \"content\": \"The name is commonly spelled Brasilia in English. The city and its Federal District are in the Central-West region of the country. It is the fourth largest city in Brazil. It is listed as a World Heritage Site. [4] As the national capital, Brasília is the seat of all three branches of the Brazilian government.\", \"score\": 0.81979275, \"raw_content\": null}, {\"title\": \"Brasilia | Facts, History, Map, & Architecture | Britannica\", \"url\": \"https://www.britannica.com/place/Brasilia\", \"content\": \"The Editors of Encyclopaedia Britannica Last Updated: Feb 6, 2025 • Article History Table of Contents Table of Contents Ask the Chatbot a Question 1 of 2 Brasília(more) 2 of 2 Brasília(more) Brasília, city, federal capital of Brazil. It is located in the Federal District (Distrito Federal) carved out of Goiás state on the central plateau of Brazil. At an elevation of some 3,500 feet (1,100 meters), it lies between the headwaters of the Tocantins, Paraná, and São Francisco rivers. Because of its unique city plan and architecture, as well as its unprecedented role in the development of the Brazilian interior, the city was designated a UNESCO World Heritage site in 1987.\", \"score\": 0.8116913, \"raw_content\": null}], \"response_time\": 0.67}\n"
     ]
    },
    {
     "name": "stderr",
     "output_type": "stream",
     "text": [
      "INFO:httpx:HTTP Request: POST https://openai.vocareum.com/v1/chat/completions \"HTTP/1.1 200 OK\"\n"
     ]
    },
    {
     "name": "stdout",
     "output_type": "stream",
     "text": [
      "==================================\u001b[1m Ai Message \u001b[0m==================================\n",
      "\n",
      "The capital of Brazil is Brasília. It was founded on April 21, 1960, to replace Rio de Janeiro as the national capital. Brasília is located in the Central-West region of Brazil and is known for its modernist architecture and urban planning. \n",
      "\n",
      "For more information, you can visit the [Wikipedia page on Brasília](https://en.wikipedia.org/wiki/Brasília).\n"
     ]
    },
    {
     "data": {
      "text/html": [
       "\n",
       "<div>\n",
       "  <style scoped>\n",
       "  button {\n",
       "    border: none;\n",
       "    border-radius: 4px;\n",
       "    background-color: rgb(34, 114, 180);\n",
       "    font-family: -apple-system, \"system-ui\", \"Segoe UI\", Roboto, \"Helvetica Neue\", Arial;\n",
       "    font-size: 13px;\n",
       "    color: white;\n",
       "    margin-top: 8px;\n",
       "    margin-bottom: 8px;\n",
       "    padding: 8px 16px;\n",
       "    cursor: pointer;\n",
       "  }\n",
       "  button:hover {\n",
       "    background-color: rgb(66, 153, 224);\n",
       "  }\n",
       "  </style>\n",
       "  <button\n",
       "    onclick=\"\n",
       "        const display = this.nextElementSibling.style.display;\n",
       "        const isCollapsed = display === 'none';\n",
       "        this.nextElementSibling.style.display = isCollapsed ? null : 'none';\n",
       "\n",
       "        const verb = isCollapsed ? 'Collapse' : 'Expand';\n",
       "        this.innerText = `${verb} MLflow Trace`;\n",
       "    \"\n",
       "  >Collapse MLflow Trace</button>\n",
       "  <iframe\n",
       "    id=\"trace-renderer\"\n",
       "    style=\"width: 100%; height: 500px; border: none; resize: vertical;\"\n",
       "    src=\"http://127.0.0.1:5000/static-files/lib/notebook-trace-renderer/index.html?trace_id=bc4048e9f9a54a95854f3cb9ea7d613d&amp;experiment_id=947073026680999246&amp;version=2.22.0\"\n",
       "  />\n",
       "</div>\n"
      ],
      "text/plain": [
       "Trace(request_id=bc4048e9f9a54a95854f3cb9ea7d613d)"
      ]
     },
     "metadata": {},
     "output_type": "display_data"
    }
   ],
   "source": [
    "for event in graph.stream(input=None, config=config, stream_mode=\"values\"):\n",
    "    if not event['messages']:\n",
    "        continue\n",
    "    event['messages'][-1].pretty_print()"
   ]
  },
  {
   "cell_type": "markdown",
   "metadata": {},
   "source": [
    "### **Reviewing the Trace in MLflow UI**\n",
    "\n",
    "- Each node’s inputs and outputs are logged:\n",
    "    - Entry point: initial user input and message formatting.\n",
    "    - Agent: LLM messages and tool call info.\n",
    "    - Tool: external API invocation and response data.\n",
    "    - Final agent call: formatted answer to the user.\n",
    "- MLflow panels show:\n",
    "    - Run timeline\n",
    "    - Artifact logs\n",
    "    - Token counts\n",
    "    - Inputs/outputs per node"
   ]
  },
  {
   "cell_type": "markdown",
   "metadata": {},
   "source": [
    "### **Conclusion**\n",
    "\n",
    "- **Breakpoints** provide pause-and-inspect control.\n",
    "- **Traces** log the full context of decision-making and tool use.\n",
    "- **MLflow + LangChain** combination brings transparency and observability to LLM-based workflows.\n",
    "- Easy to debug issues, understand performance, and trace final outputs to original prompts or tool responses.\n",
    "\n",
    "- Integrating **MLflow with LangGraph and LangChain** gives developers critical insight into how AI workflows behave.\n",
    "- Each component’s behavior becomes traceable, auditable, and optimizable.\n",
    "- This observability is crucial for safe, production-grade LLM applications."
   ]
  }
 ],
 "metadata": {
  "kernelspec": {
   "display_name": "agent",
   "language": "python",
   "name": "python3"
  },
  "language_info": {
   "codemirror_mode": {
    "name": "ipython",
    "version": 3
   },
   "file_extension": ".py",
   "mimetype": "text/x-python",
   "name": "python",
   "nbconvert_exporter": "python",
   "pygments_lexer": "ipython3",
   "version": "3.10.17"
  }
 },
 "nbformat": 4,
 "nbformat_minor": 2
}
