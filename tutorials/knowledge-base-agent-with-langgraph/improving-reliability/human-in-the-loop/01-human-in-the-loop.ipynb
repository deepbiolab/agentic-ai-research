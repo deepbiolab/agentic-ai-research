{
 "cells": [
  {
   "cell_type": "markdown",
   "metadata": {},
   "source": [
    "## Human-in-the-Loop Approvals and Edits in LangGraph Workflows\n",
    "\n",
    "### Overview\n",
    "\n",
    "This demo introduces **human-in-the-loop (HITL)** techniques for LangGraph workflows, allowing users to **approve**, **reject**, or **edit** the state before certain actions (like tool calls) proceed. This control mechanism is vital for building safe and supervised AI systems."
   ]
  },
  {
   "cell_type": "code",
   "execution_count": 31,
   "metadata": {},
   "outputs": [
    {
     "data": {
      "text/plain": [
       "True"
      ]
     },
     "execution_count": 31,
     "metadata": {},
     "output_type": "execute_result"
    }
   ],
   "source": [
    "import os\n",
    "from typing import Dict\n",
    "from tavily import TavilyClient\n",
    "from langchain_openai import ChatOpenAI\n",
    "from langchain_core.tools import tool\n",
    "from langgraph.checkpoint.memory import MemorySaver\n",
    "from langgraph.graph import MessagesState\n",
    "from langgraph.graph import START, END, StateGraph\n",
    "from langgraph.prebuilt import ToolNode\n",
    "from langgraph.graph.state import CompiledStateGraph\n",
    "from langchain_core.messages import AIMessage, HumanMessage, SystemMessage\n",
    "from IPython.display import Image, display\n",
    "\n",
    "from dotenv import load_dotenv\n",
    "load_dotenv()"
   ]
  },
  {
   "cell_type": "markdown",
   "metadata": {},
   "source": [
    "### **State Definition**\n",
    "\n",
    "- The custom state includes:\n",
    "    - `question`: str\n",
    "    - `answer`: str\n",
    "- `MessagesState` is inherited for managing message history."
   ]
  },
  {
   "cell_type": "code",
   "execution_count": 61,
   "metadata": {},
   "outputs": [],
   "source": [
    "class State(MessagesState):\n",
    "    question: str\n",
    "    answer: str"
   ]
  },
  {
   "cell_type": "markdown",
   "metadata": {},
   "source": [
    "### **Workflow**"
   ]
  },
  {
   "cell_type": "markdown",
   "metadata": {},
   "source": [
    "#### **Search Node**"
   ]
  },
  {
   "cell_type": "code",
   "execution_count": 62,
   "metadata": {},
   "outputs": [],
   "source": [
    "llm = ChatOpenAI(\n",
    "    model=\"gpt-4o-mini\",\n",
    "    temperature=0.0,\n",
    ")\n",
    "\n",
    "@tool\n",
    "def web_search(question:str)->Dict:\n",
    "    \"\"\"\n",
    "    Return top search results for a given search query\n",
    "    \"\"\"\n",
    "    tavily_client = TavilyClient(api_key=os.getenv(\"TAVILY_API_KEY\"))\n",
    "    response = tavily_client.search(question)\n",
    "    return response\n",
    "\n",
    "llm_with_tools = llm.bind_tools([web_search])\n",
    "\n",
    "search = ToolNode([web_search])"
   ]
  },
  {
   "cell_type": "markdown",
   "metadata": {},
   "source": [
    "#### **Entry Node**\n",
    "- Receives the user question and builds system and human messages."
   ]
  },
  {
   "cell_type": "code",
   "execution_count": 63,
   "metadata": {},
   "outputs": [],
   "source": [
    "def entry_point(state: State):\n",
    "    question = state[\"question\"]\n",
    "    system_message = SystemMessage(\"You conduct web search to respond to user's questions\")\n",
    "    human_message = HumanMessage(question)\n",
    "    messages = [system_message, human_message]\n",
    "    return {\"messages\": messages}"
   ]
  },
  {
   "cell_type": "markdown",
   "metadata": {},
   "source": [
    "#### **Agent Node**\n",
    "- Binds the web search tool to the LLM.\n",
    "- Invokes the LLM with the current messages.\n",
    "- Updates the answer field."
   ]
  },
  {
   "cell_type": "code",
   "execution_count": 64,
   "metadata": {},
   "outputs": [],
   "source": [
    "def agent(state: State):\n",
    "    messages = state[\"messages\"]\n",
    "    ai_message = llm_with_tools.invoke(messages)\n",
    "    return {\"messages\": ai_message, \"answer\": ai_message.content}"
   ]
  },
  {
   "cell_type": "markdown",
   "metadata": {},
   "source": [
    "#### **Router**\n",
    "\n",
    "- If the latest message contains **tool_calls**, the workflow proceeds to `tools`.\n",
    "- Otherwise, it terminates."
   ]
  },
  {
   "cell_type": "code",
   "execution_count": 65,
   "metadata": {},
   "outputs": [],
   "source": [
    "def router(state: MessagesState):\n",
    "    last_message = state[\"messages\"][-1]\n",
    "    if last_message.tool_calls:\n",
    "        return \"tools\"\n",
    "\n",
    "    return END"
   ]
  },
  {
   "cell_type": "markdown",
   "metadata": {},
   "source": [
    "#### **Graph**"
   ]
  },
  {
   "cell_type": "code",
   "execution_count": 66,
   "metadata": {},
   "outputs": [
    {
     "data": {
      "text/plain": [
       "<langgraph.graph.state.StateGraph at 0x1264e3070>"
      ]
     },
     "execution_count": 66,
     "metadata": {},
     "output_type": "execute_result"
    }
   ],
   "source": [
    "workflow = StateGraph(State)\n",
    "workflow.add_node(\"entry_point\", entry_point)\n",
    "workflow.add_node(\"agent\", agent)\n",
    "workflow.add_node(\"tools\", search)\n",
    "\n",
    "workflow.add_edge(START, \"entry_point\")\n",
    "workflow.add_edge(\"entry_point\", \"agent\")\n",
    "workflow.add_conditional_edges(\n",
    "    source=\"agent\", \n",
    "    path=router, \n",
    "    path_map=[\"tools\", END]\n",
    ")\n",
    "workflow.add_edge(\"tools\", \"agent\")"
   ]
  },
  {
   "cell_type": "markdown",
   "metadata": {},
   "source": [
    "### **Memory**"
   ]
  },
  {
   "cell_type": "code",
   "execution_count": 67,
   "metadata": {},
   "outputs": [],
   "source": [
    "memory = MemorySaver()"
   ]
  },
  {
   "cell_type": "markdown",
   "metadata": {},
   "source": [
    "### **Breakpoints**\n",
    "\n",
    "- During graph compilation, `interrupt_before=[\"tools\"]` is specified.\n",
    "- This **pauses** the workflow execution **before tools are called**."
   ]
  },
  {
   "cell_type": "code",
   "execution_count": 68,
   "metadata": {},
   "outputs": [],
   "source": [
    "graph = workflow.compile(\n",
    "    interrupt_before=[\"tools\"], \n",
    "    checkpointer=memory\n",
    ")"
   ]
  },
  {
   "cell_type": "code",
   "execution_count": 69,
   "metadata": {},
   "outputs": [
    {
     "data": {
      "image/png": "[encoded data removed]",
      "text/plain": [
       "<IPython.core.display.Image object>"
      ]
     },
     "metadata": {},
     "output_type": "display_data"
    }
   ],
   "source": [
    "display(\n",
    "    Image(\n",
    "        graph.get_graph().draw_mermaid_png()\n",
    "    )\n",
    ")"
   ]
  },
  {
   "cell_type": "markdown",
   "metadata": {},
   "source": [
    "### **Initial example**"
   ]
  },
  {
   "cell_type": "code",
   "execution_count": 70,
   "metadata": {},
   "outputs": [],
   "source": [
    "input_question = {\"question\": \"what's the capital of Brazil?\"}\n",
    "config = {\"configurable\": {\"thread_id\": 1}}"
   ]
  },
  {
   "cell_type": "code",
   "execution_count": 71,
   "metadata": {},
   "outputs": [
    {
     "name": "stdout",
     "output_type": "stream",
     "text": [
      "================================\u001b[1m Human Message \u001b[0m=================================\n",
      "\n",
      "what's the capital of Brazil?\n",
      "==================================\u001b[1m Ai Message \u001b[0m==================================\n",
      "Tool Calls:\n",
      "  web_search (call_6yZAgXKLIJMBgj8lOdEX6OYJ)\n",
      " Call ID: call_6yZAgXKLIJMBgj8lOdEX6OYJ\n",
      "  Args:\n",
      "    question: What is the capital of Brazil?\n"
     ]
    }
   ],
   "source": [
    "for event in graph.stream(input=input_question, config=config, stream_mode=\"values\"):\n",
    "    if not event['messages']:\n",
    "        continue\n",
    "    event['messages'][-1].pretty_print()"
   ]
  },
  {
   "cell_type": "code",
   "execution_count": 72,
   "metadata": {},
   "outputs": [],
   "source": [
    "state = graph.get_state(config=config)"
   ]
  },
  {
   "cell_type": "code",
   "execution_count": 73,
   "metadata": {},
   "outputs": [
    {
     "data": {
      "text/plain": [
       "StateSnapshot(values={'messages': [SystemMessage(content=\"You conduct web search to respond to user's questions\", additional_kwargs={}, response_metadata={}, id='87620a5a-13bf-45cd-98fb-a982c5100ac2'), HumanMessage(content=\"what's the capital of Brazil?\", additional_kwargs={}, response_metadata={}, id='40870955-4ecf-407f-818a-8ec3f25a80a2'), AIMessage(content='', additional_kwargs={'tool_calls': [{'id': 'call_6yZAgXKLIJMBgj8lOdEX6OYJ', 'function': {'arguments': '{\"question\":\"What is the capital of Brazil?\"}', 'name': 'web_search'}, 'type': 'function'}], 'refusal': None}, response_metadata={'token_usage': {'completion_tokens': 21, 'prompt_tokens': 64, 'total_tokens': 85, 'completion_tokens_details': {'accepted_prediction_tokens': 0, 'audio_tokens': 0, 'reasoning_tokens': 0, 'rejected_prediction_tokens': 0}, 'prompt_tokens_details': {'audio_tokens': 0, 'cached_tokens': 0}}, 'model_name': 'gpt-4o-mini-2024-07-18', 'system_fingerprint': 'fp_0392822090', 'id': 'chatcmpl-BUnn0AMv2WnQaPDoEFgrWGqm0CmLV', 'service_tier': 'default', 'finish_reason': 'tool_calls', 'logprobs': None}, id='run--0ca6fa5d-0e38-4e66-b8ba-21c12ffc5179-0', tool_calls=[{'name': 'web_search', 'args': {'question': 'What is the capital of Brazil?'}, 'id': 'call_6yZAgXKLIJMBgj8lOdEX6OYJ', 'type': 'tool_call'}], usage_metadata={'input_tokens': 64, 'output_tokens': 21, 'total_tokens': 85, 'input_token_details': {'audio': 0, 'cache_read': 0}, 'output_token_details': {'audio': 0, 'reasoning': 0}})], 'question': \"what's the capital of Brazil?\", 'answer': ''}, next=('tools',), config={'configurable': {'thread_id': '1', 'checkpoint_ns': '', 'checkpoint_id': '1f02bca8-78fd-65d0-8002-e2df1699013d'}}, metadata={'source': 'loop', 'writes': {'agent': {'messages': AIMessage(content='', additional_kwargs={'tool_calls': [{'id': 'call_6yZAgXKLIJMBgj8lOdEX6OYJ', 'function': {'arguments': '{\"question\":\"What is the capital of Brazil?\"}', 'name': 'web_search'}, 'type': 'function'}], 'refusal': None}, response_metadata={'token_usage': {'completion_tokens': 21, 'prompt_tokens': 64, 'total_tokens': 85, 'completion_tokens_details': {'accepted_prediction_tokens': 0, 'audio_tokens': 0, 'reasoning_tokens': 0, 'rejected_prediction_tokens': 0}, 'prompt_tokens_details': {'audio_tokens': 0, 'cached_tokens': 0}}, 'model_name': 'gpt-4o-mini-2024-07-18', 'system_fingerprint': 'fp_0392822090', 'id': 'chatcmpl-BUnn0AMv2WnQaPDoEFgrWGqm0CmLV', 'service_tier': 'default', 'finish_reason': 'tool_calls', 'logprobs': None}, id='run--0ca6fa5d-0e38-4e66-b8ba-21c12ffc5179-0', tool_calls=[{'name': 'web_search', 'args': {'question': 'What is the capital of Brazil?'}, 'id': 'call_6yZAgXKLIJMBgj8lOdEX6OYJ', 'type': 'tool_call'}], usage_metadata={'input_tokens': 64, 'output_tokens': 21, 'total_tokens': 85, 'input_token_details': {'audio': 0, 'cache_read': 0}, 'output_token_details': {'audio': 0, 'reasoning': 0}}), 'answer': ''}}, 'step': 2, 'parents': {}, 'thread_id': 1}, created_at='2025-05-08T05:08:50.622388+00:00', parent_config={'configurable': {'thread_id': '1', 'checkpoint_ns': '', 'checkpoint_id': '1f02bca8-6755-6102-8001-c4d0a25523b3'}}, tasks=(PregelTask(id='70f881eb-434b-ad1c-b4d1-6477d963f931', name='tools', path=('__pregel_pull', 'tools'), error=None, interrupts=(), state=None, result=None),), interrupts=())"
      ]
     },
     "execution_count": 73,
     "metadata": {},
     "output_type": "execute_result"
    }
   ],
   "source": [
    "state"
   ]
  },
  {
   "cell_type": "code",
   "execution_count": 74,
   "metadata": {},
   "outputs": [
    {
     "data": {
      "text/plain": [
       "('tools',)"
      ]
     },
     "execution_count": 74,
     "metadata": {},
     "output_type": "execute_result"
    }
   ],
   "source": [
    "state.next"
   ]
  },
  {
   "cell_type": "code",
   "execution_count": 75,
   "metadata": {},
   "outputs": [
    {
     "name": "stdout",
     "output_type": "stream",
     "text": [
      "==================================\u001b[1m Ai Message \u001b[0m==================================\n",
      "Tool Calls:\n",
      "  web_search (call_6yZAgXKLIJMBgj8lOdEX6OYJ)\n",
      " Call ID: call_6yZAgXKLIJMBgj8lOdEX6OYJ\n",
      "  Args:\n",
      "    question: What is the capital of Brazil?\n",
      "=================================\u001b[1m Tool Message \u001b[0m=================================\n",
      "Name: web_search\n",
      "\n",
      "{\"query\": \"What is the capital of Brazil?\", \"follow_up_questions\": null, \"answer\": null, \"images\": [], \"results\": [{\"title\": \"Brasília - Wikipedia\", \"url\": \"https://en.wikipedia.org/wiki/Brasília\", \"content\": \"445 Region Latin America and the Caribbean Brasília (/brəˈzɪliə/ brə-ZIL-ee-ə,[4][5] Portuguese: [bɾaˈzili.ɐ, bɾaˈziljɐ] ⓘ) is the capital city of Brazil. Located in the Brazilian highlands in the country's Central-West region, it is the seat of government of the Federal District. It was founded by President Juscelino Kubitschek on 21 April 1960, to replace Rio de Janeiro as the national capital. [6] Brasília is a planned city developed by Lúcio Costa, Oscar Niemeyer and Joaquim Cardozo in 1956 in a scheme to move the capital from Rio de Janeiro to a more central location. Brasília was inscribed as a UNESCO World Heritage Site in 1987 due to its modernist architecture and uniquely artistic urban planning.\", \"score\": 0.9296516, \"raw_content\": null}, {\"title\": \"What Is The Capital of Brazil? - WorldAtlas\", \"url\": \"https://www.worldatlas.com/articles/what-is-the-capital-of-brazil.html\", \"content\": \"However, what was the capital city of Brazil before Brasilia became the capital? Rio de Janeiro would be made the capital of Brazil until 1960. When Rio de Janeiro was the capital of Brazil, this is where the majority of its population, resources, and economic activities have resided. Rio de Janeiro's position as capital city of Brazil reflected the geographic distribution of Brazil's population throughout much of its history. That clause stated that the capital city of Brazil should be moved from Rio de Janeiro to a place further inland, where it would have a relatively central location. Brazil's capital city being relocated to Brasilia reflects a desire to move the capital to a more central location.\", \"score\": 0.91760606, \"raw_content\": null}, {\"title\": \"Capitals of Brazil - Wikipedia\", \"url\": \"https://en.wikipedia.org/wiki/Capitals_of_Brazil\", \"content\": \"Jump to content Personal tools Toggle the table of contents Edit Tools From Wikipedia, the free encyclopedia This article needs additional citations for verification. The city became the seat of the first Catholic bishopric of Brazil in 1552 and is still the center of Brazilian Catholicism. The Portuguese capital was temporarily transferred from Europe to Rio de Janeiro. This article about politics in Brazil is a stub. You can help Wikipedia by expanding it. Categories: Government of BrazilPolitical history of BrazilCapitals by countryBrazil politics stubs Text is available under the Creative Commons Attribution-ShareAlike 4.0 License; additional terms may apply. By using this site, you agree to the Terms of Use and Privacy Policy. Privacy policy About Wikipedia Contact Wikipedia Mobile view\", \"score\": 0.8302782, \"raw_content\": null}, {\"title\": \"Brasília - Simple English Wikipedia, the free encyclopedia\", \"url\": \"https://simple.wikipedia.org/wiki/Brasília\", \"content\": \"The name is commonly spelled Brasilia in English. The city and its Federal District are in the Central-West region of the country. It is the fourth largest city in Brazil. It is listed as a World Heritage Site. [4] As the national capital, Brasília is the seat of all three branches of the Brazilian government.\", \"score\": 0.81979275, \"raw_content\": null}, {\"title\": \"Brasilia | Facts, History, Map, & Architecture | Britannica\", \"url\": \"https://www.britannica.com/place/Brasilia\", \"content\": \"The Editors of Encyclopaedia Britannica Last Updated: Feb 6, 2025 • Article History Table of Contents Table of Contents Ask the Chatbot a Question 1 of 2 Brasília(more) 2 of 2 Brasília(more) Brasília, city, federal capital of Brazil. It is located in the Federal District (Distrito Federal) carved out of Goiás state on the central plateau of Brazil. At an elevation of some 3,500 feet (1,100 meters), it lies between the headwaters of the Tocantins, Paraná, and São Francisco rivers. Because of its unique city plan and architecture, as well as its unprecedented role in the development of the Brazilian interior, the city was designated a UNESCO World Heritage site in 1987.\", \"score\": 0.8116913, \"raw_content\": null}], \"response_time\": 1.56}\n",
      "==================================\u001b[1m Ai Message \u001b[0m==================================\n",
      "\n",
      "The capital of Brazil is Brasília. It was founded on April 21, 1960, to replace Rio de Janeiro as the national capital. Brasília is located in the Brazilian highlands in the Central-West region of the country and is known for its modernist architecture and urban planning. \n",
      "\n",
      "For more information, you can visit the [Wikipedia page on Brasília](https://en.wikipedia.org/wiki/Brasília).\n"
     ]
    }
   ],
   "source": [
    "for event in graph.stream(input=None, config=config, stream_mode=\"values\"):\n",
    "    if not event['messages']:\n",
    "        continue\n",
    "    event['messages'][-1].pretty_print()"
   ]
  },
  {
   "cell_type": "markdown",
   "metadata": {},
   "source": [
    "### **Human Approval Flow**\n",
    "\n",
    "#### a. **Basic Approval**\n",
    "\n",
    "- A function `human_in_the_loop_run` streams the workflow.\n",
    "- After seeing the agent’s intent (e.g., to call a tool), the human is prompted:\n",
    "    - **YES**: Continue execution.\n",
    "    - **NO**: Abort workflow."
   ]
  },
  {
   "cell_type": "code",
   "execution_count": 76,
   "metadata": {},
   "outputs": [],
   "source": [
    "def human_in_the_loop_run(graph:CompiledStateGraph, question:str, thread_id:int):\n",
    "    input_question = {\"question\": question}\n",
    "    config = {\"configurable\": {\"thread_id\": thread_id}}\n",
    "    for event in graph.stream(input=input_question, config=config, stream_mode=\"values\"):\n",
    "        if not event['messages']:\n",
    "            continue\n",
    "        event['messages'][-1].pretty_print()\n",
    "    \n",
    "    human_input = input(\"Do you approve the tool calling? (YES or NO): \")\n",
    "    if human_input.lower() == \"yes\":\n",
    "        for event in graph.stream(input=None, config=config, stream_mode=\"values\"):\n",
    "            if not event['messages']:\n",
    "                continue\n",
    "            event['messages'][-1].pretty_print()\n",
    "    \n",
    "    else:\n",
    "        SystemMessage(\"Workflow aborted by a human\").pretty_print()"
   ]
  },
  {
   "cell_type": "code",
   "execution_count": 77,
   "metadata": {},
   "outputs": [
    {
     "name": "stdout",
     "output_type": "stream",
     "text": [
      "================================\u001b[1m Human Message \u001b[0m=================================\n",
      "\n",
      "what's the capital of Brazil?\n",
      "==================================\u001b[1m Ai Message \u001b[0m==================================\n",
      "Tool Calls:\n",
      "  web_search (call_ZTGDwMCs00U2mcTMo9awrkXY)\n",
      " Call ID: call_ZTGDwMCs00U2mcTMo9awrkXY\n",
      "  Args:\n",
      "    question: What is the capital of Brazil?\n",
      "================================\u001b[1m System Message \u001b[0m================================\n",
      "\n",
      "Workflow aborted by a human\n"
     ]
    }
   ],
   "source": [
    "human_in_the_loop_run(\n",
    "    graph=graph,\n",
    "    question=\"what's the capital of Brazil?\",\n",
    "    thread_id=2,\n",
    ")"
   ]
  },
  {
   "cell_type": "code",
   "execution_count": 78,
   "metadata": {},
   "outputs": [
    {
     "name": "stdout",
     "output_type": "stream",
     "text": [
      "================================\u001b[1m Human Message \u001b[0m=================================\n",
      "\n",
      "what's the capital of Mexico?\n",
      "==================================\u001b[1m Ai Message \u001b[0m==================================\n",
      "Tool Calls:\n",
      "  web_search (call_7fk4vXFsmT35n4gDcarYd3bm)\n",
      " Call ID: call_7fk4vXFsmT35n4gDcarYd3bm\n",
      "  Args:\n",
      "    question: capital of Mexico\n",
      "==================================\u001b[1m Ai Message \u001b[0m==================================\n",
      "Tool Calls:\n",
      "  web_search (call_7fk4vXFsmT35n4gDcarYd3bm)\n",
      " Call ID: call_7fk4vXFsmT35n4gDcarYd3bm\n",
      "  Args:\n",
      "    question: capital of Mexico\n",
      "=================================\u001b[1m Tool Message \u001b[0m=================================\n",
      "Name: web_search\n",
      "\n",
      "{\"query\": \"capital of Mexico\", \"follow_up_questions\": null, \"answer\": null, \"images\": [], \"results\": [{\"title\": \"Mexico City | Population, Weather, Attractions, Culture, & History ...\", \"url\": \"https://www.britannica.com/place/Mexico-City\", \"content\": \"Mexico City is the capital of Mexico and is synonymous with the country’s Federal District. The term Mexico City can also apply to the capital’s metropolitan area, which includes the Federal District but extends beyond it to the west, north, and east. Mexico City is one of the most important political, cultural, educational, and financial centres in North America. (more) Mexico City, city and capital of Mexico, synonymous with the Federal District (Distrito Federal; D.F.). The term Mexico City can also apply to the capital’s metropolitan area, which includes the Federal District but extends beyond it to the west, north, and east, where the state (estado) of México surrounds it on three sides.\", \"score\": 0.8380581, \"raw_content\": null}, {\"title\": \"Mexico City - Simple English Wikipedia, the free encyclopedia\", \"url\": \"https://simple.wikipedia.org/wiki/Mexico_City\", \"content\": \"Mexico City is the capital and largest city of Mexico, with about 9 million people. It was founded by the Aztecs and later by the Spaniards, and it is in the Valley of Mexico at 2,300 meters elevation.\", \"score\": 0.8296166, \"raw_content\": null}, {\"title\": \"What is the Capital of Mexico? - Mappr\", \"url\": \"https://www.mappr.co/capital-cities/mexico/\", \"content\": \"Learn about Mexico City, the capital and the most populous city in Mexico, located in the Valley of Mexico. Discover its rich history, from the Aztec empire to the modern metropolis, and its features, such as geography, climate, population, and economy.\", \"score\": 0.82117355, \"raw_content\": null}, {\"title\": \"Mexico City - Wikipedia\", \"url\": \"https://en.wikipedia.org/wiki/Mexico_City\", \"content\": \"Ever since, left-wing parties (first the Party of the Democratic Revolution and later the National Regeneration Movement) have controlled both of them.[24] The city has several progressive policies,[25][26] such as elective abortions,[27] a limited form of euthanasia,[28] no-fault divorce,[29] same-sex marriage,[30] and legal gender change.[31] On 29 January 2016, it ceased to be the Federal District (Spanish: Distrito Federal or D.F.) and is now officially known as Ciudad de México (or CDMX), with a greater degree of autonomy.[32][33] A clause in the Constitution of Mexico, however, prevents it from becoming a state within the Mexican federation, as long it remains the capital of the country.[34] The Museo de San Ildefonso, housed in the Antiguo Colegio de San Ildefonso in Mexico City's historic downtown district is a 17th-century colonnaded palace housing an art museum that regularly hosts world-class exhibits of Mexican and international art.\", \"score\": 0.6554468, \"raw_content\": null}, {\"title\": \"Mexico Maps & Facts - World Atlas\", \"url\": \"https://www.worldatlas.com/maps/mexico\", \"content\": \"Mexico, located in the southern part of North America, spans an area of 1,972,550 sq. The country borders the United States to the north, Guatemala and Belize to the southeast, the Pacific Ocean to the west, and the Gulf of Mexico and the Caribbean Sea to the east. Mexico is a country located in the southern part of North America. Mexico shares land borders with the United States of America to the north and with Guatemala and Belize to the southeast. Mexico Bordering Countries: The United States Of America, Guatemala, Belize. The above blank map represents Mexico, a country located in the southern part of North America. The above outline map represents Mexico – a country in southern North America.\", \"score\": 0.10007563, \"raw_content\": null}], \"response_time\": 1.43}\n",
      "==================================\u001b[1m Ai Message \u001b[0m==================================\n",
      "\n",
      "The capital of Mexico is Mexico City. It is the largest city in the country and serves as a major political, cultural, educational, and financial center in North America. You can find more information about Mexico City [here](https://www.britannica.com/place/Mexico-City).\n"
     ]
    }
   ],
   "source": [
    "human_in_the_loop_run(\n",
    "    graph=graph,\n",
    "    question=\"what's the capital of Mexico?\",\n",
    "    thread_id=3,\n",
    ")"
   ]
  },
  {
   "cell_type": "markdown",
   "metadata": {},
   "source": [
    "#### b. **Human Revision**\n",
    "\n",
    "- Workflow is modified to interrupt **before the agent** instead of tools.\n",
    "- If the user says **NO** to the initial question:\n",
    "    - They are prompted to **edit the question**.\n",
    "    - A system message (\"Workflow edited by a human\") and a new human message are inserted."
   ]
  },
  {
   "cell_type": "code",
   "execution_count": 79,
   "metadata": {},
   "outputs": [],
   "source": [
    "memory = MemorySaver()\n",
    "graph = workflow.compile(\n",
    "    interrupt_before=[\"agent\"], \n",
    "    checkpointer=memory\n",
    ")"
   ]
  },
  {
   "cell_type": "code",
   "execution_count": 80,
   "metadata": {},
   "outputs": [
    {
     "data": {
      "image/png": "[encoded data removed]",
      "text/plain": [
       "<IPython.core.display.Image object>"
      ]
     },
     "metadata": {},
     "output_type": "display_data"
    }
   ],
   "source": [
    "display(\n",
    "    Image(\n",
    "        graph.get_graph().draw_mermaid_png()\n",
    "    )\n",
    ")"
   ]
  },
  {
   "cell_type": "code",
   "execution_count": 81,
   "metadata": {},
   "outputs": [],
   "source": [
    "def human_in_the_loop_run(graph:CompiledStateGraph, question:str, thread_id:int):\n",
    "    input_question = {\"question\": question}\n",
    "    config = {\"configurable\": {\"thread_id\": thread_id}}\n",
    "    for event in graph.stream(input=input_question, config=config, stream_mode=\"values\"):\n",
    "        if not event['messages']:\n",
    "            continue\n",
    "        event['messages'][-1].pretty_print()\n",
    "\n",
    "    human_input = input(\"Do you want to proceed with this question? (YES or NO): \")\n",
    "    \n",
    "    if human_input.lower() == \"no\":\n",
    "        human_input = input(\"So what should be the question? \")\n",
    "        human_message = HumanMessage(content=human_input)\n",
    "        system_message = SystemMessage(\"Workflow edited by a human\")\n",
    "        system_message.pretty_print()\n",
    "        graph.update_state(\n",
    "            config=config,\n",
    "            values={\n",
    "                \"messages\": [\n",
    "                    system_message,\n",
    "                    human_message,\n",
    "                ]\n",
    "            },\n",
    "        )\n",
    "\n",
    "        for event in graph.stream(input=None, config=config, stream_mode=\"values\"):\n",
    "            if not event['messages']:\n",
    "                continue\n",
    "            event['messages'][-1].pretty_print()\n",
    "    \n",
    "    for event in graph.stream(input=None, config=config, stream_mode=\"values\"):\n",
    "        if not event['messages']:\n",
    "            continue\n",
    "        event['messages'][-1].pretty_print()\n"
   ]
  },
  {
   "cell_type": "code",
   "execution_count": 82,
   "metadata": {},
   "outputs": [
    {
     "name": "stdout",
     "output_type": "stream",
     "text": [
      "================================\u001b[1m Human Message \u001b[0m=================================\n",
      "\n",
      "what's the capital of Brazil?\n",
      "================================\u001b[1m Human Message \u001b[0m=================================\n",
      "\n",
      "what's the capital of Brazil?\n",
      "==================================\u001b[1m Ai Message \u001b[0m==================================\n",
      "Tool Calls:\n",
      "  web_search (call_MaFLVfEvOWw50ogsS8RDHbmx)\n",
      " Call ID: call_MaFLVfEvOWw50ogsS8RDHbmx\n",
      "  Args:\n",
      "    question: What is the capital of Brazil?\n",
      "=================================\u001b[1m Tool Message \u001b[0m=================================\n",
      "Name: web_search\n",
      "\n",
      "{\"query\": \"What is the capital of Brazil?\", \"follow_up_questions\": null, \"answer\": null, \"images\": [], \"results\": [{\"title\": \"Brasília - Wikipedia\", \"url\": \"https://en.wikipedia.org/wiki/Brasília\", \"content\": \"445 Region Latin America and the Caribbean Brasília (/brəˈzɪliə/ brə-ZIL-ee-ə,[4][5] Portuguese: [bɾaˈzili.ɐ, bɾaˈziljɐ] ⓘ) is the capital city of Brazil. Located in the Brazilian highlands in the country's Central-West region, it is the seat of government of the Federal District. It was founded by President Juscelino Kubitschek on 21 April 1960, to replace Rio de Janeiro as the national capital. [6] Brasília is a planned city developed by Lúcio Costa, Oscar Niemeyer and Joaquim Cardozo in 1956 in a scheme to move the capital from Rio de Janeiro to a more central location. Brasília was inscribed as a UNESCO World Heritage Site in 1987 due to its modernist architecture and uniquely artistic urban planning.\", \"score\": 0.9296516, \"raw_content\": null}, {\"title\": \"What Is The Capital of Brazil? - WorldAtlas\", \"url\": \"https://www.worldatlas.com/articles/what-is-the-capital-of-brazil.html\", \"content\": \"However, what was the capital city of Brazil before Brasilia became the capital? Rio de Janeiro would be made the capital of Brazil until 1960. When Rio de Janeiro was the capital of Brazil, this is where the majority of its population, resources, and economic activities have resided. Rio de Janeiro's position as capital city of Brazil reflected the geographic distribution of Brazil's population throughout much of its history. That clause stated that the capital city of Brazil should be moved from Rio de Janeiro to a place further inland, where it would have a relatively central location. Brazil's capital city being relocated to Brasilia reflects a desire to move the capital to a more central location.\", \"score\": 0.91760606, \"raw_content\": null}, {\"title\": \"Capitals of Brazil - Wikipedia\", \"url\": \"https://en.wikipedia.org/wiki/Capitals_of_Brazil\", \"content\": \"Jump to content Personal tools Toggle the table of contents Edit Tools From Wikipedia, the free encyclopedia This article needs additional citations for verification. The city became the seat of the first Catholic bishopric of Brazil in 1552 and is still the center of Brazilian Catholicism. The Portuguese capital was temporarily transferred from Europe to Rio de Janeiro. This article about politics in Brazil is a stub. You can help Wikipedia by expanding it. Categories: Government of BrazilPolitical history of BrazilCapitals by countryBrazil politics stubs Text is available under the Creative Commons Attribution-ShareAlike 4.0 License; additional terms may apply. By using this site, you agree to the Terms of Use and Privacy Policy. Privacy policy About Wikipedia Contact Wikipedia Mobile view\", \"score\": 0.8302782, \"raw_content\": null}, {\"title\": \"Brasília - Simple English Wikipedia, the free encyclopedia\", \"url\": \"https://simple.wikipedia.org/wiki/Brasília\", \"content\": \"The name is commonly spelled Brasilia in English. The city and its Federal District are in the Central-West region of the country. It is the fourth largest city in Brazil. It is listed as a World Heritage Site. [4] As the national capital, Brasília is the seat of all three branches of the Brazilian government.\", \"score\": 0.81979275, \"raw_content\": null}, {\"title\": \"Brasilia | Facts, History, Map, & Architecture | Britannica\", \"url\": \"https://www.britannica.com/place/Brasilia\", \"content\": \"The Editors of Encyclopaedia Britannica Last Updated: Feb 6, 2025 • Article History Table of Contents Table of Contents Ask the Chatbot a Question 1 of 2 Brasília(more) 2 of 2 Brasília(more) Brasília, city, federal capital of Brazil. It is located in the Federal District (Distrito Federal) carved out of Goiás state on the central plateau of Brazil. At an elevation of some 3,500 feet (1,100 meters), it lies between the headwaters of the Tocantins, Paraná, and São Francisco rivers. Because of its unique city plan and architecture, as well as its unprecedented role in the development of the Brazilian interior, the city was designated a UNESCO World Heritage site in 1987.\", \"score\": 0.8116913, \"raw_content\": null}], \"response_time\": 1.12}\n"
     ]
    }
   ],
   "source": [
    "human_in_the_loop_run(\n",
    "    graph=graph,\n",
    "    question=\"what's the capital of Brazil?\",\n",
    "    thread_id=4,\n",
    ")"
   ]
  },
  {
   "cell_type": "code",
   "execution_count": 83,
   "metadata": {},
   "outputs": [
    {
     "name": "stdout",
     "output_type": "stream",
     "text": [
      "================================\u001b[1m Human Message \u001b[0m=================================\n",
      "\n",
      "what's the capital of Brazil?\n",
      "================================\u001b[1m System Message \u001b[0m================================\n",
      "\n",
      "Workflow edited by a human\n",
      "================================\u001b[1m Human Message \u001b[0m=================================\n",
      "\n",
      "capital of mexico\n",
      "==================================\u001b[1m Ai Message \u001b[0m==================================\n",
      "Tool Calls:\n",
      "  web_search (call_8Uc5yukulrCnspoio5UwsreN)\n",
      " Call ID: call_8Uc5yukulrCnspoio5UwsreN\n",
      "  Args:\n",
      "    question: capital of Mexico\n",
      "=================================\u001b[1m Tool Message \u001b[0m=================================\n",
      "Name: web_search\n",
      "\n",
      "{\"query\": \"capital of Mexico\", \"follow_up_questions\": null, \"answer\": null, \"images\": [], \"results\": [{\"title\": \"Mexico City | Population, Weather, Attractions, Culture, & History ...\", \"url\": \"https://www.britannica.com/place/Mexico-City\", \"content\": \"Mexico City is the capital of Mexico and is synonymous with the country’s Federal District. The term Mexico City can also apply to the capital’s metropolitan area, which includes the Federal District but extends beyond it to the west, north, and east. Mexico City is one of the most important political, cultural, educational, and financial centres in North America. (more) Mexico City, city and capital of Mexico, synonymous with the Federal District (Distrito Federal; D.F.). The term Mexico City can also apply to the capital’s metropolitan area, which includes the Federal District but extends beyond it to the west, north, and east, where the state (estado) of México surrounds it on three sides.\", \"score\": 0.8380581, \"raw_content\": null}, {\"title\": \"Mexico City - Simple English Wikipedia, the free encyclopedia\", \"url\": \"https://simple.wikipedia.org/wiki/Mexico_City\", \"content\": \"Mexico City is the capital and largest city of Mexico, with about 9 million people. It was founded by the Aztecs and later by the Spaniards, and it is in the Valley of Mexico at 2,300 meters elevation.\", \"score\": 0.8296166, \"raw_content\": null}, {\"title\": \"What is the Capital of Mexico? - Mappr\", \"url\": \"https://www.mappr.co/capital-cities/mexico/\", \"content\": \"Learn about Mexico City, the capital and the most populous city in Mexico, located in the Valley of Mexico. Discover its rich history, from the Aztec empire to the modern metropolis, and its features, such as geography, climate, population, and economy.\", \"score\": 0.82117355, \"raw_content\": null}, {\"title\": \"Mexico City - Wikipedia\", \"url\": \"https://en.wikipedia.org/wiki/Mexico_City\", \"content\": \"Ever since, left-wing parties (first the Party of the Democratic Revolution and later the National Regeneration Movement) have controlled both of them.[24] The city has several progressive policies,[25][26] such as elective abortions,[27] a limited form of euthanasia,[28] no-fault divorce,[29] same-sex marriage,[30] and legal gender change.[31] On 29 January 2016, it ceased to be the Federal District (Spanish: Distrito Federal or D.F.) and is now officially known as Ciudad de México (or CDMX), with a greater degree of autonomy.[32][33] A clause in the Constitution of Mexico, however, prevents it from becoming a state within the Mexican federation, as long it remains the capital of the country.[34] The Museo de San Ildefonso, housed in the Antiguo Colegio de San Ildefonso in Mexico City's historic downtown district is a 17th-century colonnaded palace housing an art museum that regularly hosts world-class exhibits of Mexican and international art.\", \"score\": 0.6554468, \"raw_content\": null}, {\"title\": \"Mexico Maps & Facts - World Atlas\", \"url\": \"https://www.worldatlas.com/maps/mexico\", \"content\": \"Mexico, located in the southern part of North America, spans an area of 1,972,550 sq. The country borders the United States to the north, Guatemala and Belize to the southeast, the Pacific Ocean to the west, and the Gulf of Mexico and the Caribbean Sea to the east. Mexico is a country located in the southern part of North America. Mexico shares land borders with the United States of America to the north and with Guatemala and Belize to the southeast. Mexico Bordering Countries: The United States Of America, Guatemala, Belize. The above blank map represents Mexico, a country located in the southern part of North America. The above outline map represents Mexico – a country in southern North America.\", \"score\": 0.10007563, \"raw_content\": null}], \"response_time\": 0.99}\n",
      "=================================\u001b[1m Tool Message \u001b[0m=================================\n",
      "Name: web_search\n",
      "\n",
      "{\"query\": \"capital of Mexico\", \"follow_up_questions\": null, \"answer\": null, \"images\": [], \"results\": [{\"title\": \"Mexico City | Population, Weather, Attractions, Culture, & History ...\", \"url\": \"https://www.britannica.com/place/Mexico-City\", \"content\": \"Mexico City is the capital of Mexico and is synonymous with the country’s Federal District. The term Mexico City can also apply to the capital’s metropolitan area, which includes the Federal District but extends beyond it to the west, north, and east. Mexico City is one of the most important political, cultural, educational, and financial centres in North America. (more) Mexico City, city and capital of Mexico, synonymous with the Federal District (Distrito Federal; D.F.). The term Mexico City can also apply to the capital’s metropolitan area, which includes the Federal District but extends beyond it to the west, north, and east, where the state (estado) of México surrounds it on three sides.\", \"score\": 0.8380581, \"raw_content\": null}, {\"title\": \"Mexico City - Simple English Wikipedia, the free encyclopedia\", \"url\": \"https://simple.wikipedia.org/wiki/Mexico_City\", \"content\": \"Mexico City is the capital and largest city of Mexico, with about 9 million people. It was founded by the Aztecs and later by the Spaniards, and it is in the Valley of Mexico at 2,300 meters elevation.\", \"score\": 0.8296166, \"raw_content\": null}, {\"title\": \"What is the Capital of Mexico? - Mappr\", \"url\": \"https://www.mappr.co/capital-cities/mexico/\", \"content\": \"Learn about Mexico City, the capital and the most populous city in Mexico, located in the Valley of Mexico. Discover its rich history, from the Aztec empire to the modern metropolis, and its features, such as geography, climate, population, and economy.\", \"score\": 0.82117355, \"raw_content\": null}, {\"title\": \"Mexico City - Wikipedia\", \"url\": \"https://en.wikipedia.org/wiki/Mexico_City\", \"content\": \"Ever since, left-wing parties (first the Party of the Democratic Revolution and later the National Regeneration Movement) have controlled both of them.[24] The city has several progressive policies,[25][26] such as elective abortions,[27] a limited form of euthanasia,[28] no-fault divorce,[29] same-sex marriage,[30] and legal gender change.[31] On 29 January 2016, it ceased to be the Federal District (Spanish: Distrito Federal or D.F.) and is now officially known as Ciudad de México (or CDMX), with a greater degree of autonomy.[32][33] A clause in the Constitution of Mexico, however, prevents it from becoming a state within the Mexican federation, as long it remains the capital of the country.[34] The Museo de San Ildefonso, housed in the Antiguo Colegio de San Ildefonso in Mexico City's historic downtown district is a 17th-century colonnaded palace housing an art museum that regularly hosts world-class exhibits of Mexican and international art.\", \"score\": 0.6554468, \"raw_content\": null}, {\"title\": \"Mexico Maps & Facts - World Atlas\", \"url\": \"https://www.worldatlas.com/maps/mexico\", \"content\": \"Mexico, located in the southern part of North America, spans an area of 1,972,550 sq. The country borders the United States to the north, Guatemala and Belize to the southeast, the Pacific Ocean to the west, and the Gulf of Mexico and the Caribbean Sea to the east. Mexico is a country located in the southern part of North America. Mexico shares land borders with the United States of America to the north and with Guatemala and Belize to the southeast. Mexico Bordering Countries: The United States Of America, Guatemala, Belize. The above blank map represents Mexico, a country located in the southern part of North America. The above outline map represents Mexico – a country in southern North America.\", \"score\": 0.10007563, \"raw_content\": null}], \"response_time\": 0.99}\n",
      "==================================\u001b[1m Ai Message \u001b[0m==================================\n",
      "\n",
      "The capital of Mexico is Mexico City. It is the largest city in the country and serves as a major political, cultural, and financial center in North America. For more information, you can visit [Britannica](https://www.britannica.com/place/Mexico-City) or [Wikipedia](https://en.wikipedia.org/wiki/Mexico_City).\n"
     ]
    }
   ],
   "source": [
    "human_in_the_loop_run(\n",
    "    graph=graph,\n",
    "    question=\"what's the capital of Brazil?\",\n",
    "    thread_id=5,\n",
    ")"
   ]
  },
  {
   "cell_type": "markdown",
   "metadata": {},
   "source": [
    "### **Conclusion**\n",
    "\n",
    "- **Breakpoints** allow controlled interruptions during workflows.\n",
    "- **Human approvals** ensure critical actions (like external API calls) can be supervised.\n",
    "- **Human edits** allow correction of user input before significant processing happens.\n",
    "- **Thread IDs** manage session persistence, enabling inspection and modification across sessions.\n",
    "\n",
    "- Human-in-the-loop mechanisms enhance AI system transparency and safety.\n",
    "- LangGraph’s breakpoint and checkpoint features make integrating HITL workflows straightforward.\n",
    "- A next enhancement would be **extending approval loops after tool messages**, enabling full-cycle human supervision."
   ]
  },
  {
   "cell_type": "code",
   "execution_count": null,
   "metadata": {},
   "outputs": [],
   "source": []
  }
 ],
 "metadata": {
  "kernelspec": {
   "display_name": "agent",
   "language": "python",
   "name": "python3"
  },
  "language_info": {
   "codemirror_mode": {
    "name": "ipython",
    "version": 3
   },
   "file_extension": ".py",
   "mimetype": "text/x-python",
   "name": "python",
   "nbconvert_exporter": "python",
   "pygments_lexer": "ipython3",
   "version": "3.10.17"
  }
 },
 "nbformat": 4,
 "nbformat_minor": 2
}
