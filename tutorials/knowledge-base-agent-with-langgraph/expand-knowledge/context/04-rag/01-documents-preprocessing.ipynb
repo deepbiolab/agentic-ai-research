{
 "cells": [
  {
   "cell_type": "markdown",
   "metadata": {},
   "source": [
    "## Load and Process Documents"
   ]
  },
  {
   "cell_type": "code",
   "execution_count": 2,
   "metadata": {},
   "outputs": [],
   "source": [
    "from langchain_text_splitters import RecursiveCharacterTextSplitter\n",
    "from langchain_community.document_loaders import PyPDFLoader"
   ]
  },
  {
   "cell_type": "code",
   "execution_count": 3,
   "metadata": {},
   "outputs": [],
   "source": [
    "file_path = \"the-era-of-experience.pdf\""
   ]
  },
  {
   "cell_type": "code",
   "execution_count": 4,
   "metadata": {},
   "outputs": [],
   "source": [
    "loader = PyPDFLoader(file_path)"
   ]
  },
  {
   "cell_type": "code",
   "execution_count": 5,
   "metadata": {},
   "outputs": [],
   "source": [
    "pages = []\n",
    "async for page in loader.alazy_load():\n",
    "    pages.append(page)"
   ]
  },
  {
   "cell_type": "code",
   "execution_count": 6,
   "metadata": {},
   "outputs": [],
   "source": [
    "text_splitter = RecursiveCharacterTextSplitter(\n",
    "    chunk_size=1000, \n",
    "    chunk_overlap=200\n",
    ")"
   ]
  },
  {
   "cell_type": "code",
   "execution_count": 7,
   "metadata": {},
   "outputs": [],
   "source": [
    "all_splits = text_splitter.split_documents(pages)"
   ]
  },
  {
   "cell_type": "code",
   "execution_count": 12,
   "metadata": {},
   "outputs": [
    {
     "name": "stdout",
     "output_type": "stream",
     "text": [
      "page_content='Welcome to the Era of Experience\n",
      "David Silver, Richard S. Sutton*\n",
      "Abstract\n",
      "We stand on the threshold of a new era in artificial intelligence that promises to achieve an unprece-\n",
      "dented level of ability. A new generation of agents will acquire superhuman capabilities by learning pre-\n",
      "dominantly from experience. This note explores the key characteristics that will define this upcoming era.\n",
      "The Era of Human Data\n",
      "Artificial intelligence (AI) has made remarkable strides over recent years by training on massive amounts of\n",
      "human-generated data and fine-tuning with expert human examples and preferences. This approach is exem-\n",
      "plified by large language models (LLMs) that have achieved a sweeping level of generality. A single LLM\n",
      "can now perform tasks spanning from writing poetry and solving physics problems to diagnosing medical\n",
      "issues and summarising legal documents.\n",
      "However, while imitating humans is enough to reproduce many human capabilities to a competent level,' metadata={'source': 'the-era-of-experience.pdf', 'page': 0}\n"
     ]
    }
   ],
   "source": [
    "print(all_splits[0])"
   ]
  },
  {
   "cell_type": "code",
   "execution_count": null,
   "metadata": {},
   "outputs": [],
   "source": []
  }
 ],
 "metadata": {
  "kernelspec": {
   "display_name": "agent",
   "language": "python",
   "name": "python3"
  },
  "language_info": {
   "codemirror_mode": {
    "name": "ipython",
    "version": 3
   },
   "file_extension": ".py",
   "mimetype": "text/x-python",
   "name": "python",
   "nbconvert_exporter": "python",
   "pygments_lexer": "ipython3",
   "version": "3.10.17"
  }
 },
 "nbformat": 4,
 "nbformat_minor": 2
}
