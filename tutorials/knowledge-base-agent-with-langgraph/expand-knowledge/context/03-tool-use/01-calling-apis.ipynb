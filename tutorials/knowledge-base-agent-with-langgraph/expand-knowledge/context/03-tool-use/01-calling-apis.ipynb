{
 "cells": [
  {
   "cell_type": "markdown",
   "metadata": {},
   "source": [
    "## Calling External APIs with Tools in LangGraph Workflows\n",
    "\n",
    "### Overview\n",
    "\n",
    "This demo explains how to integrate **external API calls** into LangGraph workflows by building custom tools. It highlights the use of **real-time data retrieval** (quotes and web search) and shows how agents interact with external information sources."
   ]
  },
  {
   "cell_type": "code",
   "execution_count": null,
   "metadata": {},
   "outputs": [],
   "source": [
    "from typing import Dict\n",
    "import requests\n",
    "from tavily import TavilyClient\n",
    "from langchain_core.tools import tool\n",
    "from langchain_core.messages import (\n",
    "    SystemMessage,\n",
    "    HumanMessage, \n",
    ")\n",
    "from langchain_openai import ChatOpenAI\n",
    "from langgraph.graph import START, END, StateGraph\n",
    "from langgraph.graph.message import MessagesState\n",
    "from langgraph.prebuilt import ToolNode\n",
    "from IPython.display import Image, display\n",
    "from dotenv import load_dotenv"
   ]
  },
  {
   "cell_type": "code",
   "execution_count": 2,
   "metadata": {},
   "outputs": [
    {
     "data": {
      "text/plain": [
       "True"
      ]
     },
     "execution_count": 2,
     "metadata": {},
     "output_type": "execute_result"
    }
   ],
   "source": [
    "load_dotenv()"
   ]
  },
  {
   "cell_type": "markdown",
   "metadata": {},
   "source": [
    "### 1. **Setting up External API Tools**"
   ]
  },
  {
   "cell_type": "code",
   "execution_count": 3,
   "metadata": {},
   "outputs": [],
   "source": [
    "@tool\n",
    "def random_science_fact_tool()->Dict:\n",
    "    \"\"\"\n",
    "    Return a random scientific fact and the field it belongs to\n",
    "    \"\"\"\n",
    "    # Using the Numbers API to get random math facts\n",
    "    response = requests.get(\"http://numbersapi.com/random/math\")\n",
    "    fact = response.text\n",
    "    return {\"fact\": fact, \"field\": \"Mathematics\"}"
   ]
  },
  {
   "cell_type": "code",
   "execution_count": 6,
   "metadata": {},
   "outputs": [
    {
     "data": {
      "text/plain": [
       "{'fact': '863 is a value of n so that n(n+6) is a palindrome.',\n",
       " 'field': 'Mathematics'}"
      ]
     },
     "execution_count": 6,
     "metadata": {},
     "output_type": "execute_result"
    }
   ],
   "source": [
    "random_science_fact_tool.invoke({})"
   ]
  },
  {
   "cell_type": "code",
   "execution_count": 7,
   "metadata": {},
   "outputs": [],
   "source": [
    "tavily_client = TavilyClient()"
   ]
  },
  {
   "cell_type": "code",
   "execution_count": 8,
   "metadata": {},
   "outputs": [],
   "source": [
    "@tool\n",
    "def web_search(question:str)->Dict:\n",
    "    \"\"\"\n",
    "    Return top search results for a given search query\n",
    "    \"\"\"\n",
    "    response = tavily_client.search(question)\n",
    "    return response"
   ]
  },
  {
   "cell_type": "code",
   "execution_count": 9,
   "metadata": {},
   "outputs": [
    {
     "data": {
      "text/plain": [
       "{'query': 'Who discovered the theory of relativity?',\n",
       " 'follow_up_questions': None,\n",
       " 'answer': None,\n",
       " 'images': [],\n",
       " 'results': [{'title': 'Theory of relativity - Wikipedia',\n",
       "   'url': 'https://en.wikipedia.org/wiki/Theory_of_relativity',\n",
       "   'content': 'Video simulation of the merger GW150914, showing spacetime distortion from gravity as the black holes orbit and merge The theory of relativity usually encompasses two interrelated physics theories by Albert Einstein: special relativity and general relativity, proposed and published in 1905 and 1915, respectively. [1] Special relativity applies to all physical phenomena in the absence of gravity. General relativity explains the law of gravitation and its relation to the forces of nature. [3] The theory transformed theoretical physics and astronomy during the 20th century, superseding a 200-year-old theory of mechanics created primarily by Isaac Newton.',\n",
       "   'score': 0.92005306,\n",
       "   'raw_content': None},\n",
       "  {'title': 'The Theory of Relativity, Then and Now - Smithsonian Magazine',\n",
       "   'url': 'https://www.smithsonianmag.com/innovation/theory-of-relativity-then-and-now-180956622/',\n",
       "   'content': 'In 1905 Einstein discovered the special theory of relativity, establishing the famous dictum that nothing—no object or signal—can travel faster than the speed of light. And therein lies the rub.',\n",
       "   'score': 0.9051298,\n",
       "   'raw_content': None},\n",
       "  {'title': 'Who Developed the Theory of Relativity? - adda247',\n",
       "   'url': 'https://currentaffairs.adda247.com/who-developed-the-theory-of-relativity/',\n",
       "   'content': 'Special relativity explains space, time and energy, while general relativity describes gravity as space-time curvature. Einstein also discovered E= mc² and won the 1921 Nobel Prize for his work in physics. What is the Theory of Relativity? The theory of relativity was developed by Albert Einstein. It explains how space, time and gravity work.',\n",
       "   'score': 0.903098,\n",
       "   'raw_content': None},\n",
       "  {'title': 'How Einstein Discovered General Relativity amid War, Divorce and ...',\n",
       "   'url': 'https://www.scientificamerican.com/article/how-einstein-discovered-general-relativity-amid-war-divorce-and-rivalry/',\n",
       "   'content': 'The general theory of relativity began with a sudden thought. It was late 1907, two years after the \"miracle year\" in which Albert Einstein had produced his special theory of relativity and',\n",
       "   'score': 0.81097376,\n",
       "   'raw_content': None},\n",
       "  {'title': 'How Albert Einstein Developed the Theory of General Relativity',\n",
       "   'url': 'https://www.britannica.com/story/how-albert-einstein-developed-the-theory-of-general-relativity',\n",
       "   'content': 'In 1907, two years after the publication of his theory of special relativity, Albert Einstein came to a key realization: special relativity could not be applied to gravity or to an object undergoing acceleration. Since gravity and acceleration are equivalent, light would bend in a gravitational field. In his four papers, published in November 1915, Einstein laid the foundation of the theory. General relativity predicted that light would bend in a gravitational field. The observed effect was exactly what Einstein had predicted.',\n",
       "   'score': 0.7482976,\n",
       "   'raw_content': None}],\n",
       " 'response_time': 2.04}"
      ]
     },
     "execution_count": 9,
     "metadata": {},
     "output_type": "execute_result"
    }
   ],
   "source": [
    "web_search.invoke(\n",
    "    {\n",
    "        \"question\": \"Who discovered the theory of relativity?\"\n",
    "    }\n",
    ")"
   ]
  },
  {
   "cell_type": "markdown",
   "metadata": {},
   "source": [
    "### 2. **Binding Tools to the LLM**"
   ]
  },
  {
   "cell_type": "code",
   "execution_count": 10,
   "metadata": {},
   "outputs": [],
   "source": [
    "tools = [random_science_fact_tool, web_search]"
   ]
  },
  {
   "cell_type": "code",
   "execution_count": 11,
   "metadata": {},
   "outputs": [],
   "source": [
    "llm = ChatOpenAI(\n",
    "    model=\"gpt-4o-mini\",\n",
    "    temperature=0.0,\n",
    ")"
   ]
  },
  {
   "cell_type": "code",
   "execution_count": 12,
   "metadata": {},
   "outputs": [],
   "source": [
    "llm_with_tools = llm.bind_tools(tools)"
   ]
  },
  {
   "cell_type": "code",
   "execution_count": 13,
   "metadata": {},
   "outputs": [],
   "source": [
    "def agent(state: MessagesState):\n",
    "    ai_message = llm_with_tools.invoke(state[\"messages\"])\n",
    "    return {\"messages\": ai_message}"
   ]
  },
  {
   "cell_type": "markdown",
   "metadata": {},
   "source": [
    "### 3. **Router Logic**"
   ]
  },
  {
   "cell_type": "code",
   "execution_count": 14,
   "metadata": {},
   "outputs": [],
   "source": [
    "def router(state: MessagesState):\n",
    "    last_message = state[\"messages\"][-1]\n",
    "    if last_message.tool_calls:\n",
    "        return \"tools\"\n",
    "\n",
    "    return END"
   ]
  },
  {
   "cell_type": "markdown",
   "metadata": {},
   "source": [
    "### 4. **Workflow Construction**"
   ]
  },
  {
   "cell_type": "code",
   "execution_count": 15,
   "metadata": {},
   "outputs": [
    {
     "data": {
      "image/jpeg": "[encoded data removed]",
      "text/plain": [
       "<IPython.core.display.Image object>"
      ]
     },
     "metadata": {},
     "output_type": "display_data"
    }
   ],
   "source": [
    "workflow = StateGraph(MessagesState)\n",
    "\n",
    "workflow.add_node(\"agent\", agent)\n",
    "workflow.add_node(\"tools\", ToolNode(tools))\n",
    "\n",
    "workflow.add_edge(START, \"agent\")\n",
    "\n",
    "workflow.add_conditional_edges(\n",
    "    source=\"agent\", \n",
    "    path=router, \n",
    "    path_map=[\"tools\", END]\n",
    ")\n",
    "\n",
    "workflow.add_edge(\"tools\", \"agent\")\n",
    "\n",
    "graph = workflow.compile()\n",
    "\n",
    "display(\n",
    "    Image(\n",
    "        graph.get_graph().draw_mermaid_png()\n",
    "    )\n",
    ")"
   ]
  },
  {
   "cell_type": "markdown",
   "metadata": {},
   "source": [
    "### 5. **Execution Example**"
   ]
  },
  {
   "cell_type": "code",
   "execution_count": 16,
   "metadata": {},
   "outputs": [],
   "source": [
    "messages = [\n",
    "    SystemMessage(\n",
    "        \"You are a Scientific Research Assistant. \"\n",
    "        \"If user asks you for a random scientific fact, you will not only \" \n",
    "        \"provide it, but also search the web to find more context or related \"\n",
    "        \"research about that fact. \"\n",
    "        \"So, your output should include: The fact, the field it belongs to, and additional context.\"\n",
    "    ),\n",
    "    HumanMessage(\"Give me a random scientific fact\")\n",
    "]"
   ]
  },
  {
   "cell_type": "code",
   "execution_count": 17,
   "metadata": {},
   "outputs": [
    {
     "name": "stdout",
     "output_type": "stream",
     "text": [
      "{'messages': [SystemMessage(content='You are a Scientific Research Assistant. If user asks you for a random scientific fact, you will not only provide it, but also search the web to find more context or related research about that fact. So, your output should include: The fact, the field it belongs to, and additional context.', id='79204d8e-bf38-4734-950f-3e791e4880ec'), HumanMessage(content='Give me a random scientific fact', id='2089cfa4-7c6d-477f-b343-871aa44e16fc'), AIMessage(content='', additional_kwargs={'tool_calls': [{'id': 'call_hPHTSepLaACR2frsqSVWfVlk', 'function': {'arguments': '{}', 'name': 'random_science_fact_tool'}, 'type': 'function'}], 'refusal': None}, response_metadata={'token_usage': {'completion_tokens': 14, 'prompt_tokens': 136, 'total_tokens': 150, 'completion_tokens_details': {'accepted_prediction_tokens': 0, 'audio_tokens': 0, 'reasoning_tokens': 0, 'rejected_prediction_tokens': 0}, 'prompt_tokens_details': {'audio_tokens': 0, 'cached_tokens': 0}}, 'model_name': 'gpt-4o-mini-2024-07-18', 'system_fingerprint': 'fp_0392822090', 'finish_reason': 'tool_calls', 'logprobs': None}, id='run-44d13d23-51ee-4d8e-9d85-ec2a1a415dd4-0', tool_calls=[{'name': 'random_science_fact_tool', 'args': {}, 'id': 'call_hPHTSepLaACR2frsqSVWfVlk', 'type': 'tool_call'}], usage_metadata={'input_tokens': 136, 'output_tokens': 14, 'total_tokens': 150}), ToolMessage(content='{\"fact\": \"9797 is the product of two consecutive primes.\", \"field\": \"Mathematics\"}', name='random_science_fact_tool', id='2915eb95-c8e3-41d1-9f16-d4c139315a87', tool_call_id='call_hPHTSepLaACR2frsqSVWfVlk'), AIMessage(content='', additional_kwargs={'tool_calls': [{'id': 'call_jpLuuGEqWPVbP97nN36jDnoY', 'function': {'arguments': '{\"question\":\"9797 product of two consecutive primes\"}', 'name': 'web_search'}, 'type': 'function'}], 'refusal': None}, response_metadata={'token_usage': {'completion_tokens': 21, 'prompt_tokens': 182, 'total_tokens': 203, 'completion_tokens_details': {'accepted_prediction_tokens': 0, 'audio_tokens': 0, 'reasoning_tokens': 0, 'rejected_prediction_tokens': 0}, 'prompt_tokens_details': {'audio_tokens': 0, 'cached_tokens': 0}}, 'model_name': 'gpt-4o-mini-2024-07-18', 'system_fingerprint': 'fp_0392822090', 'finish_reason': 'tool_calls', 'logprobs': None}, id='run-ed11f37c-be42-4eb5-9a09-0f98774ab212-0', tool_calls=[{'name': 'web_search', 'args': {'question': '9797 product of two consecutive primes'}, 'id': 'call_jpLuuGEqWPVbP97nN36jDnoY', 'type': 'tool_call'}], usage_metadata={'input_tokens': 182, 'output_tokens': 21, 'total_tokens': 203}), ToolMessage(content='{\"query\": \"9797 product of two consecutive primes\", \"follow_up_questions\": null, \"answer\": null, \"images\": [], \"results\": [{\"title\": \"NumberADay: 9797\", \"url\": \"https://maanumberaday.blogspot.com/2012/01/9797.html\", \"content\": \"9797 = 97 x 101. It is the product of two consecutive primes. The square root of 9797 includes the digits 9797 immediately to the right of\", \"score\": 0.93309647, \"raw_content\": null}, {\"title\": \"Number 9797 - Facts about the integer - numbermatics.com\", \"url\": \"https://numbermatics.com/n/9797/\", \"content\": \"Your guide to the number 9797, an odd composite number composed of two distinct primes. Mathematical info, prime factorization, fun facts and numerical data for STEM, education and fun.\", \"score\": 0.67885995, \"raw_content\": null}, {\"title\": \"product of consecutive prime numbers - Mathematics Stack Exchange\", \"url\": \"https://math.stackexchange.com/questions/3493140/product-of-consecutive-prime-numbers\", \"content\": \"Happy new year. I am studying the product of consecutive prime numbers. For the n n -th prime number pn p n, I denote μn = p1p2 …pn μ n = p 1 p 2 … p n. The problem is that I can not search for the properties of μn μ n. Thus, I\\'d like to know some properties about the μn μ n. It does not have to have detail. I wonder just name of theorem or related some paper. Thanks!\", \"score\": 0.37216341, \"raw_content\": null}, {\"title\": \"A006094 - Oeis\", \"url\": \"https://oeis.org/A006094\", \"content\": \"Also the area of rectangles whose side lengths are consecutive primes. E.g., the consecutive primes 7,11 produce a 7 X 11 unit rectangle which has area 77 square units.\", \"score\": 0.22543406, \"raw_content\": null}, {\"title\": \"Prime Factorization Calculator\", \"url\": \"https://www.calculatorsoup.com/calculators/math/prime-factors.php\", \"content\": \"Prime Factorization Calculator Calculators  Prime Factorization Calculator  Prime Factorization Calculator Prime Factors Calculator Use this prime numbers calculator to find all prime factors of a given integer number up to 10 trillion. Prime factors of a number Factorization in a prime factors tree For the first 5000 prime numbers, this calculator indicates the index of the prime number. What is Prime Factorization? How to Find Prime Factorization of a Number Prime Factorization by Trial Division Find the prime factors of 100: Examples of Prime Decomposition: Factors and Exponents Prime factorization of 10 is 2 x 5 or 21 x 51 Prime Factors Tree Math is Fun: Prime Factorization. Furey, Edward \\\\\"Prime Factorization Calculator\\\\\" at https://www.calculatorsoup.com/calculators/math/prime-factors.php from CalculatorSoup, https://www.calculatorsoup.com - Online Calculators\", \"score\": 0.08182022, \"raw_content\": null}], \"response_time\": 1.4}', name='web_search', id='ec5ce85d-6f91-42f3-85ae-457554191531', tool_call_id='call_jpLuuGEqWPVbP97nN36jDnoY'), AIMessage(content='**Scientific Fact:** 9797 is the product of two consecutive primes.\\n\\n**Field:** Mathematics\\n\\n**Additional Context:** The number 9797 can be expressed as the product of the consecutive prime numbers 97 and 101 (i.e., \\\\( 9797 = 97 \\\\times 101 \\\\)). This property of being the product of two consecutive primes is interesting in number theory, as it highlights the relationships between prime numbers and their products. \\n\\nFor further reading, you can check out the following resources:\\n- [NumberADay: 9797](https://maanumberaday.blogspot.com/2012/01/9797.html) - This blog discusses the number 9797 and its properties.\\n- [Number 9797 - Facts about the integer](https://numbermatics.com/n/9797/) - This site provides a comprehensive overview of the number, including its prime factorization and other interesting facts.', additional_kwargs={'refusal': None}, response_metadata={'token_usage': {'completion_tokens': 188, 'prompt_tokens': 911, 'total_tokens': 1099, 'completion_tokens_details': {'accepted_prediction_tokens': 0, 'audio_tokens': 0, 'reasoning_tokens': 0, 'rejected_prediction_tokens': 0}, 'prompt_tokens_details': {'audio_tokens': 0, 'cached_tokens': 0}}, 'model_name': 'gpt-4o-mini-2024-07-18', 'system_fingerprint': 'fp_0392822090', 'finish_reason': 'stop', 'logprobs': None}, id='run-96149d6a-1c97-4cb4-a17d-6779d91afd31-0', usage_metadata={'input_tokens': 911, 'output_tokens': 188, 'total_tokens': 1099})]}\n"
     ]
    }
   ],
   "source": [
    "result = graph.invoke(\n",
    "    input={\n",
    "        \"messages\": messages\n",
    "    }\n",
    ")\n",
    "\n",
    "print(result)"
   ]
  },
  {
   "cell_type": "code",
   "execution_count": 18,
   "metadata": {},
   "outputs": [
    {
     "name": "stdout",
     "output_type": "stream",
     "text": [
      "================================\u001b[1m System Message \u001b[0m================================\n",
      "\n",
      "You are a Scientific Research Assistant. If user asks you for a random scientific fact, you will not only provide it, but also search the web to find more context or related research about that fact. So, your output should include: The fact, the field it belongs to, and additional context.\n",
      "================================\u001b[1m Human Message \u001b[0m=================================\n",
      "\n",
      "Give me a random scientific fact\n",
      "==================================\u001b[1m Ai Message \u001b[0m==================================\n",
      "Tool Calls:\n",
      "  random_science_fact_tool (call_hPHTSepLaACR2frsqSVWfVlk)\n",
      " Call ID: call_hPHTSepLaACR2frsqSVWfVlk\n",
      "  Args:\n",
      "=================================\u001b[1m Tool Message \u001b[0m=================================\n",
      "Name: random_science_fact_tool\n",
      "\n",
      "{\"fact\": \"9797 is the product of two consecutive primes.\", \"field\": \"Mathematics\"}\n",
      "==================================\u001b[1m Ai Message \u001b[0m==================================\n",
      "Tool Calls:\n",
      "  web_search (call_jpLuuGEqWPVbP97nN36jDnoY)\n",
      " Call ID: call_jpLuuGEqWPVbP97nN36jDnoY\n",
      "  Args:\n",
      "    question: 9797 product of two consecutive primes\n",
      "=================================\u001b[1m Tool Message \u001b[0m=================================\n",
      "Name: web_search\n",
      "\n",
      "{\"query\": \"9797 product of two consecutive primes\", \"follow_up_questions\": null, \"answer\": null, \"images\": [], \"results\": [{\"title\": \"NumberADay: 9797\", \"url\": \"https://maanumberaday.blogspot.com/2012/01/9797.html\", \"content\": \"9797 = 97 x 101. It is the product of two consecutive primes. The square root of 9797 includes the digits 9797 immediately to the right of\", \"score\": 0.93309647, \"raw_content\": null}, {\"title\": \"Number 9797 - Facts about the integer - numbermatics.com\", \"url\": \"https://numbermatics.com/n/9797/\", \"content\": \"Your guide to the number 9797, an odd composite number composed of two distinct primes. Mathematical info, prime factorization, fun facts and numerical data for STEM, education and fun.\", \"score\": 0.67885995, \"raw_content\": null}, {\"title\": \"product of consecutive prime numbers - Mathematics Stack Exchange\", \"url\": \"https://math.stackexchange.com/questions/3493140/product-of-consecutive-prime-numbers\", \"content\": \"Happy new year. I am studying the product of consecutive prime numbers. For the n n -th prime number pn p n, I denote μn = p1p2 …pn μ n = p 1 p 2 … p n. The problem is that I can not search for the properties of μn μ n. Thus, I'd like to know some properties about the μn μ n. It does not have to have detail. I wonder just name of theorem or related some paper. Thanks!\", \"score\": 0.37216341, \"raw_content\": null}, {\"title\": \"A006094 - Oeis\", \"url\": \"https://oeis.org/A006094\", \"content\": \"Also the area of rectangles whose side lengths are consecutive primes. E.g., the consecutive primes 7,11 produce a 7 X 11 unit rectangle which has area 77 square units.\", \"score\": 0.22543406, \"raw_content\": null}, {\"title\": \"Prime Factorization Calculator\", \"url\": \"https://www.calculatorsoup.com/calculators/math/prime-factors.php\", \"content\": \"Prime Factorization Calculator Calculators  Prime Factorization Calculator  Prime Factorization Calculator Prime Factors Calculator Use this prime numbers calculator to find all prime factors of a given integer number up to 10 trillion. Prime factors of a number Factorization in a prime factors tree For the first 5000 prime numbers, this calculator indicates the index of the prime number. What is Prime Factorization? How to Find Prime Factorization of a Number Prime Factorization by Trial Division Find the prime factors of 100: Examples of Prime Decomposition: Factors and Exponents Prime factorization of 10 is 2 x 5 or 21 x 51 Prime Factors Tree Math is Fun: Prime Factorization. Furey, Edward \\\"Prime Factorization Calculator\\\" at https://www.calculatorsoup.com/calculators/math/prime-factors.php from CalculatorSoup, https://www.calculatorsoup.com - Online Calculators\", \"score\": 0.08182022, \"raw_content\": null}], \"response_time\": 1.4}\n",
      "==================================\u001b[1m Ai Message \u001b[0m==================================\n",
      "\n",
      "**Scientific Fact:** 9797 is the product of two consecutive primes.\n",
      "\n",
      "**Field:** Mathematics\n",
      "\n",
      "**Additional Context:** The number 9797 can be expressed as the product of the consecutive prime numbers 97 and 101 (i.e., \\( 9797 = 97 \\times 101 \\)). This property of being the product of two consecutive primes is interesting in number theory, as it highlights the relationships between prime numbers and their products. \n",
      "\n",
      "For further reading, you can check out the following resources:\n",
      "- [NumberADay: 9797](https://maanumberaday.blogspot.com/2012/01/9797.html) - This blog discusses the number 9797 and its properties.\n",
      "- [Number 9797 - Facts about the integer](https://numbermatics.com/n/9797/) - This site provides a comprehensive overview of the number, including its prime factorization and other interesting facts.\n"
     ]
    }
   ],
   "source": [
    "for message in result[\"messages\"]:\n",
    "    message.pretty_print()"
   ]
  },
  {
   "cell_type": "markdown",
   "metadata": {},
   "source": [
    "### **Conclusion**\n",
    "\n",
    "- External APIs extend an agent's knowledge and capability far beyond static LLM training.\n",
    "- Combining **API tools**, **LLM reasoning**, and **structured workflows** creates powerful, responsive systems.\n",
    "- LangGraph provides a clean, modular architecture to manage this complexity."
   ]
  },
  {
   "cell_type": "markdown",
   "metadata": {},
   "source": []
  }
 ],
 "metadata": {
  "kernelspec": {
   "display_name": "agent",
   "language": "python",
   "name": "python3"
  },
  "language_info": {
   "codemirror_mode": {
    "name": "ipython",
    "version": 3
   },
   "file_extension": ".py",
   "mimetype": "text/x-python",
   "name": "python",
   "nbconvert_exporter": "python",
   "pygments_lexer": "ipython3",
   "version": "3.10.17"
  }
 },
 "nbformat": 4,
 "nbformat_minor": 2
}
