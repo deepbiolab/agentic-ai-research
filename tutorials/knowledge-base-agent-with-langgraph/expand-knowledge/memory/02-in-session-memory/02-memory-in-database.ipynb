{
 "cells": [
  {
   "cell_type": "markdown",
   "metadata": {},
   "source": [
    "## Persisting Memory with a Database in LangGraph\n",
    "\n",
    "### Overview\n",
    "\n",
    "This demo explains how to **persist memory** across sessions by saving conversation history into a **SQLite database** instead of keeping it only in RAM. This makes it possible to **resume conversations** later and builds the foundation for session-based systems."
   ]
  },
  {
   "cell_type": "code",
   "execution_count": 27,
   "metadata": {},
   "outputs": [
    {
     "data": {
      "text/plain": [
       "True"
      ]
     },
     "execution_count": 27,
     "metadata": {},
     "output_type": "execute_result"
    }
   ],
   "source": [
    "import sqlite3\n",
    "import json\n",
    "from langchain_core.messages import HumanMessage\n",
    "\n",
    "from langchain_openai import ChatOpenAI\n",
    "from langgraph.graph import START, END, StateGraph\n",
    "from langgraph.graph.message import MessagesState\n",
    "from langgraph.checkpoint.sqlite import SqliteSaver\n",
    "from IPython.display import Image, display\n",
    "\n",
    "from dotenv import load_dotenv\n",
    "load_dotenv()"
   ]
  },
  {
   "cell_type": "markdown",
   "metadata": {},
   "source": [
    "### 1. **Helper Function for Running Graphs**\n",
    "\n",
    "- A `run_graph` helper function is created to simplify invoking the graph repeatedly:\n",
    "    - Takes a query, the graph object, and a `thread_id`."
   ]
  },
  {
   "cell_type": "code",
   "execution_count": 28,
   "metadata": {},
   "outputs": [],
   "source": [
    "llm = ChatOpenAI(\n",
    "    model=\"gpt-4o-mini\",\n",
    "    temperature=0.0,\n",
    ")"
   ]
  },
  {
   "cell_type": "code",
   "execution_count": 29,
   "metadata": {},
   "outputs": [],
   "source": [
    "def run_graph(query:str, graph:StateGraph, thread_id:int):\n",
    "    output = graph.invoke(\n",
    "        config={\"configurable\":{\"thread_id\": thread_id}},\n",
    "        input={\"messages\":[HumanMessage(query)]}\n",
    "    )\n",
    "    return output"
   ]
  },
  {
   "cell_type": "markdown",
   "metadata": {},
   "source": [
    "### 2. **SQLite-Persisted Workflow Setup**\n",
    "\n",
    "#### a. **SqliteSaver Checkpointer**\n",
    "\n",
    "- A **SqliteSaver** is used to persist workflow state to a SQLite database file (`memory.db`)."
   ]
  },
  {
   "cell_type": "code",
   "execution_count": 30,
   "metadata": {},
   "outputs": [],
   "source": [
    "def chatbot(state: MessagesState):\n",
    "    ai_message = llm.invoke(state[\"messages\"])\n",
    "    return {\"messages\": ai_message}\n",
    "\n",
    "\n",
    "workflow = StateGraph(MessagesState)\n",
    "\n",
    "workflow.add_node(chatbot)\n",
    "workflow.add_edge(START, \"chatbot\")\n",
    "workflow.add_edge(\"chatbot\", END)"
   ]
  },
  {
   "cell_type": "code",
   "execution_count": 31,
   "metadata": {},
   "outputs": [],
   "source": [
    "# For production, use something like Postgres\n",
    "db_path = \"memory.db\"\n",
    "conn = sqlite3.connect(db_path, check_same_thread=False)"
   ]
  },
  {
   "cell_type": "code",
   "execution_count": 32,
   "metadata": {},
   "outputs": [
    {
     "data": {
      "image/jpeg": "[encoded data removed]",
      "text/plain": [
       "<IPython.core.display.Image object>"
      ]
     },
     "metadata": {},
     "output_type": "display_data"
    }
   ],
   "source": [
    "memory = SqliteSaver(conn)\n",
    "external_memory_graph = workflow.compile(checkpointer=memory)\n",
    "\n",
    "display(\n",
    "    Image(\n",
    "        external_memory_graph.get_graph().draw_mermaid_png()\n",
    "    )\n",
    ")"
   ]
  },
  {
   "cell_type": "markdown",
   "metadata": {},
   "source": [
    "#### b. **Execution**\n",
    "\n",
    "- The same queries are sent, but this time, metadata and snapshots are saved into the SQLite database."
   ]
  },
  {
   "cell_type": "code",
   "execution_count": 33,
   "metadata": {},
   "outputs": [
    {
     "data": {
      "text/plain": [
       "{'messages': [HumanMessage(content=\"What's a memory?\", id='02da0acd-28ec-457e-9b15-a473f3eb409c'),\n",
       "  AIMessage(content='Memory refers to the cognitive process by which information is encoded, stored, and retrieved in the brain. It encompasses various types of information, including experiences, knowledge, skills, and facts. Memory can be categorized into different types:\\n\\n1. **Sensory Memory**: The brief retention of sensory information (e.g., sights, sounds) for a very short period, typically less than a second.\\n\\n2. **Short-Term Memory**: Also known as working memory, this type holds a limited amount of information for a short duration, usually around 20 to 30 seconds. It allows for the manipulation and processing of information.\\n\\n3. **Long-Term Memory**: This type can store vast amounts of information for extended periods, ranging from days to a lifetime. Long-term memory is further divided into:\\n   - **Explicit (Declarative) Memory**: Involves conscious recall of facts and events (e.g., remembering a birthday).\\n   - **Implicit (Non-declarative) Memory**: Involves skills and procedures that are performed without conscious awareness (e.g., riding a bike).\\n\\nMemory is essential for learning, decision-making, and forming personal identity. It can be influenced by various factors, including attention, emotion, and context, and can be affected by conditions such as amnesia or dementia.', additional_kwargs={'refusal': None}, response_metadata={'token_usage': {'completion_tokens': 265, 'prompt_tokens': 11, 'total_tokens': 276, 'completion_tokens_details': {'accepted_prediction_tokens': 0, 'audio_tokens': 0, 'reasoning_tokens': 0, 'rejected_prediction_tokens': 0}, 'prompt_tokens_details': {'audio_tokens': 0, 'cached_tokens': 0}}, 'model_name': 'gpt-4o-mini-2024-07-18', 'system_fingerprint': 'fp_96c46af214', 'finish_reason': 'stop', 'logprobs': None}, id='run-218a1f28-0b2c-4ac7-aff0-4f09080ceea2-0', usage_metadata={'input_tokens': 11, 'output_tokens': 265, 'total_tokens': 276})]}"
      ]
     },
     "execution_count": 33,
     "metadata": {},
     "output_type": "execute_result"
    }
   ],
   "source": [
    "run_graph(\n",
    "    query=\"What's a memory?\",\n",
    "    graph=external_memory_graph, \n",
    "    thread_id=\"2\"\n",
    ")"
   ]
  },
  {
   "cell_type": "code",
   "execution_count": 34,
   "metadata": {},
   "outputs": [
    {
     "data": {
      "text/plain": [
       "[{'messages': [HumanMessage(content=\"What's a memory?\", id='02da0acd-28ec-457e-9b15-a473f3eb409c'),\n",
       "   AIMessage(content='Memory refers to the cognitive process by which information is encoded, stored, and retrieved in the brain. It encompasses various types of information, including experiences, knowledge, skills, and facts. Memory can be categorized into different types:\\n\\n1. **Sensory Memory**: The brief retention of sensory information (e.g., sights, sounds) for a very short period, typically less than a second.\\n\\n2. **Short-Term Memory**: Also known as working memory, this type holds a limited amount of information for a short duration, usually around 20 to 30 seconds. It allows for the manipulation and processing of information.\\n\\n3. **Long-Term Memory**: This type can store vast amounts of information for extended periods, ranging from days to a lifetime. Long-term memory is further divided into:\\n   - **Explicit (Declarative) Memory**: Involves conscious recall of facts and events (e.g., remembering a birthday).\\n   - **Implicit (Non-declarative) Memory**: Involves skills and procedures that are performed without conscious awareness (e.g., riding a bike).\\n\\nMemory is essential for learning, decision-making, and forming personal identity. It can be influenced by various factors, including attention, emotion, and context, and can be affected by conditions such as amnesia or dementia.', additional_kwargs={'refusal': None}, response_metadata={'token_usage': {'completion_tokens': 265, 'prompt_tokens': 11, 'total_tokens': 276, 'completion_tokens_details': {'accepted_prediction_tokens': 0, 'audio_tokens': 0, 'reasoning_tokens': 0, 'rejected_prediction_tokens': 0}, 'prompt_tokens_details': {'audio_tokens': 0, 'cached_tokens': 0}}, 'model_name': 'gpt-4o-mini-2024-07-18', 'system_fingerprint': 'fp_96c46af214', 'finish_reason': 'stop', 'logprobs': None}, id='run-218a1f28-0b2c-4ac7-aff0-4f09080ceea2-0', usage_metadata={'input_tokens': 11, 'output_tokens': 265, 'total_tokens': 276})]},\n",
       " (),\n",
       " {'configurable': {'thread_id': '2',\n",
       "   'checkpoint_ns': '',\n",
       "   'checkpoint_id': '1f02b41e-77d3-6160-8001-5dec70fde67d'}},\n",
       " {'source': 'loop',\n",
       "  'writes': {'chatbot': {'messages': AIMessage(content='Memory refers to the cognitive process by which information is encoded, stored, and retrieved in the brain. It encompasses various types of information, including experiences, knowledge, skills, and facts. Memory can be categorized into different types:\\n\\n1. **Sensory Memory**: The brief retention of sensory information (e.g., sights, sounds) for a very short period, typically less than a second.\\n\\n2. **Short-Term Memory**: Also known as working memory, this type holds a limited amount of information for a short duration, usually around 20 to 30 seconds. It allows for the manipulation and processing of information.\\n\\n3. **Long-Term Memory**: This type can store vast amounts of information for extended periods, ranging from days to a lifetime. Long-term memory is further divided into:\\n   - **Explicit (Declarative) Memory**: Involves conscious recall of facts and events (e.g., remembering a birthday).\\n   - **Implicit (Non-declarative) Memory**: Involves skills and procedures that are performed without conscious awareness (e.g., riding a bike).\\n\\nMemory is essential for learning, decision-making, and forming personal identity. It can be influenced by various factors, including attention, emotion, and context, and can be affected by conditions such as amnesia or dementia.', additional_kwargs={'refusal': None}, response_metadata={'token_usage': {'completion_tokens': 265, 'prompt_tokens': 11, 'total_tokens': 276, 'completion_tokens_details': {'accepted_prediction_tokens': 0, 'audio_tokens': 0, 'reasoning_tokens': 0, 'rejected_prediction_tokens': 0}, 'prompt_tokens_details': {'audio_tokens': 0, 'cached_tokens': 0}}, 'model_name': 'gpt-4o-mini-2024-07-18', 'system_fingerprint': 'fp_96c46af214', 'finish_reason': 'stop', 'logprobs': None}, id='run-218a1f28-0b2c-4ac7-aff0-4f09080ceea2-0', usage_metadata={'input_tokens': 11, 'output_tokens': 265, 'total_tokens': 276})}},\n",
       "  'step': 1,\n",
       "  'parents': {}},\n",
       " '2025-05-07T12:50:50.509522+00:00',\n",
       " {'configurable': {'thread_id': '2',\n",
       "   'checkpoint_ns': '',\n",
       "   'checkpoint_id': '1f02b41e-370e-6f08-8000-bdb8f121dea0'}},\n",
       " ()]"
      ]
     },
     "execution_count": 34,
     "metadata": {},
     "output_type": "execute_result"
    }
   ],
   "source": [
    "list(\n",
    "    external_memory_graph.get_state(\n",
    "        config={\"configurable\":{\"thread_id\": \"2\"}}\n",
    "    )\n",
    ")"
   ]
  },
  {
   "cell_type": "markdown",
   "metadata": {},
   "source": [
    "### 3. **Inspecting the SQLite Database**\n",
    "\n",
    "#### a. **Schema Inspection**\n",
    "\n",
    "- A cursor is created to query the database.\n",
    "- Two tables are found:\n",
    "    - `checkpoints`\n",
    "    - `writes`"
   ]
  },
  {
   "cell_type": "code",
   "execution_count": 35,
   "metadata": {},
   "outputs": [
    {
     "data": {
      "text/plain": [
       "['checkpoints', 'writes']"
      ]
     },
     "execution_count": 35,
     "metadata": {},
     "output_type": "execute_result"
    }
   ],
   "source": [
    "cursor = conn.cursor()\n",
    "cursor.execute(\"SELECT name FROM sqlite_master WHERE type='table';\")\n",
    "tables = [table_name[0] for table_name in cursor.fetchall()]\n",
    "tables"
   ]
  },
  {
   "cell_type": "code",
   "execution_count": 36,
   "metadata": {},
   "outputs": [],
   "source": [
    "columns_map = []\n",
    "results = []\n",
    "\n",
    "for table in tables:\n",
    "    cursor.execute(f\"select * from {table}\")\n",
    "    results.append(cursor.fetchall())\n",
    "    columns_map.append({table:[desc[0] for desc in cursor.description]})"
   ]
  },
  {
   "cell_type": "code",
   "execution_count": 37,
   "metadata": {},
   "outputs": [
    {
     "data": {
      "text/plain": [
       "[{'checkpoints': ['thread_id',\n",
       "   'checkpoint_ns',\n",
       "   'checkpoint_id',\n",
       "   'parent_checkpoint_id',\n",
       "   'type',\n",
       "   'checkpoint',\n",
       "   'metadata']},\n",
       " {'writes': ['thread_id',\n",
       "   'checkpoint_ns',\n",
       "   'checkpoint_id',\n",
       "   'task_id',\n",
       "   'idx',\n",
       "   'channel',\n",
       "   'type',\n",
       "   'value']}]"
      ]
     },
     "execution_count": 37,
     "metadata": {},
     "output_type": "execute_result"
    }
   ],
   "source": [
    "columns_map"
   ]
  },
  {
   "cell_type": "markdown",
   "metadata": {},
   "source": [
    "#### b. **Metadata Retrieval**\n",
    "\n",
    "- Metadata columns contain serialized snapshots of:\n",
    "    - Node transitions\n",
    "    - Message exchanges (e.g., HumanMessage, AIMessage)\n",
    "    - Model configurations"
   ]
  },
  {
   "cell_type": "code",
   "execution_count": 39,
   "metadata": {},
   "outputs": [
    {
     "data": {
      "text/plain": [
       "[(b'{\"source\": \"input\", \"writes\": {\"__start__\": {\"messages\": [{\"lc\": 1, \"type\": \"constructor\", \"id\": [\"langchain\", \"schema\", \"messages\", \"HumanMessage\"], \"kwargs\": {\"content\": \"What\\'s a memory?\", \"type\": \"human\"}}]}}, \"step\": -1, \"parents\": {}}',),\n",
       " (b'{\"source\": \"loop\", \"writes\": null, \"step\": 0, \"parents\": {}}',),\n",
       " (b'{\"source\": \"loop\", \"writes\": {\"chatbot\": {\"messages\": {\"lc\": 1, \"type\": \"constructor\", \"id\": [\"langchain\", \"schema\", \"messages\", \"AIMessage\"], \"kwargs\": {\"content\": \"Memory refers to the cognitive process by which information is encoded, stored, and retrieved in the brain. It encompasses various types of information, including experiences, knowledge, skills, and facts. Memory can be categorized into different types:\\\\n\\\\n1. **Sensory Memory**: The brief retention of sensory information (e.g., sights, sounds) for a very short period, typically less than a second.\\\\n\\\\n2. **Short-Term Memory**: Also known as working memory, this type holds a limited amount of information for a short duration, usually around 20 to 30 seconds. It allows for the manipulation and processing of information.\\\\n\\\\n3. **Long-Term Memory**: This type can store vast amounts of information for extended periods, ranging from days to a lifetime. Long-term memory is further divided into:\\\\n   - **Explicit (Declarative) Memory**: Involves conscious recall of facts and events (e.g., remembering a birthday).\\\\n   - **Implicit (Non-declarative) Memory**: Involves skills and procedures that are performed without conscious awareness (e.g., riding a bike).\\\\n\\\\nMemory is essential for learning, decision-making, and forming personal identity. It can be influenced by various factors, including attention, emotion, and context, and can be affected by conditions such as amnesia or dementia.\", \"additional_kwargs\": {\"refusal\": null}, \"response_metadata\": {\"token_usage\": {\"completion_tokens\": 265, \"prompt_tokens\": 11, \"total_tokens\": 276, \"completion_tokens_details\": {\"accepted_prediction_tokens\": 0, \"audio_tokens\": 0, \"reasoning_tokens\": 0, \"rejected_prediction_tokens\": 0}, \"prompt_tokens_details\": {\"audio_tokens\": 0, \"cached_tokens\": 0}}, \"model_name\": \"gpt-4o-mini-2024-07-18\", \"system_fingerprint\": \"fp_96c46af214\", \"finish_reason\": \"stop\", \"logprobs\": null}, \"type\": \"ai\", \"id\": \"run-218a1f28-0b2c-4ac7-aff0-4f09080ceea2-0\", \"usage_metadata\": {\"input_tokens\": 11, \"output_tokens\": 265, \"total_tokens\": 276}, \"tool_calls\": [], \"invalid_tool_calls\": []}}}}, \"step\": 1, \"parents\": {}}',)]"
      ]
     },
     "execution_count": 39,
     "metadata": {},
     "output_type": "execute_result"
    }
   ],
   "source": [
    "cursor.execute(f\"select metadata from checkpoints\")\n",
    "metadata = cursor.fetchall()\n",
    "metadata"
   ]
  },
  {
   "cell_type": "markdown",
   "metadata": {},
   "source": [
    "Example metadata entries:\n",
    "\n",
    "- Step -1: HumanMessage (\"What is memory?\")\n",
    "- Step 0: System setup\n",
    "- Step 1: AIMessage (\"Memory can refer to several concepts...\")"
   ]
  },
  {
   "cell_type": "code",
   "execution_count": 40,
   "metadata": {},
   "outputs": [
    {
     "data": {
      "text/plain": [
       "[{'source': 'input',\n",
       "  'writes': {'__start__': {'messages': [{'lc': 1,\n",
       "      'type': 'constructor',\n",
       "      'id': ['langchain', 'schema', 'messages', 'HumanMessage'],\n",
       "      'kwargs': {'content': \"What's a memory?\", 'type': 'human'}}]}},\n",
       "  'step': -1,\n",
       "  'parents': {}},\n",
       " {'source': 'loop', 'writes': None, 'step': 0, 'parents': {}},\n",
       " {'source': 'loop',\n",
       "  'writes': {'chatbot': {'messages': {'lc': 1,\n",
       "     'type': 'constructor',\n",
       "     'id': ['langchain', 'schema', 'messages', 'AIMessage'],\n",
       "     'kwargs': {'content': 'Memory refers to the cognitive process by which information is encoded, stored, and retrieved in the brain. It encompasses various types of information, including experiences, knowledge, skills, and facts. Memory can be categorized into different types:\\n\\n1. **Sensory Memory**: The brief retention of sensory information (e.g., sights, sounds) for a very short period, typically less than a second.\\n\\n2. **Short-Term Memory**: Also known as working memory, this type holds a limited amount of information for a short duration, usually around 20 to 30 seconds. It allows for the manipulation and processing of information.\\n\\n3. **Long-Term Memory**: This type can store vast amounts of information for extended periods, ranging from days to a lifetime. Long-term memory is further divided into:\\n   - **Explicit (Declarative) Memory**: Involves conscious recall of facts and events (e.g., remembering a birthday).\\n   - **Implicit (Non-declarative) Memory**: Involves skills and procedures that are performed without conscious awareness (e.g., riding a bike).\\n\\nMemory is essential for learning, decision-making, and forming personal identity. It can be influenced by various factors, including attention, emotion, and context, and can be affected by conditions such as amnesia or dementia.',\n",
       "      'additional_kwargs': {'refusal': None},\n",
       "      'response_metadata': {'token_usage': {'completion_tokens': 265,\n",
       "        'prompt_tokens': 11,\n",
       "        'total_tokens': 276,\n",
       "        'completion_tokens_details': {'accepted_prediction_tokens': 0,\n",
       "         'audio_tokens': 0,\n",
       "         'reasoning_tokens': 0,\n",
       "         'rejected_prediction_tokens': 0},\n",
       "        'prompt_tokens_details': {'audio_tokens': 0, 'cached_tokens': 0}},\n",
       "       'model_name': 'gpt-4o-mini-2024-07-18',\n",
       "       'system_fingerprint': 'fp_96c46af214',\n",
       "       'finish_reason': 'stop',\n",
       "       'logprobs': None},\n",
       "      'type': 'ai',\n",
       "      'id': 'run-218a1f28-0b2c-4ac7-aff0-4f09080ceea2-0',\n",
       "      'usage_metadata': {'input_tokens': 11,\n",
       "       'output_tokens': 265,\n",
       "       'total_tokens': 276},\n",
       "      'tool_calls': [],\n",
       "      'invalid_tool_calls': []}}}},\n",
       "  'step': 1,\n",
       "  'parents': {}}]"
      ]
     },
     "execution_count": 40,
     "metadata": {},
     "output_type": "execute_result"
    }
   ],
   "source": [
    "steps = [json.loads(m[0]) for m in metadata]\n",
    "steps"
   ]
  },
  {
   "cell_type": "markdown",
   "metadata": {},
   "source": [
    "### 4. **Conclusion**\n",
    "\n",
    "- Persisting memory with a database turns ephemeral conversations into durable sessions.\n",
    "- LangGraph's checkpoint system allows flexible storage backends.\n",
    "- This pattern is crucial for production-grade chatbot and agent applications that require history continuity across sessions."
   ]
  },
  {
   "cell_type": "code",
   "execution_count": null,
   "metadata": {},
   "outputs": [],
   "source": []
  }
 ],
 "metadata": {
  "kernelspec": {
   "display_name": "agent",
   "language": "python",
   "name": "python3"
  },
  "language_info": {
   "codemirror_mode": {
    "name": "ipython",
    "version": 3
   },
   "file_extension": ".py",
   "mimetype": "text/x-python",
   "name": "python",
   "nbconvert_exporter": "python",
   "pygments_lexer": "ipython3",
   "version": "3.10.17"
  }
 },
 "nbformat": 4,
 "nbformat_minor": 2
}
