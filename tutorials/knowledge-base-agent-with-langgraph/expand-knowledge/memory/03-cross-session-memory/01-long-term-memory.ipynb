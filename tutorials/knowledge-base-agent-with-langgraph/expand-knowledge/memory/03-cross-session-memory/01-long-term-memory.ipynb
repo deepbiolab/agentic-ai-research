{
 "cells": [
  {
   "cell_type": "markdown",
   "metadata": {},
   "source": [
    "## Building Long-Term Memory with LangMem\n",
    "\n",
    "### Overview\n",
    "\n",
    "This demo explains how to combine **vector database storage** with an agent framework to create **long-term memory** using **LangMem**, a library built by the LangChain team. The goal is to enable agents to remember facts across multiple interactions."
   ]
  },
  {
   "cell_type": "code",
   "execution_count": 1,
   "metadata": {},
   "outputs": [],
   "source": [
    "from langgraph.prebuilt import create_react_agent\n",
    "from langgraph.store.memory import InMemoryStore\n",
    "from langmem import create_manage_memory_tool, create_search_memory_tool\n",
    "from langchain_core.messages import HumanMessage"
   ]
  },
  {
   "cell_type": "code",
   "execution_count": 2,
   "metadata": {},
   "outputs": [
    {
     "data": {
      "text/plain": [
       "True"
      ]
     },
     "execution_count": 2,
     "metadata": {},
     "output_type": "execute_result"
    }
   ],
   "source": [
    "from dotenv import load_dotenv\n",
    "load_dotenv()"
   ]
  },
  {
   "cell_type": "markdown",
   "metadata": {},
   "source": [
    "### **Setting up LangMem**\n",
    "\n",
    "- **LangMem** handles the memory store behind the scenes, using vector embeddings to save and retrieve information.\n",
    "- Memory storage is backed by **OpenAI** embeddings in this example."
   ]
  },
  {
   "cell_type": "code",
   "execution_count": 3,
   "metadata": {},
   "outputs": [],
   "source": [
    "store = InMemoryStore(\n",
    "    index={\n",
    "        \"dims\": 1536,\n",
    "        \"embed\": \"openai:text-embedding-3-small\",\n",
    "    }\n",
    ")"
   ]
  },
  {
   "cell_type": "markdown",
   "metadata": {},
   "source": [
    "### **Creating the Workflow**\n",
    "\n",
    "- A **ReAct agent** is created using a prebuilt LangMem utility:\n",
    "    - `create_react_agent(model, tools, store)`\n",
    "- No custom `StateSchema` is needed.\n",
    "- Two tools are defined:\n",
    "    - `manage_memory_tool`: Saves information into the store.\n",
    "    - `search_memory_tool`: Retrieves information from the store."
   ]
  },
  {
   "cell_type": "code",
   "execution_count": 4,
   "metadata": {},
   "outputs": [],
   "source": [
    "agent = create_react_agent(\n",
    "    model=\"openai:gpt-4o-mini\",\n",
    "    tools=[\n",
    "        # Memory tools use LangGraph's BaseStore for persistence\n",
    "        create_manage_memory_tool(namespace=(\"memories\",)),\n",
    "        create_search_memory_tool(namespace=(\"memories\",)),\n",
    "    ],\n",
    "    store=store,\n",
    ")"
   ]
  },
  {
   "cell_type": "code",
   "execution_count": 5,
   "metadata": {},
   "outputs": [
    {
     "data": {
      "image/png": "[encoded data removed]",
      "text/plain": [
       "<langgraph.graph.state.CompiledStateGraph object at 0x10be4d540>"
      ]
     },
     "execution_count": 5,
     "metadata": {},
     "output_type": "execute_result"
    }
   ],
   "source": [
    "agent"
   ]
  },
  {
   "cell_type": "markdown",
   "metadata": {},
   "source": [
    "### **Inspecting the Input Schema**\n",
    "\n",
    "- The input schema for the agent expects a field called `messages`.\n",
    "- `messages` should include:\n",
    "    - SystemMessage\n",
    "    - HumanMessage\n",
    "    - AIMessage\n",
    "    - ToolMessages (after tool calls)"
   ]
  },
  {
   "cell_type": "code",
   "execution_count": 6,
   "metadata": {},
   "outputs": [
    {
     "data": {
      "text/plain": [
       "{'$defs': {'BaseMessage': {'additionalProperties': True,\n",
       "   'description': 'Base abstract message class.\\n\\nMessages are the inputs and outputs of ChatModels.',\n",
       "   'properties': {'content': {'anyOf': [{'type': 'string'},\n",
       "      {'items': {'anyOf': [{'type': 'string'},\n",
       "         {'additionalProperties': True, 'type': 'object'}]},\n",
       "       'type': 'array'}],\n",
       "     'title': 'Content'},\n",
       "    'additional_kwargs': {'additionalProperties': True,\n",
       "     'title': 'Additional Kwargs',\n",
       "     'type': 'object'},\n",
       "    'response_metadata': {'additionalProperties': True,\n",
       "     'title': 'Response Metadata',\n",
       "     'type': 'object'},\n",
       "    'type': {'title': 'Type', 'type': 'string'},\n",
       "    'name': {'anyOf': [{'type': 'string'}, {'type': 'null'}],\n",
       "     'default': None,\n",
       "     'title': 'Name'},\n",
       "    'id': {'anyOf': [{'type': 'string'}, {'type': 'null'}],\n",
       "     'default': None,\n",
       "     'title': 'Id'}},\n",
       "   'required': ['content', 'type'],\n",
       "   'title': 'BaseMessage',\n",
       "   'type': 'object'}},\n",
       " 'properties': {'messages': {'items': {'$ref': '#/$defs/BaseMessage'},\n",
       "   'title': 'Messages',\n",
       "   'type': 'array'}},\n",
       " 'required': ['messages'],\n",
       " 'title': 'LangGraphInput',\n",
       " 'type': 'object'}"
      ]
     },
     "execution_count": 6,
     "metadata": {},
     "output_type": "execute_result"
    }
   ],
   "source": [
    "agent.get_input_jsonschema()"
   ]
  },
  {
   "cell_type": "markdown",
   "metadata": {},
   "source": [
    "### **Example Interaction: Setting and Retrieving Preferences**\n",
    "\n",
    "#### a. **Initial Question**\n",
    "\n",
    "- User asks:\n",
    "    - *\"What are my lighting preferences?\"*\n",
    "- The agent:\n",
    "    - Calls the `search_memory` tool.\n",
    "    - Tool responds: No memory found.\n",
    "    - Agent replies: *\"I don't have any information about your lighting preferences.\"*"
   ]
  },
  {
   "cell_type": "code",
   "execution_count": 7,
   "metadata": {},
   "outputs": [
    {
     "data": {
      "text/plain": [
       "[HumanMessage(content='What are my lighting preferences?', additional_kwargs={}, response_metadata={}, id='6a668f7b-c9b2-4ad0-8da6-061dbbec831c'),\n",
       " AIMessage(content='', additional_kwargs={'tool_calls': [{'id': 'call_Kfi09XzgC8x9AywiLvCAbE61', 'function': {'arguments': '{\"query\":\"lighting preferences\"}', 'name': 'search_memory'}, 'type': 'function'}], 'refusal': None}, response_metadata={'token_usage': {'completion_tokens': 16, 'prompt_tokens': 244, 'total_tokens': 260, 'completion_tokens_details': {'accepted_prediction_tokens': 0, 'audio_tokens': 0, 'reasoning_tokens': 0, 'rejected_prediction_tokens': 0}, 'prompt_tokens_details': {'audio_tokens': 0, 'cached_tokens': 0}}, 'model_name': 'gpt-4o-mini-2024-07-18', 'system_fingerprint': 'fp_129a36352a', 'id': 'chatcmpl-BUdPD6uXTjdotie3rpNr2G1g9JIfW', 'service_tier': 'default', 'finish_reason': 'tool_calls', 'logprobs': None}, id='run--a58bdd83-9c97-4e46-91df-da46816c881c-0', tool_calls=[{'name': 'search_memory', 'args': {'query': 'lighting preferences'}, 'id': 'call_Kfi09XzgC8x9AywiLvCAbE61', 'type': 'tool_call'}], usage_metadata={'input_tokens': 244, 'output_tokens': 16, 'total_tokens': 260, 'input_token_details': {'audio': 0, 'cache_read': 0}, 'output_token_details': {'audio': 0, 'reasoning': 0}}),\n",
       " ToolMessage(content='[]', name='search_memory', id='58e04baa-cc24-45bd-938a-77a2da46e55c', tool_call_id='call_Kfi09XzgC8x9AywiLvCAbE61'),\n",
       " AIMessage(content=\"It looks like I don't have any information about your lighting preferences yet. Would you like to share them with me?\", additional_kwargs={'refusal': None}, response_metadata={'token_usage': {'completion_tokens': 25, 'prompt_tokens': 268, 'total_tokens': 293, 'completion_tokens_details': {'accepted_prediction_tokens': 0, 'audio_tokens': 0, 'reasoning_tokens': 0, 'rejected_prediction_tokens': 0}, 'prompt_tokens_details': {'audio_tokens': 0, 'cached_tokens': 0}}, 'model_name': 'gpt-4o-mini-2024-07-18', 'system_fingerprint': 'fp_129a36352a', 'id': 'chatcmpl-BUdPG3kHHc8gijcGm2bzXiPuXXk58', 'service_tier': 'default', 'finish_reason': 'stop', 'logprobs': None}, id='run--82535203-17f4-40e5-8c43-18a62cba3653-0', usage_metadata={'input_tokens': 268, 'output_tokens': 25, 'total_tokens': 293, 'input_token_details': {'audio': 0, 'cache_read': 0}, 'output_token_details': {'audio': 0, 'reasoning': 0}})]"
      ]
     },
     "execution_count": 7,
     "metadata": {},
     "output_type": "execute_result"
    }
   ],
   "source": [
    "# Ask a random question to the agent\n",
    "output = agent.invoke(\n",
    "    input = {\n",
    "        \"messages\": [\n",
    "            {\n",
    "                \"role\": \"user\", \n",
    "                \"content\": \"What are my lighting preferences?\"\n",
    "            }\n",
    "        ]\n",
    "    },\n",
    "    config = {\"configurable\": {\"thread_id\": \"1\"}}\n",
    ")\n",
    "\n",
    "output['messages']"
   ]
  },
  {
   "cell_type": "markdown",
   "metadata": {},
   "source": [
    "#### **Saving New Information**\n",
    "\n",
    "- User follows up:\n",
    "    - *\"Remember that I prefer dark mode.\"*\n",
    "- The agent:\n",
    "    - Calls the `manage_memory` tool.\n",
    "    - Saves the new preference into the store.\n",
    "    - Replies: *\"I've noted that you prefer dark mode.\"*"
   ]
  },
  {
   "cell_type": "code",
   "execution_count": 8,
   "metadata": {},
   "outputs": [],
   "source": [
    "messages = output['messages']"
   ]
  },
  {
   "cell_type": "code",
   "execution_count": 9,
   "metadata": {},
   "outputs": [],
   "source": [
    "messages.append(HumanMessage(\"Ok. Remember that I prefer dark mode.\"))"
   ]
  },
  {
   "cell_type": "code",
   "execution_count": 10,
   "metadata": {},
   "outputs": [
    {
     "data": {
      "text/plain": [
       "[HumanMessage(content='What are my lighting preferences?', additional_kwargs={}, response_metadata={}, id='6a668f7b-c9b2-4ad0-8da6-061dbbec831c'),\n",
       " AIMessage(content='', additional_kwargs={'tool_calls': [{'id': 'call_Kfi09XzgC8x9AywiLvCAbE61', 'function': {'arguments': '{\"query\":\"lighting preferences\"}', 'name': 'search_memory'}, 'type': 'function'}], 'refusal': None}, response_metadata={'token_usage': {'completion_tokens': 16, 'prompt_tokens': 244, 'total_tokens': 260, 'completion_tokens_details': {'accepted_prediction_tokens': 0, 'audio_tokens': 0, 'reasoning_tokens': 0, 'rejected_prediction_tokens': 0}, 'prompt_tokens_details': {'audio_tokens': 0, 'cached_tokens': 0}}, 'model_name': 'gpt-4o-mini-2024-07-18', 'system_fingerprint': 'fp_129a36352a', 'id': 'chatcmpl-BUdPD6uXTjdotie3rpNr2G1g9JIfW', 'service_tier': 'default', 'finish_reason': 'tool_calls', 'logprobs': None}, id='run--a58bdd83-9c97-4e46-91df-da46816c881c-0', tool_calls=[{'name': 'search_memory', 'args': {'query': 'lighting preferences'}, 'id': 'call_Kfi09XzgC8x9AywiLvCAbE61', 'type': 'tool_call'}], usage_metadata={'input_tokens': 244, 'output_tokens': 16, 'total_tokens': 260, 'input_token_details': {'audio': 0, 'cache_read': 0}, 'output_token_details': {'audio': 0, 'reasoning': 0}}),\n",
       " ToolMessage(content='[]', name='search_memory', id='58e04baa-cc24-45bd-938a-77a2da46e55c', tool_call_id='call_Kfi09XzgC8x9AywiLvCAbE61'),\n",
       " AIMessage(content=\"It looks like I don't have any information about your lighting preferences yet. Would you like to share them with me?\", additional_kwargs={'refusal': None}, response_metadata={'token_usage': {'completion_tokens': 25, 'prompt_tokens': 268, 'total_tokens': 293, 'completion_tokens_details': {'accepted_prediction_tokens': 0, 'audio_tokens': 0, 'reasoning_tokens': 0, 'rejected_prediction_tokens': 0}, 'prompt_tokens_details': {'audio_tokens': 0, 'cached_tokens': 0}}, 'model_name': 'gpt-4o-mini-2024-07-18', 'system_fingerprint': 'fp_129a36352a', 'id': 'chatcmpl-BUdPG3kHHc8gijcGm2bzXiPuXXk58', 'service_tier': 'default', 'finish_reason': 'stop', 'logprobs': None}, id='run--82535203-17f4-40e5-8c43-18a62cba3653-0', usage_metadata={'input_tokens': 268, 'output_tokens': 25, 'total_tokens': 293, 'input_token_details': {'audio': 0, 'cache_read': 0}, 'output_token_details': {'audio': 0, 'reasoning': 0}}),\n",
       " HumanMessage(content='Ok. Remember that I prefer dark mode.', additional_kwargs={}, response_metadata={}, id='640fdc6e-e8bb-4e86-9625-44e327b9d961'),\n",
       " AIMessage(content='', additional_kwargs={'tool_calls': [{'id': 'call_2mfE0PxO9aEGWraaunkPxbHB', 'function': {'arguments': '{\"content\":\"prefer dark mode\",\"action\":\"create\"}', 'name': 'manage_memory'}, 'type': 'function'}], 'refusal': None}, response_metadata={'token_usage': {'completion_tokens': 21, 'prompt_tokens': 308, 'total_tokens': 329, 'completion_tokens_details': {'accepted_prediction_tokens': 0, 'audio_tokens': 0, 'reasoning_tokens': 0, 'rejected_prediction_tokens': 0}, 'prompt_tokens_details': {'audio_tokens': 0, 'cached_tokens': 0}}, 'model_name': 'gpt-4o-mini-2024-07-18', 'system_fingerprint': 'fp_129a36352a', 'id': 'chatcmpl-BUdPWKAYplyxVCP8wNDeNbX873KDy', 'service_tier': 'default', 'finish_reason': 'tool_calls', 'logprobs': None}, id='run--3e299827-36c7-4fe0-9d93-b830bd3305f5-0', tool_calls=[{'name': 'manage_memory', 'args': {'content': 'prefer dark mode', 'action': 'create'}, 'id': 'call_2mfE0PxO9aEGWraaunkPxbHB', 'type': 'tool_call'}], usage_metadata={'input_tokens': 308, 'output_tokens': 21, 'total_tokens': 329, 'input_token_details': {'audio': 0, 'cache_read': 0}, 'output_token_details': {'audio': 0, 'reasoning': 0}}),\n",
       " ToolMessage(content='created memory 0cd5ebc2-1c03-47c6-8e1b-3e8bac77605e', name='manage_memory', id='77219dd3-d320-423b-9a10-4085872d5b17', tool_call_id='call_2mfE0PxO9aEGWraaunkPxbHB'),\n",
       " AIMessage(content=\"I've noted that you prefer dark mode. If you have any other preferences or details you'd like me to remember, feel free to let me know!\", additional_kwargs={'refusal': None}, response_metadata={'token_usage': {'completion_tokens': 31, 'prompt_tokens': 366, 'total_tokens': 397, 'completion_tokens_details': {'accepted_prediction_tokens': 0, 'audio_tokens': 0, 'reasoning_tokens': 0, 'rejected_prediction_tokens': 0}, 'prompt_tokens_details': {'audio_tokens': 0, 'cached_tokens': 0}}, 'model_name': 'gpt-4o-mini-2024-07-18', 'system_fingerprint': 'fp_129a36352a', 'id': 'chatcmpl-BUdPb2frFQMe1pSVKuPpJRxf9kt4L', 'service_tier': 'default', 'finish_reason': 'stop', 'logprobs': None}, id='run--836a96e1-e24c-4c8b-a4ff-97804010e612-0', usage_metadata={'input_tokens': 366, 'output_tokens': 31, 'total_tokens': 397, 'input_token_details': {'audio': 0, 'cache_read': 0}, 'output_token_details': {'audio': 0, 'reasoning': 0}})]"
      ]
     },
     "execution_count": 10,
     "metadata": {},
     "output_type": "execute_result"
    }
   ],
   "source": [
    "# Store a new memory in one Session\n",
    "output = agent.invoke(\n",
    "    input = {\n",
    "        \"messages\": messages,\n",
    "    },\n",
    "    config = {\"configurable\": {\"thread_id\": \"1\"}}\n",
    ")\n",
    "\n",
    "output['messages']"
   ]
  },
  {
   "cell_type": "markdown",
   "metadata": {},
   "source": [
    "#### c. **New Session Retrieval**\n",
    "\n",
    "- A **new thread** is started with a fresh message:\n",
    "    - *\"What are my lighting preferences?\"*\n",
    "- Only this question is provided (no prior conversation).\n",
    "- The agent:\n",
    "    - Calls the `search_memory` tool.\n",
    "    - Finds the saved memory from the previous interaction.\n",
    "    - Replies correctly: *\"You prefer dark mode.\"*"
   ]
  },
  {
   "cell_type": "code",
   "execution_count": null,
   "metadata": {},
   "outputs": [
    {
     "data": {
      "text/plain": [
       "[HumanMessage(content='What are my lighting preferences?', additional_kwargs={}, response_metadata={}, id='1aecca73-97b1-4c98-89c7-0403f78b5967'),\n",
       " AIMessage(content='', additional_kwargs={'tool_calls': [{'id': 'call_saqS3VV3GMFnjY2sRqfyM8Hg', 'function': {'arguments': '{\"query\":\"lighting preferences\"}', 'name': 'search_memory'}, 'type': 'function'}], 'refusal': None}, response_metadata={'token_usage': {'completion_tokens': 16, 'prompt_tokens': 244, 'total_tokens': 260, 'completion_tokens_details': {'accepted_prediction_tokens': 0, 'audio_tokens': 0, 'reasoning_tokens': 0, 'rejected_prediction_tokens': 0}, 'prompt_tokens_details': {'audio_tokens': 0, 'cached_tokens': 0}}, 'model_name': 'gpt-4o-mini-2024-07-18', 'system_fingerprint': 'fp_129a36352a', 'id': 'chatcmpl-BUdQ7svfW8xGiqrW0c9UappEWvMmn', 'service_tier': 'default', 'finish_reason': 'tool_calls', 'logprobs': None}, id='run--ddbab82c-da6e-43db-8549-f0c5a20086d5-0', tool_calls=[{'name': 'search_memory', 'args': {'query': 'lighting preferences'}, 'id': 'call_saqS3VV3GMFnjY2sRqfyM8Hg', 'type': 'tool_call'}], usage_metadata={'input_tokens': 244, 'output_tokens': 16, 'total_tokens': 260, 'input_token_details': {'audio': 0, 'cache_read': 0}, 'output_token_details': {'audio': 0, 'reasoning': 0}}),\n",
       " ToolMessage(content='[{\"namespace\":[\"memories\"],\"key\":\"0cd5ebc2-1c03-47c6-8e1b-3e8bac77605e\",\"value\":{\"content\":\"prefer dark mode\"},\"created_at\":\"2025-05-07T18:03:57.845985+00:00\",\"updated_at\":\"2025-05-07T18:03:57.845994+00:00\",\"score\":0.3843405001567138}]', name='search_memory', id='f35b322b-de83-457f-a186-32b5e5fb49af', tool_call_id='call_saqS3VV3GMFnjY2sRqfyM8Hg'),\n",
       " AIMessage(content='Your lighting preference is to prefer dark mode.', additional_kwargs={'refusal': None}, response_metadata={'token_usage': {'completion_tokens': 11, 'prompt_tokens': 371, 'total_tokens': 382, 'completion_tokens_details': {'accepted_prediction_tokens': 0, 'audio_tokens': 0, 'reasoning_tokens': 0, 'rejected_prediction_tokens': 0}, 'prompt_tokens_details': {'audio_tokens': 0, 'cached_tokens': 0}}, 'model_name': 'gpt-4o-mini-2024-07-18', 'system_fingerprint': 'fp_129a36352a', 'id': 'chatcmpl-BUdQBPRzKnZ8ZobYTynPOY07Cv1Vs', 'service_tier': 'default', 'finish_reason': 'stop', 'logprobs': None}, id='run--a2210bc8-006d-486a-8572-11e591580c2b-0', usage_metadata={'input_tokens': 371, 'output_tokens': 11, 'total_tokens': 382, 'input_token_details': {'audio': 0, 'cache_read': 0}, 'output_token_details': {'audio': 0, 'reasoning': 0}})]"
      ]
     },
     "execution_count": 11,
     "metadata": {},
     "output_type": "execute_result"
    }
   ],
   "source": [
    "# Retrieve the stored memory in another Session\n",
    "output = agent.invoke(\n",
    "    {\n",
    "        \"messages\": [\n",
    "            {\n",
    "                \"role\": \"user\", \n",
    "                \"content\": \"What are my lighting preferences?\"\n",
    "            }\n",
    "        ]\n",
    "    },\n",
    "    config = {\"configurable\": {\"thread_id\": \"2\"}}\n",
    ")\n",
    "\n",
    "output['messages']"
   ]
  },
  {
   "cell_type": "markdown",
   "metadata": {},
   "source": [
    "### **Conclusion**\n",
    "\n",
    "- LangMem makes it easy to extend ReAct agents with **long-term memory**.\n",
    "- Agents can now recall user preferences or facts across completely different conversations.\n",
    "- This memory-enhanced design is a key step toward building more **lifelike, persistent AI agents**.\n",
    "\n",
    "- **Persistent memory** across different sessions and thread IDs.\n",
    "- **Memory search and management** handled with tools abstracted from the agent's reasoning.\n",
    "- **Vector-based retrieval** ensures memory is stored in a scalable, semantically searchable format.\n",
    "- The user does not need to manually maintain history; it's offloaded to LangMem."
   ]
  },
  {
   "cell_type": "code",
   "execution_count": null,
   "metadata": {},
   "outputs": [],
   "source": []
  }
 ],
 "metadata": {
  "kernelspec": {
   "display_name": "agent",
   "language": "python",
   "name": "python3"
  },
  "language_info": {
   "codemirror_mode": {
    "name": "ipython",
    "version": 3
   },
   "file_extension": ".py",
   "mimetype": "text/x-python",
   "name": "python",
   "nbconvert_exporter": "python",
   "pygments_lexer": "ipython3",
   "version": "3.10.17"
  }
 },
 "nbformat": 4,
 "nbformat_minor": 2
}
