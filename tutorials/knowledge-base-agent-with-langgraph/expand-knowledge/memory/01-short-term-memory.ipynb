{
 "cells": [
  {
   "cell_type": "code",
   "execution_count": null,
   "id": "4393f28a",
   "metadata": {},
   "outputs": [
    {
     "data": {
      "text/plain": [
       "True"
      ]
     },
     "execution_count": 3,
     "metadata": {},
     "output_type": "execute_result"
    }
   ],
   "source": [
    "from typing import TypedDict, List, Optional\n",
    "\n",
    "from langchain_openai import ChatOpenAI\n",
    "from langchain_core.messages import HumanMessage, SystemMessage, BaseMessage\n",
    "from langgraph.graph import StateGraph, END\n",
    "from IPython.display import Image, display\n",
    "from dotenv import load_dotenv\n",
    "\n",
    "load_dotenv()"
   ]
  },
  {
   "cell_type": "code",
   "execution_count": 4,
   "id": "ee62312e",
   "metadata": {},
   "outputs": [],
   "source": [
    "# Define the LLM\n",
    "llm = ChatOpenAI(\n",
    "    model=\"gpt-4o-mini\",\n",
    "    temperature=0.0,\n",
    ")"
   ]
  },
  {
   "cell_type": "code",
   "execution_count": 5,
   "id": "a9f979dc",
   "metadata": {},
   "outputs": [],
   "source": [
    "# Define system prompt\n",
    "SYSTEM_PROMPT = \"\"\"You are a helpful assistant.\n",
    "\"\"\""
   ]
  },
  {
   "cell_type": "code",
   "execution_count": 12,
   "id": "8bd212b1",
   "metadata": {},
   "outputs": [],
   "source": [
    "# Define the state with short-term memory\n",
    "class State(TypedDict):\n",
    "    question: str\n",
    "    response: Optional[str]\n",
    "    chat_history: List[BaseMessage]"
   ]
  },
  {
   "cell_type": "code",
   "execution_count": 13,
   "id": "93592984",
   "metadata": {},
   "outputs": [],
   "source": [
    "def initialize_state() -> State:\n",
    "    \"\"\"Initialize the agent state with empty chat history.\"\"\"\n",
    "    return {\n",
    "        \"question\": \"\",\n",
    "        \"response\": None,\n",
    "        \"chat_history\": [SystemMessage(content=SYSTEM_PROMPT)]\n",
    "    }"
   ]
  },
  {
   "cell_type": "code",
   "execution_count": 14,
   "id": "69b46c04",
   "metadata": {},
   "outputs": [],
   "source": [
    "# Define the agent function\n",
    "def agent(state: State) -> State:\n",
    "    \"\"\"Process the user question and update the chat history.\"\"\"\n",
    "    # Get current question and chat history\n",
    "    question = state[\"question\"]\n",
    "    chat_history = state[\"chat_history\"]\n",
    "    \n",
    "    # Add the new question to the chat history\n",
    "    chat_history.append(HumanMessage(content=question))\n",
    "    \n",
    "    # Get response from the LLM\n",
    "    response = llm.invoke(chat_history)\n",
    "    \n",
    "    # Add the response to chat history\n",
    "    chat_history.append(response)\n",
    "    \n",
    "    # Return updated state\n",
    "    return {\n",
    "        \"question\": question,\n",
    "        \"response\": response.content,\n",
    "        \"chat_history\": chat_history\n",
    "    }"
   ]
  },
  {
   "cell_type": "code",
   "execution_count": 15,
   "id": "def5242c",
   "metadata": {},
   "outputs": [
    {
     "data": {
      "image/jpeg": "[encoded data removed]",
      "text/plain": [
       "<IPython.core.display.Image object>"
      ]
     },
     "metadata": {},
     "output_type": "display_data"
    }
   ],
   "source": [
    "# Create the graph\n",
    "workflow = StateGraph(State)\n",
    "workflow.add_node(\"agent\", agent)\n",
    "workflow.set_entry_point(\"agent\")\n",
    "workflow.add_edge(\"agent\", END)\n",
    "\n",
    "# Compile the graph\n",
    "graph = workflow.compile()\n",
    "\n",
    "# Display the graph\n",
    "display(\n",
    "    Image(\n",
    "        graph.get_graph().draw_mermaid_png()\n",
    "    )\n",
    ")"
   ]
  },
  {
   "cell_type": "markdown",
   "id": "41c3322f",
   "metadata": {},
   "source": [
    "### Simulate a conversation"
   ]
  },
  {
   "cell_type": "code",
   "execution_count": 16,
   "id": "44d6626b",
   "metadata": {},
   "outputs": [],
   "source": [
    "# Example conversation with references to previous questions\n",
    "questions = [\n",
    "    \"My name is Alex. What's the weather like today?\",\n",
    "    \"Can you remember my name?\",\n",
    "    \"What was my first question about?\",\n",
    "    \"Tell me about machine learning.\"\n",
    "]"
   ]
  },
  {
   "cell_type": "code",
   "execution_count": 17,
   "id": "8d4b108b",
   "metadata": {},
   "outputs": [],
   "source": [
    "# Function to simulate a conversation\n",
    "def simulate_conversation(graph, questions: List[str]):\n",
    "    \"\"\"Simulate a conversation with multiple questions.\"\"\"\n",
    "    print(\"Starting conversation with short-term memory...\\n\")\n",
    "    \n",
    "    # Initialize state\n",
    "    state = initialize_state()\n",
    "    \n",
    "    for i, question in enumerate(questions):\n",
    "        print(f\"Turn {i+1}:\")\n",
    "        print(f\"User: {question}\")\n",
    "        \n",
    "        # Update the question in the state\n",
    "        state[\"question\"] = question\n",
    "        \n",
    "        # Run the graph\n",
    "        result = graph.invoke(state)\n",
    "        \n",
    "        # Update the state for the next turn\n",
    "        state = result\n",
    "        \n",
    "        print(f\"Assistant: {result['response']}\")\n",
    "        print(\"\\n\" + \"-\"*50 + \"\\n\")\n",
    "    \n",
    "    print(\"Conversation ended. If we start a new conversation, the memory will be reset.\")\n",
    "    return state"
   ]
  },
  {
   "cell_type": "code",
   "execution_count": 18,
   "id": "82043294",
   "metadata": {},
   "outputs": [
    {
     "name": "stdout",
     "output_type": "stream",
     "text": [
      "Starting conversation with short-term memory...\n",
      "\n",
      "Turn 1:\n",
      "User: My name is Alex. What's the weather like today?\n",
      "Assistant: I'm sorry, Alex, but I don't have real-time weather data. You can check a weather website or app for the most accurate and up-to-date information on today's weather. If you tell me your location, I can suggest how to find the weather for your area!\n",
      "\n",
      "--------------------------------------------------\n",
      "\n",
      "Turn 2:\n",
      "User: Can you remember my name?\n",
      "Assistant: I can remember your name, Alex, for the duration of our conversation. However, I won't be able to recall it in future interactions. Each session is independent, so if you start a new conversation, you'll need to tell me your name again. How can I assist you today, Alex?\n",
      "\n",
      "--------------------------------------------------\n",
      "\n",
      "Turn 3:\n",
      "User: What was my first question about?\n",
      "Assistant: Your first question was about the weather today. You asked, \"What's the weather like today?\" If you have any other questions or need assistance, feel free to ask!\n",
      "\n",
      "--------------------------------------------------\n",
      "\n",
      "Turn 4:\n",
      "User: Tell me about machine learning.\n",
      "Assistant: Machine learning is a subset of artificial intelligence (AI) that focuses on the development of algorithms and statistical models that enable computers to perform tasks without explicit instructions. Instead, these systems learn from data and improve their performance over time. Here are some key concepts and components of machine learning:\n",
      "\n",
      "1. **Types of Machine Learning**:\n",
      "   - **Supervised Learning**: In this approach, the model is trained on a labeled dataset, meaning that each training example is paired with an output label. The model learns to map inputs to the correct outputs. Common algorithms include linear regression, decision trees, and support vector machines.\n",
      "   - **Unsupervised Learning**: Here, the model is trained on data without labeled responses. The goal is to find patterns or groupings in the data. Common techniques include clustering (e.g., k-means) and dimensionality reduction (e.g., PCA).\n",
      "   - **Reinforcement Learning**: This type involves training an agent to make decisions by taking actions in an environment to maximize some notion of cumulative reward. It is often used in robotics, gaming, and navigation.\n",
      "\n",
      "2. **Key Components**:\n",
      "   - **Data**: Machine learning relies heavily on data. The quality and quantity of data can significantly impact the performance of the model.\n",
      "   - **Features**: Features are the individual measurable properties or characteristics used as input to the model. Feature selection and engineering are crucial steps in the machine learning process.\n",
      "   - **Models**: A model is a mathematical representation of a process that is trained on data. Different algorithms can be used to create models, and the choice of algorithm can affect the results.\n",
      "   - **Training and Testing**: The dataset is typically split into a training set and a testing set. The model is trained on the training set and evaluated on the testing set to assess its performance.\n",
      "\n",
      "3. **Applications**: Machine learning has a wide range of applications, including:\n",
      "   - Image and speech recognition\n",
      "   - Natural language processing (NLP)\n",
      "   - Recommendation systems (e.g., Netflix, Amazon)\n",
      "   - Fraud detection\n",
      "   - Autonomous vehicles\n",
      "\n",
      "4. **Challenges**: Some challenges in machine learning include:\n",
      "   - Overfitting: When a model learns the training data too well, including noise, and performs poorly on unseen data.\n",
      "   - Bias and fairness: Ensuring that models do not perpetuate or amplify biases present in the training data.\n",
      "   - Interpretability: Understanding how and why a model makes certain predictions can be difficult, especially with complex models like deep neural networks.\n",
      "\n",
      "Machine learning is a rapidly evolving field with ongoing research and advancements, making it an exciting area of study and application. If you have specific questions or topics within machine learning that you'd like to explore further, feel free to ask!\n",
      "\n",
      "--------------------------------------------------\n",
      "\n",
      "Conversation ended. If we start a new conversation, the memory will be reset.\n",
      "system: You are a helpful assistant.\n",
      "\n",
      "human: My name is Alex. What's the weather like today?\n",
      "ai: I'm sorry, Alex, but I don't have real-time weather data. You can check a weather website or app for the most accurate and up-to-date information on today's weather. If you tell me your location, I can suggest how to find the weather for your area!\n",
      "human: Can you remember my name?\n",
      "ai: I can remember your name, Alex, for the duration of our conversation. However, I won't be able to recall it in future interactions. Each session is independent, so if you start a new conversation, you'll need to tell me your name again. How can I assist you today, Alex?\n",
      "human: What was my first question about?\n",
      "ai: Your first question was about the weather today. You asked, \"What's the weather like today?\" If you have any other questions or need assistance, feel free to ask!\n",
      "human: Tell me about machine learning.\n",
      "ai: Machine learning is a subset of artificial intelligence (AI) that focuses on the development of algorithms and statistical models that enable computers to perform tasks without explicit instructions. Instead, these systems learn from data and improve their performance over time. Here are some key concepts and components of machine learning:\n",
      "\n",
      "1. **Types of Machine Learning**:\n",
      "   - **Supervised Learning**: In this approach, the model is trained on a labeled dataset, meaning that each training example is paired with an output label. The model learns to map inputs to the correct outputs. Common algorithms include linear regression, decision trees, and support vector machines.\n",
      "   - **Unsupervised Learning**: Here, the model is trained on data without labeled responses. The goal is to find patterns or groupings in the data. Common techniques include clustering (e.g., k-means) and dimensionality reduction (e.g., PCA).\n",
      "   - **Reinforcement Learning**: This type involves training an agent to make decisions by taking actions in an environment to maximize some notion of cumulative reward. It is often used in robotics, gaming, and navigation.\n",
      "\n",
      "2. **Key Components**:\n",
      "   - **Data**: Machine learning relies heavily on data. The quality and quantity of data can significantly impact the performance of the model.\n",
      "   - **Features**: Features are the individual measurable properties or characteristics used as input to the model. Feature selection and engineering are crucial steps in the machine learning process.\n",
      "   - **Models**: A model is a mathematical representation of a process that is trained on data. Different algorithms can be used to create models, and the choice of algorithm can affect the results.\n",
      "   - **Training and Testing**: The dataset is typically split into a training set and a testing set. The model is trained on the training set and evaluated on the testing set to assess its performance.\n",
      "\n",
      "3. **Applications**: Machine learning has a wide range of applications, including:\n",
      "   - Image and speech recognition\n",
      "   - Natural language processing (NLP)\n",
      "   - Recommendation systems (e.g., Netflix, Amazon)\n",
      "   - Fraud detection\n",
      "   - Autonomous vehicles\n",
      "\n",
      "4. **Challenges**: Some challenges in machine learning include:\n",
      "   - Overfitting: When a model learns the training data too well, including noise, and performs poorly on unseen data.\n",
      "   - Bias and fairness: Ensuring that models do not perpetuate or amplify biases present in the training data.\n",
      "   - Interpretability: Understanding how and why a model makes certain predictions can be difficult, especially with complex models like deep neural networks.\n",
      "\n",
      "Machine learning is a rapidly evolving field with ongoing research and advancements, making it an exciting area of study and application. If you have specific questions or topics within machine learning that you'd like to explore further, feel free to ask!\n"
     ]
    }
   ],
   "source": [
    "# Run the conversation\n",
    "final_state = simulate_conversation(graph, questions)\n",
    "\n",
    "for message in final_state[\"chat_history\"]:\n",
    "    role = message.type\n",
    "    print(f\"{role}: {message.content}\")"
   ]
  },
  {
   "cell_type": "markdown",
   "id": "c91a449a",
   "metadata": {},
   "source": [
    "### Short Term Memory reset"
   ]
  },
  {
   "cell_type": "code",
   "execution_count": 19,
   "id": "618af3ad",
   "metadata": {},
   "outputs": [
    {
     "name": "stdout",
     "output_type": "stream",
     "text": [
      "Starting conversation with short-term memory...\n",
      "\n",
      "Turn 1:\n",
      "User: Do you remember my name?\n",
      "Assistant: I don't have the ability to remember personal information or previous interactions, including your name. Each session is independent, so I don't retain any details once our conversation ends. How can I assist you today?\n",
      "\n",
      "--------------------------------------------------\n",
      "\n",
      "Turn 2:\n",
      "User: I'm Taylor. Can you remember that?\n",
      "Assistant: I can't remember personal information like your name from one interaction to the next. However, I can use your name, Taylor, during our current conversation. How can I assist you today?\n",
      "\n",
      "--------------------------------------------------\n",
      "\n",
      "Turn 3:\n",
      "User: What's my name now?\n",
      "Assistant: Your name is Taylor. How can I help you today, Taylor?\n",
      "\n",
      "--------------------------------------------------\n",
      "\n",
      "Conversation ended. If we start a new conversation, the memory will be reset.\n"
     ]
    }
   ],
   "source": [
    "# Start a new conversation (memory reset)\n",
    "new_questions = [\n",
    "    \"Do you remember my name?\",\n",
    "    \"I'm Taylor. Can you remember that?\",\n",
    "    \"What's my name now?\"\n",
    "]\n",
    "\n",
    "new_state = simulate_conversation(graph, new_questions)"
   ]
  }
 ],
 "metadata": {
  "kernelspec": {
   "display_name": "agent",
   "language": "python",
   "name": "python3"
  },
  "language_info": {
   "codemirror_mode": {
    "name": "ipython",
    "version": 3
   },
   "file_extension": ".py",
   "mimetype": "text/x-python",
   "name": "python",
   "nbconvert_exporter": "python",
   "pygments_lexer": "ipython3",
   "version": "3.10.17"
  }
 },
 "nbformat": 4,
 "nbformat_minor": 5
}
