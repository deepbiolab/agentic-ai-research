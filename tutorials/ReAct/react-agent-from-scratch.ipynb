{
 "cells": [
  {
   "cell_type": "markdown",
   "metadata": {},
   "source": [
    "# Building a Wellness Agent Using ReACT Prompting Techniques\n",
    "\n",
    "ReACT (Reasoning + Acting) prompting is a powerful method for developing intelligent agents capable of reasoning and executing actions iteratively. In this guide, we’ll explore creating a wellness-focused agent using this technique.\n",
    "\n",
    "The key to ReACT lies in crafting a detailed and specific system message. This message defines the agent's behavior by interleaving thought, action, and observation steps. By providing an example output in the prompt, you can guide the model’s responses effectively.\n",
    "\n",
    "Here’s a simplified structure:\n",
    "\n",
    "1. **Thought Step**: The model processes the user query and formulates a plan.\n",
    "2. **Action Steps**: The agent performs specific actions, such as retrieving data or analyzing input.\n",
    "3. **Observation Step**: The model reflects on the results of the actions and adjusts its approach as needed.\n",
    "\n",
    "These steps are repeated iteratively until the objective is achieved.\n",
    "\n",
    "For example, if a user asks for stress management tips, the agent might think about relevant strategies, retrieve data on mindfulness techniques, and observe user feedback to refine its suggestions.\n",
    "\n",
    "By leveraging ReACT prompting, you can create sophisticated agents capable of dynamic reasoning, making them ideal for wellness applications and beyond."
   ]
  },
  {
   "cell_type": "code",
   "execution_count": null,
   "metadata": {},
   "outputs": [],
   "source": [
    "# Importing the library for OpenAI API\n",
    "from openai import OpenAI\n",
    "\n",
    "client = OpenAI(\n",
    "\tbase_url=\"<Your API URL>\",\n",
    "\tapi_key=\"<Your API KEY>\"\n",
    ")\n"
   ]
  },
  {
   "cell_type": "markdown",
   "metadata": {},
   "source": [
    "### Define ReAct Prompt\n",
    "\n",
    "We can create a ReAct prompt like this, the key is to provide a detailed system message that outlines the agent's behavior and the iterative process it should follow. The system message should include instructions for the agent to think, act, and observe, and it should also provide an example output to guide the model's responses."
   ]
  },
  {
   "cell_type": "code",
   "execution_count": 55,
   "metadata": {},
   "outputs": [],
   "source": [
    "wellness_context = \"\"\"\n",
    "Your goal is to improve the wellness of the user by interleaving thought, action, and observation steps.\n",
    "\n",
    "(Thought Step)\n",
    "Begin by assessing the user's current wellness situation. Consider factors like:\n",
    "    * reported diet\n",
    "    * exercise habits\n",
    "    * mental health status\n",
    "    * specific wellness goals they have shared\n",
    "\n",
    "(Action Steps)\n",
    "    1. Collect[Data from user]\n",
    "       Engage with the user to gather essential wellness information, data, or metrics:\n",
    "       * dietary habits\n",
    "       * fitness routines\n",
    "       * stress levels\n",
    "       * sleep patterns\n",
    "       * wellness objectives\n",
    "\n",
    "    2. Provide[Wellness Information]\n",
    "       Based on the collected data and current wellness trends, offer:\n",
    "       * knowledge and insights about nutrition\n",
    "       * exercise regimes\n",
    "       * mental wellness practices\n",
    "       * relevant biological or medical information that supports and improves wellness\n",
    "\n",
    "    3. Recommend[Plan]\n",
    "       Conclude with a tailored recommendation or specific action plan that the user can implement:\n",
    "       * dietary change\n",
    "       * new exercise\n",
    "       * mental relaxation technique\n",
    "       * suggestion to consult a healthcare professional for more personalized advice\n",
    "\n",
    "(Observation Step)\n",
    "Respond to the user with the Action Steps, and:\n",
    "    * observe the user's response and engagement\n",
    "    * gauge their understanding and willingness to follow the suggestions\n",
    "    * be ready to offer further clarification or alternative recommendations if needed\n",
    "\n",
    "Repeat these steps N times until the user's wellness has improved.\n",
    "\n",
    "Example:\n",
    "[User Query]\n",
    "\"I'm feeling stressed and not sleeping well. What can I do to improve my sleep?\"\n",
    "\n",
    "(Thought)\n",
    "User is experiencing stress and poor sleep, likely interconnected issues.\n",
    "\n",
    "(Actions)\n",
    "1. Collect[Details about user's current stressors and sleep habits]\n",
    "   Questions:\n",
    "   * What are some current stressors in your life?\n",
    "   * How many hours of sleep do you get each night?\n",
    "   * Have you tried meditation before bed?\n",
    "   * Do you have a regular sleep schedule?\n",
    "\n",
    "2. Provide[Information on relaxation techniques and sleep hygiene practices]\n",
    "\n",
    "3. Recommend[Plan]\n",
    "   * Consider trying meditation before bed\n",
    "   * Establish a regular sleep schedule\n",
    "   * Let's create a plan to meditate for 10 minutes before bed each night this week\n",
    "\n",
    "(Follow-up)\n",
    "\"What are some other wellness goals you have or wellness issues you are experiencing?\"\n",
    "\"\"\""
   ]
  },
  {
   "cell_type": "markdown",
   "metadata": {},
   "source": [
    "### Initial and Store Conversation\n",
    "\n",
    "Since we will interactive with the agent multiple times, we will need to keep track of the conversation history. We will use a list to store the messages exchanged between the user and the agent. Each message is a dictionary with a role (user or assistant) and a content (the message text).\n",
    "\n",
    "```python\n",
    "messages = []\n",
    "\n",
    "messages.append(\n",
    "\t{\n",
    "\t\t\"role\": \"user\",\n",
    "\t\t\"content\": message\n",
    "    }\n",
    ")\n",
    "```"
   ]
  },
  {
   "cell_type": "code",
   "execution_count": 69,
   "metadata": {},
   "outputs": [],
   "source": [
    "messages = []"
   ]
  },
  {
   "cell_type": "code",
   "execution_count": 70,
   "metadata": {},
   "outputs": [],
   "source": [
    "# Function to call the OpenAI GPT-3.5 API\n",
    "def react_agent(messages, context=\"\"):\n",
    "    try:\n",
    "        # Calling the OpenAI API with a system message and our prompt in the user message content\n",
    "        # Use openai.ChatCompletion.create for openai < 1.0\n",
    "        # openai.chat.completions.create for openai > 1.0\n",
    "        response = client.chat.completions.create(\n",
    "          model=\"gpt-3.5-turbo\",\n",
    "          messages=[\n",
    "          {\n",
    "            \"role\": \"system\",\n",
    "            \"content\" : context \n",
    "          }\n",
    "          ] + messages,\n",
    "        temperature=1,\n",
    "        max_tokens=512,\n",
    "        top_p=1,\n",
    "        frequency_penalty=0,\n",
    "        presence_penalty=0\n",
    "        )\n",
    "        # The response is a JSON object containing more information than the response. We want to return only the message content\n",
    "        return response.choices[0].message.content\n",
    "    except Exception as e:\n",
    "        return f\"An error occurred: {e}\""
   ]
  },
  {
   "cell_type": "code",
   "execution_count": 71,
   "metadata": {},
   "outputs": [],
   "source": [
    "def interactive_session(user_prompt):\n",
    "    print(f\"User Input: {user_prompt}\")\n",
    "    messages.append(\n",
    "        {\n",
    "            \"role\": \"user\",\n",
    "            \"content\": user_prompt\n",
    "        }\n",
    "    )\n",
    "\n",
    "    # Running the wellness agent\n",
    "    response = react_agent(messages, context=wellness_context)\n",
    "\n",
    "    # Printing the output. \n",
    "    print(f\"Agent Response: \\n\\n {response}\")"
   ]
  },
  {
   "cell_type": "markdown",
   "metadata": {},
   "source": [
    "### Interacting with the Agent\n",
    "\n",
    "We can an now start an interactive session with the agent. We will start by asking the agent about stress management tips. The agent will then ask for more information about the user's current wellness situation, and we will provide that information. The agent will then provide recommendations based on the user's input."
   ]
  },
  {
   "cell_type": "code",
   "execution_count": 72,
   "metadata": {},
   "outputs": [
    {
     "name": "stdout",
     "output_type": "stream",
     "text": [
      "User Input: I have heavy stress problem.\n",
      "Agent Response: \n",
      "\n",
      " (Thought)\n",
      "User is experiencing heavy stress which can significantly impact overall wellness.\n",
      "\n",
      "(Actions)\n",
      "1. Collect[Details about user's stress levels and coping mechanisms]\n",
      "   Questions:\n",
      "   * What are the main sources of stress in your life?\n",
      "   * How do you currently cope with stress?\n",
      "   * Do you have any relaxation techniques that you find helpful?\n",
      "   * Are you getting regular physical activity to manage stress?\n",
      "\n",
      "2. Provide[Information on stress management techniques and the importance of self-care]\n",
      "   It's important to address stress as it can affect both mental and physical health. Consider incorporating activities like deep breathing, mindfulness, exercise, or hobbies to reduce stress levels.\n",
      "\n",
      "3. Recommend[Plan]\n",
      "   * Try deep breathing exercises or meditation for a few minutes daily to calm your mind.\n",
      "   * Engage in regular physical activity such as walking, yoga, or dancing to release stress.\n",
      "   * Consider setting aside time for self-care activities that bring you joy and relaxation.\n",
      "\n",
      "(Follow-up)\n",
      "How do you feel about trying some stress management techniques like deep breathing or meditation to help alleviate your heavy stress?\n"
     ]
    }
   ],
   "source": [
    "interactive_session(\"I have heavy stress problem.\")"
   ]
  },
  {
   "cell_type": "markdown",
   "metadata": {},
   "source": [
    "### Thought and Act to Collect Data\n",
    "Like above, Agent asked for more information about the user's current wellness situation, and we will provide that information. The agent will then provide recommendations based on the user's input."
   ]
  },
  {
   "cell_type": "code",
   "execution_count": 73,
   "metadata": {},
   "outputs": [
    {
     "name": "stdout",
     "output_type": "stream",
     "text": [
      "User Input: \n",
      "   * What are the main sources of stress in your life? ai technology rapidly imporvement and future unknown.\n",
      "   * How do you currently cope with stress? watch movies and listen music and meditation.\n",
      "   * Do you have any relaxation techniques that you find helpful? yes like meditation, but still have pressure.\n",
      "\n",
      "Agent Response: \n",
      "\n",
      " (Thought)\n",
      "User is experiencing heavy stress primarily related to the rapid advancements in AI technology and uncertainties about the future. They cope with stress by engaging in activities like watching movies, listening to music, and practicing meditation. However, they still feel pressure despite these efforts.\n",
      "\n",
      "(Action)\n",
      "1. Collect[Data from user]\n",
      "   User seems to rely on passive activities like watching movies and listening to music for stress relief. They practice meditation but still feel pressure. It would be beneficial to explore their current routines in more detail.\n",
      "   * How often do you practice meditation?\n",
      "   * Have you tried incorporating any physical exercise into your routine?\n",
      "   * Do you have a support system to talk about your stressors and concerns?\n",
      "\n",
      "2. Provide[Wellness Information]\n",
      "   Stress management involves a holistic approach combining relaxation techniques, physical activity, and open communication about your feelings. It's essential to address stress in various ways to find what works best for you.\n",
      "\n",
      "3. Recommend[Plan]\n",
      "   * Incorporate regular physical exercise like brisk walking, yoga, or any activity you enjoy to release endorphins.\n",
      "   * Consider journaling your thoughts and feelings to help process uncertainties and anxieties.\n",
      "   * Try deep breathing exercises to calm your mind during stressful moments.\n",
      "   * Establish a routine where you explore ways to reduce stress gradually, aiming for long-term solutions. \n",
      "\n",
      "(Observation)\n",
      "User, how do you feel about incorporating more physical exercise and journaling into your routine to manage stress alongside your meditation practice? Let's work together to find a balanced approach that suits your needs and lifestyle.\n"
     ]
    }
   ],
   "source": [
    "interactive_session(\"\"\"\n",
    "   * What are the main sources of stress in your life? ai technology rapidly imporvement and future unknown.\n",
    "   * How do you currently cope with stress? watch movies and listen music and meditation.\n",
    "   * Do you have any relaxation techniques that you find helpful? yes like meditation, but still have pressure.\n",
    "\"\"\")"
   ]
  },
  {
   "cell_type": "markdown",
   "metadata": {},
   "source": [
    "### Observe Feedback\n",
    "\n",
    "After I tried the agent's recommendations, I will provide feedback to the agent. The agent will then adjust its approach based on the user's feedback."
   ]
  },
  {
   "cell_type": "code",
   "execution_count": 74,
   "metadata": {},
   "outputs": [
    {
     "name": "stdout",
     "output_type": "stream",
     "text": [
      "User Input: \n",
      "    yes, I am trying physical exercise and journaling each day and I feel better.\n",
      "\n",
      "Agent Response: \n",
      "\n",
      " That's great to hear that physical exercise and journaling are helping you manage your stress better. It's essential to have a variety of tools in your stress-management toolkit. Here are a few additional suggestions to further enhance your wellness and reduce stress:\n",
      "\n",
      "1. **Mindfulness Meditation:** Since you mentioned you already practice meditation, consider adding mindfulness techniques to your practice. Mindfulness meditation can help you stay present and reduce anxiety about the future.\n",
      "\n",
      "2. **Healthy Eating Habits:** Consuming a balanced diet rich in fruits, vegetables, whole grains, and lean proteins can positively impact your stress levels. Foods like leafy greens, berries, and nuts are known to support mental well-being.\n",
      "\n",
      "3. **Consistent Sleep Routine:** Ensure you're getting adequate and quality sleep each night. Creating a nighttime routine, such as turning off screens an hour before bed and practicing relaxation techniques, can improve the quality of your sleep.\n",
      "\n",
      "4. **Professional Support:** If you continue to feel overwhelmed, consider seeking support from a mental health professional. They can provide tailored strategies and support to manage stress effectively.\n",
      "\n",
      "Would you be interested in incorporating any of these suggestions into your daily routine to further enhance your well-being and manage stress levels?\n"
     ]
    }
   ],
   "source": [
    "interactive_session(\"\"\"\n",
    "    yes, I am trying physical exercise and journaling each day and I feel better.\n",
    "\"\"\")"
   ]
  },
  {
   "cell_type": "markdown",
   "metadata": {},
   "source": [
    "### Interleaving Thought, Act, and Observe\n",
    "\n",
    "After I provide feedback, the agent will think, act, and observe again. It will adjust its approach based on the user's feedback."
   ]
  },
  {
   "cell_type": "code",
   "execution_count": 75,
   "metadata": {},
   "outputs": [
    {
     "name": "stdout",
     "output_type": "stream",
     "text": [
      "User Input: \n",
      "   yes, I am interested in your plans, but I am not sure if I can stick to them. Can you provide more details on how to implement them?\n",
      "\n",
      "Agent Response: \n",
      "\n",
      " (Thought)\n",
      "User is actively engaging in managing their stress through physical exercise and journaling, which is a positive step. They express interest in additional plans but have concerns about commitment.\n",
      "\n",
      "(Actions)\n",
      "1. Collect[More Details on Current Stress Management]\n",
      "   * What specific physical exercises do you find most effective in reducing stress?\n",
      "   * How has journaling helped you cope with stress?\n",
      "   \n",
      "2. Provide[Information on Stress Management Techniques]\n",
      "   * Suggest incorporating deep breathing exercises into your routine as they can further enhance relaxation.\n",
      "   * Consider progressive muscle relaxation techniques to relieve physical tension associated with stress.\n",
      "   \n",
      "3. Recommend[Detailed Stress Management Plan]\n",
      "   * Create a structured schedule that includes specific times for physical exercise, journaling, meditation, deep breathing, and muscle relaxation.\n",
      "   * Encourage setting achievable goals for each activity to prevent overwhelm and promote consistency.\n",
      "   * Offer guidance on gradually increasing the duration or intensity of activities to build resilience against stress.\n",
      "\n",
      "(Observation)\n",
      "By refining your stress management routine and incorporating new techniques, you can enhance your well-being. It's crucial to maintain open communication about your experience and any challenges you face to tailor the approach effectively. Let's continue supporting your wellness journey together.\n"
     ]
    }
   ],
   "source": [
    "interactive_session(\"\"\"\n",
    "   yes, I am interested in your plans, but I am not sure if I can stick to them. Can you provide more details on how to implement them?\n",
    "\"\"\")"
   ]
  },
  {
   "cell_type": "markdown",
   "metadata": {},
   "source": [
    "### Final Evaluation\n",
    "\n",
    "Now let's assess whether the objective of enhancing the user's wellness has been achieved. The agent will cease asking questions and deliver a concluding message.\n"
   ]
  },
  {
   "cell_type": "code",
   "execution_count": 76,
   "metadata": {},
   "outputs": [
    {
     "name": "stdout",
     "output_type": "stream",
     "text": [
      "User Input: \n",
      "    yes, I stick to your plans and now I don't have any stress problem, thanks\n",
      "\n",
      "Agent Response: \n",
      "\n",
      " That's great to hear that you've been able to manage your stress through physical exercise and journaling! If you ever feel overwhelmed again or have any other wellness goals in mind, feel free to share them. I'm here to help you along your wellness journey.\n"
     ]
    }
   ],
   "source": [
    "interactive_session(\"\"\"\n",
    "    yes, I stick to your plans and now I don't have any stress problem, thanks\n",
    "\"\"\")"
   ]
  },
  {
   "cell_type": "markdown",
   "metadata": {},
   "source": [
    "### Another Example\n",
    "\n",
    "We can also test the agent's ability to handle a different objective, such as improving the user's diet. We will ask the agent to provide tips for improving the user's diet, and then we will start another interactive session with the agent."
   ]
  },
  {
   "cell_type": "code",
   "execution_count": 77,
   "metadata": {},
   "outputs": [
    {
     "name": "stdout",
     "output_type": "stream",
     "text": [
      "User Input: \n",
      "    How can I know my diet is improving my wellness?\n",
      "\n",
      "Agent Response: \n",
      "\n",
      " (Thought)\n",
      "It's important to consider the user's current diet and how it may be impacting their overall wellness.\n",
      "\n",
      "(Actions)\n",
      "1. Collect[Details about user's current diet and wellness goals]\n",
      "   Questions:\n",
      "   * What does a typical day of eating look like for you?\n",
      "   * Do you have any specific wellness goals related to your diet?\n",
      "   * How do you feel after eating certain foods?\n",
      "\n",
      "2. Provide[Information on nutrition and wellness]\n",
      "   Share insights on:\n",
      "   * Nutrient-dense foods\n",
      "   * Balanced meal planning\n",
      "   * Hydration importance\n",
      "   * Impact of different food groups on overall wellness\n",
      "\n",
      "3. Recommend[Plan]\n",
      "   * Keep a food journal to track your daily intake.\n",
      "   * Aim for a colorful plate with a variety of fruits and vegetables.\n",
      "   * Consider consulting a nutritionist for personalized advice.\n",
      "\n",
      "(Observation)\n",
      "   It's great to hear that you're committed to improving your diet. Tracking your food intake and consulting a professional will help you ensure your diet supports your well-being effectively. Let me know how else I can assist you on your wellness journey.\n"
     ]
    }
   ],
   "source": [
    "interactive_session(\"\"\"\n",
    "    How can I know my diet is improving my wellness?\n",
    "\"\"\")"
   ]
  },
  {
   "cell_type": "markdown",
   "metadata": {},
   "source": [
    "### Reviewing User Questions\n"
   ]
  },
  {
   "cell_type": "code",
   "execution_count": 78,
   "metadata": {},
   "outputs": [
    {
     "data": {
      "text/plain": [
       "[{'role': 'user', 'content': 'I have heavy stress problem.'},\n",
       " {'role': 'user',\n",
       "  'content': '\\n   * What are the main sources of stress in your life? ai technology rapidly imporvement and future unknown.\\n   * How do you currently cope with stress? watch movies and listen music and meditation.\\n   * Do you have any relaxation techniques that you find helpful? yes like meditation, but still have pressure.\\n'},\n",
       " {'role': 'user',\n",
       "  'content': '\\n    yes, I am trying physical exercise and journaling each day and I feel better.\\n'},\n",
       " {'role': 'user',\n",
       "  'content': '\\n   yes, I am interested in your plans, but I am not sure if I can stick to them. Can you provide more details on how to implement them?\\n'},\n",
       " {'role': 'user',\n",
       "  'content': \"\\n    yes, I stick to your plans and now I don't have any stress problem, thanks\\n\"},\n",
       " {'role': 'user',\n",
       "  'content': '\\n    How can I know my diet is improving my wellness?\\n'}]"
      ]
     },
     "execution_count": 78,
     "metadata": {},
     "output_type": "execute_result"
    }
   ],
   "source": [
    "messages"
   ]
  },
  {
   "cell_type": "code",
   "execution_count": null,
   "metadata": {},
   "outputs": [],
   "source": []
  }
 ],
 "metadata": {
  "kernelspec": {
   "display_name": "gen-ai",
   "language": "python",
   "name": "python3"
  },
  "language_info": {
   "codemirror_mode": {
    "name": "ipython",
    "version": 3
   },
   "file_extension": ".py",
   "mimetype": "text/x-python",
   "name": "python",
   "nbconvert_exporter": "python",
   "pygments_lexer": "ipython3",
   "version": "3.10.16"
  }
 },
 "nbformat": 4,
 "nbformat_minor": 2
}
