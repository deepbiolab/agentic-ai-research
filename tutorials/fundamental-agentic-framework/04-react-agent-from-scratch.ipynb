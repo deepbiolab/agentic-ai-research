{
 "cells": [
  {
   "cell_type": "markdown",
   "metadata": {},
   "source": [
    "## Build ReAct Agent with Tool Calling and Memory"
   ]
  },
  {
   "cell_type": "code",
   "execution_count": 82,
   "metadata": {},
   "outputs": [],
   "source": [
    "import datetime\n",
    "import inspect\n",
    "import json\n",
    "from typing import List, Dict, Literal, Callable, Any, TypedDict\n",
    "from typing import get_type_hints\n",
    "\n",
    "from dotenv import load_dotenv\n",
    "from openai import OpenAI\n",
    "from openai.types.chat.chat_completion_message import ChatCompletionMessage\n",
    "from openai.types.chat.chat_completion_message_tool_call import (\n",
    "    ChatCompletionMessageToolCall,\n",
    ")"
   ]
  },
  {
   "cell_type": "code",
   "execution_count": 83,
   "metadata": {},
   "outputs": [],
   "source": [
    "load_dotenv()\n",
    "client = OpenAI()"
   ]
  },
  {
   "cell_type": "markdown",
   "metadata": {},
   "source": [
    "### Memory Layer\n",
    "\n",
    "We use the previous created `Memory` class in this [02-function-calling.ipynb](./02-function-calling.ipynb) to store the conversation history and the tool calls with some modifications"
   ]
  },
  {
   "cell_type": "code",
   "execution_count": 84,
   "metadata": {},
   "outputs": [],
   "source": [
    "class Memory:\n",
    "    def __init__(self):\n",
    "        self._messages: List[Dict[str, str]] = []\n",
    "\n",
    "    def add_message(\n",
    "        self,\n",
    "        role: Literal[\n",
    "            \"user\", \"system\", \"assistant\", \"tool\"\n",
    "        ],  # Added 'tool' as a new role type\n",
    "        content: str,\n",
    "        tool_calls: List = None,  # New parameter to store tool call information\n",
    "        tool_call_id=None,\n",
    "    ) -> None:  # New parameter to track specific tool call IDs\n",
    "\n",
    "        # For regular messages (user/system/assistant), include tool_calls dictionary\n",
    "        message = {\"role\": role, \"content\": content}\n",
    "\n",
    "        # Only add tool_calls if they exist and role is assistant\n",
    "        if tool_calls and role == \"assistant\":\n",
    "            message[\"tool_calls\"] = tool_calls\n",
    "\n",
    "        # Add tool_call_id if it exists and role is tool\n",
    "        if tool_call_id and role == \"tool\":\n",
    "            message[\"tool_call_id\"] = tool_call_id\n",
    "\n",
    "        self._messages.append(message)\n",
    "\n",
    "    def get_messages(self) -> List[Dict[str, str]]:\n",
    "        return self._messages\n",
    "\n",
    "    def last_message(self) -> None:\n",
    "        if self._messages:\n",
    "            return self._messages[-1]\n",
    "\n",
    "    def reset(self) -> None:\n",
    "        self._messages = []"
   ]
  },
  {
   "cell_type": "markdown",
   "metadata": {},
   "source": [
    "### Tool Layer\n",
    "\n",
    "In previous notebooks, we explicitly defined the tool as a list and pass it into OpenAI API. However, in this notebook, we will use a class to define the tool. This class will be used to generate the tool specification and call the tool function.\n",
    "\n",
    "Before we implement it, let's define some helper functions to infer the information used in the tool specification. The tool specification is a JSON object that contains the following information:\n",
    "- 🔒`type`: The type of the tool. In this case, it is always `function`.\n",
    "- `function`: The function specification. It contains the following information:\n",
    "    - 🔍`name`: The name of the function.\n",
    "    - 🔍`description`: The description of the function.\n",
    "    - 🔒`parallel_tool_calls`: Whether the function can be called in parallel. In this case, it is always `False`.\n",
    "    - `parameters`: The parameters of the function. It contains the following information:\n",
    "        - 🔒`type`: The type of the parameter. In this case, it is always `object`.\n",
    "        - `properties`: The properties of the parameter. It contains the following information:\n",
    "            - 🔍`name`: The name of the parameter.\n",
    "                - 🔍`type`: The type of the parameter. In this case, it is always `string`.\n",
    "        - 🔍`required`: The required parameters of the function. In this case, it is always `[]`.\n",
    "        - 🔒`additionalProperties`: Whether the function can have additional properties. In this case, it is always `False`.\n",
    "    - 🔒`strict`: True\n",
    "\n",
    "So, except for fields (🔒), we need to infer the rest of the fields (🔍)  from the function definition. Let's create some helper function to infer these information."
   ]
  },
  {
   "cell_type": "code",
   "execution_count": 85,
   "metadata": {},
   "outputs": [],
   "source": [
    "# Create simple test function\n",
    "def add(a: int, b: int = 1) -> int:\n",
    "    \"\"\"This is a simple function that adds two numbers\"\"\"\n",
    "    return a + b"
   ]
  },
  {
   "cell_type": "markdown",
   "metadata": {},
   "source": [
    "**Function Name Inference**\n",
    "\n",
    "- We can use the `__name__` attribute of the function to get the function name. This is a simple way to get the function name."
   ]
  },
  {
   "cell_type": "code",
   "execution_count": 86,
   "metadata": {},
   "outputs": [
    {
     "data": {
      "text/plain": [
       "'add'"
      ]
     },
     "execution_count": 86,
     "metadata": {},
     "output_type": "execute_result"
    }
   ],
   "source": [
    "def get_func_name(func: Callable) -> str:\n",
    "    return func.__name__\n",
    "\n",
    "\n",
    "get_func_name(add)"
   ]
  },
  {
   "cell_type": "markdown",
   "metadata": {},
   "source": [
    "**Function Description Inference**\n",
    "\n",
    "- We can use the `__doc__` attribute of the function to get the function description. This is a simple way to get the function description. If the function does not have a docstring, we will use the function name as the description."
   ]
  },
  {
   "cell_type": "code",
   "execution_count": 87,
   "metadata": {},
   "outputs": [
    {
     "data": {
      "text/plain": [
       "'This is a simple function that adds two numbers'"
      ]
     },
     "execution_count": 87,
     "metadata": {},
     "output_type": "execute_result"
    }
   ],
   "source": [
    "def get_func_desc(func: Callable) -> str:\n",
    "    if func.__doc__:\n",
    "        return func.__doc__.strip()\n",
    "    else:\n",
    "        return get_func_name(func)\n",
    "\n",
    "\n",
    "get_func_desc(add)"
   ]
  },
  {
   "cell_type": "markdown",
   "metadata": {},
   "source": [
    "**Arguments Type Convert**\n",
    "\n",
    "- In tool specification, we accept the type of the parameter as `string`, `number`, `integer`, `boolean`, `object`, `array`, `null`. We will use the following mapping to map the type hints to the tool specification type."
   ]
  },
  {
   "cell_type": "code",
   "execution_count": 88,
   "metadata": {},
   "outputs": [],
   "source": [
    "def infer_json_type(arg_type: Any) -> str:\n",
    "    \"\"\"\n",
    "    Infers the JSON schema type from a given Python type.\n",
    "\n",
    "    Parameters:\n",
    "    - arg_type: The Python type to be mapped to a JSON schema type.\n",
    "\n",
    "    Returns:\n",
    "    - str: The corresponding JSON schema type as a string.\n",
    "    \"\"\"\n",
    "    type_mapping = {\n",
    "        bool: \"boolean\",\n",
    "        int: \"integer\",\n",
    "        float: \"number\",\n",
    "        str: \"string\",\n",
    "        list: \"array\",\n",
    "        dict: \"object\",\n",
    "        type(None): \"null\",\n",
    "        datetime.date: \"string\",\n",
    "        datetime.datetime: \"string\",\n",
    "    }\n",
    "\n",
    "    # Check if arg_type is directly in the mapping\n",
    "    if arg_type in type_mapping:\n",
    "        return type_mapping[arg_type]\n",
    "\n",
    "    # If arg_type is a subclass of a mapped type, return the mapped type\n",
    "    for base_type in type_mapping:\n",
    "        if isinstance(arg_type, base_type):\n",
    "            return type_mapping[base_type]\n",
    "\n",
    "    # Default to string if type is unknown\n",
    "    return \"string\""
   ]
  },
  {
   "cell_type": "code",
   "execution_count": 89,
   "metadata": {},
   "outputs": [
    {
     "name": "stdout",
     "output_type": "stream",
     "text": [
      "integer\n",
      "string\n",
      "null\n"
     ]
    }
   ],
   "source": [
    "print(infer_json_type(int))\n",
    "print(infer_json_type(datetime.datetime))\n",
    "print(infer_json_type(None))"
   ]
  },
  {
   "cell_type": "markdown",
   "metadata": {},
   "source": [
    "**Arguments Name and Type Inference**\n",
    "\n",
    "- Firstly, we will leverage the typing module to get the type hints of the function. Then we will use the type hints to generate the tool specification. Here is a simple example.\n",
    "\n",
    "**Argument Required Inference**\n",
    "\n",
    "- We can inspect the parameters default value exist or not to automatically decide whether the argument is required or not. If the default value is not provided, we will set the argument as required. Otherwise, we will set the argument as optional."
   ]
  },
  {
   "cell_type": "code",
   "execution_count": 90,
   "metadata": {},
   "outputs": [
    {
     "name": "stdout",
     "output_type": "stream",
     "text": [
      "(a: int, b: int = 1) -> int\n",
      "Is parameter 'a' required? True\n",
      "Is parameter 'b' required? False\n"
     ]
    }
   ],
   "source": [
    "signature = inspect.signature(add)\n",
    "print(signature)\n",
    "print(\n",
    "    \"Is parameter 'a' required?\",\n",
    "    signature.parameters[\"a\"].default == inspect.Parameter.empty,\n",
    ")\n",
    "print(\n",
    "    \"Is parameter 'b' required?\",\n",
    "    signature.parameters[\"b\"].default == inspect.Parameter.empty,\n",
    ")"
   ]
  },
  {
   "cell_type": "code",
   "execution_count": 91,
   "metadata": {},
   "outputs": [],
   "source": [
    "class FuncArgument(TypedDict):\n",
    "    name: str\n",
    "    type: str\n",
    "    required: bool"
   ]
  },
  {
   "cell_type": "code",
   "execution_count": 92,
   "metadata": {},
   "outputs": [
    {
     "data": {
      "text/plain": [
       "[{'name': 'a', 'type': 'integer', 'required': True},\n",
       " {'name': 'b', 'type': 'integer', 'required': False}]"
      ]
     },
     "execution_count": 92,
     "metadata": {},
     "output_type": "execute_result"
    }
   ],
   "source": [
    "def get_func_args(func: Callable) -> List[FuncArgument]:\n",
    "    args_type_mapping = get_type_hints(func)\n",
    "    signature = inspect.signature(func)\n",
    "\n",
    "    def is_required(param: inspect.Parameter) -> bool:\n",
    "        return param.default == inspect.Parameter.empty\n",
    "\n",
    "    arguments = []\n",
    "    for arg_name, arg_type in args_type_mapping.items():\n",
    "        param = signature.parameters.get(arg_name)\n",
    "        if param:\n",
    "            arguments.append(\n",
    "                {\n",
    "                    \"name\": arg_name,\n",
    "                    \"type\": infer_json_type(arg_type),\n",
    "                    \"required\": is_required(param),\n",
    "                }\n",
    "            )\n",
    "\n",
    "    return arguments\n",
    "\n",
    "\n",
    "get_func_args(add)"
   ]
  },
  {
   "cell_type": "markdown",
   "metadata": {},
   "source": [
    "Now, let's put all these together to create a tool class."
   ]
  },
  {
   "cell_type": "code",
   "execution_count": 93,
   "metadata": {},
   "outputs": [],
   "source": [
    "class Tool:\n",
    "    def __init__(self, func: Callable):\n",
    "        self.func = func\n",
    "        self.name: str = get_func_name(func)\n",
    "        self.description: str = get_func_desc(func)\n",
    "        self.arguments: List[FuncArgument] = get_func_args(func)\n",
    "\n",
    "    def to_dict(self):\n",
    "        return {\n",
    "            \"type\": \"function\",\n",
    "            \"function\": {\n",
    "                \"name\": self.name,\n",
    "                \"description\": self.description,\n",
    "                \"parallel_tool_calls\": False,\n",
    "                \"parameters\": {\n",
    "                    \"type\": \"object\",\n",
    "                    \"properties\": {\n",
    "                        argument[\"name\"]: {\n",
    "                            \"type\": argument[\"type\"],\n",
    "                        }\n",
    "                        for argument in self.arguments\n",
    "                    },\n",
    "                    \"required\": [\n",
    "                        argument[\"name\"]\n",
    "                        for argument in self.arguments\n",
    "                        if argument[\"required\"]\n",
    "                    ],\n",
    "                    \"additionalProperties\": False,\n",
    "                },\n",
    "                \"strict\": True,\n",
    "            },\n",
    "        }\n",
    "\n",
    "    def __call__(self, *args, **kwargs):\n",
    "        return self.func(*args, **kwargs)"
   ]
  },
  {
   "cell_type": "markdown",
   "metadata": {},
   "source": [
    "We can test the tool class with the test function."
   ]
  },
  {
   "cell_type": "code",
   "execution_count": 94,
   "metadata": {},
   "outputs": [
    {
     "data": {
      "text/plain": [
       "{'type': 'function',\n",
       " 'function': {'name': 'add',\n",
       "  'description': 'This is a simple function that adds two numbers',\n",
       "  'parallel_tool_calls': False,\n",
       "  'parameters': {'type': 'object',\n",
       "   'properties': {'a': {'type': 'integer'}, 'b': {'type': 'integer'}},\n",
       "   'required': ['a'],\n",
       "   'additionalProperties': False},\n",
       "  'strict': True}}"
      ]
     },
     "execution_count": 94,
     "metadata": {},
     "output_type": "execute_result"
    }
   ],
   "source": [
    "tool = Tool(add)\n",
    "tool.to_dict()"
   ]
  },
  {
   "cell_type": "code",
   "execution_count": 95,
   "metadata": {},
   "outputs": [
    {
     "data": {
      "text/plain": [
       "2"
      ]
     },
     "execution_count": 95,
     "metadata": {},
     "output_type": "execute_result"
    }
   ],
   "source": [
    "tool(a=1, b=1)"
   ]
  },
  {
   "cell_type": "markdown",
   "metadata": {},
   "source": [
    "### ReAct Prompt\n",
    "\n",
    "In previous notebook [03-react-prompt-technique.ipynb](./03-react-prompt-technique.ipynb), we define a specific ReAct prompt. Here we will use a template to generate the ReAct prompt by combining the tool calling. We will use the following template:\n",
    "\n",
    "```python\n",
    "react_prompt = (\n",
    "    \"You're an AI Agent, your role is {ROLE}, \" \n",
    "    \"and you need to {INSTRUCTIONS} \"\n",
    "    \"You can answer multistep questions by sequentially calling functions. \"\n",
    "    \"You follow a pattern of of Thought and Action. \"\n",
    "    \"Create a plan of execution: \"\n",
    "    \"- Use Thought to describe your thoughts about the question you have been asked. \"\n",
    "    \"- Use Action to specify one of the tools available to you. \"\n",
    "    \"When you think it's over call the termination tool. \"\n",
    "    \"Never try to respond directly if the question needs a tool.\"\n",
    "    \"The actions you have are the Tools: \"\n",
    "    \"{TOOLS}\"\n",
    ")\n",
    "```"
   ]
  },
  {
   "cell_type": "code",
   "execution_count": null,
   "metadata": {},
   "outputs": [],
   "source": []
  },
  {
   "cell_type": "code",
   "execution_count": null,
   "metadata": {},
   "outputs": [],
   "source": []
  },
  {
   "cell_type": "code",
   "execution_count": null,
   "metadata": {},
   "outputs": [],
   "source": []
  },
  {
   "cell_type": "markdown",
   "metadata": {},
   "source": [
    "### ReAct Loop: Reasoning and Action\n",
    "\n",
    "The core mechanism operates as a cycle of thought and action: First, the AI engages in a reasoning step without any tools to analyze the current situation. Then, it enters an iterative loop where it can both think and use tools to accomplish tasks. In each iteration, the AI:\n",
    "1. 🤔 Thinks about the current state\n",
    "2. 💭 Formulates a response\n",
    "3. 🛠️ Decides whether to use tools\n",
    "4. 📝 Records its thoughts and actions\n",
    "5. 🔄 Repeats until reaching a solution or max iterations\n",
    "\n",
    "This creates a natural flow of \"Think → Act → Observe → Think\" that mimics human problem-solving patterns, allowing the AI to break down complex tasks into manageable steps while maintaining a record of its reasoning process.\n",
    "\n",
    "We can add two extra method to the Agent class (at the top of previous notebook [02-function-calling.ipynb](./02-function-calling.ipynb) ) to handle the ReAct loop and create a Exception to terminate the loop."
   ]
  },
  {
   "cell_type": "code",
   "execution_count": 133,
   "metadata": {},
   "outputs": [],
   "source": [
    "TERMINATION_MESSAGE = \"StopReactLoopException\"\n",
    "\n",
    "class StopReactLoopException(Exception):\n",
    "    \"\"\"\n",
    "    Terminates ReAct loop\n",
    "    \"\"\"\n",
    "\n",
    "def termination() -> str:\n",
    "    \"\"\"Terminate the ReAct loop. If the agent thinks there's no further actions to take\"\"\"\n",
    "    return TERMINATION_MESSAGE"
   ]
  },
  {
   "cell_type": "code",
   "execution_count": 125,
   "metadata": {},
   "outputs": [],
   "source": [
    "class Agent:\n",
    "    \"\"\"A tool-calling AI Agent\"\"\"\n",
    "\n",
    "    def __init__(\n",
    "        self,\n",
    "        name: str = \"Agent\",\n",
    "        role: str = \"Personal Assistant\",\n",
    "        instructions: str = \"Help users with any question\",\n",
    "        model: str = \"gpt-4o-mini\",\n",
    "        temperature: float = 0.0,\n",
    "        funcs: List[Callable] = [],\n",
    "    ):\n",
    "        # Agent basic info\n",
    "        self.name = name\n",
    "        self.role = role\n",
    "        self.instructions = instructions\n",
    "        self.model = model\n",
    "        self.temperature = temperature\n",
    "        self.client = OpenAI()\n",
    "\n",
    "        # Tools\n",
    "        tools = [Tool(func) for func in funcs] + [Tool(termination)]\n",
    "        self.tool_map = {tool.name: tool for tool in tools}\n",
    "        self.tools = [tool.to_dict() for tool in tools] if funcs else None\n",
    "        self.termination_message = TERMINATION_MESSAGE\n",
    "\n",
    "        # Memory\n",
    "        self.memory = Memory()\n",
    "        self.memory.add_message(\n",
    "            role=\"system\",\n",
    "            content=f\"You're an AI Agent, your role is {self.role}, \"\n",
    "            f\"and you need to {self.instructions} \"\n",
    "            \"You can answer multistep questions by sequentially calling functions. \"\n",
    "            \"You follow a pattern of of Thought and Action. \"\n",
    "            \"Create a plan of execution: \"\n",
    "            \"- Use Thought to describe your thoughts about the question you have been asked. \"\n",
    "            \"- Use Action to specify one of the tools available to you. \"\n",
    "            \"When you think it's over call the termination tool. \"\n",
    "            \"Never try to respond directly if the question needs a tool.\"\n",
    "            \"The actions you have are the Tools: \"\n",
    "            f\"{self.tools}\",\n",
    "        )\n",
    "\n",
    "    def invoke(self, user_message: str, max_iter: int = 3) -> str:\n",
    "        self.memory.add_message(\n",
    "            role=\"user\",\n",
    "            content=user_message,\n",
    "        )\n",
    "        try:\n",
    "            self._react_loop(max_iter)\n",
    "        except StopReactLoopException as e:\n",
    "            print(f\"Termninated loop with message: '{e!s}'\")\n",
    "            self._reason()\n",
    "\n",
    "        return self.memory.last_message()\n",
    "\n",
    "    def _react_loop(self, max_iter: int):\n",
    "        for i in range(max_iter):\n",
    "            self._reason()\n",
    "\n",
    "            ai_message = self._get_completion(\n",
    "                messages=self.memory.get_messages(),\n",
    "                tools=self.tools,\n",
    "            )\n",
    "            tool_calls = ai_message.tool_calls\n",
    "\n",
    "            self.memory.add_message(\n",
    "                role=\"assistant\",\n",
    "                content=ai_message.content,\n",
    "                tool_calls=tool_calls,\n",
    "            )\n",
    "\n",
    "            if tool_calls:\n",
    "                self._call_tools(tool_calls)\n",
    "\n",
    "    def _reason(self):\n",
    "        # No tools\n",
    "        ai_message = self._get_completion(\n",
    "            messages=self.memory.get_messages(),\n",
    "        )\n",
    "        tool_calls = ai_message.tool_calls\n",
    "\n",
    "        self.memory.add_message(\n",
    "            role=\"assistant\",\n",
    "            content=ai_message.content,\n",
    "            tool_calls=tool_calls,\n",
    "        )\n",
    "\n",
    "    def _call_tools(self, tool_calls: List[ChatCompletionMessageToolCall]):\n",
    "        for tool_call in tool_calls:\n",
    "            function_name = tool_call.function.name\n",
    "            args = json.loads(tool_call.function.arguments)\n",
    "            callable_tool = self.tool_map[function_name]\n",
    "            result = callable_tool(**args)\n",
    "            self.memory.add_message(\n",
    "                role=\"tool\", content=str(result), tool_call_id=tool_call.id\n",
    "            )\n",
    "            if result == TERMINATION_MESSAGE:\n",
    "                raise StopReactLoopException\n",
    "\n",
    "    def _get_completion(\n",
    "        self, messages: List[Dict], tools: List = None\n",
    "    ) -> ChatCompletionMessage:\n",
    "        response = self.client.chat.completions.create(\n",
    "            model=self.model,\n",
    "            temperature=self.temperature,\n",
    "            messages=messages,\n",
    "            tools=tools,\n",
    "        )\n",
    "\n",
    "        return response.choices[0].message"
   ]
  },
  {
   "cell_type": "code",
   "execution_count": 126,
   "metadata": {},
   "outputs": [],
   "source": [
    "def power(base: float, exponent: float):\n",
    "    \"\"\"Exponentatiation: base to the power of exponent\"\"\"\n",
    "\n",
    "    return base**exponent"
   ]
  },
  {
   "cell_type": "code",
   "execution_count": 127,
   "metadata": {},
   "outputs": [],
   "source": [
    "def sum(number_1: float, number_2: float):\n",
    "    \"\"\"Sum / Addition: Add two numbers\"\"\"\n",
    "\n",
    "    return number_1 + number_2"
   ]
  },
  {
   "cell_type": "code",
   "execution_count": 129,
   "metadata": {},
   "outputs": [],
   "source": [
    "agent = Agent(funcs=[power, sum])"
   ]
  },
  {
   "cell_type": "code",
   "execution_count": 130,
   "metadata": {},
   "outputs": [
    {
     "name": "stdout",
     "output_type": "stream",
     "text": [
      "Termninated loop with message: ''\n"
     ]
    },
    {
     "data": {
      "text/plain": [
       "{'role': 'assistant',\n",
       " 'content': 'The final result of \\\\(2\\\\) to the power of \\\\(3\\\\) plus \\\\(10\\\\) is \\\\(18\\\\). If you have any more questions or need further assistance, feel free to ask!'}"
      ]
     },
     "execution_count": 130,
     "metadata": {},
     "output_type": "execute_result"
    }
   ],
   "source": [
    "agent.invoke(\"What's 2 to the power of 3? Then add 10 to the result\")"
   ]
  },
  {
   "cell_type": "code",
   "execution_count": 131,
   "metadata": {},
   "outputs": [
    {
     "data": {
      "text/plain": [
       "[{'role': 'system',\n",
       "  'content': 'You\\'re an AI Agent, your role is Personal Assistant, and you need to Help users with any question You can answer multistep questions by sequentially calling functions. You follow a pattern of of Thought and Action. Create a plan of execution: - Use Thought to describe your thoughts about the question you have been asked. - Use Action to specify one of the tools available to you. When you think it\\'s over call the termination tool. Never try to respond directly if the question needs a tool.The actions you have are the Tools: [{\\'type\\': \\'function\\', \\'function\\': {\\'name\\': \\'power\\', \\'description\\': \\'Exponentatiation: base to the power of exponent\\', \\'parallel_tool_calls\\': False, \\'parameters\\': {\\'type\\': \\'object\\', \\'properties\\': {\\'base\\': {\\'type\\': \\'number\\'}, \\'exponent\\': {\\'type\\': \\'number\\'}}, \\'required\\': [\\'base\\', \\'exponent\\'], \\'additionalProperties\\': False}, \\'strict\\': True}}, {\\'type\\': \\'function\\', \\'function\\': {\\'name\\': \\'sum\\', \\'description\\': \\'Sum / Addition: Add two numbers\\', \\'parallel_tool_calls\\': False, \\'parameters\\': {\\'type\\': \\'object\\', \\'properties\\': {\\'number_1\\': {\\'type\\': \\'number\\'}, \\'number_2\\': {\\'type\\': \\'number\\'}}, \\'required\\': [\\'number_1\\', \\'number_2\\'], \\'additionalProperties\\': False}, \\'strict\\': True}}, {\\'type\\': \\'function\\', \\'function\\': {\\'name\\': \\'termination\\', \\'description\\': \"Terminate the ReAct loop. If the agent thinks there\\'s no further actions to take\", \\'parallel_tool_calls\\': False, \\'parameters\\': {\\'type\\': \\'object\\', \\'properties\\': {}, \\'required\\': [], \\'additionalProperties\\': False}, \\'strict\\': True}}]'},\n",
       " {'role': 'user',\n",
       "  'content': \"What's 2 to the power of 3? Then add 10 to the result\"},\n",
       " {'role': 'assistant',\n",
       "  'content': 'Thought: To solve the question, I first need to calculate \\\\(2\\\\) raised to the power of \\\\(3\\\\). After obtaining that result, I will add \\\\(10\\\\) to it. \\n\\nAction: I will first call the power function to calculate \\\\(2^3\\\\).'},\n",
       " {'role': 'assistant',\n",
       "  'content': None,\n",
       "  'tool_calls': [ChatCompletionMessageToolCall(id='call_V8KmlNpkGa7eXaqfergIK5So', function=Function(arguments='{\"base\":2,\"exponent\":3}', name='power'), type='function')]},\n",
       " {'role': 'tool',\n",
       "  'content': '8',\n",
       "  'tool_call_id': 'call_V8KmlNpkGa7eXaqfergIK5So'},\n",
       " {'role': 'assistant',\n",
       "  'content': 'Thought: The result of \\\\(2\\\\) raised to the power of \\\\(3\\\\) is \\\\(8\\\\). Now, I need to add \\\\(10\\\\) to this result.\\n\\nAction: I will call the sum function to add \\\\(8\\\\) and \\\\(10\\\\).'},\n",
       " {'role': 'assistant',\n",
       "  'content': None,\n",
       "  'tool_calls': [ChatCompletionMessageToolCall(id='call_JpF2yCT18oBNqoWaffSzq6a3', function=Function(arguments='{\"number_1\":8,\"number_2\":10}', name='sum'), type='function')]},\n",
       " {'role': 'tool',\n",
       "  'content': '18',\n",
       "  'tool_call_id': 'call_JpF2yCT18oBNqoWaffSzq6a3'},\n",
       " {'role': 'assistant',\n",
       "  'content': 'Thought: The sum of \\\\(8\\\\) and \\\\(10\\\\) is \\\\(18\\\\). \\n\\nAction: I will now call the termination function as I have completed the calculations.'},\n",
       " {'role': 'assistant',\n",
       "  'content': None,\n",
       "  'tool_calls': [ChatCompletionMessageToolCall(id='call_fLo0ZOTnMjcg5vqjPseqTXkm', function=Function(arguments='{}', name='termination'), type='function')]},\n",
       " {'role': 'tool',\n",
       "  'content': 'StopReactLoopException',\n",
       "  'tool_call_id': 'call_fLo0ZOTnMjcg5vqjPseqTXkm'},\n",
       " {'role': 'assistant',\n",
       "  'content': 'The final result of \\\\(2\\\\) to the power of \\\\(3\\\\) plus \\\\(10\\\\) is \\\\(18\\\\). If you have any more questions or need further assistance, feel free to ask!'}]"
      ]
     },
     "execution_count": 131,
     "metadata": {},
     "output_type": "execute_result"
    }
   ],
   "source": [
    "agent.memory.get_messages()"
   ]
  },
  {
   "cell_type": "markdown",
   "metadata": {},
   "source": [
    "- As you can see above, the memory shows the thought process of the agent. The agent first thought about the question, then it called the power tool to calculate the power of 2 to the power of 3. Then it called the sum tool to add 10 to the result. The agent then terminated the loop by calling the termination tool."
   ]
  },
  {
   "cell_type": "code",
   "execution_count": 132,
   "metadata": {},
   "outputs": [
    {
     "name": "stdout",
     "output_type": "stream",
     "text": [
      "Termninated loop with message: ''\n"
     ]
    },
    {
     "data": {
      "text/plain": [
       "{'role': 'assistant',\n",
       " 'content': 'The final result of \\\\(4\\\\) to the power of \\\\(3\\\\) plus \\\\(10\\\\) is \\\\(74\\\\). If you have any more questions or need further assistance, feel free to ask!'}"
      ]
     },
     "execution_count": 132,
     "metadata": {},
     "output_type": "execute_result"
    }
   ],
   "source": [
    "agent.invoke(\"What's 4 to the power of 3? Then add 10 to the result\")"
   ]
  },
  {
   "cell_type": "markdown",
   "metadata": {},
   "source": []
  }
 ],
 "metadata": {
  "kernelspec": {
   "display_name": "gen-ai",
   "language": "python",
   "name": "python3"
  },
  "language_info": {
   "codemirror_mode": {
    "name": "ipython",
    "version": 3
   },
   "file_extension": ".py",
   "mimetype": "text/x-python",
   "name": "python",
   "nbconvert_exporter": "python",
   "pygments_lexer": "ipython3",
   "version": "3.10.16"
  }
 },
 "nbformat": 4,
 "nbformat_minor": 2
}
