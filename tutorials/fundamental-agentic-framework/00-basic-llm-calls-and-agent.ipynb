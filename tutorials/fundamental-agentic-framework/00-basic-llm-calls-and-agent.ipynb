{
 "cells": [
  {
   "cell_type": "markdown",
   "metadata": {},
   "source": [
    "## Build Agent\n",
    "\n",
    "In this tutorial, we'll explore how to create flexible and efficient AI agents using Large Language Models (LLMs). \n",
    "We'll cover everything from basic API interactions to building specialized agents for different use cases."
   ]
  },
  {
   "cell_type": "markdown",
   "metadata": {},
   "source": [
    "### 1. Setting Up the Environment"
   ]
  },
  {
   "cell_type": "code",
   "execution_count": 1,
   "metadata": {},
   "outputs": [
    {
     "data": {
      "text/plain": [
       "True"
      ]
     },
     "execution_count": 1,
     "metadata": {},
     "output_type": "execute_result"
    }
   ],
   "source": [
    "from rich import print as rprint\n",
    "from rich.markdown import Markdown\n",
    "from openai import OpenAI\n",
    "import dotenv\n",
    "dotenv.load_dotenv()"
   ]
  },
  {
   "cell_type": "markdown",
   "metadata": {},
   "source": [
    "### Connecting to OpenAI\n",
    "\n",
    "There are two methods to connect to the OpenAI API:\n",
    "\n",
    "#### Method 1: Direct API Key\n",
    "```python\n",
    "client = OpenAI(\n",
    "    api_key=\"sk-...\",\n",
    "    base_url=\"https://api.openai.com/v1\",\n",
    ")  # Replace with your API key\n",
    "```\n",
    "\n",
    "#### Method 2: Using Environment Variables (Recommended)\n",
    "Create a `.env` file in your project directory with:\n",
    "```\n",
    "OPENAI_API_KEY=\"<YOUR_API_KEY>\"\n",
    "OPENAI_BASE_URL=<YOUR_BASE_URL>\n",
    "```"
   ]
  },
  {
   "cell_type": "code",
   "execution_count": 2,
   "metadata": {},
   "outputs": [],
   "source": [
    "client = OpenAI()"
   ]
  },
  {
   "cell_type": "markdown",
   "metadata": {},
   "source": [
    "### 2. Understanding Key Parameters"
   ]
  },
  {
   "cell_type": "markdown",
   "metadata": {},
   "source": [
    "To effectively use the API, it's important to understand some key parameters:\n",
    "\n",
    "- **model**: The specific LLM you want to use (we'll use gpt-4o-mini)\n",
    "- **temperature**: Controls response randomness (0.0 to 1.0)\n",
    "  - Higher values (closer to 1.0) = more creative responses\n",
    "  - Lower values (closer to 0.0) = more consistent responses\n",
    "- **system_prompt**: Instructions that define how the LLM should behave"
   ]
  },
  {
   "cell_type": "code",
   "execution_count": 3,
   "metadata": {},
   "outputs": [],
   "source": [
    "# Define default parameters\n",
    "model = \"gpt-4o-mini\"\n",
    "temperature = 0.0"
   ]
  },
  {
   "cell_type": "markdown",
   "metadata": {},
   "source": [
    "### 3. Basic API Interaction"
   ]
  },
  {
   "cell_type": "code",
   "execution_count": 4,
   "metadata": {},
   "outputs": [
    {
     "data": {
      "text/plain": [
       "'The capital of France is Paris.'"
      ]
     },
     "execution_count": 4,
     "metadata": {},
     "output_type": "execute_result"
    }
   ],
   "source": [
    "# Example of a basic system prompt\n",
    "system_prompt = \"\"\"\n",
    "You are a helpful AI assistant that provides accurate and concise responses.\n",
    "You have expertise in building virtual assistants and AI systems.\n",
    "Please provide clear explanations and relevant examples when appropriate.\n",
    "\"\"\"\n",
    "\n",
    "# Function to make API calls\n",
    "def create_content(\n",
    "    query: str, \n",
    "    client: OpenAI, \n",
    "    system_prompt: str, \n",
    "    model: str, \n",
    "    temperature: float\n",
    ") -> str:\n",
    "    messages = [\n",
    "        {\"role\": \"system\", \"content\": system_prompt},\n",
    "        {\"role\": \"user\", \"content\": query},\n",
    "    ]\n",
    "    response = client.chat.completions.create(\n",
    "        model=model,\n",
    "        messages=messages,\n",
    "        temperature=temperature,\n",
    "    )\n",
    "    return response.choices[0].message.content\n",
    "\n",
    "create_content(\n",
    "    query=\"What is the capital of France?\",\n",
    "    client=client,\n",
    "    system_prompt=system_prompt,\n",
    "    model=model,\n",
    "    temperature=temperature)"
   ]
  },
  {
   "cell_type": "markdown",
   "metadata": {},
   "source": [
    "### 4. Building a Flexible Agent Class\n",
    "\n",
    "Now, let's build a flexible Agent class that can be customized for different purposes:\n",
    "\n",
    "**Constructor**\n",
    "\n",
    "First of all, create a class called Agent with the following parameters in the `__init__` method:\n",
    "- name (default: \"Agent\")\n",
    "- role (default: \"Personal Assistant\")\n",
    "- instructions (default: \"Help users with any question\")\n",
    "- model (default: \"gpt-4o-mini\")\n",
    "- temperature (default: 0.0)\n",
    "\n",
    "It's recommended having the client being accessible inside your agent.\n",
    "\n",
    "\n",
    "**Invoke**\n",
    "\n",
    "Most agentic framworks out there provide an `invoke()` method. For compatibilities reason, we'll do the same. This method should:\n",
    "- take a message as input;\n",
    "- send the message to the LLM's API using the specified model and temperature;\n",
    "- format the API request with the system role and user input;\n",
    "- return the LLM’s response.\n",
    "\n",
    "Notice that your system prompt must consider role and instructions, otherwise it will not behave as you'd like.\n",
    "\n"
   ]
  },
  {
   "cell_type": "code",
   "execution_count": 5,
   "metadata": {},
   "outputs": [],
   "source": [
    "class Agent:\n",
    "    def __init__(\n",
    "        self,\n",
    "        name: str = \"Agent\",\n",
    "        role: str = \"Personal Assistant\",\n",
    "        instructions: str = \"Help users with any question\",\n",
    "        model: str = \"gpt-4o-mini\",\n",
    "        temperature: float = 0.0,\n",
    "    ):\n",
    "        self.name = name\n",
    "        self.role = role\n",
    "        self.instructions = instructions\n",
    "        self.model = model\n",
    "        self.temperature = temperature\n",
    "        self.agent = OpenAI()\n",
    "\n",
    "    def invoke(self, message: str) -> str:\n",
    "        system_prompt = f\"You are a {self.role} that {self.instructions}\"\n",
    "        user_question = message\n",
    "        response = self.agent.chat.completions.create(\n",
    "            model=self.model,\n",
    "            messages=[\n",
    "                {\"role\": \"system\", \"content\": system_prompt},\n",
    "                {\"role\": \"user\", \"content\": user_question},\n",
    "            ],\n",
    "            temperature=self.temperature,\n",
    "        )\n",
    "        return response.choices[0].message.content"
   ]
  },
  {
   "cell_type": "markdown",
   "metadata": {},
   "source": [
    "### 5. Example Use Cases"
   ]
  },
  {
   "cell_type": "markdown",
   "metadata": {},
   "source": [
    "#### 5.1 Marketing Analyst Example"
   ]
  },
  {
   "cell_type": "code",
   "execution_count": 6,
   "metadata": {},
   "outputs": [
    {
     "data": {
      "text/html": [
       "<pre style=\"white-space:pre;overflow-x:auto;line-height:normal;font-family:Menlo,'DejaVu Sans Mono',consolas,'Courier New',monospace\"><span style=\"font-weight: bold\">Instagram Post for Automotive Industry Client</span>                                                                      \n",
       "\n",
       "<span style=\"color: #808000; text-decoration-color: #808000\">───────────────────────────────────────────────────────────────────────────────────────────────────────────────────</span>\n",
       "<span style=\"font-weight: bold\">Image/Video:</span> A high-quality image of a sleek, new car model parked in a scenic location, or a short video          \n",
       "showcasing the car in action (e.g., driving through a winding road).                                               \n",
       "\n",
       "<span style=\"color: #808000; text-decoration-color: #808000\">───────────────────────────────────────────────────────────────────────────────────────────────────────────────────</span>\n",
       "<span style=\"font-weight: bold\">Caption:</span>                                                                                                           \n",
       "\n",
       "🚗✨ <span style=\"font-weight: bold\">Unleash the Road Ahead!</span> ✨🚗                                                                                  \n",
       "\n",
       "Get ready to experience the thrill of driving like never before! Our latest model combines cutting-edge technology,\n",
       "stunning design, and unmatched performance. Whether you're navigating city streets or hitting the open road, this  \n",
       "car is built for adventure.                                                                                        \n",
       "\n",
       "🔑 <span style=\"font-weight: bold\">Key Features:</span>                                                                                                   \n",
       "\n",
       "<span style=\"color: #808000; text-decoration-color: #808000; font-weight: bold\"> • </span>Advanced safety systems for peace of mind                                                                       \n",
       "<span style=\"color: #808000; text-decoration-color: #808000; font-weight: bold\"> • </span>Eco-friendly engine options for a sustainable drive                                                             \n",
       "<span style=\"color: #808000; text-decoration-color: #808000; font-weight: bold\"> • </span>Luxurious interior for ultimate comfort                                                                         \n",
       "\n",
       "👉 <span style=\"font-weight: bold\">Ready to take the wheel?</span> Book a test drive today and feel the difference! Link in bio.                          \n",
       "\n",
       "#Automotive #CarLovers #TestDrive #LuxuryCars #Innovation #DriveYourDreams                                         \n",
       "\n",
       "<span style=\"color: #808000; text-decoration-color: #808000\">───────────────────────────────────────────────────────────────────────────────────────────────────────────────────</span>\n",
       "<span style=\"font-weight: bold\">Engagement Hook:</span> \"What's your dream road trip destination? Share with us in the comments! 🌍🚙\"                    \n",
       "\n",
       "<span style=\"color: #808000; text-decoration-color: #808000\">───────────────────────────────────────────────────────────────────────────────────────────────────────────────────</span>\n",
       "<span style=\"font-weight: bold\">Best Practices:</span>                                                                                                    \n",
       "\n",
       "<span style=\"color: #808000; text-decoration-color: #808000; font-weight: bold\"> • </span>Use high-quality visuals to capture attention.                                                                  \n",
       "<span style=\"color: #808000; text-decoration-color: #808000; font-weight: bold\"> • </span>Keep the caption concise yet informative.                                                                       \n",
       "<span style=\"color: #808000; text-decoration-color: #808000; font-weight: bold\"> • </span>Include relevant hashtags to increase reach.                                                                    \n",
       "<span style=\"color: #808000; text-decoration-color: #808000; font-weight: bold\"> • </span>Use a clear call-to-action to drive engagement and conversions.                                                 \n",
       "</pre>\n"
      ],
      "text/plain": [
       "\u001b[1mInstagram Post for Automotive Industry Client\u001b[0m                                                                      \n",
       "\n",
       "\u001b[33m───────────────────────────────────────────────────────────────────────────────────────────────────────────────────\u001b[0m\n",
       "\u001b[1mImage/Video:\u001b[0m A high-quality image of a sleek, new car model parked in a scenic location, or a short video          \n",
       "showcasing the car in action (e.g., driving through a winding road).                                               \n",
       "\n",
       "\u001b[33m───────────────────────────────────────────────────────────────────────────────────────────────────────────────────\u001b[0m\n",
       "\u001b[1mCaption:\u001b[0m                                                                                                           \n",
       "\n",
       "🚗✨ \u001b[1mUnleash the Road Ahead!\u001b[0m ✨🚗                                                                                  \n",
       "\n",
       "Get ready to experience the thrill of driving like never before! Our latest model combines cutting-edge technology,\n",
       "stunning design, and unmatched performance. Whether you're navigating city streets or hitting the open road, this  \n",
       "car is built for adventure.                                                                                        \n",
       "\n",
       "🔑 \u001b[1mKey Features:\u001b[0m                                                                                                   \n",
       "\n",
       "\u001b[1;33m • \u001b[0mAdvanced safety systems for peace of mind                                                                       \n",
       "\u001b[1;33m • \u001b[0mEco-friendly engine options for a sustainable drive                                                             \n",
       "\u001b[1;33m • \u001b[0mLuxurious interior for ultimate comfort                                                                         \n",
       "\n",
       "👉 \u001b[1mReady to take the wheel?\u001b[0m Book a test drive today and feel the difference! Link in bio.                          \n",
       "\n",
       "#Automotive #CarLovers #TestDrive #LuxuryCars #Innovation #DriveYourDreams                                         \n",
       "\n",
       "\u001b[33m───────────────────────────────────────────────────────────────────────────────────────────────────────────────────\u001b[0m\n",
       "\u001b[1mEngagement Hook:\u001b[0m \"What's your dream road trip destination? Share with us in the comments! 🌍🚙\"                    \n",
       "\n",
       "\u001b[33m───────────────────────────────────────────────────────────────────────────────────────────────────────────────────\u001b[0m\n",
       "\u001b[1mBest Practices:\u001b[0m                                                                                                    \n",
       "\n",
       "\u001b[1;33m • \u001b[0mUse high-quality visuals to capture attention.                                                                  \n",
       "\u001b[1;33m • \u001b[0mKeep the caption concise yet informative.                                                                       \n",
       "\u001b[1;33m • \u001b[0mInclude relevant hashtags to increase reach.                                                                    \n",
       "\u001b[1;33m • \u001b[0mUse a clear call-to-action to drive engagement and conversions.                                                 \n"
      ]
     },
     "metadata": {},
     "output_type": "display_data"
    }
   ],
   "source": [
    "marketing_system_prompt = \"\"\"\n",
    "You are a Marketing Analyst at a digital marketing agency. You help create engaging content \n",
    "for clients across different industries and channels.\n",
    "\n",
    "You should:\n",
    "- Understand the client's industry, target audience and goals\n",
    "- Create content tailored for specific channels (email, social media, etc.)\n",
    "- Use appropriate tone and style for each platform\n",
    "- Include relevant calls-to-action and engagement hooks\n",
    "- Follow best practices for each content type\n",
    "\"\"\"\n",
    "\n",
    "marketing_agent = Agent(\n",
    "    role=\"Marketing Analyst\",\n",
    "    instructions=marketing_system_prompt,\n",
    "    temperature=0.3\n",
    ")\n",
    "\n",
    "analyst_query = \"Create an instagram post for clients in the automotive industry\"\n",
    "marketing_response = marketing_agent.invoke(analyst_query)\n",
    "rprint(Markdown(marketing_response))"
   ]
  },
  {
   "cell_type": "markdown",
   "metadata": {},
   "source": [
    "#### 5.2 Travel Assistant Example"
   ]
  },
  {
   "cell_type": "code",
   "execution_count": 7,
   "metadata": {},
   "outputs": [
    {
     "data": {
      "text/html": [
       "<pre style=\"white-space:pre;overflow-x:auto;line-height:normal;font-family:Menlo,'DejaVu Sans Mono',consolas,'Courier New',monospace\">December is a wonderful time for a vacation, as it offers a variety of destinations depending on your preferences  \n",
       "for weather, activities, and experiences. Here are some options to consider:                                       \n",
       "\n",
       "<span style=\"color: #808000; text-decoration-color: #808000; font-weight: bold\"> 1 </span><span style=\"font-weight: bold\">Tropical Destinations</span>:                                                                                          \n",
       "<span style=\"color: #808000; text-decoration-color: #808000; font-weight: bold\">    • </span><span style=\"font-weight: bold\">Hawaii</span>: Enjoy beautiful beaches, hiking, and vibrant culture.                                                \n",
       "<span style=\"color: #808000; text-decoration-color: #808000; font-weight: bold\">    • </span><span style=\"font-weight: bold\">Caribbean Islands</span> (like Jamaica, Barbados, or the Bahamas): Perfect for sun, sand, and relaxation.           \n",
       "<span style=\"color: #808000; text-decoration-color: #808000; font-weight: bold\">    • </span><span style=\"font-weight: bold\">Mexico</span> (Cancun or Playa del Carmen): Great for beach lovers and those looking for vibrant nightlife.         \n",
       "<span style=\"color: #808000; text-decoration-color: #808000; font-weight: bold\"> 2 </span><span style=\"font-weight: bold\">Winter Wonderland</span>:                                                                                              \n",
       "<span style=\"color: #808000; text-decoration-color: #808000; font-weight: bold\">    • </span><span style=\"font-weight: bold\">Aspen or Vail, Colorado</span>: Ideal for skiing, snowboarding, and cozy mountain lodges.                           \n",
       "<span style=\"color: #808000; text-decoration-color: #808000; font-weight: bold\">    • </span><span style=\"font-weight: bold\">Whistler, Canada</span>: A fantastic destination for winter sports and stunning scenery.                            \n",
       "<span style=\"color: #808000; text-decoration-color: #808000; font-weight: bold\">    • </span><span style=\"font-weight: bold\">Lapland, Finland</span>: Experience a magical winter with opportunities to see the Northern Lights and visit Santa  \n",
       "<span style=\"color: #808000; text-decoration-color: #808000; font-weight: bold\">      </span>Claus.                                                                                                       \n",
       "<span style=\"color: #808000; text-decoration-color: #808000; font-weight: bold\"> 3 </span><span style=\"font-weight: bold\">Cultural Experiences</span>:                                                                                           \n",
       "<span style=\"color: #808000; text-decoration-color: #808000; font-weight: bold\">    • </span><span style=\"font-weight: bold\">New York City, USA</span>: Enjoy the holiday lights, ice skating in Central Park, and Broadway shows.               \n",
       "<span style=\"color: #808000; text-decoration-color: #808000; font-weight: bold\">    • </span><span style=\"font-weight: bold\">Vienna, Austria</span>: Famous for its Christmas markets, classical music, and beautiful architecture.              \n",
       "<span style=\"color: #808000; text-decoration-color: #808000; font-weight: bold\">    • </span><span style=\"font-weight: bold\">Tokyo, Japan</span>: Experience unique holiday lights, shopping, and delicious cuisine.                             \n",
       "<span style=\"color: #808000; text-decoration-color: #808000; font-weight: bold\"> 4 </span><span style=\"font-weight: bold\">Adventure and Nature</span>:                                                                                           \n",
       "<span style=\"color: #808000; text-decoration-color: #808000; font-weight: bold\">    • </span><span style=\"font-weight: bold\">Costa Rica</span>: Great for eco-tourism, with opportunities for hiking, wildlife watching, and beach time.         \n",
       "<span style=\"color: #808000; text-decoration-color: #808000; font-weight: bold\">    • </span><span style=\"font-weight: bold\">New Zealand</span>: Enjoy summer activities like hiking, bungee jumping, and exploring stunning landscapes.         \n",
       "<span style=\"color: #808000; text-decoration-color: #808000; font-weight: bold\"> 5 </span><span style=\"font-weight: bold\">Relaxation and Wellness</span>:                                                                                        \n",
       "<span style=\"color: #808000; text-decoration-color: #808000; font-weight: bold\">    • </span><span style=\"font-weight: bold\">Bali, Indonesia</span>: Perfect for a wellness retreat, with beautiful resorts and serene beaches.                  \n",
       "<span style=\"color: #808000; text-decoration-color: #808000; font-weight: bold\">    • </span><span style=\"font-weight: bold\">Sedona, Arizona</span>: Known for its stunning red rock formations and wellness spas.                               \n",
       "\n",
       "Consider what type of experience you’re looking for—whether it’s relaxation, adventure, culture, or winter         \n",
       "sports—and choose a destination that aligns with your interests!                                                   \n",
       "</pre>\n"
      ],
      "text/plain": [
       "December is a wonderful time for a vacation, as it offers a variety of destinations depending on your preferences  \n",
       "for weather, activities, and experiences. Here are some options to consider:                                       \n",
       "\n",
       "\u001b[1;33m 1 \u001b[0m\u001b[1mTropical Destinations\u001b[0m:                                                                                          \n",
       "\u001b[1;33m   \u001b[0m\u001b[1;33m • \u001b[0m\u001b[1mHawaii\u001b[0m: Enjoy beautiful beaches, hiking, and vibrant culture.                                                \n",
       "\u001b[1;33m   \u001b[0m\u001b[1;33m • \u001b[0m\u001b[1mCaribbean Islands\u001b[0m (like Jamaica, Barbados, or the Bahamas): Perfect for sun, sand, and relaxation.           \n",
       "\u001b[1;33m   \u001b[0m\u001b[1;33m • \u001b[0m\u001b[1mMexico\u001b[0m (Cancun or Playa del Carmen): Great for beach lovers and those looking for vibrant nightlife.         \n",
       "\u001b[1;33m 2 \u001b[0m\u001b[1mWinter Wonderland\u001b[0m:                                                                                              \n",
       "\u001b[1;33m   \u001b[0m\u001b[1;33m • \u001b[0m\u001b[1mAspen or Vail, Colorado\u001b[0m: Ideal for skiing, snowboarding, and cozy mountain lodges.                           \n",
       "\u001b[1;33m   \u001b[0m\u001b[1;33m • \u001b[0m\u001b[1mWhistler, Canada\u001b[0m: A fantastic destination for winter sports and stunning scenery.                            \n",
       "\u001b[1;33m   \u001b[0m\u001b[1;33m • \u001b[0m\u001b[1mLapland, Finland\u001b[0m: Experience a magical winter with opportunities to see the Northern Lights and visit Santa  \n",
       "\u001b[1;33m   \u001b[0m\u001b[1;33m   \u001b[0mClaus.                                                                                                       \n",
       "\u001b[1;33m 3 \u001b[0m\u001b[1mCultural Experiences\u001b[0m:                                                                                           \n",
       "\u001b[1;33m   \u001b[0m\u001b[1;33m • \u001b[0m\u001b[1mNew York City, USA\u001b[0m: Enjoy the holiday lights, ice skating in Central Park, and Broadway shows.               \n",
       "\u001b[1;33m   \u001b[0m\u001b[1;33m • \u001b[0m\u001b[1mVienna, Austria\u001b[0m: Famous for its Christmas markets, classical music, and beautiful architecture.              \n",
       "\u001b[1;33m   \u001b[0m\u001b[1;33m • \u001b[0m\u001b[1mTokyo, Japan\u001b[0m: Experience unique holiday lights, shopping, and delicious cuisine.                             \n",
       "\u001b[1;33m 4 \u001b[0m\u001b[1mAdventure and Nature\u001b[0m:                                                                                           \n",
       "\u001b[1;33m   \u001b[0m\u001b[1;33m • \u001b[0m\u001b[1mCosta Rica\u001b[0m: Great for eco-tourism, with opportunities for hiking, wildlife watching, and beach time.         \n",
       "\u001b[1;33m   \u001b[0m\u001b[1;33m • \u001b[0m\u001b[1mNew Zealand\u001b[0m: Enjoy summer activities like hiking, bungee jumping, and exploring stunning landscapes.         \n",
       "\u001b[1;33m 5 \u001b[0m\u001b[1mRelaxation and Wellness\u001b[0m:                                                                                        \n",
       "\u001b[1;33m   \u001b[0m\u001b[1;33m • \u001b[0m\u001b[1mBali, Indonesia\u001b[0m: Perfect for a wellness retreat, with beautiful resorts and serene beaches.                  \n",
       "\u001b[1;33m   \u001b[0m\u001b[1;33m • \u001b[0m\u001b[1mSedona, Arizona\u001b[0m: Known for its stunning red rock formations and wellness spas.                               \n",
       "\n",
       "Consider what type of experience you’re looking for—whether it’s relaxation, adventure, culture, or winter         \n",
       "sports—and choose a destination that aligns with your interests!                                                   \n"
      ]
     },
     "metadata": {},
     "output_type": "display_data"
    }
   ],
   "source": [
    "travel_agent = Agent(\n",
    "    role=\"Travel Agent\", \n",
    "    instructions=\"Help users plan their vacations\"\n",
    ")\n",
    "travel_response = travel_agent.invoke(\"Where should I go for vacation in December?\")\n",
    "rprint(Markdown(travel_response))"
   ]
  },
  {
   "cell_type": "markdown",
   "metadata": {},
   "source": [
    "#### 5.3 Creative Storyteller Example"
   ]
  },
  {
   "cell_type": "code",
   "execution_count": 8,
   "metadata": {},
   "outputs": [
    {
     "data": {
      "text/html": [
       "<pre style=\"white-space:pre;overflow-x:auto;line-height:normal;font-family:Menlo,'DejaVu Sans Mono',consolas,'Courier New',monospace\">Once upon a time, in a realm where mountains kissed the skies and forests whispered ancient secrets, there existed \n",
       "a magnificent dragon named Zephyra. With scales that shimmered like emeralds and wings that spanned across the     \n",
       "horizon, Zephyra was the guardian of the Misty Peaks, a sanctuary filled with magic and wonder.                    \n",
       "\n",
       "In a quaint village at the base of these mountains lived a wise and kind-hearted wizard named Eldrin. He was known \n",
       "far and wide for his gentle nature and his ability to commune with the elements. Eldrin had a long, silvery beard  \n",
       "that flowed like a waterfall, and his eyes sparkled with wisdom gathered over centuries.                           \n",
       "\n",
       "For years, the villagers had lived in harmony with the dragon, who occasionally soared above their homes, casting  \n",
       "shadow and awe. They revered Zephyra as a protector, believing that her fiery breath kept the dark forces at bay.  \n",
       "However, a recent drought had swept through the land, leaving the rivers dry and the fields barren. The villagers  \n",
       "grew anxious, whispering tales of misfortune and calamity.                                                         \n",
       "\n",
       "One evening, Eldrin decided to seek the counsel of Zephyra, believing that the dragon might hold the key to        \n",
       "restoring balance to the land. He climbed the winding paths up the Misty Peaks, his heart steady with purpose. When\n",
       "he reached the dragon's lair, he found Zephyra perched atop a colossal rock, her eyes glimmering like stars.       \n",
       "\n",
       "“Great Zephyra,” Eldrin called out, his voice echoing through the cavernous space. “The land suffers from drought, \n",
       "and the people fear the worst. We seek your wisdom to bring back the rains.”                                       \n",
       "\n",
       "The dragon turned her fierce gaze towards him, her eyes softening with understanding. “Eldrin, wise wizard, the    \n",
       "drought is a consequence of the imbalance in the magic that flows through our world. My fire, once a force of      \n",
       "protection, has begun to wane, and the water spirits grow restless.”                                               \n",
       "\n",
       "Eldrin pondered her words. “Then we must restore this balance. How can we rekindle your fire and soothe the water  \n",
       "spirits?”                                                                                                          \n",
       "\n",
       "Zephyra unfurled her wings and revealed a shimmering amulet hanging from her neck. “This amulet contains the       \n",
       "essence of both fire and water. It is said that only through a united heart can its power awaken. We must embark on\n",
       "a quest to the Crystal Caverns where the water spirits dwell. There, we can forge a new bond between fire and      \n",
       "water.”                                                                                                            \n",
       "\n",
       "And so, the dragon and the wizard set forth together, their destinies intertwined. They traversed treacherous      \n",
       "paths, climbed steep cliffs, and crossed raging rivers, facing challenges that tested their resolve. Along the way,\n",
       "they encountered mystical creatures: a mischievous sprite who played tricks, a wise old owl who shared riddles, and\n",
       "a band of playful foxes who offered guidance.                                                                      \n",
       "\n",
       "Finally, they reached the Crystal Caverns, a breathtaking underground world filled with glistening stalactites and \n",
       "pools of shimmering water. The air hummed with magic as the water spirits emerged, their forms fluid and ethereal. \n",
       "\n",
       "“Great spirits of the water,” Zephyra spoke, her voice resonating with authority. “We come to seek a bond that will\n",
       "restore balance to our realm. Together, we can ignite a new flame and summon the rains.”                           \n",
       "\n",
       "The water spirits swirled around them, intrigued by the dragon and wizard's unity. Eldrin stepped forward, holding \n",
       "the amulet high. “Let us unite our powers. Fire and water can create life, harmony, and balance.”                  \n",
       "\n",
       "In that moment, as Zephyra breathed forth her fiery essence and the water spirits danced around them, a brilliant  \n",
       "light enveloped the cavern. The amulet pulsed with energy, and with a resounding roar, the elements merged. A      \n",
       "torrential rain began to fall, cascading down from the caverns, nourishing the land below.                         \n",
       "\n",
       "As the duo emerged from the caverns, they watched the skies darken and the clouds swirl. The first raindrops fell  \n",
       "upon the parched earth, and the villagers rejoiced, their fears washed away. The rivers flowed once more, and the  \n",
       "fields bloomed with life.                                                                                          \n",
       "\n",
       "From that day on, Zephyra and Eldrin became legends, their tale woven into the very fabric of the realm. They      \n",
       "taught the villagers the importance of balance, unity, and the magic that exists in the harmony of opposites. And  \n",
       "whenever the skies turned gray, the people would gaze up, knowing that their guardian dragon and wise wizard were  \n",
       "watching over them, ensuring that the rains would never cease again.                                               \n",
       "</pre>\n"
      ],
      "text/plain": [
       "Once upon a time, in a realm where mountains kissed the skies and forests whispered ancient secrets, there existed \n",
       "a magnificent dragon named Zephyra. With scales that shimmered like emeralds and wings that spanned across the     \n",
       "horizon, Zephyra was the guardian of the Misty Peaks, a sanctuary filled with magic and wonder.                    \n",
       "\n",
       "In a quaint village at the base of these mountains lived a wise and kind-hearted wizard named Eldrin. He was known \n",
       "far and wide for his gentle nature and his ability to commune with the elements. Eldrin had a long, silvery beard  \n",
       "that flowed like a waterfall, and his eyes sparkled with wisdom gathered over centuries.                           \n",
       "\n",
       "For years, the villagers had lived in harmony with the dragon, who occasionally soared above their homes, casting  \n",
       "shadow and awe. They revered Zephyra as a protector, believing that her fiery breath kept the dark forces at bay.  \n",
       "However, a recent drought had swept through the land, leaving the rivers dry and the fields barren. The villagers  \n",
       "grew anxious, whispering tales of misfortune and calamity.                                                         \n",
       "\n",
       "One evening, Eldrin decided to seek the counsel of Zephyra, believing that the dragon might hold the key to        \n",
       "restoring balance to the land. He climbed the winding paths up the Misty Peaks, his heart steady with purpose. When\n",
       "he reached the dragon's lair, he found Zephyra perched atop a colossal rock, her eyes glimmering like stars.       \n",
       "\n",
       "“Great Zephyra,” Eldrin called out, his voice echoing through the cavernous space. “The land suffers from drought, \n",
       "and the people fear the worst. We seek your wisdom to bring back the rains.”                                       \n",
       "\n",
       "The dragon turned her fierce gaze towards him, her eyes softening with understanding. “Eldrin, wise wizard, the    \n",
       "drought is a consequence of the imbalance in the magic that flows through our world. My fire, once a force of      \n",
       "protection, has begun to wane, and the water spirits grow restless.”                                               \n",
       "\n",
       "Eldrin pondered her words. “Then we must restore this balance. How can we rekindle your fire and soothe the water  \n",
       "spirits?”                                                                                                          \n",
       "\n",
       "Zephyra unfurled her wings and revealed a shimmering amulet hanging from her neck. “This amulet contains the       \n",
       "essence of both fire and water. It is said that only through a united heart can its power awaken. We must embark on\n",
       "a quest to the Crystal Caverns where the water spirits dwell. There, we can forge a new bond between fire and      \n",
       "water.”                                                                                                            \n",
       "\n",
       "And so, the dragon and the wizard set forth together, their destinies intertwined. They traversed treacherous      \n",
       "paths, climbed steep cliffs, and crossed raging rivers, facing challenges that tested their resolve. Along the way,\n",
       "they encountered mystical creatures: a mischievous sprite who played tricks, a wise old owl who shared riddles, and\n",
       "a band of playful foxes who offered guidance.                                                                      \n",
       "\n",
       "Finally, they reached the Crystal Caverns, a breathtaking underground world filled with glistening stalactites and \n",
       "pools of shimmering water. The air hummed with magic as the water spirits emerged, their forms fluid and ethereal. \n",
       "\n",
       "“Great spirits of the water,” Zephyra spoke, her voice resonating with authority. “We come to seek a bond that will\n",
       "restore balance to our realm. Together, we can ignite a new flame and summon the rains.”                           \n",
       "\n",
       "The water spirits swirled around them, intrigued by the dragon and wizard's unity. Eldrin stepped forward, holding \n",
       "the amulet high. “Let us unite our powers. Fire and water can create life, harmony, and balance.”                  \n",
       "\n",
       "In that moment, as Zephyra breathed forth her fiery essence and the water spirits danced around them, a brilliant  \n",
       "light enveloped the cavern. The amulet pulsed with energy, and with a resounding roar, the elements merged. A      \n",
       "torrential rain began to fall, cascading down from the caverns, nourishing the land below.                         \n",
       "\n",
       "As the duo emerged from the caverns, they watched the skies darken and the clouds swirl. The first raindrops fell  \n",
       "upon the parched earth, and the villagers rejoiced, their fears washed away. The rivers flowed once more, and the  \n",
       "fields bloomed with life.                                                                                          \n",
       "\n",
       "From that day on, Zephyra and Eldrin became legends, their tale woven into the very fabric of the realm. They      \n",
       "taught the villagers the importance of balance, unity, and the magic that exists in the harmony of opposites. And  \n",
       "whenever the skies turned gray, the people would gaze up, knowing that their guardian dragon and wise wizard were  \n",
       "watching over them, ensuring that the rains would never cease again.                                               \n"
      ]
     },
     "metadata": {},
     "output_type": "display_data"
    }
   ],
   "source": [
    "storyteller_agent = Agent(\n",
    "    role=\"Creative Storyteller\", \n",
    "    instructions=\"Help users create imaginative stories\", \n",
    "    temperature=0.7\n",
    ")\n",
    "story_response = storyteller_agent.invoke(\"Tell me a story about a dragon and a wizard\")\n",
    "rprint(Markdown(story_response))"
   ]
  },
  {
   "cell_type": "markdown",
   "metadata": {},
   "source": [
    "### 6. Experimentation Ideas\n",
    "\n",
    "Now that you understand how everything works, here are some ways to experiment:\n",
    "\n",
    "1. **Modify Agent Parameters**\n",
    "   - Try different roles and instructions\n",
    "   - Adjust the temperature to see how it affects creativity\n",
    "   - Test different models if available\n",
    "\n",
    "2. **Create Specialized Agents**\n",
    "   - Design agents for specific industries\n",
    "   - Create agents with multiple specialties\n",
    "   - Experiment with different system prompts\n",
    "\n",
    "3. **Test Different Use Cases**\n",
    "   - Try complex queries\n",
    "   - Test the agents with real-world scenarios\n",
    "   - Combine different agent types for complex tasks\n",
    "\n",
    "4. **Explore API Features**\n",
    "   - Inspect the full response object\n",
    "   - Try different API parameters\n",
    "   - Implement error handling\n",
    "\n",
    "Remember: The key to building effective agents lies in crafting clear instructions \n",
    "and understanding how different parameters affect the output."
   ]
  }
 ],
 "metadata": {
  "kernelspec": {
   "display_name": "agent",
   "language": "python",
   "name": "python3"
  },
  "language_info": {
   "codemirror_mode": {
    "name": "ipython",
    "version": 3
   },
   "file_extension": ".py",
   "mimetype": "text/x-python",
   "name": "python",
   "nbconvert_exporter": "python",
   "pygments_lexer": "ipython3",
   "version": "3.10.17"
  }
 },
 "nbformat": 4,
 "nbformat_minor": 4
}
