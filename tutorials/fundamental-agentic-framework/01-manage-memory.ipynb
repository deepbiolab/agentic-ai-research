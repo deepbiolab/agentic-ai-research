{
 "cells": [
  {
   "cell_type": "markdown",
   "metadata": {},
   "source": [
    "## Agent with Memory"
   ]
  },
  {
   "cell_type": "code",
   "execution_count": 26,
   "metadata": {},
   "outputs": [],
   "source": [
    "from openai import OpenAI\n",
    "from dotenv import load_dotenv\n",
    "\n",
    "load_dotenv()\n",
    "client = OpenAI()"
   ]
  },
  {
   "cell_type": "markdown",
   "metadata": {},
   "source": [
    "### **Simple Agent**\n",
    "\n",
    "The simplest way to use the API is to call the `chat.completions.create` method with a model and a message. We use the previous [00-basic-llm-calls-and-agent.ipynb](./00-basic-llm-calls-and-agent.ipynb) created `Agent` class to illustrate how to use memory in the agent."
   ]
  },
  {
   "cell_type": "code",
   "execution_count": 27,
   "metadata": {},
   "outputs": [],
   "source": [
    "class Agent:\n",
    "    def __init__(\n",
    "        self,\n",
    "        name: str = \"Agent\",\n",
    "        role: str = \"Personal Assistant\",\n",
    "        instructions: str = \"Help users with any question\",\n",
    "        model: str = \"gpt-4o-mini\",\n",
    "        temperature: float = 0.0,\n",
    "    ):\n",
    "        self.name = name\n",
    "        self.role = role\n",
    "        self.instructions = instructions\n",
    "        self.model = model\n",
    "        self.temperature = temperature\n",
    "        self.agent = OpenAI()\n",
    "\n",
    "    def invoke(self, message: str) -> str:\n",
    "        system_prompt = f\"You are a {self.role} that {self.instructions}\"\n",
    "        user_question = message\n",
    "        response = self.agent.chat.completions.create(\n",
    "            model=self.model,\n",
    "            messages=[\n",
    "                {\"role\": \"system\", \"content\": system_prompt},\n",
    "                {\"role\": \"user\", \"content\": user_question},\n",
    "            ],\n",
    "            temperature=self.temperature,\n",
    "        )\n",
    "        return response.choices[0].message.content"
   ]
  },
  {
   "cell_type": "code",
   "execution_count": 28,
   "metadata": {},
   "outputs": [],
   "source": [
    "user_message = \"What have I asked?\"\n",
    "agent = Agent()"
   ]
  },
  {
   "cell_type": "code",
   "execution_count": 29,
   "metadata": {},
   "outputs": [
    {
     "name": "stdout",
     "output_type": "stream",
     "text": [
      "It seems you haven't asked a specific question yet. How can I assist you today?\n"
     ]
    }
   ],
   "source": [
    "ai_response = agent.invoke(user_message)\n",
    "print(ai_response)"
   ]
  },
  {
   "cell_type": "markdown",
   "metadata": {},
   "source": [
    "### **Memory as a List**\n",
    "\n",
    "We can use a list to store the memory of the conversation. This is a simple way to store the memory of the conversation. And we can use the `append` method to add a new message to the list."
   ]
  },
  {
   "cell_type": "code",
   "execution_count": 31,
   "metadata": {},
   "outputs": [],
   "source": [
    "class Agent:\n",
    "    def __init__(\n",
    "        self,\n",
    "        name: str = \"Agent\",\n",
    "        role: str = \"Personal Assistant\",\n",
    "        instructions: str = \"Help users with any question\",\n",
    "        model: str = \"gpt-4o-mini\",\n",
    "        temperature: float = 0.0,\n",
    "    ):\n",
    "        self.name = name\n",
    "        self.role = role\n",
    "        self.instructions = instructions\n",
    "        self.model = model\n",
    "        self.temperature = temperature\n",
    "        self.agent = OpenAI()\n",
    "        self.memory = [\n",
    "            {\"role\": \"system\", \"content\": instructions}\n",
    "        ] # Update: memory as list\n",
    "\n",
    "    def invoke(self, message: str) -> str:\n",
    "        self.memory.append({\"role\": \"user\", \"content\": message}) # track user input\n",
    "        response = self.agent.chat.completions.create(\n",
    "            model=self.model,\n",
    "            messages=self.memory,\n",
    "            temperature=self.temperature,\n",
    "        )\n",
    "\n",
    "        ai_response = response.choices[0].message.content\n",
    "        self.memory.append(\n",
    "            {\"role\": \"assistant\", \"content\": ai_response}\n",
    "        ) # track ai response\n",
    "\n",
    "        return ai_response"
   ]
  },
  {
   "cell_type": "code",
   "execution_count": 32,
   "metadata": {},
   "outputs": [
    {
     "name": "stdout",
     "output_type": "stream",
     "text": [
      "An API, or Application Programming Interface, is a set of rules and protocols that allows different software applications to communicate with each other. It defines the methods and data formats that applications can use to request and exchange information. APIs enable developers to access the functionality of other software services, libraries, or platforms without needing to understand their internal workings.\n",
      "\n",
      "APIs can be used for various purposes, such as:\n",
      "\n",
      "1. **Web APIs**: Allow web applications to interact with external services over the internet (e.g., retrieving data from a database, accessing social media platforms).\n",
      "2. **Library APIs**: Provide a set of functions and procedures for developers to use in their applications (e.g., a graphics library).\n",
      "3. **Operating System APIs**: Allow applications to interact with the operating system (e.g., file management, network communication).\n",
      "\n",
      "APIs are essential for building modern software applications, enabling integration and functionality across different systems and services.\n"
     ]
    }
   ],
   "source": [
    "agent = Agent()\n",
    "\n",
    "ai_response = agent.invoke(\"What's an API\")\n",
    "print(ai_response)"
   ]
  },
  {
   "cell_type": "code",
   "execution_count": 33,
   "metadata": {},
   "outputs": [
    {
     "data": {
      "text/plain": [
       "[{'role': 'system', 'content': 'Help users with any question'},\n",
       " {'role': 'user', 'content': \"What's an API\"},\n",
       " {'role': 'assistant',\n",
       "  'content': 'An API, or Application Programming Interface, is a set of rules and protocols that allows different software applications to communicate with each other. It defines the methods and data formats that applications can use to request and exchange information. APIs enable developers to access the functionality of other software services, libraries, or platforms without needing to understand their internal workings.\\n\\nAPIs can be used for various purposes, such as:\\n\\n1. **Web APIs**: Allow web applications to interact with external services over the internet (e.g., retrieving data from a database, accessing social media platforms).\\n2. **Library APIs**: Provide a set of functions and procedures for developers to use in their applications (e.g., a graphics library).\\n3. **Operating System APIs**: Allow applications to interact with the operating system (e.g., file management, network communication).\\n\\nAPIs are essential for building modern software applications, enabling integration and functionality across different systems and services.'}]"
      ]
     },
     "execution_count": 33,
     "metadata": {},
     "output_type": "execute_result"
    }
   ],
   "source": [
    "# check current memory\n",
    "agent.memory"
   ]
  },
  {
   "cell_type": "code",
   "execution_count": 34,
   "metadata": {},
   "outputs": [
    {
     "name": "stdout",
     "output_type": "stream",
     "text": [
      "You asked, \"What's an API?\" and I provided an explanation of what an API (Application Programming Interface) is, including its purpose and various types. If you have any more questions or need further clarification, feel free to ask!\n"
     ]
    }
   ],
   "source": [
    "# Check the model if it can remember the previous message\n",
    "ai_response = agent.invoke(\"What have I asked?\")\n",
    "print(ai_response)"
   ]
  },
  {
   "cell_type": "markdown",
   "metadata": {},
   "source": [
    "### **Creating a more robust memory**\n",
    "\n",
    "Above method works just fine, but we can create a class to store the memory of the conversation. This is a more robust way. We can further use the `add_message` method to add a new message to the list, and use the `get_messages` method to get the messages from the list."
   ]
  },
  {
   "cell_type": "code",
   "execution_count": 41,
   "metadata": {},
   "outputs": [],
   "source": [
    "from typing import List, Dict, Literal"
   ]
  },
  {
   "cell_type": "code",
   "execution_count": 42,
   "metadata": {},
   "outputs": [],
   "source": [
    "class Memory:\n",
    "    def __init__(self):\n",
    "        self.messages: List[Dict[str, str]] = []\n",
    "    \n",
    "    def add_message(self, role: Literal['user', 'system', 'assistant'], content: str):\n",
    "        self.messages.append({\n",
    "            \"role\": role,\n",
    "            \"content\": content\n",
    "        })\n",
    "\n",
    "    def get_messages(self) -> List[Dict[str, str]]:\n",
    "        return self.messages"
   ]
  },
  {
   "cell_type": "markdown",
   "metadata": {},
   "source": [
    "We can plug the `Memory` class to the `Agent` class."
   ]
  },
  {
   "cell_type": "code",
   "execution_count": 44,
   "metadata": {},
   "outputs": [],
   "source": [
    "class Agent:\n",
    "    def __init__(\n",
    "        self,\n",
    "        name: str = \"Agent\",\n",
    "        role: str = \"Personal Assistant\",\n",
    "        instructions: str = \"Help users with any question\",\n",
    "        model: str = \"gpt-4o-mini\",\n",
    "        temperature: float = 0.0,\n",
    "    ):\n",
    "        self.name = name\n",
    "        self.role = role\n",
    "        self.instructions = instructions\n",
    "        self.model = model\n",
    "        self.temperature = temperature\n",
    "        self.agent = OpenAI()\n",
    "        \n",
    "        self.memory = Memory()\n",
    "        self.memory.add_message(\n",
    "            role=\"system\", \n",
    "            content=instructions\n",
    "        ) # Update: memory as class\n",
    "\n",
    "    def invoke(self, message: str) -> str:\n",
    "        self.memory.add_message(role=\"user\", content=message) # track user input\n",
    "        response = self.agent.chat.completions.create(\n",
    "            model=self.model,\n",
    "            messages=self.memory.get_messages(), # query messages from memory\n",
    "            temperature=self.temperature,\n",
    "        )\n",
    "\n",
    "        ai_response = response.choices[0].message.content\n",
    "        self.memory.add_message(role=\"assistant\", content=ai_response) # track ai response\n",
    "\n",
    "        return ai_response"
   ]
  },
  {
   "cell_type": "markdown",
   "metadata": {},
   "source": [
    "Now, let's 's chat with memory and track the memory"
   ]
  },
  {
   "cell_type": "code",
   "execution_count": 49,
   "metadata": {},
   "outputs": [
    {
     "name": "stdout",
     "output_type": "stream",
     "text": [
      "The capital of Brazil is Brasília. It was officially inaugurated as the capital in 1960, designed by the architect Oscar Niemeyer and urban planner Lúcio Costa.\n"
     ]
    }
   ],
   "source": [
    "agent = Agent()\n",
    "\n",
    "ai_response = agent.invoke(\"what's the capital of Brazil\")\n",
    "print(ai_response)"
   ]
  },
  {
   "cell_type": "code",
   "execution_count": 50,
   "metadata": {},
   "outputs": [
    {
     "name": "stdout",
     "output_type": "stream",
     "text": [
      "You asked about the capital of Brazil.\n"
     ]
    }
   ],
   "source": [
    "ai_response = agent.invoke(\"what have I asked?\")\n",
    "print(ai_response)"
   ]
  },
  {
   "cell_type": "markdown",
   "metadata": {},
   "source": [
    "As you can see, the model remembers the previous questions and the memory is not empty."
   ]
  },
  {
   "cell_type": "code",
   "execution_count": 51,
   "metadata": {},
   "outputs": [
    {
     "data": {
      "text/plain": [
       "[{'role': 'system', 'content': 'Help users with any question'},\n",
       " {'role': 'user', 'content': \"what's the capital of Brazil\"},\n",
       " {'role': 'assistant',\n",
       "  'content': 'The capital of Brazil is Brasília. It was officially inaugurated as the capital in 1960, designed by the architect Oscar Niemeyer and urban planner Lúcio Costa.'},\n",
       " {'role': 'user', 'content': 'what have I asked?'},\n",
       " {'role': 'assistant', 'content': 'You asked about the capital of Brazil.'}]"
      ]
     },
     "execution_count": 51,
     "metadata": {},
     "output_type": "execute_result"
    }
   ],
   "source": [
    "agent.memory.get_messages()"
   ]
  },
  {
   "cell_type": "markdown",
   "metadata": {},
   "source": [
    "*Reminder: This notebook demostrate a simple way how to manage memory, but you can use a more robust way to manage memory, like database.*"
   ]
  }
 ],
 "metadata": {
  "kernelspec": {
   "display_name": "agent",
   "language": "python",
   "name": "python3"
  },
  "language_info": {
   "codemirror_mode": {
    "name": "ipython",
    "version": 3
   },
   "file_extension": ".py",
   "mimetype": "text/x-python",
   "name": "python",
   "nbconvert_exporter": "python",
   "pygments_lexer": "ipython3",
   "version": "3.10.17"
  }
 },
 "nbformat": 4,
 "nbformat_minor": 2
}
