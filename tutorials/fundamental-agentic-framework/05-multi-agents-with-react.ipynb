{
 "cells": [
  {
   "cell_type": "code",
   "execution_count": 1,
   "metadata": {},
   "outputs": [],
   "source": [
    "import datetime\n",
    "import inspect\n",
    "import json\n",
    "from typing import List, Dict, Literal, Callable, Any, TypedDict\n",
    "from typing import get_type_hints\n",
    "\n",
    "from dotenv import load_dotenv\n",
    "from openai import OpenAI\n",
    "from openai.types.chat.chat_completion_message import ChatCompletionMessage\n",
    "from openai.types.chat.chat_completion_message_tool_call import (\n",
    "    ChatCompletionMessageToolCall,\n",
    ")"
   ]
  },
  {
   "cell_type": "code",
   "execution_count": 2,
   "metadata": {},
   "outputs": [],
   "source": [
    "load_dotenv()\n",
    "client = OpenAI()"
   ]
  },
  {
   "cell_type": "markdown",
   "metadata": {},
   "source": [
    "### Memory Layer\n",
    "\n",
    "- Detailed explanation of the memory layer see previous notebook [04-react-agent-from-scratch.ipynb](./04-react-agent-from-scratch.ipynb)."
   ]
  },
  {
   "cell_type": "code",
   "execution_count": 6,
   "metadata": {},
   "outputs": [],
   "source": [
    "class Memory:\n",
    "    def __init__(self):\n",
    "        self._messages: List[Dict[str, str]] = []\n",
    "\n",
    "    def add_message(\n",
    "        self,\n",
    "        role: Literal[\n",
    "            \"user\", \"system\", \"assistant\", \"tool\"\n",
    "        ],  # Added 'tool' as a new role type\n",
    "        content: str,\n",
    "        tool_calls: List = None,  # New parameter to store tool call information\n",
    "        tool_call_id=None,\n",
    "    ) -> None:  # New parameter to track specific tool call IDs\n",
    "\n",
    "        # For regular messages (user/system/assistant), include tool_calls dictionary\n",
    "        message = {\"role\": role, \"content\": content}\n",
    "\n",
    "        # Only add tool_calls if they exist and role is assistant\n",
    "        if tool_calls and role == \"assistant\":\n",
    "            message[\"tool_calls\"] = tool_calls\n",
    "\n",
    "        # Add tool_call_id if it exists and role is tool\n",
    "        if tool_call_id and role == \"tool\":\n",
    "            message[\"tool_call_id\"] = tool_call_id\n",
    "\n",
    "        self._messages.append(message)\n",
    "\n",
    "    def get_messages(self) -> List[Dict[str, str]]:\n",
    "        return self._messages\n",
    "\n",
    "    def last_message(self) -> None:\n",
    "        if self._messages:\n",
    "            return self._messages[-1]\n",
    "\n",
    "    def reset(self) -> None:\n",
    "        self._messages = []"
   ]
  },
  {
   "cell_type": "markdown",
   "metadata": {},
   "source": [
    "### Helper Functions for Tool\n",
    "\n",
    "- Detailed explanation, see previous notebook [04-react-agent-from-scratch.ipynb](./04-react-agent-from-scratch.ipynb)."
   ]
  },
  {
   "cell_type": "code",
   "execution_count": null,
   "metadata": {},
   "outputs": [],
   "source": [
    "def get_func_name(func: Callable) -> str:\n",
    "    return func.__name__\n",
    "\n",
    "\n",
    "def get_func_desc(func: Callable) -> str:\n",
    "    if func.__doc__:\n",
    "        return func.__doc__.strip()\n",
    "    else:\n",
    "        return get_func_name(func)\n",
    "\n",
    "\n",
    "def infer_json_type(arg_type: Any) -> str:\n",
    "    \"\"\"\n",
    "    Infers the JSON schema type from a given Python type.\n",
    "\n",
    "    Parameters:\n",
    "    - arg_type: The Python type to be mapped to a JSON schema type.\n",
    "\n",
    "    Returns:\n",
    "    - str: The corresponding JSON schema type as a string.\n",
    "    \"\"\"\n",
    "    type_mapping = {\n",
    "        bool: \"boolean\",\n",
    "        int: \"integer\",\n",
    "        float: \"number\",\n",
    "        str: \"string\",\n",
    "        list: \"array\",\n",
    "        dict: \"object\",\n",
    "        type(None): \"null\",\n",
    "        datetime.date: \"string\",\n",
    "        datetime.datetime: \"string\",\n",
    "    }\n",
    "\n",
    "    # Check if arg_type is directly in the mapping\n",
    "    if arg_type in type_mapping:\n",
    "        return type_mapping[arg_type]\n",
    "\n",
    "    # If arg_type is a subclass of a mapped type, return the mapped type\n",
    "    for base_type in type_mapping:\n",
    "        if isinstance(arg_type, base_type):\n",
    "            return type_mapping[base_type]\n",
    "\n",
    "    # Default to string if type is unknown\n",
    "    return \"string\"\n",
    "\n",
    "\n",
    "class FuncArgument(TypedDict):\n",
    "    name: str\n",
    "    type: str\n",
    "    required: bool\n",
    "\n",
    "\n",
    "def get_func_args(func: Callable) -> List[FuncArgument]:\n",
    "    args_type_mapping = get_type_hints(func)\n",
    "    signature = inspect.signature(func)\n",
    "\n",
    "    def is_required(param: inspect.Parameter) -> bool:\n",
    "        return param.default == inspect.Parameter.empty\n",
    "\n",
    "    arguments = []\n",
    "    for arg_name, arg_type in args_type_mapping.items():\n",
    "        param = signature.parameters.get(arg_name)\n",
    "        if param:\n",
    "            arguments.append(\n",
    "                {\n",
    "                    \"name\": arg_name,\n",
    "                    \"type\": infer_json_type(arg_type),\n",
    "                    \"required\": is_required(param),\n",
    "                }\n",
    "            )\n",
    "\n",
    "    return arguments"
   ]
  },
  {
   "cell_type": "markdown",
   "metadata": {},
   "source": [
    "### Tool Layer\n",
    "\n",
    "- Detailed explanation, see previous notebook [04-react-agent-from-scratch.ipynb](./04-react-agent-from-scratch.ipynb)."
   ]
  },
  {
   "cell_type": "code",
   "execution_count": 5,
   "metadata": {},
   "outputs": [],
   "source": [
    "class Tool:\n",
    "    def __init__(self, func: Callable):\n",
    "        self.func = func\n",
    "        self.name: str = get_func_name(func)\n",
    "        self.description: str = get_func_desc(func)\n",
    "        self.arguments: List[FuncArgument] = get_func_args(func)\n",
    "\n",
    "    def to_dict(self):\n",
    "        return {\n",
    "            \"type\": \"function\",\n",
    "            \"function\": {\n",
    "                \"name\": self.name,\n",
    "                \"description\": self.description,\n",
    "                \"parallel_tool_calls\": False,\n",
    "                \"parameters\": {\n",
    "                    \"type\": \"object\",\n",
    "                    \"properties\": {\n",
    "                        argument[\"name\"]: {\n",
    "                            \"type\": argument[\"type\"],\n",
    "                        }\n",
    "                        for argument in self.arguments\n",
    "                    },\n",
    "                    \"required\": [\n",
    "                        argument[\"name\"]\n",
    "                        for argument in self.arguments\n",
    "                        if argument[\"required\"]\n",
    "                    ],\n",
    "                    \"additionalProperties\": False,\n",
    "                },\n",
    "                \"strict\": True,\n",
    "            },\n",
    "        }\n",
    "\n",
    "    def __call__(self, *args, **kwargs):\n",
    "        return self.func(*args, **kwargs)"
   ]
  },
  {
   "cell_type": "markdown",
   "metadata": {},
   "source": [
    "### ReAct Prompt with Another Agent\n",
    "\n",
    "In previous notebook [04-react-agent-from-scratch.ipynb](./04-react-agent-from-scratch.ipynb), we define a template to generate the ReAct prompt by combining the tool calling, like this:\n",
    "\n",
    "```python\n",
    "react_prompt = (\n",
    "    \"You're an AI Agent, your role is {ROLE}, \" \n",
    "    \"and you need to {INSTRUCTIONS} \"\n",
    "    \"You can answer multistep questions by sequentially calling functions. \"\n",
    "    \"You follow a pattern of of Thought and Action. \"\n",
    "    \"Create a plan of execution: \"\n",
    "    \"- Use Thought to describe your thoughts about the question you have been asked. \"\n",
    "    \"- Use Action to specify one of the tools available to you. \"\n",
    "    \"When you think it's over call the termination tool. \"\n",
    "    \"Never try to respond directly if the question needs a tool.\"\n",
    "    \"The actions you have are the Tools: \"\n",
    "    \"{TOOLS}\"\n",
    ")\n",
    "```\n",
    "\n",
    "Now, we will use the same template, but we will add a new tool to call another agent. This tool will be called `call_peer_agent` and it will be used to call another agent to perform a task.\n",
    "```python\n",
    "...\n",
    "\"The call_agents tool is to call one of the following peer agents: \"\n",
    "f\"{PEER_AGENT} \",\n",
    "```"
   ]
  },
  {
   "cell_type": "code",
   "execution_count": 7,
   "metadata": {},
   "outputs": [],
   "source": [
    "def call_peer_agent(agent_name: str, message: str) -> Dict[str, str]:\n",
    "    \"\"\"\n",
    "    Based on the task at hand and the available agents, call one to perform it.\n",
    "    Tell the agent with a message the exact task it needs to perform just like if you were the user.\n",
    "    \"\"\"\n",
    "    return {\"agent_name\": agent_name, \"message\": message}"
   ]
  },
  {
   "cell_type": "markdown",
   "metadata": {},
   "source": [
    "### ReAct Loop: Reasoning and Action\n",
    "\n",
    "We keep the same ReAct loop as before, which is:\n",
    "\n",
    "A flow of \"Think → Act → Observe → Think\" that mimics human problem-solving patterns, allowing the AI to break down complex tasks into manageable steps while maintaining a record of its reasoning process.\n",
    "\n",
    "- Detailed explanation, see previous notebook [04-react-agent-from-scratch.ipynb](./04-react-agent-from-scratch.ipynb).\n",
    "\n",
    "But we add a new tool to call another agent. This tool will be called `call_peer_agent` and it will be used to call another agent to perform a task.\n"
   ]
  },
  {
   "cell_type": "code",
   "execution_count": 26,
   "metadata": {},
   "outputs": [],
   "source": [
    "TERMINATION_MESSAGE = \"StopReactLoopException\"\n",
    "\n",
    "class StopReactLoopException(Exception):\n",
    "    \"\"\"\n",
    "    Terminates ReAct loop\n",
    "    \"\"\"\n",
    "\n",
    "def termination() -> str:\n",
    "    \"\"\"Terminate the ReAct loop. If the agent thinks there's no further actions to take\"\"\"\n",
    "    return TERMINATION_MESSAGE"
   ]
  },
  {
   "cell_type": "code",
   "execution_count": 35,
   "metadata": {},
   "outputs": [],
   "source": [
    "class Agent:\n",
    "    \"\"\"A tool-calling AI Agent\"\"\"\n",
    "\n",
    "    def __init__(\n",
    "        self,\n",
    "        name: str,  # This is the id of your agent, and should be unique\n",
    "        role: str = \"Personal Assistant\",\n",
    "        instructions: str = \"Help users with any question\",\n",
    "        model: str = \"gpt-4o-mini\",\n",
    "        temperature: float = 0.0,\n",
    "        funcs: List[Callable] = [],\n",
    "        peer_agents: List[\"Agent\"] = None,\n",
    "    ):\n",
    "        self.name = name if name else self._default_agent_name()\n",
    "        self.role = role\n",
    "        self.instructions = instructions\n",
    "        self.model = model\n",
    "        self.temperature = temperature\n",
    "        self.client = OpenAI()\n",
    "\n",
    "        # Tools\n",
    "        tools = [Tool(func) for func in funcs] + [Tool(termination)]\n",
    "\n",
    "        # Adding peer agents to the tools and the tool map\n",
    "        # This is to allow the agent to call another agent to perform a task\n",
    "        self.peer_agents = peer_agents\n",
    "        if peer_agents:\n",
    "            tools.append(Tool(call_peer_agent))\n",
    "            self.peer_agents = [\n",
    "                {\n",
    "                    \"name\": agent.name,\n",
    "                    \"role\": agent.role,\n",
    "                    \"instructions\": agent.instructions,\n",
    "                }\n",
    "                for agent in peer_agents\n",
    "            ]\n",
    "            self.peer_agents_map = {agent.name: agent for agent in peer_agents}\n",
    "\n",
    "        self.tool_map = {tool.name: tool for tool in tools}\n",
    "        self.tools = [tool.to_dict() for tool in tools] if tools else None\n",
    "        self.termination_message = TERMINATION_MESSAGE\n",
    "\n",
    "        # Memory\n",
    "        self.memory = Memory()\n",
    "        self.memory.add_message(\n",
    "            role=\"system\",\n",
    "            content=f\"You're an AI Agent, your role is {self.role}, \"\n",
    "            f\"and you need to {self.instructions} \"\n",
    "            \"You can answer multistep questions by sequentially calling functions. \"\n",
    "            \"You follow a pattern of of Thought and Action. \"\n",
    "            \"Create a plan of execution: \"\n",
    "            \"- Use Thought to describe your thoughts about the question you have been asked. \"\n",
    "            \"- Use Action to specify one of the tools available to you. \"\n",
    "            \"When you think it's over call the termination tool. \"\n",
    "            \"Never try to respond directly if the question needs a tool.\"\n",
    "            \"The actions you have are the Tools: \"\n",
    "            \"```\\n\"\n",
    "            f\"{self.tools} \"\n",
    "            \"```\\n\"\n",
    "            \"The call_agents tool is to call one of the following peer agents: \"\n",
    "            f\"{self.peer_agents} \",\n",
    "        )\n",
    "\n",
    "    def invoke(self, user_message: str, max_iter: int = 3) -> str:\n",
    "        self.memory.add_message(\n",
    "            role=\"user\",\n",
    "            content=user_message,\n",
    "        )\n",
    "        try:\n",
    "            self._react_loop(max_iter)\n",
    "        except StopReactLoopException as e:\n",
    "            print(f\"Termninated loop with message: '{e!s}'\")\n",
    "            self._reason()\n",
    "\n",
    "        return self.memory.last_message()\n",
    "\n",
    "    def _react_loop(self, max_iter: int):\n",
    "        for i in range(max_iter):\n",
    "            self._reason()\n",
    "\n",
    "            ai_message = self._get_completion(\n",
    "                messages=self.memory.get_messages(),\n",
    "                tools=self.tools,\n",
    "            )\n",
    "            tool_calls = ai_message.tool_calls\n",
    "\n",
    "            self.memory.add_message(\n",
    "                role=\"assistant\",\n",
    "                content=ai_message.content,\n",
    "                tool_calls=tool_calls,\n",
    "            )\n",
    "\n",
    "            if tool_calls:\n",
    "                self._call_tools(tool_calls)\n",
    "\n",
    "    def _reason(self):\n",
    "        # No tools\n",
    "        ai_message = self._get_completion(\n",
    "            messages=self.memory.get_messages(),\n",
    "        )\n",
    "        tool_calls = ai_message.tool_calls\n",
    "\n",
    "        self.memory.add_message(\n",
    "            role=\"assistant\",\n",
    "            content=ai_message.content,\n",
    "            tool_calls=tool_calls,\n",
    "        )\n",
    "\n",
    "    def _call_tools(self, tool_calls: List[ChatCompletionMessageToolCall]):\n",
    "        for tool_call in tool_calls:\n",
    "            function_name = tool_call.function.name\n",
    "            args = json.loads(tool_call.function.arguments)\n",
    "            callable_tool = self.tool_map[function_name]\n",
    "            result = callable_tool(**args)\n",
    "\n",
    "            if function_name == \"call_peer_agent\":\n",
    "                print(result)\n",
    "                agent_name = result[\"agent_name\"]\n",
    "                message = result[\"message\"]\n",
    "                peer_agent = self.peer_agents_map[agent_name]\n",
    "                result = peer_agent.invoke(message)\n",
    "\n",
    "            self.memory.add_message(\n",
    "                role=\"tool\", content=str(result), tool_call_id=tool_call.id\n",
    "            )\n",
    "            if result == TERMINATION_MESSAGE:\n",
    "                raise StopReactLoopException\n",
    "\n",
    "    def _get_completion(\n",
    "        self, messages: List[Dict], tools: List = None\n",
    "    ) -> ChatCompletionMessage:\n",
    "        response = self.client.chat.completions.create(\n",
    "            model=self.model,\n",
    "            temperature=self.temperature,\n",
    "            messages=messages,\n",
    "            tools=tools,\n",
    "        )\n",
    "\n",
    "        return response.choices[0].message\n",
    "\n",
    "    def _default_agent_name(self):\n",
    "        for var_name, obj in globals().items():\n",
    "            if obj is self:\n",
    "                return var_name\n",
    "        return None"
   ]
  },
  {
   "cell_type": "code",
   "execution_count": 36,
   "metadata": {},
   "outputs": [],
   "source": [
    "def power(base: float, exponent: float):\n",
    "    \"\"\"Exponentatiation: base to the power of exponent\"\"\"\n",
    "\n",
    "    return base**exponent"
   ]
  },
  {
   "cell_type": "code",
   "execution_count": 37,
   "metadata": {},
   "outputs": [],
   "source": [
    "def sum(number_1: float, number_2: float):\n",
    "    \"\"\"Sum / Addition: Add two numbers\"\"\"\n",
    "\n",
    "    return number_1 + number_2"
   ]
  },
  {
   "cell_type": "markdown",
   "metadata": {},
   "source": [
    "### Create Peer Agent for Exponentiation"
   ]
  },
  {
   "cell_type": "code",
   "execution_count": 38,
   "metadata": {},
   "outputs": [],
   "source": [
    "exponentiation_agent = Agent(\n",
    "    name=\"exponentiation_agent\",\n",
    "    role=\"Do the exponentation of a base to the power of an exponent\",\n",
    "    instructions=\"Help your peers with exponentiation problems\",\n",
    "    funcs=[power],\n",
    ")"
   ]
  },
  {
   "cell_type": "markdown",
   "metadata": {},
   "source": [
    "### Create Peer Agent for Summing"
   ]
  },
  {
   "cell_type": "code",
   "execution_count": 39,
   "metadata": {},
   "outputs": [],
   "source": [
    "summing_agent = Agent(\n",
    "    name=\"summing_agent\",\n",
    "    role=\"Sum two numbers\",\n",
    "    instructions=\"Help your peers with addition problems\",\n",
    "    funcs=[sum],\n",
    ")"
   ]
  },
  {
   "cell_type": "markdown",
   "metadata": {},
   "source": [
    "### Create Agent with Peers"
   ]
  },
  {
   "cell_type": "code",
   "execution_count": 40,
   "metadata": {},
   "outputs": [],
   "source": [
    "agent = Agent(\"assistant\", peer_agents=[summing_agent, exponentiation_agent])"
   ]
  },
  {
   "cell_type": "code",
   "execution_count": 41,
   "metadata": {},
   "outputs": [
    {
     "name": "stdout",
     "output_type": "stream",
     "text": [
      "{'agent_name': 'exponentiation_agent', 'message': 'Calculate 2 to the power of 3.'}\n",
      "Termninated loop with message: ''\n",
      "{'agent_name': 'summing_agent', 'message': 'Add 8 and 10.'}\n",
      "Termninated loop with message: ''\n",
      "Termninated loop with message: ''\n"
     ]
    },
    {
     "data": {
      "text/plain": [
       "{'role': 'assistant',\n",
       " 'content': 'The final result of \\\\(2\\\\) to the power of \\\\(3\\\\) plus \\\\(10\\\\) is \\\\(18\\\\). If you have any more questions or need further assistance, feel free to ask!'}"
      ]
     },
     "execution_count": 41,
     "metadata": {},
     "output_type": "execute_result"
    }
   ],
   "source": [
    "agent.invoke(\"What's 2 to the power of 3? Then add 10 to the result\")"
   ]
  },
  {
   "cell_type": "code",
   "execution_count": 42,
   "metadata": {},
   "outputs": [
    {
     "data": {
      "text/plain": [
       "[{'role': 'system',\n",
       "  'content': 'You\\'re an AI Agent, your role is Personal Assistant, and you need to Help users with any question You can answer multistep questions by sequentially calling functions. You follow a pattern of of Thought and Action. Create a plan of execution: - Use Thought to describe your thoughts about the question you have been asked. - Use Action to specify one of the tools available to you. When you think it\\'s over call the termination tool. Never try to respond directly if the question needs a tool.The actions you have are the Tools: ```\\n[{\\'type\\': \\'function\\', \\'function\\': {\\'name\\': \\'termination\\', \\'description\\': \"Terminate the ReAct loop. If the agent thinks there\\'s no further actions to take\", \\'parallel_tool_calls\\': False, \\'parameters\\': {\\'type\\': \\'object\\', \\'properties\\': {}, \\'required\\': [], \\'additionalProperties\\': False}, \\'strict\\': True}}, {\\'type\\': \\'function\\', \\'function\\': {\\'name\\': \\'call_peer_agent\\', \\'description\\': \\'Based on the task at hand and the available agents, call one to perform it.\\\\n    Tell the agent with a message the exact task it needs to perform just like if you were the user.\\', \\'parallel_tool_calls\\': False, \\'parameters\\': {\\'type\\': \\'object\\', \\'properties\\': {\\'agent_name\\': {\\'type\\': \\'string\\'}, \\'message\\': {\\'type\\': \\'string\\'}}, \\'required\\': [\\'agent_name\\', \\'message\\'], \\'additionalProperties\\': False}, \\'strict\\': True}}] ```\\nThe call_agents tool is to call one of the following peer agents: [{\\'name\\': \\'summing_agent\\', \\'role\\': \\'Sum two numbers\\', \\'instructions\\': \\'Help your peers with addition problems\\'}, {\\'name\\': \\'exponentiation_agent\\', \\'role\\': \\'Do the exponentation of a base to the power of an exponent\\', \\'instructions\\': \\'Help your peers with exponentiation problems\\'}] '},\n",
       " {'role': 'user',\n",
       "  'content': \"What's 2 to the power of 3? Then add 10 to the result\"},\n",
       " {'role': 'assistant',\n",
       "  'content': 'Thought: To solve the problem, I need to first calculate \\\\(2\\\\) raised to the power of \\\\(3\\\\), which is an exponentiation operation. After that, I will add \\\\(10\\\\) to the result of the exponentiation. I will call the exponentiation agent to perform the first part of the calculation.\\n\\nAction: I will call the exponentiation agent to calculate \\\\(2^3\\\\).'},\n",
       " {'role': 'assistant',\n",
       "  'content': None,\n",
       "  'tool_calls': [ChatCompletionMessageToolCall(id='call_YeWYzFDZDGDrzgy6PVSCACia', function=Function(arguments='{\"agent_name\":\"exponentiation_agent\",\"message\":\"Calculate 2 to the power of 3.\"}', name='call_peer_agent'), type='function')]},\n",
       " {'role': 'tool',\n",
       "  'content': \"{'role': 'assistant', 'content': 'The calculation is complete. The result of 2 to the power of 3 is 8.'}\",\n",
       "  'tool_call_id': 'call_YeWYzFDZDGDrzgy6PVSCACia'},\n",
       " {'role': 'assistant',\n",
       "  'content': 'Thought: The result of \\\\(2\\\\) to the power of \\\\(3\\\\) is \\\\(8\\\\). Now, I need to add \\\\(10\\\\) to this result to complete the calculation.\\n\\nAction: I will call the summing agent to add \\\\(8\\\\) and \\\\(10\\\\).'},\n",
       " {'role': 'assistant',\n",
       "  'content': None,\n",
       "  'tool_calls': [ChatCompletionMessageToolCall(id='call_7Lc3kRQln2zTka8jdO8Ld1U0', function=Function(arguments='{\"agent_name\":\"summing_agent\",\"message\":\"Add 8 and 10.\"}', name='call_peer_agent'), type='function')]},\n",
       " {'role': 'tool',\n",
       "  'content': \"{'role': 'assistant', 'content': 'The addition of 8 and 10 is 18. If you have any more questions or need further assistance, feel free to ask!'}\",\n",
       "  'tool_call_id': 'call_7Lc3kRQln2zTka8jdO8Ld1U0'},\n",
       " {'role': 'assistant',\n",
       "  'content': 'Thought: The addition of \\\\(8\\\\) and \\\\(10\\\\) has been completed, resulting in \\\\(18\\\\). This concludes the calculations requested.\\n\\nAction: I will now terminate the process as there are no further actions needed.'},\n",
       " {'role': 'assistant',\n",
       "  'content': None,\n",
       "  'tool_calls': [ChatCompletionMessageToolCall(id='call_6nHQakkZqennSDqHmabH9sua', function=Function(arguments='{}', name='termination'), type='function')]},\n",
       " {'role': 'tool',\n",
       "  'content': 'StopReactLoopException',\n",
       "  'tool_call_id': 'call_6nHQakkZqennSDqHmabH9sua'},\n",
       " {'role': 'assistant',\n",
       "  'content': 'The final result of \\\\(2\\\\) to the power of \\\\(3\\\\) plus \\\\(10\\\\) is \\\\(18\\\\). If you have any more questions or need further assistance, feel free to ask!'}]"
      ]
     },
     "execution_count": 42,
     "metadata": {},
     "output_type": "execute_result"
    }
   ],
   "source": [
    "agent.memory.get_messages()"
   ]
  },
  {
   "cell_type": "code",
   "execution_count": 43,
   "metadata": {},
   "outputs": [
    {
     "data": {
      "text/plain": [
       "[{'role': 'system',\n",
       "  'content': 'You\\'re an AI Agent, your role is Do the exponentation of a base to the power of an exponent, and you need to Help your peers with exponentiation problems You can answer multistep questions by sequentially calling functions. You follow a pattern of of Thought and Action. Create a plan of execution: - Use Thought to describe your thoughts about the question you have been asked. - Use Action to specify one of the tools available to you. When you think it\\'s over call the termination tool. Never try to respond directly if the question needs a tool.The actions you have are the Tools: ```\\n[{\\'type\\': \\'function\\', \\'function\\': {\\'name\\': \\'power\\', \\'description\\': \\'Exponentatiation: base to the power of exponent\\', \\'parallel_tool_calls\\': False, \\'parameters\\': {\\'type\\': \\'object\\', \\'properties\\': {\\'base\\': {\\'type\\': \\'number\\'}, \\'exponent\\': {\\'type\\': \\'number\\'}}, \\'required\\': [\\'base\\', \\'exponent\\'], \\'additionalProperties\\': False}, \\'strict\\': True}}, {\\'type\\': \\'function\\', \\'function\\': {\\'name\\': \\'termination\\', \\'description\\': \"Terminate the ReAct loop. If the agent thinks there\\'s no further actions to take\", \\'parallel_tool_calls\\': False, \\'parameters\\': {\\'type\\': \\'object\\', \\'properties\\': {}, \\'required\\': [], \\'additionalProperties\\': False}, \\'strict\\': True}}] ```\\nThe call_agents tool is to call one of the following peer agents: None '},\n",
       " {'role': 'user', 'content': 'Calculate 2 to the power of 3.'},\n",
       " {'role': 'assistant',\n",
       "  'content': 'Thought: I need to calculate 2 raised to the power of 3. This involves using the exponentiation function to find the result of 2^3.\\n\\nAction: I will call the power function with base 2 and exponent 3.'},\n",
       " {'role': 'assistant',\n",
       "  'content': None,\n",
       "  'tool_calls': [ChatCompletionMessageToolCall(id='call_Ww2g7Wv8JXCe1ftCPKMqhNBj', function=Function(arguments='{\"base\":2,\"exponent\":3}', name='power'), type='function')]},\n",
       " {'role': 'tool',\n",
       "  'content': '8',\n",
       "  'tool_call_id': 'call_Ww2g7Wv8JXCe1ftCPKMqhNBj'},\n",
       " {'role': 'assistant',\n",
       "  'content': 'Thought: I have calculated the result of 2 to the power of 3, which is 8.\\n\\nAction: I will now terminate the process as I have completed the calculation.'},\n",
       " {'role': 'assistant',\n",
       "  'content': None,\n",
       "  'tool_calls': [ChatCompletionMessageToolCall(id='call_m21r6YpXSYHAoET57cXly5rv', function=Function(arguments='{}', name='termination'), type='function')]},\n",
       " {'role': 'tool',\n",
       "  'content': 'StopReactLoopException',\n",
       "  'tool_call_id': 'call_m21r6YpXSYHAoET57cXly5rv'},\n",
       " {'role': 'assistant',\n",
       "  'content': 'The calculation is complete. The result of 2 to the power of 3 is 8.'}]"
      ]
     },
     "execution_count": 43,
     "metadata": {},
     "output_type": "execute_result"
    }
   ],
   "source": [
    "agent.peer_agents_map[\"exponentiation_agent\"].memory.get_messages()"
   ]
  },
  {
   "cell_type": "code",
   "execution_count": 44,
   "metadata": {},
   "outputs": [
    {
     "data": {
      "text/plain": [
       "[{'role': 'system',\n",
       "  'content': 'You\\'re an AI Agent, your role is Sum two numbers, and you need to Help your peers with addition problems You can answer multistep questions by sequentially calling functions. You follow a pattern of of Thought and Action. Create a plan of execution: - Use Thought to describe your thoughts about the question you have been asked. - Use Action to specify one of the tools available to you. When you think it\\'s over call the termination tool. Never try to respond directly if the question needs a tool.The actions you have are the Tools: ```\\n[{\\'type\\': \\'function\\', \\'function\\': {\\'name\\': \\'sum\\', \\'description\\': \\'Sum / Addition: Add two numbers\\', \\'parallel_tool_calls\\': False, \\'parameters\\': {\\'type\\': \\'object\\', \\'properties\\': {\\'number_1\\': {\\'type\\': \\'number\\'}, \\'number_2\\': {\\'type\\': \\'number\\'}}, \\'required\\': [\\'number_1\\', \\'number_2\\'], \\'additionalProperties\\': False}, \\'strict\\': True}}, {\\'type\\': \\'function\\', \\'function\\': {\\'name\\': \\'termination\\', \\'description\\': \"Terminate the ReAct loop. If the agent thinks there\\'s no further actions to take\", \\'parallel_tool_calls\\': False, \\'parameters\\': {\\'type\\': \\'object\\', \\'properties\\': {}, \\'required\\': [], \\'additionalProperties\\': False}, \\'strict\\': True}}] ```\\nThe call_agents tool is to call one of the following peer agents: None '},\n",
       " {'role': 'user', 'content': 'Add 8 and 10.'},\n",
       " {'role': 'assistant',\n",
       "  'content': 'Thought: I need to sum the numbers 8 and 10. \\n\\nAction: I will use the sum function to add these two numbers together. \\n\\nCalling the sum function with parameters 8 and 10.'},\n",
       " {'role': 'assistant',\n",
       "  'content': None,\n",
       "  'tool_calls': [ChatCompletionMessageToolCall(id='call_glLU5Z7Ye7UqqTGWGXqojnnR', function=Function(arguments='{\"number_1\":8,\"number_2\":10}', name='sum'), type='function')]},\n",
       " {'role': 'tool',\n",
       "  'content': '18',\n",
       "  'tool_call_id': 'call_glLU5Z7Ye7UqqTGWGXqojnnR'},\n",
       " {'role': 'assistant',\n",
       "  'content': 'Thought: I have successfully calculated the sum of 8 and 10, which is 18.\\n\\nAction: I will now terminate the process as I have provided the answer. \\n\\nCalling the termination function.'},\n",
       " {'role': 'assistant',\n",
       "  'content': None,\n",
       "  'tool_calls': [ChatCompletionMessageToolCall(id='call_CvdU7X3SErWmhpLfjlTcfvl9', function=Function(arguments='{}', name='termination'), type='function')]},\n",
       " {'role': 'tool',\n",
       "  'content': 'StopReactLoopException',\n",
       "  'tool_call_id': 'call_CvdU7X3SErWmhpLfjlTcfvl9'},\n",
       " {'role': 'assistant',\n",
       "  'content': 'The addition of 8 and 10 is 18. If you have any more questions or need further assistance, feel free to ask!'}]"
      ]
     },
     "execution_count": 44,
     "metadata": {},
     "output_type": "execute_result"
    }
   ],
   "source": [
    "agent.peer_agents_map[\"summing_agent\"].memory.get_messages()"
   ]
  },
  {
   "cell_type": "code",
   "execution_count": null,
   "metadata": {},
   "outputs": [],
   "source": []
  }
 ],
 "metadata": {
  "kernelspec": {
   "display_name": "gen-ai",
   "language": "python",
   "name": "python3"
  },
  "language_info": {
   "codemirror_mode": {
    "name": "ipython",
    "version": 3
   },
   "file_extension": ".py",
   "mimetype": "text/x-python",
   "name": "python",
   "nbconvert_exporter": "python",
   "pygments_lexer": "ipython3",
   "version": "3.10.16"
  }
 },
 "nbformat": 4,
 "nbformat_minor": 2
}
